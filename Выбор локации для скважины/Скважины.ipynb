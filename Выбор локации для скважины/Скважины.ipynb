{
 "cells": [
  {
   "cell_type": "markdown",
   "metadata": {},
   "source": [
    "# Выбор локации для скважины"
   ]
  },
  {
   "cell_type": "markdown",
   "metadata": {},
   "source": [
    "Допустим, вы работаете в добывающей компании «ГлавРосГосНефть». Нужно решить, где бурить новую скважину.\n",
    "\n",
    "Вам предоставлены пробы нефти в трёх регионах: в каждом 10 000 месторождений, где измерили качество нефти и объём её запасов. Постройте модель машинного обучения, которая поможет определить регион, где добыча принесёт наибольшую прибыль. Проанализируйте возможную прибыль и риски техникой *Bootstrap.*\n",
    "\n",
    "Шаги для выбора локации:\n",
    "\n",
    "- В избранном регионе ищут месторождения, для каждого определяют значения признаков;\n",
    "- Строят модель и оценивают объём запасов;\n",
    "- Выбирают месторождения с самым высокими оценками значений. Количество месторождений зависит от бюджета компании и стоимости разработки одной скважины;\n",
    "- Прибыль равна суммарной прибыли отобранных месторождений."
   ]
  },
  {
   "cell_type": "code",
   "execution_count": 58,
   "metadata": {},
   "outputs": [],
   "source": [
    "import numpy as np\n",
    "import pandas as pd\n",
    "\n",
    "from sklearn.linear_model import LinearRegression\n",
    "from sklearn.preprocessing import StandardScaler\n",
    "from sklearn.model_selection import train_test_split \n",
    "from sklearn.metrics import mean_squared_error"
   ]
  },
  {
   "cell_type": "code",
   "execution_count": 59,
   "metadata": {},
   "outputs": [],
   "source": [
    "RANDOM_STATE = 42"
   ]
  },
  {
   "cell_type": "code",
   "execution_count": 60,
   "metadata": {},
   "outputs": [],
   "source": [
    "# Функция о пропусках в датасете\n",
    "\n",
    "def missing(df):\n",
    "    report = df.isna().sum().to_frame()\n",
    "    report = report.rename(columns = {0: 'missing_values'})\n",
    "    report['% of total'] = (report['missing_values'] / df.shape[0]).round(2)*100\n",
    "    report.sort_values(by = 'missing_values', ascending = False)\n",
    "    print('Количество пропущенных значений в датафрейме:')\n",
    "    display(report)"
   ]
  },
  {
   "cell_type": "code",
   "execution_count": 61,
   "metadata": {},
   "outputs": [],
   "source": [
    "# Функция для основной информации о датасете\n",
    "\n",
    "def df_info(df):\n",
    "    display(df.head())\n",
    "    print('-' * 50)\n",
    "    display(df.info())\n",
    "    print('-' * 50)\n",
    "    print()\n",
    "    print('Количество дубликатов в датасете: ', data0.duplicated().sum())\n",
    "    print()\n",
    "    print('-' * 50)\n",
    "    print()\n",
    "    missing(df)"
   ]
  },
  {
   "cell_type": "markdown",
   "metadata": {},
   "source": [
    "## Загрузка и подготовка данных"
   ]
  },
  {
   "cell_type": "code",
   "execution_count": 62,
   "metadata": {},
   "outputs": [],
   "source": [
    "data0 = pd.read_csv('/datasets/geo_data_0.csv')\n",
    "data1 = pd.read_csv('/datasets/geo_data_1.csv')\n",
    "data2 = pd.read_csv('/datasets/geo_data_2.csv')"
   ]
  },
  {
   "cell_type": "code",
   "execution_count": 63,
   "metadata": {},
   "outputs": [],
   "source": [
    "data0 = data0.set_index('id')\n",
    "data1 = data1.set_index('id')\n",
    "data2 = data2.set_index('id')"
   ]
  },
  {
   "cell_type": "code",
   "execution_count": 64,
   "metadata": {},
   "outputs": [
    {
     "data": {
      "text/html": [
       "<div>\n",
       "<style scoped>\n",
       "    .dataframe tbody tr th:only-of-type {\n",
       "        vertical-align: middle;\n",
       "    }\n",
       "\n",
       "    .dataframe tbody tr th {\n",
       "        vertical-align: top;\n",
       "    }\n",
       "\n",
       "    .dataframe thead th {\n",
       "        text-align: right;\n",
       "    }\n",
       "</style>\n",
       "<table border=\"1\" class=\"dataframe\">\n",
       "  <thead>\n",
       "    <tr style=\"text-align: right;\">\n",
       "      <th></th>\n",
       "      <th>f0</th>\n",
       "      <th>f1</th>\n",
       "      <th>f2</th>\n",
       "      <th>product</th>\n",
       "    </tr>\n",
       "    <tr>\n",
       "      <th>id</th>\n",
       "      <th></th>\n",
       "      <th></th>\n",
       "      <th></th>\n",
       "      <th></th>\n",
       "    </tr>\n",
       "  </thead>\n",
       "  <tbody>\n",
       "    <tr>\n",
       "      <th>txEyH</th>\n",
       "      <td>0.705745</td>\n",
       "      <td>-0.497823</td>\n",
       "      <td>1.221170</td>\n",
       "      <td>105.280062</td>\n",
       "    </tr>\n",
       "    <tr>\n",
       "      <th>2acmU</th>\n",
       "      <td>1.334711</td>\n",
       "      <td>-0.340164</td>\n",
       "      <td>4.365080</td>\n",
       "      <td>73.037750</td>\n",
       "    </tr>\n",
       "    <tr>\n",
       "      <th>409Wp</th>\n",
       "      <td>1.022732</td>\n",
       "      <td>0.151990</td>\n",
       "      <td>1.419926</td>\n",
       "      <td>85.265647</td>\n",
       "    </tr>\n",
       "    <tr>\n",
       "      <th>iJLyR</th>\n",
       "      <td>-0.032172</td>\n",
       "      <td>0.139033</td>\n",
       "      <td>2.978566</td>\n",
       "      <td>168.620776</td>\n",
       "    </tr>\n",
       "    <tr>\n",
       "      <th>Xdl7t</th>\n",
       "      <td>1.988431</td>\n",
       "      <td>0.155413</td>\n",
       "      <td>4.751769</td>\n",
       "      <td>154.036647</td>\n",
       "    </tr>\n",
       "  </tbody>\n",
       "</table>\n",
       "</div>"
      ],
      "text/plain": [
       "             f0        f1        f2     product\n",
       "id                                             \n",
       "txEyH  0.705745 -0.497823  1.221170  105.280062\n",
       "2acmU  1.334711 -0.340164  4.365080   73.037750\n",
       "409Wp  1.022732  0.151990  1.419926   85.265647\n",
       "iJLyR -0.032172  0.139033  2.978566  168.620776\n",
       "Xdl7t  1.988431  0.155413  4.751769  154.036647"
      ]
     },
     "metadata": {},
     "output_type": "display_data"
    },
    {
     "name": "stdout",
     "output_type": "stream",
     "text": [
      "--------------------------------------------------\n",
      "<class 'pandas.core.frame.DataFrame'>\n",
      "Index: 100000 entries, txEyH to 1CWhH\n",
      "Data columns (total 4 columns):\n",
      " #   Column   Non-Null Count   Dtype  \n",
      "---  ------   --------------   -----  \n",
      " 0   f0       100000 non-null  float64\n",
      " 1   f1       100000 non-null  float64\n",
      " 2   f2       100000 non-null  float64\n",
      " 3   product  100000 non-null  float64\n",
      "dtypes: float64(4)\n",
      "memory usage: 3.8+ MB\n"
     ]
    },
    {
     "data": {
      "text/plain": [
       "None"
      ]
     },
     "metadata": {},
     "output_type": "display_data"
    },
    {
     "name": "stdout",
     "output_type": "stream",
     "text": [
      "--------------------------------------------------\n",
      "\n",
      "Количество дубликатов в датасете:  0\n",
      "\n",
      "--------------------------------------------------\n",
      "\n",
      "Количество пропущенных значений в датафрейме:\n"
     ]
    },
    {
     "data": {
      "text/html": [
       "<div>\n",
       "<style scoped>\n",
       "    .dataframe tbody tr th:only-of-type {\n",
       "        vertical-align: middle;\n",
       "    }\n",
       "\n",
       "    .dataframe tbody tr th {\n",
       "        vertical-align: top;\n",
       "    }\n",
       "\n",
       "    .dataframe thead th {\n",
       "        text-align: right;\n",
       "    }\n",
       "</style>\n",
       "<table border=\"1\" class=\"dataframe\">\n",
       "  <thead>\n",
       "    <tr style=\"text-align: right;\">\n",
       "      <th></th>\n",
       "      <th>missing_values</th>\n",
       "      <th>% of total</th>\n",
       "    </tr>\n",
       "  </thead>\n",
       "  <tbody>\n",
       "    <tr>\n",
       "      <th>f0</th>\n",
       "      <td>0</td>\n",
       "      <td>0.0</td>\n",
       "    </tr>\n",
       "    <tr>\n",
       "      <th>f1</th>\n",
       "      <td>0</td>\n",
       "      <td>0.0</td>\n",
       "    </tr>\n",
       "    <tr>\n",
       "      <th>f2</th>\n",
       "      <td>0</td>\n",
       "      <td>0.0</td>\n",
       "    </tr>\n",
       "    <tr>\n",
       "      <th>product</th>\n",
       "      <td>0</td>\n",
       "      <td>0.0</td>\n",
       "    </tr>\n",
       "  </tbody>\n",
       "</table>\n",
       "</div>"
      ],
      "text/plain": [
       "         missing_values  % of total\n",
       "f0                    0         0.0\n",
       "f1                    0         0.0\n",
       "f2                    0         0.0\n",
       "product               0         0.0"
      ]
     },
     "metadata": {},
     "output_type": "display_data"
    }
   ],
   "source": [
    "df_info(data0)"
   ]
  },
  {
   "cell_type": "code",
   "execution_count": 65,
   "metadata": {},
   "outputs": [
    {
     "data": {
      "text/html": [
       "<div>\n",
       "<style scoped>\n",
       "    .dataframe tbody tr th:only-of-type {\n",
       "        vertical-align: middle;\n",
       "    }\n",
       "\n",
       "    .dataframe tbody tr th {\n",
       "        vertical-align: top;\n",
       "    }\n",
       "\n",
       "    .dataframe thead th {\n",
       "        text-align: right;\n",
       "    }\n",
       "</style>\n",
       "<table border=\"1\" class=\"dataframe\">\n",
       "  <thead>\n",
       "    <tr style=\"text-align: right;\">\n",
       "      <th></th>\n",
       "      <th>f0</th>\n",
       "      <th>f1</th>\n",
       "      <th>f2</th>\n",
       "      <th>product</th>\n",
       "    </tr>\n",
       "    <tr>\n",
       "      <th>id</th>\n",
       "      <th></th>\n",
       "      <th></th>\n",
       "      <th></th>\n",
       "      <th></th>\n",
       "    </tr>\n",
       "  </thead>\n",
       "  <tbody>\n",
       "    <tr>\n",
       "      <th>kBEdx</th>\n",
       "      <td>-15.001348</td>\n",
       "      <td>-8.276000</td>\n",
       "      <td>-0.005876</td>\n",
       "      <td>3.179103</td>\n",
       "    </tr>\n",
       "    <tr>\n",
       "      <th>62mP7</th>\n",
       "      <td>14.272088</td>\n",
       "      <td>-3.475083</td>\n",
       "      <td>0.999183</td>\n",
       "      <td>26.953261</td>\n",
       "    </tr>\n",
       "    <tr>\n",
       "      <th>vyE1P</th>\n",
       "      <td>6.263187</td>\n",
       "      <td>-5.948386</td>\n",
       "      <td>5.001160</td>\n",
       "      <td>134.766305</td>\n",
       "    </tr>\n",
       "    <tr>\n",
       "      <th>KcrkZ</th>\n",
       "      <td>-13.081196</td>\n",
       "      <td>-11.506057</td>\n",
       "      <td>4.999415</td>\n",
       "      <td>137.945408</td>\n",
       "    </tr>\n",
       "    <tr>\n",
       "      <th>AHL4O</th>\n",
       "      <td>12.702195</td>\n",
       "      <td>-8.147433</td>\n",
       "      <td>5.004363</td>\n",
       "      <td>134.766305</td>\n",
       "    </tr>\n",
       "  </tbody>\n",
       "</table>\n",
       "</div>"
      ],
      "text/plain": [
       "              f0         f1        f2     product\n",
       "id                                               \n",
       "kBEdx -15.001348  -8.276000 -0.005876    3.179103\n",
       "62mP7  14.272088  -3.475083  0.999183   26.953261\n",
       "vyE1P   6.263187  -5.948386  5.001160  134.766305\n",
       "KcrkZ -13.081196 -11.506057  4.999415  137.945408\n",
       "AHL4O  12.702195  -8.147433  5.004363  134.766305"
      ]
     },
     "metadata": {},
     "output_type": "display_data"
    },
    {
     "name": "stdout",
     "output_type": "stream",
     "text": [
      "--------------------------------------------------\n",
      "<class 'pandas.core.frame.DataFrame'>\n",
      "Index: 100000 entries, kBEdx to relB0\n",
      "Data columns (total 4 columns):\n",
      " #   Column   Non-Null Count   Dtype  \n",
      "---  ------   --------------   -----  \n",
      " 0   f0       100000 non-null  float64\n",
      " 1   f1       100000 non-null  float64\n",
      " 2   f2       100000 non-null  float64\n",
      " 3   product  100000 non-null  float64\n",
      "dtypes: float64(4)\n",
      "memory usage: 3.8+ MB\n"
     ]
    },
    {
     "data": {
      "text/plain": [
       "None"
      ]
     },
     "metadata": {},
     "output_type": "display_data"
    },
    {
     "name": "stdout",
     "output_type": "stream",
     "text": [
      "--------------------------------------------------\n",
      "\n",
      "Количество дубликатов в датасете:  0\n",
      "\n",
      "--------------------------------------------------\n",
      "\n",
      "Количество пропущенных значений в датафрейме:\n"
     ]
    },
    {
     "data": {
      "text/html": [
       "<div>\n",
       "<style scoped>\n",
       "    .dataframe tbody tr th:only-of-type {\n",
       "        vertical-align: middle;\n",
       "    }\n",
       "\n",
       "    .dataframe tbody tr th {\n",
       "        vertical-align: top;\n",
       "    }\n",
       "\n",
       "    .dataframe thead th {\n",
       "        text-align: right;\n",
       "    }\n",
       "</style>\n",
       "<table border=\"1\" class=\"dataframe\">\n",
       "  <thead>\n",
       "    <tr style=\"text-align: right;\">\n",
       "      <th></th>\n",
       "      <th>missing_values</th>\n",
       "      <th>% of total</th>\n",
       "    </tr>\n",
       "  </thead>\n",
       "  <tbody>\n",
       "    <tr>\n",
       "      <th>f0</th>\n",
       "      <td>0</td>\n",
       "      <td>0.0</td>\n",
       "    </tr>\n",
       "    <tr>\n",
       "      <th>f1</th>\n",
       "      <td>0</td>\n",
       "      <td>0.0</td>\n",
       "    </tr>\n",
       "    <tr>\n",
       "      <th>f2</th>\n",
       "      <td>0</td>\n",
       "      <td>0.0</td>\n",
       "    </tr>\n",
       "    <tr>\n",
       "      <th>product</th>\n",
       "      <td>0</td>\n",
       "      <td>0.0</td>\n",
       "    </tr>\n",
       "  </tbody>\n",
       "</table>\n",
       "</div>"
      ],
      "text/plain": [
       "         missing_values  % of total\n",
       "f0                    0         0.0\n",
       "f1                    0         0.0\n",
       "f2                    0         0.0\n",
       "product               0         0.0"
      ]
     },
     "metadata": {},
     "output_type": "display_data"
    }
   ],
   "source": [
    "df_info(data1)"
   ]
  },
  {
   "cell_type": "code",
   "execution_count": 66,
   "metadata": {},
   "outputs": [
    {
     "data": {
      "text/html": [
       "<div>\n",
       "<style scoped>\n",
       "    .dataframe tbody tr th:only-of-type {\n",
       "        vertical-align: middle;\n",
       "    }\n",
       "\n",
       "    .dataframe tbody tr th {\n",
       "        vertical-align: top;\n",
       "    }\n",
       "\n",
       "    .dataframe thead th {\n",
       "        text-align: right;\n",
       "    }\n",
       "</style>\n",
       "<table border=\"1\" class=\"dataframe\">\n",
       "  <thead>\n",
       "    <tr style=\"text-align: right;\">\n",
       "      <th></th>\n",
       "      <th>f0</th>\n",
       "      <th>f1</th>\n",
       "      <th>f2</th>\n",
       "      <th>product</th>\n",
       "    </tr>\n",
       "    <tr>\n",
       "      <th>id</th>\n",
       "      <th></th>\n",
       "      <th></th>\n",
       "      <th></th>\n",
       "      <th></th>\n",
       "    </tr>\n",
       "  </thead>\n",
       "  <tbody>\n",
       "    <tr>\n",
       "      <th>fwXo0</th>\n",
       "      <td>-1.146987</td>\n",
       "      <td>0.963328</td>\n",
       "      <td>-0.828965</td>\n",
       "      <td>27.758673</td>\n",
       "    </tr>\n",
       "    <tr>\n",
       "      <th>WJtFt</th>\n",
       "      <td>0.262778</td>\n",
       "      <td>0.269839</td>\n",
       "      <td>-2.530187</td>\n",
       "      <td>56.069697</td>\n",
       "    </tr>\n",
       "    <tr>\n",
       "      <th>ovLUW</th>\n",
       "      <td>0.194587</td>\n",
       "      <td>0.289035</td>\n",
       "      <td>-5.586433</td>\n",
       "      <td>62.871910</td>\n",
       "    </tr>\n",
       "    <tr>\n",
       "      <th>q6cA6</th>\n",
       "      <td>2.236060</td>\n",
       "      <td>-0.553760</td>\n",
       "      <td>0.930038</td>\n",
       "      <td>114.572842</td>\n",
       "    </tr>\n",
       "    <tr>\n",
       "      <th>WPMUX</th>\n",
       "      <td>-0.515993</td>\n",
       "      <td>1.716266</td>\n",
       "      <td>5.899011</td>\n",
       "      <td>149.600746</td>\n",
       "    </tr>\n",
       "  </tbody>\n",
       "</table>\n",
       "</div>"
      ],
      "text/plain": [
       "             f0        f1        f2     product\n",
       "id                                             \n",
       "fwXo0 -1.146987  0.963328 -0.828965   27.758673\n",
       "WJtFt  0.262778  0.269839 -2.530187   56.069697\n",
       "ovLUW  0.194587  0.289035 -5.586433   62.871910\n",
       "q6cA6  2.236060 -0.553760  0.930038  114.572842\n",
       "WPMUX -0.515993  1.716266  5.899011  149.600746"
      ]
     },
     "metadata": {},
     "output_type": "display_data"
    },
    {
     "name": "stdout",
     "output_type": "stream",
     "text": [
      "--------------------------------------------------\n",
      "<class 'pandas.core.frame.DataFrame'>\n",
      "Index: 100000 entries, fwXo0 to V9kWn\n",
      "Data columns (total 4 columns):\n",
      " #   Column   Non-Null Count   Dtype  \n",
      "---  ------   --------------   -----  \n",
      " 0   f0       100000 non-null  float64\n",
      " 1   f1       100000 non-null  float64\n",
      " 2   f2       100000 non-null  float64\n",
      " 3   product  100000 non-null  float64\n",
      "dtypes: float64(4)\n",
      "memory usage: 3.8+ MB\n"
     ]
    },
    {
     "data": {
      "text/plain": [
       "None"
      ]
     },
     "metadata": {},
     "output_type": "display_data"
    },
    {
     "name": "stdout",
     "output_type": "stream",
     "text": [
      "--------------------------------------------------\n",
      "\n",
      "Количество дубликатов в датасете:  0\n",
      "\n",
      "--------------------------------------------------\n",
      "\n",
      "Количество пропущенных значений в датафрейме:\n"
     ]
    },
    {
     "data": {
      "text/html": [
       "<div>\n",
       "<style scoped>\n",
       "    .dataframe tbody tr th:only-of-type {\n",
       "        vertical-align: middle;\n",
       "    }\n",
       "\n",
       "    .dataframe tbody tr th {\n",
       "        vertical-align: top;\n",
       "    }\n",
       "\n",
       "    .dataframe thead th {\n",
       "        text-align: right;\n",
       "    }\n",
       "</style>\n",
       "<table border=\"1\" class=\"dataframe\">\n",
       "  <thead>\n",
       "    <tr style=\"text-align: right;\">\n",
       "      <th></th>\n",
       "      <th>missing_values</th>\n",
       "      <th>% of total</th>\n",
       "    </tr>\n",
       "  </thead>\n",
       "  <tbody>\n",
       "    <tr>\n",
       "      <th>f0</th>\n",
       "      <td>0</td>\n",
       "      <td>0.0</td>\n",
       "    </tr>\n",
       "    <tr>\n",
       "      <th>f1</th>\n",
       "      <td>0</td>\n",
       "      <td>0.0</td>\n",
       "    </tr>\n",
       "    <tr>\n",
       "      <th>f2</th>\n",
       "      <td>0</td>\n",
       "      <td>0.0</td>\n",
       "    </tr>\n",
       "    <tr>\n",
       "      <th>product</th>\n",
       "      <td>0</td>\n",
       "      <td>0.0</td>\n",
       "    </tr>\n",
       "  </tbody>\n",
       "</table>\n",
       "</div>"
      ],
      "text/plain": [
       "         missing_values  % of total\n",
       "f0                    0         0.0\n",
       "f1                    0         0.0\n",
       "f2                    0         0.0\n",
       "product               0         0.0"
      ]
     },
     "metadata": {},
     "output_type": "display_data"
    }
   ],
   "source": [
    "df_info(data2)"
   ]
  },
  {
   "cell_type": "markdown",
   "metadata": {},
   "source": [
    "**Промежуточный вывод:**\n",
    "\n",
    "На данном этапе были импортированны библиотеки, разработаны функции (чтобы избежать повтора кода) для нахождения общей информации про датасеты, а также вывод информации о дубликатах и пропусках. Стоблеч *id* был переведен в индекс во всех df. Дубликатов и пропусков в df не обнаружено, типы данных также соответствуют логике."
   ]
  },
  {
   "cell_type": "markdown",
   "metadata": {},
   "source": [
    "## Обучение и проверка модели"
   ]
  },
  {
   "cell_type": "code",
   "execution_count": 67,
   "metadata": {},
   "outputs": [],
   "source": [
    "def model(df, n_name, n):\n",
    "    print(f'Предсказание модели для {n_name} региона.')\n",
    "    print()\n",
    "    \n",
    "    # Создаём словарь для хранения переменных\n",
    "    variables = {}\n",
    "\n",
    "    # Определяем X и y\n",
    "    variables[f'X_{n}'] = df.drop('product', axis=1)\n",
    "    variables[f'y_{n}'] = df['product']\n",
    "    \n",
    "    # Разбиваем данные на обучающую и валидационную выборки\n",
    "    variables[f'X_{n}_train'], variables[f'X_{n}_valid'], variables[f'y_{n}_train'], variables[f'y_{n}_valid'] = train_test_split(\n",
    "        variables[f'X_{n}'],\n",
    "        variables[f'y_{n}'],\n",
    "        test_size=0.25,\n",
    "        random_state=RANDOM_STATE\n",
    "    )\n",
    "    \n",
    "    # Масштабируем данные\n",
    "    scaler = StandardScaler()\n",
    "    variables[f'X_{n}_train_scaled'] = scaler.fit_transform(variables[f'X_{n}_train'])\n",
    "    variables[f'X_{n}_valid_scaled'] = scaler.transform(variables[f'X_{n}_valid'])\n",
    "    \n",
    "    # Обучаем модель\n",
    "    model = LinearRegression()\n",
    "    model.fit(variables[f'X_{n}_train_scaled'], variables[f'y_{n}_train'])\n",
    "    \n",
    "    # Делаем предсказания\n",
    "    variables[f'predict_{n}'] = model.predict(variables[f'X_{n}_valid_scaled'])\n",
    "    \n",
    "    # Рассчитываем среднее и RMSE\n",
    "    variables[f'mean_{n}'] = variables[f'predict_{n}'].mean()\n",
    "    variables[f'rmse_{n}'] = mean_squared_error(variables[f'y_{n}_valid'], variables[f'predict_{n}'], squared=False)\n",
    "       \n",
    "    print(f\"Средний запас предсказанного сырья: {round(variables[f'mean_{n}'], 2)} тыс. баррелей.\")\n",
    "    print(f\"Значение метрики RMSE: {round(variables[f'rmse_{n}'], 2)}.\")\n",
    "\n",
    "    # Возвращаем словарь с результатами\n",
    "    return variables\n"
   ]
  },
  {
   "cell_type": "code",
   "execution_count": 68,
   "metadata": {},
   "outputs": [
    {
     "name": "stdout",
     "output_type": "stream",
     "text": [
      "Предсказание модели для первого региона.\n",
      "\n",
      "Средний запас предсказанного сырья: 92.4 тыс. баррелей.\n",
      "Значение метрики RMSE: 37.76.\n"
     ]
    },
    {
     "name": "stderr",
     "output_type": "stream",
     "text": [
      "D:\\Anaconda\\Lib\\site-packages\\sklearn\\metrics\\_regression.py:492: FutureWarning: 'squared' is deprecated in version 1.4 and will be removed in 1.6. To calculate the root mean squared error, use the function'root_mean_squared_error'.\n",
      "  warnings.warn(\n"
     ]
    }
   ],
   "source": [
    "variables = model(data0, 'первого', 1)\n",
    "\n",
    "for key, value in variables.items():\n",
    "    globals()[key] = value "
   ]
  },
  {
   "cell_type": "code",
   "execution_count": 69,
   "metadata": {},
   "outputs": [
    {
     "name": "stdout",
     "output_type": "stream",
     "text": [
      "Предсказание модели для второго региона.\n",
      "\n",
      "Средний запас предсказанного сырья: 68.71 тыс. баррелей.\n",
      "Значение метрики RMSE: 0.89.\n"
     ]
    },
    {
     "name": "stderr",
     "output_type": "stream",
     "text": [
      "D:\\Anaconda\\Lib\\site-packages\\sklearn\\metrics\\_regression.py:492: FutureWarning: 'squared' is deprecated in version 1.4 and will be removed in 1.6. To calculate the root mean squared error, use the function'root_mean_squared_error'.\n",
      "  warnings.warn(\n"
     ]
    }
   ],
   "source": [
    "variables = model(data1, \"второго\" ,2)\n",
    "\n",
    "for key, value in variables.items():\n",
    "    globals()[key] = value "
   ]
  },
  {
   "cell_type": "code",
   "execution_count": 70,
   "metadata": {},
   "outputs": [
    {
     "name": "stdout",
     "output_type": "stream",
     "text": [
      "Предсказание модели для третьего региона.\n",
      "\n",
      "Средний запас предсказанного сырья: 94.77 тыс. баррелей.\n",
      "Значение метрики RMSE: 40.15.\n"
     ]
    },
    {
     "name": "stderr",
     "output_type": "stream",
     "text": [
      "D:\\Anaconda\\Lib\\site-packages\\sklearn\\metrics\\_regression.py:492: FutureWarning: 'squared' is deprecated in version 1.4 and will be removed in 1.6. To calculate the root mean squared error, use the function'root_mean_squared_error'.\n",
      "  warnings.warn(\n"
     ]
    }
   ],
   "source": [
    "variables = model(data2, \"третьего\" , 3)\n",
    "\n",
    "for key, value in variables.items():\n",
    "    globals()[key] = value "
   ]
  },
  {
   "cell_type": "markdown",
   "metadata": {},
   "source": [
    "**Промежуточный вывод:**\n",
    "\n",
    "В данном разделе были разделены данные на обучающую и валидационную выборки в соотношении 75:25 для обучения моделей для каждого региона. Результаты показали, что наибольший объем запасов сырья находится в третьей скважине, 94.8 тыс. баррелей. Однако у второй модели RMSE меньше всех (чем ближе значение к 1, тем точнее предсказание), при этом у двух других значения сильно завышены. "
   ]
  },
  {
   "cell_type": "markdown",
   "metadata": {},
   "source": [
    "## Подготовка к расчёту прибыли"
   ]
  },
  {
   "cell_type": "code",
   "execution_count": 71,
   "metadata": {},
   "outputs": [],
   "source": [
    "#Количество скважин\n",
    "n = 200\n",
    "\n",
    "#Бюджет на разработку\n",
    "budget = 10 * 10**9\n",
    "\n",
    "#Доход с единицы продукта\n",
    "revenue = 450000\n",
    "\n",
    "#Сколько выделяется денег на одну скважину\n",
    "budget_one = budget/n\n",
    "\n",
    "#Сколько нужно единиц продукта, чтобы потрать весь бюджет\n",
    "volume = budget_one / revenue"
   ]
  },
  {
   "cell_type": "code",
   "execution_count": 72,
   "metadata": {},
   "outputs": [
    {
     "name": "stdout",
     "output_type": "stream",
     "text": [
      "Расчет бюджета на одну скважину: 50000000.0.\n",
      "Количество единиц продукта для бюджета в одну скважину: 111.11.\n"
     ]
    }
   ],
   "source": [
    "print(f'Расчет бюджета на одну скважину: {round(budget_one, 2)}.')\n",
    "print(f'Количество единиц продукта для бюджета в одну скважину: {round(volume, 2)}.')"
   ]
  },
  {
   "cell_type": "markdown",
   "metadata": {},
   "source": [
    "**Промежуточный вывод:**\n",
    "\n",
    "На данном этапе было расчитано, сколько понадобится единиц сырья, чтобы потратить бюджет на одну скважину. Итого: Чтобы потратить бюджет на одну скважину в 50 миллионов рублей при доходе в 450 тысяч рублей с единицы продукта, нужно около 111 единиц продукта."
   ]
  },
  {
   "cell_type": "markdown",
   "metadata": {},
   "source": [
    "## Расчёт прибыли и рисков "
   ]
  },
  {
   "cell_type": "code",
   "execution_count": 73,
   "metadata": {},
   "outputs": [],
   "source": [
    "def profit(data, y_true, y_predict):\n",
    "    \n",
    "    # Добавляем столбцы с истинными и предсказанными значениями\n",
    "    data['predict'] = y_predict\n",
    "    data['true'] = y_true\n",
    "    \n",
    "    # Сортируем данные по предсказанным значениям в порядке убывания\n",
    "    data = data.sort_values(by = 'predict', ascending = False)\n",
    "    \n",
    "    # Берем первые 200\n",
    "    data = data.head(200)\n",
    "    \n",
    "    # Hfcxbnsdftv ghb,skm\n",
    "    profite = data['true'].sum()*450000 - budget\n",
    "    return profite"
   ]
  },
  {
   "cell_type": "code",
   "execution_count": 74,
   "metadata": {},
   "outputs": [],
   "source": [
    "state = np.random.RandomState(12345)"
   ]
  },
  {
   "cell_type": "code",
   "execution_count": 75,
   "metadata": {},
   "outputs": [],
   "source": [
    "prib0 = []\n",
    "for i in range(1000):\n",
    "    subsample = X0_valid.sample(n=500, replace = True, random_state=state)\n",
    "    prib0.append(profit(subsample, y0_valid, pd.DataFrame(predict0, index = X0_valid.index)))"
   ]
  },
  {
   "cell_type": "code",
   "execution_count": 76,
   "metadata": {},
   "outputs": [],
   "source": [
    "prib1 = []\n",
    "for i in range(1000):\n",
    "    subsample = X1_valid.sample(n=500, replace = True, random_state=state)\n",
    "    prib1.append(profit(subsample, y1_valid, pd.DataFrame(predict1, index = X1_valid.index)))"
   ]
  },
  {
   "cell_type": "code",
   "execution_count": 77,
   "metadata": {},
   "outputs": [],
   "source": [
    "prib2 = []\n",
    "for i in range(1000):\n",
    "    subsample = X2_valid.sample(n=500, replace = True, random_state=state)\n",
    "    prib2.append(profit(subsample, y2_valid, pd.DataFrame(predict2, index = X2_valid.index)))"
   ]
  },
  {
   "cell_type": "code",
   "execution_count": 78,
   "metadata": {},
   "outputs": [],
   "source": [
    "# Функция расчета средней прибыли и 95% доверительного интервала\n",
    "\n",
    "def prib_score(prib, n):\n",
    "    \n",
    "    print(f'Средняя прибыль {n} региона {round(pd.Series(prib).mean(), 2)}.')\n",
    "\n",
    "    lower = pd.Series(prib).quantile(0.025)\n",
    "    upper = pd.Series(prib).quantile(0.975)\n",
    "    print(f'95%-доверительный интервал {n} региона от {round(lower, 2)} до {round(upper, 2)}.')\n",
    "    \n",
    "    print(f'Доля отрицательных значений в нулевом регионе: {round(len([i for i in prib if i<0])/len(prib)*100, 2)}%.')"
   ]
  },
  {
   "cell_type": "code",
   "execution_count": 79,
   "metadata": {},
   "outputs": [
    {
     "name": "stdout",
     "output_type": "stream",
     "text": [
      "Средняя прибыль первый региона 406278783.42.\n",
      "95%-доверительный интервал первый региона от -117742136.49 до 911737050.75.\n",
      "Доля отрицательных значений в нулевом регионе: 6.7%.\n",
      "\n",
      "--------------------------------------------------\n",
      "\n",
      "Средняя прибыль второй региона 441504277.59.\n",
      "95%-доверительный интервал второй региона от 35728489.28 до 828006639.0.\n",
      "Доля отрицательных значений в нулевом регионе: 1.6%.\n",
      "\n",
      "--------------------------------------------------\n",
      "\n",
      "Средняя прибыль третий региона 385213195.91.\n",
      "95%-доверительный интервал третий региона от -164785166.11 до 888206234.2.\n",
      "Доля отрицательных значений в нулевом регионе: 7.8%.\n"
     ]
    }
   ],
   "source": [
    "prib_score(prib0, 'первый')\n",
    "print()\n",
    "print(\"-\" * 50)\n",
    "print()\n",
    "prib_score(prib1, 'второй')\n",
    "print()\n",
    "print(\"-\" * 50)\n",
    "print()\n",
    "prib_score(prib2, 'третий')"
   ]
  },
  {
   "cell_type": "markdown",
   "metadata": {},
   "source": [
    "**Вывод:**\n",
    "\n",
    "У второго региона вероятность убытка менее 2,5% (1,6%). В 95% доверительном интервале нет отрицательных значений, значит 95% значений - прибыль, а не убытки. Среднее значение прибыли в этом регионе - 441504277.6. Следовательно второй регион лучше всего подойдет для разработки"
   ]
  }
 ],
 "metadata": {
  "ExecuteTimeLog": [
   {
    "duration": 1018,
    "start_time": "2024-10-26T13:08:38.538Z"
   },
   {
    "duration": 852,
    "start_time": "2024-10-26T13:08:46.275Z"
   },
   {
    "duration": 18,
    "start_time": "2024-10-26T13:08:55.051Z"
   },
   {
    "duration": 2,
    "start_time": "2024-10-26T13:11:03.258Z"
   },
   {
    "duration": 62,
    "start_time": "2024-10-26T13:11:11.266Z"
   },
   {
    "duration": 2,
    "start_time": "2024-10-26T13:11:18.596Z"
   },
   {
    "duration": 43,
    "start_time": "2024-10-26T13:11:20.419Z"
   },
   {
    "duration": 3,
    "start_time": "2024-10-26T13:11:28.892Z"
   },
   {
    "duration": 41,
    "start_time": "2024-10-26T13:11:30.482Z"
   },
   {
    "duration": 4,
    "start_time": "2024-10-26T13:11:51.468Z"
   },
   {
    "duration": 3,
    "start_time": "2024-10-26T13:12:16.787Z"
   },
   {
    "duration": 4,
    "start_time": "2024-10-26T13:13:37.242Z"
   },
   {
    "duration": 41,
    "start_time": "2024-10-26T13:13:39.884Z"
   },
   {
    "duration": 4,
    "start_time": "2024-10-26T13:14:21.812Z"
   },
   {
    "duration": 10,
    "start_time": "2024-10-26T13:14:30.484Z"
   },
   {
    "duration": 49,
    "start_time": "2024-10-26T13:15:15.371Z"
   },
   {
    "duration": 3,
    "start_time": "2024-10-26T13:15:26.763Z"
   },
   {
    "duration": 3,
    "start_time": "2024-10-26T13:15:27.746Z"
   },
   {
    "duration": 3,
    "start_time": "2024-10-26T13:15:28.124Z"
   },
   {
    "duration": 47,
    "start_time": "2024-10-26T13:15:29.421Z"
   },
   {
    "duration": 3,
    "start_time": "2024-10-26T13:15:37.788Z"
   },
   {
    "duration": 46,
    "start_time": "2024-10-26T13:15:39.390Z"
   },
   {
    "duration": 3,
    "start_time": "2024-10-26T13:15:52.836Z"
   },
   {
    "duration": 49,
    "start_time": "2024-10-26T13:15:55.170Z"
   },
   {
    "duration": 49,
    "start_time": "2024-10-26T13:16:07.596Z"
   },
   {
    "duration": 48,
    "start_time": "2024-10-26T13:16:12.386Z"
   },
   {
    "duration": 35,
    "start_time": "2024-10-26T13:21:22.669Z"
   },
   {
    "duration": 95,
    "start_time": "2024-10-26T13:22:15.299Z"
   },
   {
    "duration": 11,
    "start_time": "2024-10-26T13:22:17.156Z"
   },
   {
    "duration": 10,
    "start_time": "2024-10-26T13:22:17.540Z"
   },
   {
    "duration": 7,
    "start_time": "2024-10-26T13:22:17.828Z"
   },
   {
    "duration": 4,
    "start_time": "2024-10-26T13:23:02.294Z"
   },
   {
    "duration": 37,
    "start_time": "2024-10-26T13:24:09.276Z"
   },
   {
    "duration": 10,
    "start_time": "2024-10-26T13:24:09.708Z"
   },
   {
    "duration": 12,
    "start_time": "2024-10-26T13:24:10.020Z"
   },
   {
    "duration": 7,
    "start_time": "2024-10-26T13:24:10.333Z"
   },
   {
    "duration": 5,
    "start_time": "2024-10-26T13:24:26.062Z"
   },
   {
    "duration": 3,
    "start_time": "2024-10-26T13:24:39.743Z"
   },
   {
    "duration": 4,
    "start_time": "2024-10-26T13:24:44.876Z"
   },
   {
    "duration": 4,
    "start_time": "2024-10-26T13:25:05.438Z"
   },
   {
    "duration": 4,
    "start_time": "2024-10-26T13:25:12.910Z"
   },
   {
    "duration": 34,
    "start_time": "2024-10-26T13:25:41.765Z"
   },
   {
    "duration": 3,
    "start_time": "2024-10-26T13:25:56.076Z"
   },
   {
    "duration": 10,
    "start_time": "2024-10-26T13:26:03.965Z"
   },
   {
    "duration": 10,
    "start_time": "2024-10-26T13:26:07.382Z"
   },
   {
    "duration": 10,
    "start_time": "2024-10-26T13:26:23.573Z"
   },
   {
    "duration": 5,
    "start_time": "2024-10-26T13:29:58.077Z"
   },
   {
    "duration": 5,
    "start_time": "2024-10-26T13:30:00.716Z"
   },
   {
    "duration": 4,
    "start_time": "2024-10-26T13:30:03.854Z"
   },
   {
    "duration": 5,
    "start_time": "2024-10-26T13:30:38.925Z"
   },
   {
    "duration": 3,
    "start_time": "2024-10-26T13:33:04.862Z"
   },
   {
    "duration": 7,
    "start_time": "2024-10-26T13:33:30.086Z"
   },
   {
    "duration": 3,
    "start_time": "2024-10-26T13:33:33.935Z"
   },
   {
    "duration": 3,
    "start_time": "2024-10-26T13:37:12.689Z"
   },
   {
    "duration": 3,
    "start_time": "2024-10-26T13:38:06.232Z"
   },
   {
    "duration": 6,
    "start_time": "2024-10-26T13:43:45.705Z"
   },
   {
    "duration": 62,
    "start_time": "2024-10-26T13:44:03.856Z"
   },
   {
    "duration": 159,
    "start_time": "2024-10-26T13:44:12.648Z"
   },
   {
    "duration": 4,
    "start_time": "2024-10-26T13:45:15.377Z"
   },
   {
    "duration": 48,
    "start_time": "2024-10-26T13:45:22.480Z"
   },
   {
    "duration": 4,
    "start_time": "2024-10-26T13:45:48.160Z"
   },
   {
    "duration": 83,
    "start_time": "2024-10-26T13:45:49.024Z"
   },
   {
    "duration": 45,
    "start_time": "2024-10-26T13:45:53.897Z"
   },
   {
    "duration": 46,
    "start_time": "2024-10-26T13:46:01.192Z"
   },
   {
    "duration": 273,
    "start_time": "2024-10-26T13:46:18.736Z"
   },
   {
    "duration": 271,
    "start_time": "2024-10-26T13:46:47.536Z"
   },
   {
    "duration": 489,
    "start_time": "2024-10-26T13:47:04.120Z"
   },
   {
    "duration": 516,
    "start_time": "2024-10-26T13:47:14.791Z"
   },
   {
    "duration": 473,
    "start_time": "2024-10-26T13:47:26.664Z"
   },
   {
    "duration": 3,
    "start_time": "2024-10-26T13:47:52.064Z"
   },
   {
    "duration": 4,
    "start_time": "2024-10-26T13:47:52.441Z"
   },
   {
    "duration": 455,
    "start_time": "2024-10-26T13:49:32.088Z"
   },
   {
    "duration": 81,
    "start_time": "2024-10-26T14:01:35.132Z"
   },
   {
    "duration": 37,
    "start_time": "2024-10-26T14:01:55.002Z"
   },
   {
    "duration": 164,
    "start_time": "2024-10-26T14:02:15.443Z"
   },
   {
    "duration": 3,
    "start_time": "2024-10-26T14:02:33.995Z"
   },
   {
    "duration": 4,
    "start_time": "2024-10-26T14:04:25.621Z"
   },
   {
    "duration": 5,
    "start_time": "2024-10-26T14:08:02.407Z"
   },
   {
    "duration": 185,
    "start_time": "2024-10-26T14:08:16.622Z"
   },
   {
    "duration": 7,
    "start_time": "2024-10-26T14:08:37.150Z"
   },
   {
    "duration": 2,
    "start_time": "2024-10-26T14:10:47.381Z"
   },
   {
    "duration": 1837,
    "start_time": "2024-10-26T14:10:54.094Z"
   },
   {
    "duration": 1788,
    "start_time": "2024-10-26T14:10:59.927Z"
   },
   {
    "duration": 1739,
    "start_time": "2024-10-26T14:11:05.191Z"
   },
   {
    "duration": 4,
    "start_time": "2024-10-26T14:11:37.935Z"
   },
   {
    "duration": 3,
    "start_time": "2024-10-26T14:16:22.926Z"
   },
   {
    "duration": 6,
    "start_time": "2024-10-26T14:16:41.638Z"
   },
   {
    "duration": 3,
    "start_time": "2024-10-26T14:17:01.552Z"
   },
   {
    "duration": 6,
    "start_time": "2024-10-26T14:17:02.959Z"
   },
   {
    "duration": 3,
    "start_time": "2024-10-26T14:17:44.430Z"
   },
   {
    "duration": 6,
    "start_time": "2024-10-26T14:17:44.797Z"
   },
   {
    "duration": 4,
    "start_time": "2024-10-26T14:17:52.624Z"
   },
   {
    "duration": 5,
    "start_time": "2024-10-26T14:17:52.951Z"
   },
   {
    "duration": 13,
    "start_time": "2024-10-26T14:18:29.120Z"
   },
   {
    "duration": 3,
    "start_time": "2024-10-26T14:20:50.511Z"
   },
   {
    "duration": 10,
    "start_time": "2024-10-26T14:20:51.104Z"
   },
   {
    "duration": 4,
    "start_time": "2024-10-26T14:20:59.376Z"
   },
   {
    "duration": 15,
    "start_time": "2024-10-26T14:20:59.808Z"
   }
  ],
  "kernelspec": {
   "display_name": "Python 3 (ipykernel)",
   "language": "python",
   "name": "python3"
  },
  "language_info": {
   "codemirror_mode": {
    "name": "ipython",
    "version": 3
   },
   "file_extension": ".py",
   "mimetype": "text/x-python",
   "name": "python",
   "nbconvert_exporter": "python",
   "pygments_lexer": "ipython3",
   "version": "3.12.7"
  },
  "toc": {
   "base_numbering": 1,
   "nav_menu": {},
   "number_sections": true,
   "sideBar": true,
   "skip_h1_title": true,
   "title_cell": "Table of Contents",
   "title_sidebar": "Contents",
   "toc_cell": false,
   "toc_position": {},
   "toc_section_display": true,
   "toc_window_display": false
  }
 },
 "nbformat": 4,
 "nbformat_minor": 4
}
