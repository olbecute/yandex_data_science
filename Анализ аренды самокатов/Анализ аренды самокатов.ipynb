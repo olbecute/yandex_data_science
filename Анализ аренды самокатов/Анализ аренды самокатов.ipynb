{
 "cells": [
  {
   "cell_type": "markdown",
   "id": "7b64f652-647f-4db3-b773-fb8b45c3173b",
   "metadata": {},
   "source": [
    "# Анализ аренды самокатов"
   ]
  },
  {
   "cell_type": "markdown",
   "id": "596d425a-2423-4886-8fa3-88c42b6a140b",
   "metadata": {},
   "source": [
    "В данном проекте предстоит провести анализ данных сервиса аренды самокатов GoFast. Также проверить гипотезы, которые помогут бизнесу вырасти. Чтобы совершать поездки по городу, пользователи сервиса GoFast пользуются мобильным приложением. Сервисом можно пользоваться:\n",
    "\n",
    "*Без подписки*\n",
    "\n",
    "абонентская плата отсутствует;\n",
    "стоимость одной минуты поездки — 8 рублей;\n",
    "стоимость старта (начала поездки) — 50 рублей;\n",
    "\n",
    "*С подпиской Ultra*\n",
    "\n",
    "абонентская плата — 199 рублей в месяц;\n",
    "стоимость одной минуты поездки — 6 рублей;\n",
    "стоимость старта — бесплатно.\n",
    "\n",
    "**План работы:**\n",
    "\n",
    "1. Проведем предобработку данных\n",
    "2. Проведем исследовательский анализ данных\n",
    "3. Объединим данные в общую таблицу и выделим группы пользователей с подпиской и без подписки в отдельные таблицы для анализа\n",
    "4. Создадим датафрейм с агрегированными данными о поездках на основе объединенной таблицы и данных по подписке: найдем суммарное расстояние, количество поездок и суммарное время для каждого пользователя за каждый месяц.\n",
    "5. Оценим являются ли пользователи с подпиской более выгодными для компании, для этого проверим предварительно: тратят ли пользователи с подпиской больше времени на поездки; будет ли помесячная выручка от пользователей с подпиской по месяцам выше, чем выручка от пользователей без подписки; а также проверим среднее расстояние, которое проезжают пользователи с подпиской за одну поездку.\n",
    "6. Сделать выводы."
   ]
  },
  {
   "cell_type": "markdown",
   "id": "f052b0ba-319c-4985-bd20-3aecd42ad373",
   "metadata": {},
   "source": [
    "**Описание данных**\n",
    "\n",
    "**DataFrame \"Пользователи\"**\n",
    "\n",
    "* user_id - уникальный идентификатор пользователя;\n",
    "* name - имя пользователя;\n",
    "* age - возраст;\n",
    "* city - город;\n",
    "* subscription_type - тип подписки (free, ultra);\n",
    "\n",
    "**DataFrame \"Поездки\"**\n",
    "\n",
    "* user_id - уникальный идентификатор пользователя;\n",
    "* distance - расстояние, которое пользователь проехал в текущей сессии (в метрах);\n",
    "* duration - продолжительность сессии (в минутах) — время с того момента, как пользователь нажал кнопку «Начать поездку» до момента, как он нажал кнопку «Завершить поездку»;\n",
    "* date - дата совершения поездки;\n",
    "\n",
    "**DataFrame \"Подписки\"**\n",
    "\n",
    "* subscription_type - тип подписки;\n",
    "* minute_price - стоимость одной минуты поездки по данной подписке;\n",
    "* start_ride_price - стоимость начала поездки;\n",
    "* subscription_fee - стоимость ежемесячного платежа;"
   ]
  },
  {
   "cell_type": "code",
   "execution_count": 136,
   "id": "2d085709-3a6d-482a-949f-8ff1d2239bae",
   "metadata": {},
   "outputs": [],
   "source": [
    "import pandas as pd\n",
    "import matplotlib.pyplot as plt\n",
    "import math\n",
    "import numpy as np\n",
    "from scipy import stats as st\n",
    "from math import sqrt, factorial\n",
    "from scipy.stats import binom, poisson, norm"
   ]
  },
  {
   "cell_type": "code",
   "execution_count": 5,
   "id": "bbb1affb-8a6e-4ddf-9e1f-264a56c5d775",
   "metadata": {},
   "outputs": [],
   "source": [
    "# Функция общей информации датафрейма\n",
    "\n",
    "def info(df):\n",
    "    display(df.head(5))\n",
    "    print()\n",
    "    print('-' * 150)\n",
    "    print()\n",
    "    print('Общая информация:')\n",
    "    display(df.info())\n",
    "    print()\n",
    "    print('-' * 150)\n",
    "    print()\n",
    "    display(df.describe())\n",
    "    print()\n",
    "    print('-' * 150)\n",
    "    print()\n",
    "    print('Количество пропусков для каждого столбца:')\n",
    "    display(df.isnull().sum())"
   ]
  },
  {
   "cell_type": "code",
   "execution_count": 6,
   "id": "e935299a-5c3f-4071-90ae-12c7b26f3055",
   "metadata": {},
   "outputs": [],
   "source": [
    "# Функция нахождения явных дубликатов\n",
    "\n",
    "def dataset_isdub(dataset):\n",
    "    print('Количество явных дубликатов в датасете:', dataset.duplicated().sum())\n",
    "    percent = round(((dataset.duplicated().sum() / dataset.shape[0]) * 100), 0)\n",
    "    print(f'Процент явных дубликатов в датасете: {percent}%')"
   ]
  },
  {
   "cell_type": "code",
   "execution_count": 7,
   "id": "69756c30-6816-4105-9681-e767a863391d",
   "metadata": {},
   "outputs": [],
   "source": [
    "# Добавляем столбец с помесячной выручкой, которую принёс каждый пользователь\n",
    "# Помесячная выручка считается по формуле: \n",
    "# стоимость старта поездки × количество поездок + стоимость одной минуты поездки \n",
    "# × общая продолжительность всех поездок в минутах + стоимость подписки\n",
    "\n",
    "def gain(row):\n",
    "  gain_sum = 0\n",
    "  gain_sum = (row['start_ride_price'] * row['count_distance'] +\n",
    "              row['minute_price'] * row['sum_duration'] +\n",
    "              row['subscription_fee']\n",
    "              )\n",
    "  return gain_sum"
   ]
  },
  {
   "cell_type": "markdown",
   "id": "efe38e84-1767-47c1-a3a5-6475dbd672ed",
   "metadata": {},
   "source": [
    "## Открываем файл с данными и изучаем общую информацию"
   ]
  },
  {
   "cell_type": "code",
   "execution_count": 9,
   "id": "ffad2a5f-f2da-46ae-8d35-55bba93fe941",
   "metadata": {},
   "outputs": [],
   "source": [
    "try:\n",
    "    users = pd.read_csv('users_go.csv')\n",
    "    rides = pd.read_csv('rides_go.csv')\n",
    "    subscriptions = pd.read_csv('subscriptions_go.csv')\n",
    "except:\n",
    "    users = pd.read_csv('https://code.s3.yandex.net/datasets/users_go.csv')\n",
    "    rides = pd.read_csv('https://code.s3.yandex.net/datasets/rides_go.csv')\n",
    "    subscriptions = pd.read_csv('https://code.s3.yandex.net/datasets/subscriptions_go.csv')"
   ]
  },
  {
   "cell_type": "code",
   "execution_count": 10,
   "id": "56852de6-eb39-44bc-a16d-48bcb32b8b60",
   "metadata": {},
   "outputs": [
    {
     "data": {
      "text/html": [
       "<div>\n",
       "<style scoped>\n",
       "    .dataframe tbody tr th:only-of-type {\n",
       "        vertical-align: middle;\n",
       "    }\n",
       "\n",
       "    .dataframe tbody tr th {\n",
       "        vertical-align: top;\n",
       "    }\n",
       "\n",
       "    .dataframe thead th {\n",
       "        text-align: right;\n",
       "    }\n",
       "</style>\n",
       "<table border=\"1\" class=\"dataframe\">\n",
       "  <thead>\n",
       "    <tr style=\"text-align: right;\">\n",
       "      <th></th>\n",
       "      <th>user_id</th>\n",
       "      <th>name</th>\n",
       "      <th>age</th>\n",
       "      <th>city</th>\n",
       "      <th>subscription_type</th>\n",
       "    </tr>\n",
       "  </thead>\n",
       "  <tbody>\n",
       "    <tr>\n",
       "      <th>0</th>\n",
       "      <td>1</td>\n",
       "      <td>Кира</td>\n",
       "      <td>22</td>\n",
       "      <td>Тюмень</td>\n",
       "      <td>ultra</td>\n",
       "    </tr>\n",
       "    <tr>\n",
       "      <th>1</th>\n",
       "      <td>2</td>\n",
       "      <td>Станислав</td>\n",
       "      <td>31</td>\n",
       "      <td>Омск</td>\n",
       "      <td>ultra</td>\n",
       "    </tr>\n",
       "    <tr>\n",
       "      <th>2</th>\n",
       "      <td>3</td>\n",
       "      <td>Алексей</td>\n",
       "      <td>20</td>\n",
       "      <td>Москва</td>\n",
       "      <td>ultra</td>\n",
       "    </tr>\n",
       "    <tr>\n",
       "      <th>3</th>\n",
       "      <td>4</td>\n",
       "      <td>Константин</td>\n",
       "      <td>26</td>\n",
       "      <td>Ростов-на-Дону</td>\n",
       "      <td>ultra</td>\n",
       "    </tr>\n",
       "    <tr>\n",
       "      <th>4</th>\n",
       "      <td>5</td>\n",
       "      <td>Адель</td>\n",
       "      <td>28</td>\n",
       "      <td>Омск</td>\n",
       "      <td>ultra</td>\n",
       "    </tr>\n",
       "  </tbody>\n",
       "</table>\n",
       "</div>"
      ],
      "text/plain": [
       "   user_id        name  age            city subscription_type\n",
       "0        1        Кира   22          Тюмень             ultra\n",
       "1        2   Станислав   31            Омск             ultra\n",
       "2        3     Алексей   20          Москва             ultra\n",
       "3        4  Константин   26  Ростов-на-Дону             ultra\n",
       "4        5       Адель   28            Омск             ultra"
      ]
     },
     "metadata": {},
     "output_type": "display_data"
    },
    {
     "name": "stdout",
     "output_type": "stream",
     "text": [
      "\n",
      "------------------------------------------------------------------------------------------------------------------------------------------------------\n",
      "\n",
      "Общая информация:\n",
      "<class 'pandas.core.frame.DataFrame'>\n",
      "RangeIndex: 1565 entries, 0 to 1564\n",
      "Data columns (total 5 columns):\n",
      " #   Column             Non-Null Count  Dtype \n",
      "---  ------             --------------  ----- \n",
      " 0   user_id            1565 non-null   int64 \n",
      " 1   name               1565 non-null   object\n",
      " 2   age                1565 non-null   int64 \n",
      " 3   city               1565 non-null   object\n",
      " 4   subscription_type  1565 non-null   object\n",
      "dtypes: int64(2), object(3)\n",
      "memory usage: 61.3+ KB\n"
     ]
    },
    {
     "data": {
      "text/plain": [
       "None"
      ]
     },
     "metadata": {},
     "output_type": "display_data"
    },
    {
     "name": "stdout",
     "output_type": "stream",
     "text": [
      "\n",
      "------------------------------------------------------------------------------------------------------------------------------------------------------\n",
      "\n"
     ]
    },
    {
     "data": {
      "text/html": [
       "<div>\n",
       "<style scoped>\n",
       "    .dataframe tbody tr th:only-of-type {\n",
       "        vertical-align: middle;\n",
       "    }\n",
       "\n",
       "    .dataframe tbody tr th {\n",
       "        vertical-align: top;\n",
       "    }\n",
       "\n",
       "    .dataframe thead th {\n",
       "        text-align: right;\n",
       "    }\n",
       "</style>\n",
       "<table border=\"1\" class=\"dataframe\">\n",
       "  <thead>\n",
       "    <tr style=\"text-align: right;\">\n",
       "      <th></th>\n",
       "      <th>user_id</th>\n",
       "      <th>age</th>\n",
       "    </tr>\n",
       "  </thead>\n",
       "  <tbody>\n",
       "    <tr>\n",
       "      <th>count</th>\n",
       "      <td>1565.000000</td>\n",
       "      <td>1565.000000</td>\n",
       "    </tr>\n",
       "    <tr>\n",
       "      <th>mean</th>\n",
       "      <td>762.633866</td>\n",
       "      <td>24.922045</td>\n",
       "    </tr>\n",
       "    <tr>\n",
       "      <th>std</th>\n",
       "      <td>443.260155</td>\n",
       "      <td>4.553496</td>\n",
       "    </tr>\n",
       "    <tr>\n",
       "      <th>min</th>\n",
       "      <td>1.000000</td>\n",
       "      <td>12.000000</td>\n",
       "    </tr>\n",
       "    <tr>\n",
       "      <th>25%</th>\n",
       "      <td>378.000000</td>\n",
       "      <td>22.000000</td>\n",
       "    </tr>\n",
       "    <tr>\n",
       "      <th>50%</th>\n",
       "      <td>762.000000</td>\n",
       "      <td>25.000000</td>\n",
       "    </tr>\n",
       "    <tr>\n",
       "      <th>75%</th>\n",
       "      <td>1146.000000</td>\n",
       "      <td>28.000000</td>\n",
       "    </tr>\n",
       "    <tr>\n",
       "      <th>max</th>\n",
       "      <td>1534.000000</td>\n",
       "      <td>43.000000</td>\n",
       "    </tr>\n",
       "  </tbody>\n",
       "</table>\n",
       "</div>"
      ],
      "text/plain": [
       "           user_id          age\n",
       "count  1565.000000  1565.000000\n",
       "mean    762.633866    24.922045\n",
       "std     443.260155     4.553496\n",
       "min       1.000000    12.000000\n",
       "25%     378.000000    22.000000\n",
       "50%     762.000000    25.000000\n",
       "75%    1146.000000    28.000000\n",
       "max    1534.000000    43.000000"
      ]
     },
     "metadata": {},
     "output_type": "display_data"
    },
    {
     "name": "stdout",
     "output_type": "stream",
     "text": [
      "\n",
      "------------------------------------------------------------------------------------------------------------------------------------------------------\n",
      "\n",
      "Количество пропусков для каждого столбца:\n"
     ]
    },
    {
     "data": {
      "text/plain": [
       "user_id              0\n",
       "name                 0\n",
       "age                  0\n",
       "city                 0\n",
       "subscription_type    0\n",
       "dtype: int64"
      ]
     },
     "metadata": {},
     "output_type": "display_data"
    }
   ],
   "source": [
    "info(users)"
   ]
  },
  {
   "cell_type": "code",
   "execution_count": 11,
   "id": "49e6a2b2-21a4-4136-b7d7-d1109f8a9b38",
   "metadata": {},
   "outputs": [
    {
     "data": {
      "text/html": [
       "<div>\n",
       "<style scoped>\n",
       "    .dataframe tbody tr th:only-of-type {\n",
       "        vertical-align: middle;\n",
       "    }\n",
       "\n",
       "    .dataframe tbody tr th {\n",
       "        vertical-align: top;\n",
       "    }\n",
       "\n",
       "    .dataframe thead th {\n",
       "        text-align: right;\n",
       "    }\n",
       "</style>\n",
       "<table border=\"1\" class=\"dataframe\">\n",
       "  <thead>\n",
       "    <tr style=\"text-align: right;\">\n",
       "      <th></th>\n",
       "      <th>user_id</th>\n",
       "      <th>distance</th>\n",
       "      <th>duration</th>\n",
       "      <th>date</th>\n",
       "    </tr>\n",
       "  </thead>\n",
       "  <tbody>\n",
       "    <tr>\n",
       "      <th>0</th>\n",
       "      <td>1</td>\n",
       "      <td>4409.919140</td>\n",
       "      <td>25.599769</td>\n",
       "      <td>2021-01-01</td>\n",
       "    </tr>\n",
       "    <tr>\n",
       "      <th>1</th>\n",
       "      <td>1</td>\n",
       "      <td>2617.592153</td>\n",
       "      <td>15.816871</td>\n",
       "      <td>2021-01-18</td>\n",
       "    </tr>\n",
       "    <tr>\n",
       "      <th>2</th>\n",
       "      <td>1</td>\n",
       "      <td>754.159807</td>\n",
       "      <td>6.232113</td>\n",
       "      <td>2021-04-20</td>\n",
       "    </tr>\n",
       "    <tr>\n",
       "      <th>3</th>\n",
       "      <td>1</td>\n",
       "      <td>2694.783254</td>\n",
       "      <td>18.511000</td>\n",
       "      <td>2021-08-11</td>\n",
       "    </tr>\n",
       "    <tr>\n",
       "      <th>4</th>\n",
       "      <td>1</td>\n",
       "      <td>4028.687306</td>\n",
       "      <td>26.265803</td>\n",
       "      <td>2021-08-28</td>\n",
       "    </tr>\n",
       "  </tbody>\n",
       "</table>\n",
       "</div>"
      ],
      "text/plain": [
       "   user_id     distance   duration        date\n",
       "0        1  4409.919140  25.599769  2021-01-01\n",
       "1        1  2617.592153  15.816871  2021-01-18\n",
       "2        1   754.159807   6.232113  2021-04-20\n",
       "3        1  2694.783254  18.511000  2021-08-11\n",
       "4        1  4028.687306  26.265803  2021-08-28"
      ]
     },
     "metadata": {},
     "output_type": "display_data"
    },
    {
     "name": "stdout",
     "output_type": "stream",
     "text": [
      "\n",
      "------------------------------------------------------------------------------------------------------------------------------------------------------\n",
      "\n",
      "Общая информация:\n",
      "<class 'pandas.core.frame.DataFrame'>\n",
      "RangeIndex: 18068 entries, 0 to 18067\n",
      "Data columns (total 4 columns):\n",
      " #   Column    Non-Null Count  Dtype  \n",
      "---  ------    --------------  -----  \n",
      " 0   user_id   18068 non-null  int64  \n",
      " 1   distance  18068 non-null  float64\n",
      " 2   duration  18068 non-null  float64\n",
      " 3   date      18068 non-null  object \n",
      "dtypes: float64(2), int64(1), object(1)\n",
      "memory usage: 564.8+ KB\n"
     ]
    },
    {
     "data": {
      "text/plain": [
       "None"
      ]
     },
     "metadata": {},
     "output_type": "display_data"
    },
    {
     "name": "stdout",
     "output_type": "stream",
     "text": [
      "\n",
      "------------------------------------------------------------------------------------------------------------------------------------------------------\n",
      "\n"
     ]
    },
    {
     "data": {
      "text/html": [
       "<div>\n",
       "<style scoped>\n",
       "    .dataframe tbody tr th:only-of-type {\n",
       "        vertical-align: middle;\n",
       "    }\n",
       "\n",
       "    .dataframe tbody tr th {\n",
       "        vertical-align: top;\n",
       "    }\n",
       "\n",
       "    .dataframe thead th {\n",
       "        text-align: right;\n",
       "    }\n",
       "</style>\n",
       "<table border=\"1\" class=\"dataframe\">\n",
       "  <thead>\n",
       "    <tr style=\"text-align: right;\">\n",
       "      <th></th>\n",
       "      <th>user_id</th>\n",
       "      <th>distance</th>\n",
       "      <th>duration</th>\n",
       "    </tr>\n",
       "  </thead>\n",
       "  <tbody>\n",
       "    <tr>\n",
       "      <th>count</th>\n",
       "      <td>18068.000000</td>\n",
       "      <td>18068.000000</td>\n",
       "      <td>18068.000000</td>\n",
       "    </tr>\n",
       "    <tr>\n",
       "      <th>mean</th>\n",
       "      <td>842.869936</td>\n",
       "      <td>3070.659976</td>\n",
       "      <td>17.805011</td>\n",
       "    </tr>\n",
       "    <tr>\n",
       "      <th>std</th>\n",
       "      <td>434.734317</td>\n",
       "      <td>1116.831209</td>\n",
       "      <td>6.091051</td>\n",
       "    </tr>\n",
       "    <tr>\n",
       "      <th>min</th>\n",
       "      <td>1.000000</td>\n",
       "      <td>0.855683</td>\n",
       "      <td>0.500000</td>\n",
       "    </tr>\n",
       "    <tr>\n",
       "      <th>25%</th>\n",
       "      <td>487.000000</td>\n",
       "      <td>2543.226360</td>\n",
       "      <td>13.597563</td>\n",
       "    </tr>\n",
       "    <tr>\n",
       "      <th>50%</th>\n",
       "      <td>889.000000</td>\n",
       "      <td>3133.609994</td>\n",
       "      <td>17.678395</td>\n",
       "    </tr>\n",
       "    <tr>\n",
       "      <th>75%</th>\n",
       "      <td>1213.250000</td>\n",
       "      <td>3776.222735</td>\n",
       "      <td>21.724800</td>\n",
       "    </tr>\n",
       "    <tr>\n",
       "      <th>max</th>\n",
       "      <td>1534.000000</td>\n",
       "      <td>7211.007745</td>\n",
       "      <td>40.823963</td>\n",
       "    </tr>\n",
       "  </tbody>\n",
       "</table>\n",
       "</div>"
      ],
      "text/plain": [
       "            user_id      distance      duration\n",
       "count  18068.000000  18068.000000  18068.000000\n",
       "mean     842.869936   3070.659976     17.805011\n",
       "std      434.734317   1116.831209      6.091051\n",
       "min        1.000000      0.855683      0.500000\n",
       "25%      487.000000   2543.226360     13.597563\n",
       "50%      889.000000   3133.609994     17.678395\n",
       "75%     1213.250000   3776.222735     21.724800\n",
       "max     1534.000000   7211.007745     40.823963"
      ]
     },
     "metadata": {},
     "output_type": "display_data"
    },
    {
     "name": "stdout",
     "output_type": "stream",
     "text": [
      "\n",
      "------------------------------------------------------------------------------------------------------------------------------------------------------\n",
      "\n",
      "Количество пропусков для каждого столбца:\n"
     ]
    },
    {
     "data": {
      "text/plain": [
       "user_id     0\n",
       "distance    0\n",
       "duration    0\n",
       "date        0\n",
       "dtype: int64"
      ]
     },
     "metadata": {},
     "output_type": "display_data"
    }
   ],
   "source": [
    "info(rides)"
   ]
  },
  {
   "cell_type": "code",
   "execution_count": 12,
   "id": "c3c24f7d-72d9-4772-8f0d-7a113a74ea96",
   "metadata": {},
   "outputs": [
    {
     "data": {
      "text/html": [
       "<div>\n",
       "<style scoped>\n",
       "    .dataframe tbody tr th:only-of-type {\n",
       "        vertical-align: middle;\n",
       "    }\n",
       "\n",
       "    .dataframe tbody tr th {\n",
       "        vertical-align: top;\n",
       "    }\n",
       "\n",
       "    .dataframe thead th {\n",
       "        text-align: right;\n",
       "    }\n",
       "</style>\n",
       "<table border=\"1\" class=\"dataframe\">\n",
       "  <thead>\n",
       "    <tr style=\"text-align: right;\">\n",
       "      <th></th>\n",
       "      <th>subscription_type</th>\n",
       "      <th>minute_price</th>\n",
       "      <th>start_ride_price</th>\n",
       "      <th>subscription_fee</th>\n",
       "    </tr>\n",
       "  </thead>\n",
       "  <tbody>\n",
       "    <tr>\n",
       "      <th>0</th>\n",
       "      <td>free</td>\n",
       "      <td>8</td>\n",
       "      <td>50</td>\n",
       "      <td>0</td>\n",
       "    </tr>\n",
       "    <tr>\n",
       "      <th>1</th>\n",
       "      <td>ultra</td>\n",
       "      <td>6</td>\n",
       "      <td>0</td>\n",
       "      <td>199</td>\n",
       "    </tr>\n",
       "  </tbody>\n",
       "</table>\n",
       "</div>"
      ],
      "text/plain": [
       "  subscription_type  minute_price  start_ride_price  subscription_fee\n",
       "0              free             8                50                 0\n",
       "1             ultra             6                 0               199"
      ]
     },
     "metadata": {},
     "output_type": "display_data"
    },
    {
     "name": "stdout",
     "output_type": "stream",
     "text": [
      "\n",
      "------------------------------------------------------------------------------------------------------------------------------------------------------\n",
      "\n",
      "Общая информация:\n",
      "<class 'pandas.core.frame.DataFrame'>\n",
      "RangeIndex: 2 entries, 0 to 1\n",
      "Data columns (total 4 columns):\n",
      " #   Column             Non-Null Count  Dtype \n",
      "---  ------             --------------  ----- \n",
      " 0   subscription_type  2 non-null      object\n",
      " 1   minute_price       2 non-null      int64 \n",
      " 2   start_ride_price   2 non-null      int64 \n",
      " 3   subscription_fee   2 non-null      int64 \n",
      "dtypes: int64(3), object(1)\n",
      "memory usage: 196.0+ bytes\n"
     ]
    },
    {
     "data": {
      "text/plain": [
       "None"
      ]
     },
     "metadata": {},
     "output_type": "display_data"
    },
    {
     "name": "stdout",
     "output_type": "stream",
     "text": [
      "\n",
      "------------------------------------------------------------------------------------------------------------------------------------------------------\n",
      "\n"
     ]
    },
    {
     "data": {
      "text/html": [
       "<div>\n",
       "<style scoped>\n",
       "    .dataframe tbody tr th:only-of-type {\n",
       "        vertical-align: middle;\n",
       "    }\n",
       "\n",
       "    .dataframe tbody tr th {\n",
       "        vertical-align: top;\n",
       "    }\n",
       "\n",
       "    .dataframe thead th {\n",
       "        text-align: right;\n",
       "    }\n",
       "</style>\n",
       "<table border=\"1\" class=\"dataframe\">\n",
       "  <thead>\n",
       "    <tr style=\"text-align: right;\">\n",
       "      <th></th>\n",
       "      <th>minute_price</th>\n",
       "      <th>start_ride_price</th>\n",
       "      <th>subscription_fee</th>\n",
       "    </tr>\n",
       "  </thead>\n",
       "  <tbody>\n",
       "    <tr>\n",
       "      <th>count</th>\n",
       "      <td>2.000000</td>\n",
       "      <td>2.000000</td>\n",
       "      <td>2.000000</td>\n",
       "    </tr>\n",
       "    <tr>\n",
       "      <th>mean</th>\n",
       "      <td>7.000000</td>\n",
       "      <td>25.000000</td>\n",
       "      <td>99.500000</td>\n",
       "    </tr>\n",
       "    <tr>\n",
       "      <th>std</th>\n",
       "      <td>1.414214</td>\n",
       "      <td>35.355339</td>\n",
       "      <td>140.714249</td>\n",
       "    </tr>\n",
       "    <tr>\n",
       "      <th>min</th>\n",
       "      <td>6.000000</td>\n",
       "      <td>0.000000</td>\n",
       "      <td>0.000000</td>\n",
       "    </tr>\n",
       "    <tr>\n",
       "      <th>25%</th>\n",
       "      <td>6.500000</td>\n",
       "      <td>12.500000</td>\n",
       "      <td>49.750000</td>\n",
       "    </tr>\n",
       "    <tr>\n",
       "      <th>50%</th>\n",
       "      <td>7.000000</td>\n",
       "      <td>25.000000</td>\n",
       "      <td>99.500000</td>\n",
       "    </tr>\n",
       "    <tr>\n",
       "      <th>75%</th>\n",
       "      <td>7.500000</td>\n",
       "      <td>37.500000</td>\n",
       "      <td>149.250000</td>\n",
       "    </tr>\n",
       "    <tr>\n",
       "      <th>max</th>\n",
       "      <td>8.000000</td>\n",
       "      <td>50.000000</td>\n",
       "      <td>199.000000</td>\n",
       "    </tr>\n",
       "  </tbody>\n",
       "</table>\n",
       "</div>"
      ],
      "text/plain": [
       "       minute_price  start_ride_price  subscription_fee\n",
       "count      2.000000          2.000000          2.000000\n",
       "mean       7.000000         25.000000         99.500000\n",
       "std        1.414214         35.355339        140.714249\n",
       "min        6.000000          0.000000          0.000000\n",
       "25%        6.500000         12.500000         49.750000\n",
       "50%        7.000000         25.000000         99.500000\n",
       "75%        7.500000         37.500000        149.250000\n",
       "max        8.000000         50.000000        199.000000"
      ]
     },
     "metadata": {},
     "output_type": "display_data"
    },
    {
     "name": "stdout",
     "output_type": "stream",
     "text": [
      "\n",
      "------------------------------------------------------------------------------------------------------------------------------------------------------\n",
      "\n",
      "Количество пропусков для каждого столбца:\n"
     ]
    },
    {
     "data": {
      "text/plain": [
       "subscription_type    0\n",
       "minute_price         0\n",
       "start_ride_price     0\n",
       "subscription_fee     0\n",
       "dtype: int64"
      ]
     },
     "metadata": {},
     "output_type": "display_data"
    }
   ],
   "source": [
    "info(subscriptions)"
   ]
  },
  {
   "cell_type": "markdown",
   "id": "65ea90d3-4d7e-475e-bd56-c109b7828208",
   "metadata": {},
   "source": [
    "**Вывод:**\n",
    "\n",
    "1. В трех полученных датафреймах отсутствуют пропуски.\n",
    "2. Стоит обратить внимание на тип данных в колонке и изменить его на тип дата."
   ]
  },
  {
   "cell_type": "markdown",
   "id": "456c0a32-44e4-4488-a6e2-f3e829f8e09f",
   "metadata": {},
   "source": [
    "## Предобработка данных"
   ]
  },
  {
   "cell_type": "code",
   "execution_count": 15,
   "id": "4816f96d-a565-4d08-8329-481856399bea",
   "metadata": {},
   "outputs": [
    {
     "name": "stdout",
     "output_type": "stream",
     "text": [
      "Количество явных дубликатов в датасете: 31\n",
      "Процент явных дубликатов в датасете: 2.0%\n"
     ]
    }
   ],
   "source": [
    "dataset_isdub(users)"
   ]
  },
  {
   "cell_type": "code",
   "execution_count": 16,
   "id": "a3b93bf6-cae4-4a8f-a0d6-0ebf5385a6d6",
   "metadata": {},
   "outputs": [
    {
     "name": "stdout",
     "output_type": "stream",
     "text": [
      "Количество явных дубликатов в датасете: 0\n",
      "Процент явных дубликатов в датасете: 0.0%\n"
     ]
    }
   ],
   "source": [
    "dataset_isdub(rides)"
   ]
  },
  {
   "cell_type": "code",
   "execution_count": 17,
   "id": "6776b78f-889a-4050-99c1-63b1f452a457",
   "metadata": {},
   "outputs": [
    {
     "name": "stdout",
     "output_type": "stream",
     "text": [
      "Количество явных дубликатов в датасете: 0\n",
      "Процент явных дубликатов в датасете: 0.0%\n"
     ]
    }
   ],
   "source": [
    "dataset_isdub(subscriptions)"
   ]
  },
  {
   "cell_type": "code",
   "execution_count": 18,
   "id": "82006e66-5262-4ba3-9289-e36bebec79e4",
   "metadata": {},
   "outputs": [],
   "source": [
    "users = users.drop_duplicates()"
   ]
  },
  {
   "cell_type": "code",
   "execution_count": 19,
   "id": "d78f19df-3904-441c-a84a-0e0f377a93cb",
   "metadata": {},
   "outputs": [
    {
     "name": "stdout",
     "output_type": "stream",
     "text": [
      "Список уникальных наименований населенных пунктов: 8\n",
      "city\n",
      "Пятигорск         219\n",
      "Екатеринбург      204\n",
      "Ростов-на-Дону    198\n",
      "Краснодар         193\n",
      "Сочи              189\n",
      "Омск              183\n",
      "Тюмень            180\n",
      "Москва            168\n",
      "Name: count, dtype: int64\n"
     ]
    }
   ],
   "source": [
    "print('Список уникальных наименований населенных пунктов:', users['city'].nunique())\n",
    "print(users['city'].value_counts())"
   ]
  },
  {
   "cell_type": "code",
   "execution_count": 20,
   "id": "aa314ea8-0a55-4dcb-bd09-9a2506183629",
   "metadata": {},
   "outputs": [
    {
     "name": "stdout",
     "output_type": "stream",
     "text": [
      "<class 'pandas.core.frame.DataFrame'>\n",
      "RangeIndex: 18068 entries, 0 to 18067\n",
      "Data columns (total 4 columns):\n",
      " #   Column    Non-Null Count  Dtype         \n",
      "---  ------    --------------  -----         \n",
      " 0   user_id   18068 non-null  int64         \n",
      " 1   distance  18068 non-null  float64       \n",
      " 2   duration  18068 non-null  float64       \n",
      " 3   date      18068 non-null  datetime64[ns]\n",
      "dtypes: datetime64[ns](1), float64(2), int64(1)\n",
      "memory usage: 564.8 KB\n"
     ]
    }
   ],
   "source": [
    "rides.date = pd.to_datetime(rides.date, format='%Y-%m-%d')\n",
    "rides.info()"
   ]
  },
  {
   "cell_type": "code",
   "execution_count": 21,
   "id": "c1f6426f-b6ed-441c-9897-b78b65bd5110",
   "metadata": {},
   "outputs": [
    {
     "data": {
      "text/html": [
       "<div>\n",
       "<style scoped>\n",
       "    .dataframe tbody tr th:only-of-type {\n",
       "        vertical-align: middle;\n",
       "    }\n",
       "\n",
       "    .dataframe tbody tr th {\n",
       "        vertical-align: top;\n",
       "    }\n",
       "\n",
       "    .dataframe thead th {\n",
       "        text-align: right;\n",
       "    }\n",
       "</style>\n",
       "<table border=\"1\" class=\"dataframe\">\n",
       "  <thead>\n",
       "    <tr style=\"text-align: right;\">\n",
       "      <th></th>\n",
       "      <th>user_id</th>\n",
       "      <th>distance</th>\n",
       "      <th>duration</th>\n",
       "      <th>date</th>\n",
       "      <th>month</th>\n",
       "    </tr>\n",
       "  </thead>\n",
       "  <tbody>\n",
       "    <tr>\n",
       "      <th>0</th>\n",
       "      <td>1</td>\n",
       "      <td>4409.919140</td>\n",
       "      <td>25.599769</td>\n",
       "      <td>2021-01-01</td>\n",
       "      <td>1</td>\n",
       "    </tr>\n",
       "    <tr>\n",
       "      <th>1</th>\n",
       "      <td>1</td>\n",
       "      <td>2617.592153</td>\n",
       "      <td>15.816871</td>\n",
       "      <td>2021-01-18</td>\n",
       "      <td>1</td>\n",
       "    </tr>\n",
       "    <tr>\n",
       "      <th>2</th>\n",
       "      <td>1</td>\n",
       "      <td>754.159807</td>\n",
       "      <td>6.232113</td>\n",
       "      <td>2021-04-20</td>\n",
       "      <td>4</td>\n",
       "    </tr>\n",
       "    <tr>\n",
       "      <th>3</th>\n",
       "      <td>1</td>\n",
       "      <td>2694.783254</td>\n",
       "      <td>18.511000</td>\n",
       "      <td>2021-08-11</td>\n",
       "      <td>8</td>\n",
       "    </tr>\n",
       "    <tr>\n",
       "      <th>4</th>\n",
       "      <td>1</td>\n",
       "      <td>4028.687306</td>\n",
       "      <td>26.265803</td>\n",
       "      <td>2021-08-28</td>\n",
       "      <td>8</td>\n",
       "    </tr>\n",
       "  </tbody>\n",
       "</table>\n",
       "</div>"
      ],
      "text/plain": [
       "   user_id     distance   duration       date  month\n",
       "0        1  4409.919140  25.599769 2021-01-01      1\n",
       "1        1  2617.592153  15.816871 2021-01-18      1\n",
       "2        1   754.159807   6.232113 2021-04-20      4\n",
       "3        1  2694.783254  18.511000 2021-08-11      8\n",
       "4        1  4028.687306  26.265803 2021-08-28      8"
      ]
     },
     "metadata": {},
     "output_type": "display_data"
    },
    {
     "name": "stdout",
     "output_type": "stream",
     "text": [
      "Период дат из df: c 2021-01-01 00:00:00 по 2021-12-30 00:00:00\n"
     ]
    }
   ],
   "source": [
    "rides['month'] = rides.date.dt.month\n",
    "display(rides.head())\n",
    "print('Период дат из df: c', rides.date.min(),'по', rides.date.max())"
   ]
  },
  {
   "cell_type": "markdown",
   "id": "d32e861b-5199-4fc8-b845-18ed0726c0bc",
   "metadata": {},
   "source": [
    "**Вывод:**\n",
    "\n",
    "1. Явные дубликаты встречаются только в датасете с пользователями, их процент составляет 2% от всего датафрейма - они были удалены.\n",
    "2. Также рассмотрены уникальные названия городов на наличие опечаток или ошибок - все в порядке, ошибки не замечены.\n",
    "3. Формат в стоблце с датой был конвертирован в дату.\n",
    "4. Был создан столбец с месяцами - это понадобится нам для дальнейшего анализа."
   ]
  },
  {
   "cell_type": "markdown",
   "id": "0a609d31-cb9f-483a-9455-9a71dbe1d308",
   "metadata": {},
   "source": [
    "## Исследовательский анализ данных"
   ]
  },
  {
   "cell_type": "markdown",
   "id": "4ceb7989-977b-40d1-8b5c-47f34d510b06",
   "metadata": {},
   "source": [
    "### Частота встречаемости городов"
   ]
  },
  {
   "cell_type": "code",
   "execution_count": 25,
   "id": "12d5d51a-aef7-416f-91c2-30bfba45b3d7",
   "metadata": {},
   "outputs": [
    {
     "data": {
      "image/png": "[encoded data removed]",
      "text/plain": [
       "<Figure size 1000x500 with 1 Axes>"
      ]
     },
     "metadata": {},
     "output_type": "display_data"
    },
    {
     "data": {
      "text/html": [
       "<div>\n",
       "<style scoped>\n",
       "    .dataframe tbody tr th:only-of-type {\n",
       "        vertical-align: middle;\n",
       "    }\n",
       "\n",
       "    .dataframe tbody tr th {\n",
       "        vertical-align: top;\n",
       "    }\n",
       "\n",
       "    .dataframe thead th {\n",
       "        text-align: right;\n",
       "    }\n",
       "</style>\n",
       "<table border=\"1\" class=\"dataframe\">\n",
       "  <thead>\n",
       "    <tr style=\"text-align: right;\">\n",
       "      <th></th>\n",
       "      <th>user_id</th>\n",
       "    </tr>\n",
       "    <tr>\n",
       "      <th>city</th>\n",
       "      <th></th>\n",
       "    </tr>\n",
       "  </thead>\n",
       "  <tbody>\n",
       "    <tr>\n",
       "      <th>Пятигорск</th>\n",
       "      <td>219</td>\n",
       "    </tr>\n",
       "    <tr>\n",
       "      <th>Екатеринбург</th>\n",
       "      <td>204</td>\n",
       "    </tr>\n",
       "    <tr>\n",
       "      <th>Ростов-на-Дону</th>\n",
       "      <td>198</td>\n",
       "    </tr>\n",
       "    <tr>\n",
       "      <th>Краснодар</th>\n",
       "      <td>193</td>\n",
       "    </tr>\n",
       "    <tr>\n",
       "      <th>Сочи</th>\n",
       "      <td>189</td>\n",
       "    </tr>\n",
       "    <tr>\n",
       "      <th>Омск</th>\n",
       "      <td>183</td>\n",
       "    </tr>\n",
       "    <tr>\n",
       "      <th>Тюмень</th>\n",
       "      <td>180</td>\n",
       "    </tr>\n",
       "    <tr>\n",
       "      <th>Москва</th>\n",
       "      <td>168</td>\n",
       "    </tr>\n",
       "  </tbody>\n",
       "</table>\n",
       "</div>"
      ],
      "text/plain": [
       "                user_id\n",
       "city                   \n",
       "Пятигорск           219\n",
       "Екатеринбург        204\n",
       "Ростов-на-Дону      198\n",
       "Краснодар           193\n",
       "Сочи                189\n",
       "Омск                183\n",
       "Тюмень              180\n",
       "Москва              168"
      ]
     },
     "metadata": {},
     "output_type": "display_data"
    }
   ],
   "source": [
    "users_city = users.pivot_table(index='city', values='user_id', aggfunc='count')\n",
    "users_city = users_city.sort_values(by='user_id', ascending=True)\n",
    "\n",
    "colors = plt.cm.viridis(range(len(users_city)))\n",
    "users_city.plot(kind='barh', figsize=(10, 5), grid=True, color=colors)\n",
    "\n",
    "plt.title('Частота встречаемости городов')\n",
    "plt.xlabel('Количество пользователей')\n",
    "plt.ylabel('Города')\n",
    "plt.legend(loc='lower left')\n",
    "plt.show()\n",
    "\n",
    "display(users_city.sort_values(by='user_id', ascending = False))"
   ]
  },
  {
   "cell_type": "markdown",
   "id": "d223d62b-b851-4fdb-b545-3a6af96cfef5",
   "metadata": {},
   "source": [
    "**Вывод:**\n",
    "\n",
    "*Лидеры по использованию самокатов:* Пятигорск занимает первое место с 219 зафиксированными случаями использования самокатов, что указывает на высокую популярность этого вида транспорта в городе. \n",
    "\n",
    "*Высокие показатели:* Екатеринбург (204) и Ростов-на-Дону (198) также демонстрируют значительное использование самокатов, находясь в верхней части списка. Это может свидетельствовать о развитой инфраструктуре для самокатов и их популярности среди местных жителей.\n",
    "\n",
    "*Низкие показатели:* Тюмень (180) и Москва (168) имеют наименьшие значения среди представленных городов, что может указывать на менее активное использование самокатов или на наличие других предпочтений в транспорте."
   ]
  },
  {
   "cell_type": "markdown",
   "id": "f4b64b4b-cb00-411d-b573-f8c32f29ec2f",
   "metadata": {},
   "source": [
    "### Анализ соотношения пользователей с подпиской и без нее"
   ]
  },
  {
   "cell_type": "code",
   "execution_count": 28,
   "id": "b0c2a4d2-2555-44d4-a34e-5edb3c236aea",
   "metadata": {},
   "outputs": [
    {
     "data": {
      "image/png": "[encoded data removed]",
      "text/plain": [
       "<Figure size 1000x300 with 1 Axes>"
      ]
     },
     "metadata": {},
     "output_type": "display_data"
    },
    {
     "data": {
      "text/html": [
       "<div>\n",
       "<style scoped>\n",
       "    .dataframe tbody tr th:only-of-type {\n",
       "        vertical-align: middle;\n",
       "    }\n",
       "\n",
       "    .dataframe tbody tr th {\n",
       "        vertical-align: top;\n",
       "    }\n",
       "\n",
       "    .dataframe thead th {\n",
       "        text-align: right;\n",
       "    }\n",
       "</style>\n",
       "<table border=\"1\" class=\"dataframe\">\n",
       "  <thead>\n",
       "    <tr style=\"text-align: right;\">\n",
       "      <th></th>\n",
       "      <th>subscription_type</th>\n",
       "      <th>user_id</th>\n",
       "    </tr>\n",
       "  </thead>\n",
       "  <tbody>\n",
       "    <tr>\n",
       "      <th>0</th>\n",
       "      <td>free</td>\n",
       "      <td>835</td>\n",
       "    </tr>\n",
       "    <tr>\n",
       "      <th>1</th>\n",
       "      <td>ultra</td>\n",
       "      <td>699</td>\n",
       "    </tr>\n",
       "  </tbody>\n",
       "</table>\n",
       "</div>"
      ],
      "text/plain": [
       "  subscription_type  user_id\n",
       "0              free      835\n",
       "1             ultra      699"
      ]
     },
     "metadata": {},
     "output_type": "display_data"
    }
   ],
   "source": [
    "users_subs = users.pivot_table(index='subscription_type', \n",
    "                                values='user_id', \n",
    "                                aggfunc='count').reset_index()\n",
    "users_subs = users_subs.sort_values(by='user_id', ascending=True)\n",
    "\n",
    "colors = plt.cm.viridis(range(len(users_subs)))\n",
    "users_subs.plot(x='subscription_type', \n",
    "                kind='barh', \n",
    "                figsize=(10, 3), \n",
    "                grid=True, \n",
    "                color=colors) \n",
    "\n",
    "plt.title('Соотношение пользователей с типом подписки')\n",
    "plt.xlabel('Количество поездок')\n",
    "plt.ylabel('Тип подписки')\n",
    "plt.legend(loc='lower left')\n",
    "plt.show()\n",
    "\n",
    "display(users_subs.sort_values(by='user_id', ascending=False))"
   ]
  },
  {
   "cell_type": "markdown",
   "id": "598c902d-0471-4962-9bee-afb03efdfd36",
   "metadata": {},
   "source": [
    "**Вывод:**\n",
    "\n",
    "*Без подписки:* 835 пользователей имеют бесплатную подписку.\n",
    "\n",
    "*Подписка \"ultra\":* 699 пользователей имеют платную подписку."
   ]
  },
  {
   "cell_type": "markdown",
   "id": "26cf2c52-e888-446c-a975-2186fb9ff2bb",
   "metadata": {},
   "source": [
    "### Анализ возраста пользователей"
   ]
  },
  {
   "cell_type": "code",
   "execution_count": 31,
   "id": "acf885fe-b529-443e-81d1-4c54365f94e2",
   "metadata": {},
   "outputs": [
    {
     "data": {
      "image/png": "[encoded data removed]",
      "text/plain": [
       "<Figure size 1300x500 with 1 Axes>"
      ]
     },
     "metadata": {},
     "output_type": "display_data"
    },
    {
     "data": {
      "text/plain": [
       "count    1534.000000\n",
       "mean       24.903520\n",
       "std         4.572367\n",
       "min        12.000000\n",
       "25%        22.000000\n",
       "50%        25.000000\n",
       "75%        28.000000\n",
       "max        43.000000\n",
       "Name: age, dtype: float64"
      ]
     },
     "metadata": {},
     "output_type": "display_data"
    }
   ],
   "source": [
    "ax = users['age'].plot(kind='hist', grid=True, figsize=(13, 5), bins=30, color='skyblue')\n",
    "\n",
    "mean_age = users['age'].mean()\n",
    "median_age = users['age'].median()\n",
    "\n",
    "plt.axvline(mean_age, color='blue', linestyle='dashed', linewidth=1, label='Средний возраст')\n",
    "plt.axvline(median_age, color='purple', linestyle='dashed', linewidth=1, label='Медиана')\n",
    "\n",
    "plt.legend()\n",
    "\n",
    "plt.title('Возраст пользователей')\n",
    "plt.xlabel('Возраст')\n",
    "plt.ylabel('Количество пользователей')\n",
    "\n",
    "plt.show()\n",
    "\n",
    "display(users['age'].describe())"
   ]
  },
  {
   "cell_type": "markdown",
   "id": "7050d476-33da-41c1-8e3c-f82d5e6a1ef0",
   "metadata": {},
   "source": [
    "**Вывод:**\n",
    "\n",
    "Средний возраст 24.9 года, что указывает на то, что большинство пользователей находятся в молодом возрасте.\n",
    "\n",
    "Стандартное отклонение 4.57 года, что говорит о том, что возраст пользователей варьируется относительно не сильно вокруг среднего значения.\n",
    "\n",
    "Минимальный возраст составляет 12 лет, а максимальный — 43 года. Это указывает на наличие как очень молодых, так и более взрослых пользователей.\n",
    "\n",
    "Распределение данных по возрасту пользователей является нормальным, это означает, что большинство пользователей сосредоточены вокруг среднего возраста, и количество пользователей с возрастом, значительно отличающимся от среднего, будет уменьшаться. \n",
    "\n",
    "Таким образом, можно заключить, что аудитория в основном молода, с небольшими колебаниями в возрасте, и распределение возрастов, является симметричным вокруг среднего значения."
   ]
  },
  {
   "cell_type": "markdown",
   "id": "5233fa99-40aa-4b82-8250-b545ea043f70",
   "metadata": {},
   "source": [
    "### Визуализация и анализ расстояния, которое пользователь преодолел за одну поездку"
   ]
  },
  {
   "cell_type": "code",
   "execution_count": 34,
   "id": "3e9b1afb-a673-46c5-8dd2-05f60f88d43e",
   "metadata": {},
   "outputs": [
    {
     "data": {
      "image/png": "[encoded data removed]",
      "text/plain": [
       "<Figure size 1300x500 with 1 Axes>"
      ]
     },
     "metadata": {},
     "output_type": "display_data"
    },
    {
     "data": {
      "text/plain": [
       "count    18068.000000\n",
       "mean      3070.659976\n",
       "std       1116.831209\n",
       "min          0.855683\n",
       "25%       2543.226360\n",
       "50%       3133.609994\n",
       "75%       3776.222735\n",
       "max       7211.007745\n",
       "Name: distance, dtype: float64"
      ]
     },
     "metadata": {},
     "output_type": "display_data"
    }
   ],
   "source": [
    "ax = rides['distance'].plot(kind='hist', grid=True, figsize=(13, 5), bins=50, color='bisque')\n",
    "\n",
    "mean_distance = rides['distance'].mean()\n",
    "median_distance = rides['distance'].median()\n",
    "\n",
    "plt.axvline(mean_distance, color='orange', linestyle='dashed', linewidth=1, label='Среднее расстояние')\n",
    "plt.axvline(median_distance, color='sienna', linestyle='dashed', linewidth=1, label='Медиана')\n",
    "\n",
    "plt.legend()\n",
    "\n",
    "plt.title('Расстояние одной поездки')\n",
    "plt.xlabel('Расстояние, м')\n",
    "plt.ylabel('Количество поездок')\n",
    "\n",
    "plt.show()\n",
    "\n",
    "display(rides['distance'].describe())"
   ]
  },
  {
   "cell_type": "markdown",
   "id": "45ac3f4d-c7d0-4abd-8926-18ae250e4019",
   "metadata": {},
   "source": [
    "**Вывод:**\n",
    "\n",
    "Среднее расстояние поездки составляет примерно 3070.66 метров, что указывает на то, что в целом пользователи предпочитают более длинные поездки.\n",
    "\n",
    "На графике наблюдаются две явные пики: первая около 700 метров, а вторая около 3000 метров. Это может указывать на два основных типа поездок:\n",
    "\n",
    "Короткие поездки: Пик на уровне 700 метров может свидетельствовать о том, что многие пользователи берут самокаты для коротких поездок, например, для перемещения на небольшие расстояния, таких как поездки по городу или до ближайшего магазина, или же берут самокат впервые, чтобы попробовать покататься.\n",
    "\n",
    "Длинные поездки: Пик на уровне 3000 метров может указывать на то, что пользователи также используют самокаты для более длительных поездок, возможно, для поездок на работу или в учебные заведения."
   ]
  },
  {
   "cell_type": "code",
   "execution_count": 36,
   "id": "6d71b15c-8d5f-46c0-8237-25a7584743da",
   "metadata": {},
   "outputs": [
    {
     "data": {
      "image/png": "[encoded data removed]",
      "text/plain": [
       "<Figure size 1300x500 with 1 Axes>"
      ]
     },
     "metadata": {},
     "output_type": "display_data"
    },
    {
     "data": {
      "text/plain": [
       "count    18068.000000\n",
       "mean        17.805011\n",
       "std          6.091051\n",
       "min          0.500000\n",
       "25%         13.597563\n",
       "50%         17.678395\n",
       "75%         21.724800\n",
       "max         40.823963\n",
       "Name: duration, dtype: float64"
      ]
     },
     "metadata": {},
     "output_type": "display_data"
    }
   ],
   "source": [
    "ax = rides['duration'].plot(kind='hist', grid=True, figsize=(13, 5), bins=50, color='paleturquoise')\n",
    "\n",
    "mean_duration = rides['duration'].mean()\n",
    "median_duration = rides['duration'].median()\n",
    "\n",
    "plt.axvline(mean_duration, color='darkcyan', linestyle='dashed', linewidth=1, label='Среднее время')\n",
    "plt.axvline(median_duration, color='darkblue', linestyle='dashed', linewidth=1, label='Медиана')\n",
    "\n",
    "plt.legend()\n",
    "\n",
    "plt.title('Продолжительность одной поездки')\n",
    "plt.xlabel('Время, мин')\n",
    "plt.ylabel('Количество поездок')\n",
    "\n",
    "plt.show()\n",
    "\n",
    "display(rides['duration'].describe())"
   ]
  },
  {
   "cell_type": "markdown",
   "id": "f1eab546-4192-41d6-9ce8-06f1d45b45fc",
   "metadata": {},
   "source": [
    "**Вывод:**\n",
    "\n",
    "Среднее время и медиана поездки составляют примерно 17.81 и 17.68 минут, соответственно, что указывает на то, что в целом пользователи проводят около 18 минут в пути.\n",
    "\n",
    "Стандартное отклонение равно 6.09 минут, что указывает на то, что продолжительность поездок варьируется относительно среднего значения.\n",
    "График:\n",
    "\n",
    "На графике распределения продолжительности поездок можно наблюдать, что данные имеют форму, близкую к нормальному распределению (распределению Гаусса). Это говорит о том, что большинство поездок имеют продолжительность, близкую к среднему значению, с меньшим количеством очень коротких и очень длинных поездок."
   ]
  },
  {
   "cell_type": "markdown",
   "id": "39b6a144-3bd6-42bd-8d75-11ce1217ff3f",
   "metadata": {},
   "source": [
    "## Объединение датафреймов  и анализ данных"
   ]
  },
  {
   "cell_type": "markdown",
   "id": "09ee8058-61e3-45f9-bc06-5131c99ad197",
   "metadata": {},
   "source": [
    "Для дальшейшей работы с данным, удобней будет объединить датафреймы о пользователях, поездках и подписках в один. Затем разделить полученный датафрем на два: с подпиской и без. А затем проанализированить полученные датафреймы."
   ]
  },
  {
   "cell_type": "code",
   "execution_count": 40,
   "id": "484c2811-9a05-44a2-a954-dc903ed2a353",
   "metadata": {},
   "outputs": [
    {
     "data": {
      "text/html": [
       "<div>\n",
       "<style scoped>\n",
       "    .dataframe tbody tr th:only-of-type {\n",
       "        vertical-align: middle;\n",
       "    }\n",
       "\n",
       "    .dataframe tbody tr th {\n",
       "        vertical-align: top;\n",
       "    }\n",
       "\n",
       "    .dataframe thead th {\n",
       "        text-align: right;\n",
       "    }\n",
       "</style>\n",
       "<table border=\"1\" class=\"dataframe\">\n",
       "  <thead>\n",
       "    <tr style=\"text-align: right;\">\n",
       "      <th></th>\n",
       "      <th>user_id</th>\n",
       "      <th>distance</th>\n",
       "      <th>duration</th>\n",
       "      <th>date</th>\n",
       "      <th>month</th>\n",
       "      <th>name</th>\n",
       "      <th>age</th>\n",
       "      <th>city</th>\n",
       "      <th>subscription_type</th>\n",
       "      <th>minute_price</th>\n",
       "      <th>start_ride_price</th>\n",
       "      <th>subscription_fee</th>\n",
       "    </tr>\n",
       "  </thead>\n",
       "  <tbody>\n",
       "    <tr>\n",
       "      <th>0</th>\n",
       "      <td>1</td>\n",
       "      <td>4409.919140</td>\n",
       "      <td>25.599769</td>\n",
       "      <td>2021-01-01</td>\n",
       "      <td>1</td>\n",
       "      <td>Кира</td>\n",
       "      <td>22</td>\n",
       "      <td>Тюмень</td>\n",
       "      <td>ultra</td>\n",
       "      <td>6</td>\n",
       "      <td>0</td>\n",
       "      <td>199</td>\n",
       "    </tr>\n",
       "    <tr>\n",
       "      <th>1</th>\n",
       "      <td>1</td>\n",
       "      <td>2617.592153</td>\n",
       "      <td>15.816871</td>\n",
       "      <td>2021-01-18</td>\n",
       "      <td>1</td>\n",
       "      <td>Кира</td>\n",
       "      <td>22</td>\n",
       "      <td>Тюмень</td>\n",
       "      <td>ultra</td>\n",
       "      <td>6</td>\n",
       "      <td>0</td>\n",
       "      <td>199</td>\n",
       "    </tr>\n",
       "    <tr>\n",
       "      <th>2</th>\n",
       "      <td>1</td>\n",
       "      <td>754.159807</td>\n",
       "      <td>6.232113</td>\n",
       "      <td>2021-04-20</td>\n",
       "      <td>4</td>\n",
       "      <td>Кира</td>\n",
       "      <td>22</td>\n",
       "      <td>Тюмень</td>\n",
       "      <td>ultra</td>\n",
       "      <td>6</td>\n",
       "      <td>0</td>\n",
       "      <td>199</td>\n",
       "    </tr>\n",
       "    <tr>\n",
       "      <th>3</th>\n",
       "      <td>1</td>\n",
       "      <td>2694.783254</td>\n",
       "      <td>18.511000</td>\n",
       "      <td>2021-08-11</td>\n",
       "      <td>8</td>\n",
       "      <td>Кира</td>\n",
       "      <td>22</td>\n",
       "      <td>Тюмень</td>\n",
       "      <td>ultra</td>\n",
       "      <td>6</td>\n",
       "      <td>0</td>\n",
       "      <td>199</td>\n",
       "    </tr>\n",
       "    <tr>\n",
       "      <th>4</th>\n",
       "      <td>1</td>\n",
       "      <td>4028.687306</td>\n",
       "      <td>26.265803</td>\n",
       "      <td>2021-08-28</td>\n",
       "      <td>8</td>\n",
       "      <td>Кира</td>\n",
       "      <td>22</td>\n",
       "      <td>Тюмень</td>\n",
       "      <td>ultra</td>\n",
       "      <td>6</td>\n",
       "      <td>0</td>\n",
       "      <td>199</td>\n",
       "    </tr>\n",
       "  </tbody>\n",
       "</table>\n",
       "</div>"
      ],
      "text/plain": [
       "   user_id     distance   duration       date  month  name  age    city  \\\n",
       "0        1  4409.919140  25.599769 2021-01-01      1  Кира   22  Тюмень   \n",
       "1        1  2617.592153  15.816871 2021-01-18      1  Кира   22  Тюмень   \n",
       "2        1   754.159807   6.232113 2021-04-20      4  Кира   22  Тюмень   \n",
       "3        1  2694.783254  18.511000 2021-08-11      8  Кира   22  Тюмень   \n",
       "4        1  4028.687306  26.265803 2021-08-28      8  Кира   22  Тюмень   \n",
       "\n",
       "  subscription_type  minute_price  start_ride_price  subscription_fee  \n",
       "0             ultra             6                 0               199  \n",
       "1             ultra             6                 0               199  \n",
       "2             ultra             6                 0               199  \n",
       "3             ultra             6                 0               199  \n",
       "4             ultra             6                 0               199  "
      ]
     },
     "metadata": {},
     "output_type": "display_data"
    }
   ],
   "source": [
    "data = rides.copy()\n",
    "data = data.merge(users, \n",
    "                  how = 'left', \n",
    "                  on = 'user_id')\n",
    "data = data.merge(subscriptions, \n",
    "                  how = 'left', \n",
    "                  on='subscription_type')\n",
    "display(data.head())"
   ]
  },
  {
   "cell_type": "code",
   "execution_count": 41,
   "id": "0b3d7ae7-f10f-46d5-8055-f10f002d2706",
   "metadata": {},
   "outputs": [
    {
     "data": {
      "text/html": [
       "<div>\n",
       "<style scoped>\n",
       "    .dataframe tbody tr th:only-of-type {\n",
       "        vertical-align: middle;\n",
       "    }\n",
       "\n",
       "    .dataframe tbody tr th {\n",
       "        vertical-align: top;\n",
       "    }\n",
       "\n",
       "    .dataframe thead th {\n",
       "        text-align: right;\n",
       "    }\n",
       "</style>\n",
       "<table border=\"1\" class=\"dataframe\">\n",
       "  <thead>\n",
       "    <tr style=\"text-align: right;\">\n",
       "      <th></th>\n",
       "      <th>user_id</th>\n",
       "      <th>distance</th>\n",
       "      <th>duration</th>\n",
       "      <th>date</th>\n",
       "      <th>month</th>\n",
       "      <th>name</th>\n",
       "      <th>age</th>\n",
       "      <th>city</th>\n",
       "      <th>subscription_type</th>\n",
       "      <th>minute_price</th>\n",
       "      <th>start_ride_price</th>\n",
       "      <th>subscription_fee</th>\n",
       "    </tr>\n",
       "  </thead>\n",
       "  <tbody>\n",
       "    <tr>\n",
       "      <th>6500</th>\n",
       "      <td>700</td>\n",
       "      <td>2515.690719</td>\n",
       "      <td>14.944286</td>\n",
       "      <td>2021-01-02</td>\n",
       "      <td>1</td>\n",
       "      <td>Айдар</td>\n",
       "      <td>22</td>\n",
       "      <td>Омск</td>\n",
       "      <td>free</td>\n",
       "      <td>8</td>\n",
       "      <td>50</td>\n",
       "      <td>0</td>\n",
       "    </tr>\n",
       "    <tr>\n",
       "      <th>6501</th>\n",
       "      <td>700</td>\n",
       "      <td>846.932642</td>\n",
       "      <td>16.234663</td>\n",
       "      <td>2021-02-01</td>\n",
       "      <td>2</td>\n",
       "      <td>Айдар</td>\n",
       "      <td>22</td>\n",
       "      <td>Омск</td>\n",
       "      <td>free</td>\n",
       "      <td>8</td>\n",
       "      <td>50</td>\n",
       "      <td>0</td>\n",
       "    </tr>\n",
       "    <tr>\n",
       "      <th>6502</th>\n",
       "      <td>700</td>\n",
       "      <td>4004.434142</td>\n",
       "      <td>20.016628</td>\n",
       "      <td>2021-02-04</td>\n",
       "      <td>2</td>\n",
       "      <td>Айдар</td>\n",
       "      <td>22</td>\n",
       "      <td>Омск</td>\n",
       "      <td>free</td>\n",
       "      <td>8</td>\n",
       "      <td>50</td>\n",
       "      <td>0</td>\n",
       "    </tr>\n",
       "    <tr>\n",
       "      <th>6503</th>\n",
       "      <td>700</td>\n",
       "      <td>1205.911290</td>\n",
       "      <td>9.782872</td>\n",
       "      <td>2021-02-10</td>\n",
       "      <td>2</td>\n",
       "      <td>Айдар</td>\n",
       "      <td>22</td>\n",
       "      <td>Омск</td>\n",
       "      <td>free</td>\n",
       "      <td>8</td>\n",
       "      <td>50</td>\n",
       "      <td>0</td>\n",
       "    </tr>\n",
       "    <tr>\n",
       "      <th>6504</th>\n",
       "      <td>700</td>\n",
       "      <td>3047.379435</td>\n",
       "      <td>17.427673</td>\n",
       "      <td>2021-02-14</td>\n",
       "      <td>2</td>\n",
       "      <td>Айдар</td>\n",
       "      <td>22</td>\n",
       "      <td>Омск</td>\n",
       "      <td>free</td>\n",
       "      <td>8</td>\n",
       "      <td>50</td>\n",
       "      <td>0</td>\n",
       "    </tr>\n",
       "  </tbody>\n",
       "</table>\n",
       "</div>"
      ],
      "text/plain": [
       "      user_id     distance   duration       date  month   name  age  city  \\\n",
       "6500      700  2515.690719  14.944286 2021-01-02      1  Айдар   22  Омск   \n",
       "6501      700   846.932642  16.234663 2021-02-01      2  Айдар   22  Омск   \n",
       "6502      700  4004.434142  20.016628 2021-02-04      2  Айдар   22  Омск   \n",
       "6503      700  1205.911290   9.782872 2021-02-10      2  Айдар   22  Омск   \n",
       "6504      700  3047.379435  17.427673 2021-02-14      2  Айдар   22  Омск   \n",
       "\n",
       "     subscription_type  minute_price  start_ride_price  subscription_fee  \n",
       "6500              free             8                50                 0  \n",
       "6501              free             8                50                 0  \n",
       "6502              free             8                50                 0  \n",
       "6503              free             8                50                 0  \n",
       "6504              free             8                50                 0  "
      ]
     },
     "metadata": {},
     "output_type": "display_data"
    },
    {
     "name": "stdout",
     "output_type": "stream",
     "text": [
      "Количество строк в датасете data_free: 11568\n"
     ]
    }
   ],
   "source": [
    "data_free = data[data['subscription_type'] == 'free']\n",
    "display(data_free.head())\n",
    "\n",
    "print('Количество строк в датасете data_free:', data_free.shape[0])"
   ]
  },
  {
   "cell_type": "code",
   "execution_count": 42,
   "id": "3a847ebf-da4a-4dcc-b6ee-4684b15fa425",
   "metadata": {},
   "outputs": [
    {
     "data": {
      "text/html": [
       "<div>\n",
       "<style scoped>\n",
       "    .dataframe tbody tr th:only-of-type {\n",
       "        vertical-align: middle;\n",
       "    }\n",
       "\n",
       "    .dataframe tbody tr th {\n",
       "        vertical-align: top;\n",
       "    }\n",
       "\n",
       "    .dataframe thead th {\n",
       "        text-align: right;\n",
       "    }\n",
       "</style>\n",
       "<table border=\"1\" class=\"dataframe\">\n",
       "  <thead>\n",
       "    <tr style=\"text-align: right;\">\n",
       "      <th></th>\n",
       "      <th>user_id</th>\n",
       "      <th>distance</th>\n",
       "      <th>duration</th>\n",
       "      <th>date</th>\n",
       "      <th>month</th>\n",
       "      <th>name</th>\n",
       "      <th>age</th>\n",
       "      <th>city</th>\n",
       "      <th>subscription_type</th>\n",
       "      <th>minute_price</th>\n",
       "      <th>start_ride_price</th>\n",
       "      <th>subscription_fee</th>\n",
       "    </tr>\n",
       "  </thead>\n",
       "  <tbody>\n",
       "    <tr>\n",
       "      <th>0</th>\n",
       "      <td>1</td>\n",
       "      <td>4409.919140</td>\n",
       "      <td>25.599769</td>\n",
       "      <td>2021-01-01</td>\n",
       "      <td>1</td>\n",
       "      <td>Кира</td>\n",
       "      <td>22</td>\n",
       "      <td>Тюмень</td>\n",
       "      <td>ultra</td>\n",
       "      <td>6</td>\n",
       "      <td>0</td>\n",
       "      <td>199</td>\n",
       "    </tr>\n",
       "    <tr>\n",
       "      <th>1</th>\n",
       "      <td>1</td>\n",
       "      <td>2617.592153</td>\n",
       "      <td>15.816871</td>\n",
       "      <td>2021-01-18</td>\n",
       "      <td>1</td>\n",
       "      <td>Кира</td>\n",
       "      <td>22</td>\n",
       "      <td>Тюмень</td>\n",
       "      <td>ultra</td>\n",
       "      <td>6</td>\n",
       "      <td>0</td>\n",
       "      <td>199</td>\n",
       "    </tr>\n",
       "    <tr>\n",
       "      <th>2</th>\n",
       "      <td>1</td>\n",
       "      <td>754.159807</td>\n",
       "      <td>6.232113</td>\n",
       "      <td>2021-04-20</td>\n",
       "      <td>4</td>\n",
       "      <td>Кира</td>\n",
       "      <td>22</td>\n",
       "      <td>Тюмень</td>\n",
       "      <td>ultra</td>\n",
       "      <td>6</td>\n",
       "      <td>0</td>\n",
       "      <td>199</td>\n",
       "    </tr>\n",
       "    <tr>\n",
       "      <th>3</th>\n",
       "      <td>1</td>\n",
       "      <td>2694.783254</td>\n",
       "      <td>18.511000</td>\n",
       "      <td>2021-08-11</td>\n",
       "      <td>8</td>\n",
       "      <td>Кира</td>\n",
       "      <td>22</td>\n",
       "      <td>Тюмень</td>\n",
       "      <td>ultra</td>\n",
       "      <td>6</td>\n",
       "      <td>0</td>\n",
       "      <td>199</td>\n",
       "    </tr>\n",
       "    <tr>\n",
       "      <th>4</th>\n",
       "      <td>1</td>\n",
       "      <td>4028.687306</td>\n",
       "      <td>26.265803</td>\n",
       "      <td>2021-08-28</td>\n",
       "      <td>8</td>\n",
       "      <td>Кира</td>\n",
       "      <td>22</td>\n",
       "      <td>Тюмень</td>\n",
       "      <td>ultra</td>\n",
       "      <td>6</td>\n",
       "      <td>0</td>\n",
       "      <td>199</td>\n",
       "    </tr>\n",
       "  </tbody>\n",
       "</table>\n",
       "</div>"
      ],
      "text/plain": [
       "   user_id     distance   duration       date  month  name  age    city  \\\n",
       "0        1  4409.919140  25.599769 2021-01-01      1  Кира   22  Тюмень   \n",
       "1        1  2617.592153  15.816871 2021-01-18      1  Кира   22  Тюмень   \n",
       "2        1   754.159807   6.232113 2021-04-20      4  Кира   22  Тюмень   \n",
       "3        1  2694.783254  18.511000 2021-08-11      8  Кира   22  Тюмень   \n",
       "4        1  4028.687306  26.265803 2021-08-28      8  Кира   22  Тюмень   \n",
       "\n",
       "  subscription_type  minute_price  start_ride_price  subscription_fee  \n",
       "0             ultra             6                 0               199  \n",
       "1             ultra             6                 0               199  \n",
       "2             ultra             6                 0               199  \n",
       "3             ultra             6                 0               199  \n",
       "4             ultra             6                 0               199  "
      ]
     },
     "metadata": {},
     "output_type": "display_data"
    },
    {
     "name": "stdout",
     "output_type": "stream",
     "text": [
      "Количество строк в датасете data_ultra: 6500\n"
     ]
    }
   ],
   "source": [
    "data_ultra = data[data['subscription_type'] == 'ultra']\n",
    "display(data_ultra.head())\n",
    "\n",
    "print('Количество строк в датасете data_ultra:', data_ultra.shape[0])"
   ]
  },
  {
   "cell_type": "markdown",
   "id": "7f6ac5a1-943d-4a29-81dd-8a895bb9b953",
   "metadata": {},
   "source": [
    "### Сравнительный анализ расстояния одной поездки для пользователей с подпиской и без "
   ]
  },
  {
   "cell_type": "code",
   "execution_count": 44,
   "id": "3d243429-4a5b-4179-b958-0dcc741448eb",
   "metadata": {},
   "outputs": [
    {
     "data": {
      "image/png": "[encoded data removed]",
      "text/plain": [
       "<Figure size 1200x500 with 1 Axes>"
      ]
     },
     "metadata": {},
     "output_type": "display_data"
    },
    {
     "name": "stdout",
     "output_type": "stream",
     "text": [
      "------------------------------------------------------------------------------------------------------------------------------------------------------\n",
      "Информация о пользователях без подписки:\n"
     ]
    },
    {
     "data": {
      "text/plain": [
       "count    11568.000000\n",
       "mean      3045.495282\n",
       "std       1246.173806\n",
       "min          0.855683\n",
       "25%       2366.562689\n",
       "50%       3114.648465\n",
       "75%       3905.697894\n",
       "max       7211.007745\n",
       "Name: distance, dtype: float64"
      ]
     },
     "metadata": {},
     "output_type": "display_data"
    },
    {
     "name": "stdout",
     "output_type": "stream",
     "text": [
      "\n",
      "------------------------------------------------------------------------------------------------------------------------------------------------------\n",
      "Информация о пользователях с подпиской:\n"
     ]
    },
    {
     "data": {
      "text/plain": [
       "count    6500.000000\n",
       "mean     3115.445388\n",
       "std       836.895330\n",
       "min       244.210438\n",
       "25%      2785.444017\n",
       "50%      3148.637229\n",
       "75%      3560.574425\n",
       "max      5699.769662\n",
       "Name: distance, dtype: float64"
      ]
     },
     "metadata": {},
     "output_type": "display_data"
    }
   ],
   "source": [
    "ax = data_free['distance'].plot(kind='hist', grid=True, figsize=(12, 5), bins=50, \n",
    "                                  color='lightblue', alpha=0.5, label='без подписки')\n",
    "\n",
    "data_ultra['distance'].plot(kind='hist', grid=True, figsize=(12, 5), bins=50, \n",
    "                             color='lightgreen', alpha=0.5, label='с подпиской Ultra', ax=ax)\n",
    "\n",
    "mean_free = data_free['distance'].mean()\n",
    "mean_ultra = data_ultra['distance'].mean()\n",
    "\n",
    "plt.axvline(mean_free, color='blue', linestyle='dashed', linewidth=1, label='Среднее без подписки')\n",
    "plt.axvline(mean_ultra, color='green', linestyle='dashed', linewidth=1, label='Среднее с подпиской Ultra')\n",
    "\n",
    "plt.title('Расстояние одной поездки для пользователей с подпиской и без')\n",
    "plt.xlabel('Расстояние, м')\n",
    "plt.ylabel('Количество поездок')\n",
    "plt.legend(loc='upper right')\n",
    "\n",
    "plt.show()\n",
    "\n",
    "print('-' * 150)\n",
    "print('Информация о пользователях без подписки:')\n",
    "display(data_free.distance.describe())\n",
    "print()\n",
    "print('-' * 150)\n",
    "print('Информация о пользователях с подпиской:')\n",
    "display(data_ultra.distance.describe())"
   ]
  },
  {
   "cell_type": "markdown",
   "id": "494ac9c3-4a9a-4cb4-b7c5-51e7f2ddc33b",
   "metadata": {},
   "source": [
    "### Сравнительный анализ продолжительности одной поездки для пользователей с подпиской и без "
   ]
  },
  {
   "cell_type": "code",
   "execution_count": 46,
   "id": "a2d0d48b-b5d9-4631-b43f-20c42cdd8899",
   "metadata": {},
   "outputs": [
    {
     "data": {
      "image/png": "[encoded data removed]",
      "text/plain": [
       "<Figure size 1200x500 with 1 Axes>"
      ]
     },
     "metadata": {},
     "output_type": "display_data"
    },
    {
     "name": "stdout",
     "output_type": "stream",
     "text": [
      "------------------------------------------------------------------------------------------------------------------------------------------------------\n",
      "Информация о пользователях без подписки:\n"
     ]
    },
    {
     "data": {
      "text/plain": [
       "count    11568.000000\n",
       "mean        17.390909\n",
       "std          6.326803\n",
       "min          0.500000\n",
       "25%         12.958437\n",
       "50%         17.326890\n",
       "75%         21.594071\n",
       "max         34.948498\n",
       "Name: duration, dtype: float64"
      ]
     },
     "metadata": {},
     "output_type": "display_data"
    },
    {
     "name": "stdout",
     "output_type": "stream",
     "text": [
      "\n",
      "------------------------------------------------------------------------------------------------------------------------------------------------------\n",
      "Информация о пользователях с подпиской:\n"
     ]
    },
    {
     "data": {
      "text/plain": [
       "count    6500.000000\n",
       "mean       18.541985\n",
       "std         5.572048\n",
       "min         3.760353\n",
       "25%        14.524654\n",
       "50%        18.178153\n",
       "75%        21.884129\n",
       "max        40.823963\n",
       "Name: duration, dtype: float64"
      ]
     },
     "metadata": {},
     "output_type": "display_data"
    }
   ],
   "source": [
    "ax = data_free['duration'].plot(kind='hist', grid=True, figsize=(12, 5), bins=50, \n",
    "                                  color='lightblue', alpha=0.5, label='без подписки')\n",
    "\n",
    "data_ultra['duration'].plot(kind='hist', grid=True, figsize=(12, 5), bins=50, \n",
    "                             color='lightgreen', alpha=0.5, label='с подпиской Ultra', ax=ax)\n",
    "\n",
    "mean_free = data_free['duration'].mean()\n",
    "mean_ultra = data_ultra['duration'].mean()\n",
    "\n",
    "plt.axvline(mean_free, color='blue', linestyle='dashed', linewidth=1, label='Среднее без подписки')\n",
    "plt.axvline(mean_ultra, color='green', linestyle='dashed', linewidth=1, label='Среднее с подпиской Ultra')\n",
    "\n",
    "plt.title('Время одной поездки для пользователей с подпиской и без')\n",
    "plt.xlabel('Время, мин')\n",
    "plt.ylabel('Количество поездок')\n",
    "plt.legend(loc='upper right')\n",
    "\n",
    "plt.show()\n",
    "\n",
    "print('-' * 150)\n",
    "print('Информация о пользователях без подписки:')\n",
    "display(data_free.duration.describe())\n",
    "print()\n",
    "print('-' * 150)\n",
    "print('Информация о пользователях с подпиской:')\n",
    "display(data_ultra.duration.describe())"
   ]
  },
  {
   "cell_type": "markdown",
   "id": "e9d3fd62-cade-4e2c-9b8e-81e3ca0aad1e",
   "metadata": {},
   "source": [
    "**Вывод:**\n",
    "\n",
    "На этом этапе были объеденены все данные в одну таблицу и выделели отдельно пользователей с подпиской и без подписки. \n",
    "\n",
    "В результате анализа данных выявили, что пользователи без подписки чаще ездят на короткие расстояния, на длинные растояния пользователи ездят сопоставимо одинаково. Есть всплеск по очень коротким поездкам без подписки - видимо пробные с целью знакомства с сервисом. Поездок без подписки больше, но в целом распределение поездок по времнни можно определить как нормальное."
   ]
  },
  {
   "cell_type": "markdown",
   "id": "6d1cc7c2-172c-42f6-8125-8a78962d7495",
   "metadata": {},
   "source": [
    "### Подсчет выручки"
   ]
  },
  {
   "cell_type": "markdown",
   "id": "54c5b9fb-d329-4150-88b7-8e69b613d686",
   "metadata": {},
   "source": [
    "Для подсчета выручки создадим новый датафрем. Для начала округлим время поездки до целого числа и приведем в типу int. Затем поздадим новый датафрейм со следующими столбцами:\n",
    "\n",
    "* count_distance - количество поездок за месяц;\n",
    "* sum_distance - общая дистанция за месяц;\n",
    "* sum_duration - общая продолжительность поездок за месяц.\n",
    "\n",
    "В этот же датафрейм добавим столбец с помесячной выручкой, которую принёс каждый пользователь. Для этого обратимся к информации об условиях оплаты для подписчиков и тех, у кого нет подписки. Продолжительность каждой поездки в каждой строке исходного датафрейма для подсчёта стоимости округлим до следующего целого числа: например, значения 25.3, 25.5 и 26.0 должны быть преобразованы к 26."
   ]
  },
  {
   "cell_type": "code",
   "execution_count": 50,
   "id": "2abbdb3d-fecc-4d75-a81d-2804b12d698a",
   "metadata": {},
   "outputs": [],
   "source": [
    "data['duration'] = np.ceil(data['duration'])\n",
    "data['duration'] = data['duration'].astype('int')"
   ]
  },
  {
   "cell_type": "code",
   "execution_count": 51,
   "id": "b3a4ea61-e21b-45de-a3d3-93d234b57f79",
   "metadata": {},
   "outputs": [
    {
     "data": {
      "text/html": [
       "<div>\n",
       "<style scoped>\n",
       "    .dataframe tbody tr th:only-of-type {\n",
       "        vertical-align: middle;\n",
       "    }\n",
       "\n",
       "    .dataframe tbody tr th {\n",
       "        vertical-align: top;\n",
       "    }\n",
       "\n",
       "    .dataframe thead th {\n",
       "        text-align: right;\n",
       "    }\n",
       "</style>\n",
       "<table border=\"1\" class=\"dataframe\">\n",
       "  <thead>\n",
       "    <tr style=\"text-align: right;\">\n",
       "      <th></th>\n",
       "      <th>user_id</th>\n",
       "      <th>month</th>\n",
       "      <th>count_distance</th>\n",
       "      <th>sum_distance</th>\n",
       "      <th>sum_duration</th>\n",
       "    </tr>\n",
       "  </thead>\n",
       "  <tbody>\n",
       "    <tr>\n",
       "      <th>0</th>\n",
       "      <td>1</td>\n",
       "      <td>1</td>\n",
       "      <td>2</td>\n",
       "      <td>7027.511294</td>\n",
       "      <td>42</td>\n",
       "    </tr>\n",
       "    <tr>\n",
       "      <th>1</th>\n",
       "      <td>1</td>\n",
       "      <td>4</td>\n",
       "      <td>1</td>\n",
       "      <td>754.159807</td>\n",
       "      <td>7</td>\n",
       "    </tr>\n",
       "    <tr>\n",
       "      <th>2</th>\n",
       "      <td>1</td>\n",
       "      <td>8</td>\n",
       "      <td>2</td>\n",
       "      <td>6723.470560</td>\n",
       "      <td>46</td>\n",
       "    </tr>\n",
       "    <tr>\n",
       "      <th>3</th>\n",
       "      <td>1</td>\n",
       "      <td>10</td>\n",
       "      <td>2</td>\n",
       "      <td>5809.911100</td>\n",
       "      <td>32</td>\n",
       "    </tr>\n",
       "    <tr>\n",
       "      <th>4</th>\n",
       "      <td>1</td>\n",
       "      <td>11</td>\n",
       "      <td>3</td>\n",
       "      <td>7003.499363</td>\n",
       "      <td>56</td>\n",
       "    </tr>\n",
       "  </tbody>\n",
       "</table>\n",
       "</div>"
      ],
      "text/plain": [
       "   user_id  month  count_distance  sum_distance  sum_duration\n",
       "0        1      1               2   7027.511294            42\n",
       "1        1      4               1    754.159807             7\n",
       "2        1      8               2   6723.470560            46\n",
       "3        1     10               2   5809.911100            32\n",
       "4        1     11               3   7003.499363            56"
      ]
     },
     "metadata": {},
     "output_type": "display_data"
    }
   ],
   "source": [
    "data_agg = data.pivot_table(index= ['user_id', 'month'], \n",
    "                            values = ['distance', 'duration'], \n",
    "                            aggfunc = ['count', 'sum'])\n",
    "data_agg.columns = ['_'.join(col) for col in data_agg.columns.values]\n",
    "data_agg = data_agg.drop(columns=['count_duration'])\n",
    "data_agg = data_agg.reset_index()\n",
    "display(data_agg.head())"
   ]
  },
  {
   "cell_type": "code",
   "execution_count": 52,
   "id": "2b89266e-a46d-44b3-b915-0aebfdaad084",
   "metadata": {},
   "outputs": [
    {
     "data": {
      "text/html": [
       "<div>\n",
       "<style scoped>\n",
       "    .dataframe tbody tr th:only-of-type {\n",
       "        vertical-align: middle;\n",
       "    }\n",
       "\n",
       "    .dataframe tbody tr th {\n",
       "        vertical-align: top;\n",
       "    }\n",
       "\n",
       "    .dataframe thead th {\n",
       "        text-align: right;\n",
       "    }\n",
       "</style>\n",
       "<table border=\"1\" class=\"dataframe\">\n",
       "  <thead>\n",
       "    <tr style=\"text-align: right;\">\n",
       "      <th></th>\n",
       "      <th>user_id</th>\n",
       "      <th>month</th>\n",
       "      <th>count_distance</th>\n",
       "      <th>sum_distance</th>\n",
       "      <th>sum_duration</th>\n",
       "      <th>name</th>\n",
       "      <th>age</th>\n",
       "      <th>city</th>\n",
       "      <th>subscription_type</th>\n",
       "      <th>minute_price</th>\n",
       "      <th>start_ride_price</th>\n",
       "      <th>subscription_fee</th>\n",
       "    </tr>\n",
       "  </thead>\n",
       "  <tbody>\n",
       "    <tr>\n",
       "      <th>0</th>\n",
       "      <td>1</td>\n",
       "      <td>1</td>\n",
       "      <td>2</td>\n",
       "      <td>7027.511294</td>\n",
       "      <td>42</td>\n",
       "      <td>Кира</td>\n",
       "      <td>22</td>\n",
       "      <td>Тюмень</td>\n",
       "      <td>ultra</td>\n",
       "      <td>6</td>\n",
       "      <td>0</td>\n",
       "      <td>199</td>\n",
       "    </tr>\n",
       "    <tr>\n",
       "      <th>1</th>\n",
       "      <td>1</td>\n",
       "      <td>4</td>\n",
       "      <td>1</td>\n",
       "      <td>754.159807</td>\n",
       "      <td>7</td>\n",
       "      <td>Кира</td>\n",
       "      <td>22</td>\n",
       "      <td>Тюмень</td>\n",
       "      <td>ultra</td>\n",
       "      <td>6</td>\n",
       "      <td>0</td>\n",
       "      <td>199</td>\n",
       "    </tr>\n",
       "    <tr>\n",
       "      <th>2</th>\n",
       "      <td>1</td>\n",
       "      <td>8</td>\n",
       "      <td>2</td>\n",
       "      <td>6723.470560</td>\n",
       "      <td>46</td>\n",
       "      <td>Кира</td>\n",
       "      <td>22</td>\n",
       "      <td>Тюмень</td>\n",
       "      <td>ultra</td>\n",
       "      <td>6</td>\n",
       "      <td>0</td>\n",
       "      <td>199</td>\n",
       "    </tr>\n",
       "    <tr>\n",
       "      <th>3</th>\n",
       "      <td>1</td>\n",
       "      <td>10</td>\n",
       "      <td>2</td>\n",
       "      <td>5809.911100</td>\n",
       "      <td>32</td>\n",
       "      <td>Кира</td>\n",
       "      <td>22</td>\n",
       "      <td>Тюмень</td>\n",
       "      <td>ultra</td>\n",
       "      <td>6</td>\n",
       "      <td>0</td>\n",
       "      <td>199</td>\n",
       "    </tr>\n",
       "    <tr>\n",
       "      <th>4</th>\n",
       "      <td>1</td>\n",
       "      <td>11</td>\n",
       "      <td>3</td>\n",
       "      <td>7003.499363</td>\n",
       "      <td>56</td>\n",
       "      <td>Кира</td>\n",
       "      <td>22</td>\n",
       "      <td>Тюмень</td>\n",
       "      <td>ultra</td>\n",
       "      <td>6</td>\n",
       "      <td>0</td>\n",
       "      <td>199</td>\n",
       "    </tr>\n",
       "  </tbody>\n",
       "</table>\n",
       "</div>"
      ],
      "text/plain": [
       "   user_id  month  count_distance  sum_distance  sum_duration  name  age  \\\n",
       "0        1      1               2   7027.511294            42  Кира   22   \n",
       "1        1      4               1    754.159807             7  Кира   22   \n",
       "2        1      8               2   6723.470560            46  Кира   22   \n",
       "3        1     10               2   5809.911100            32  Кира   22   \n",
       "4        1     11               3   7003.499363            56  Кира   22   \n",
       "\n",
       "     city subscription_type  minute_price  start_ride_price  subscription_fee  \n",
       "0  Тюмень             ultra             6                 0               199  \n",
       "1  Тюмень             ultra             6                 0               199  \n",
       "2  Тюмень             ultra             6                 0               199  \n",
       "3  Тюмень             ultra             6                 0               199  \n",
       "4  Тюмень             ultra             6                 0               199  "
      ]
     },
     "metadata": {},
     "output_type": "display_data"
    }
   ],
   "source": [
    "data_agg = data_agg.merge(users, \n",
    "                          how='left', \n",
    "                          on='user_id')\n",
    "data_agg = data_agg.merge(subscriptions, \n",
    "                          how = 'left', \n",
    "                          on='subscription_type')\n",
    "display(data_agg.head())"
   ]
  },
  {
   "cell_type": "code",
   "execution_count": 53,
   "id": "be97d4d9-590e-4819-adbf-33874a5af7a0",
   "metadata": {},
   "outputs": [
    {
     "data": {
      "text/html": [
       "<div>\n",
       "<style scoped>\n",
       "    .dataframe tbody tr th:only-of-type {\n",
       "        vertical-align: middle;\n",
       "    }\n",
       "\n",
       "    .dataframe tbody tr th {\n",
       "        vertical-align: top;\n",
       "    }\n",
       "\n",
       "    .dataframe thead th {\n",
       "        text-align: right;\n",
       "    }\n",
       "</style>\n",
       "<table border=\"1\" class=\"dataframe\">\n",
       "  <thead>\n",
       "    <tr style=\"text-align: right;\">\n",
       "      <th></th>\n",
       "      <th>user_id</th>\n",
       "      <th>name</th>\n",
       "      <th>month</th>\n",
       "      <th>gain</th>\n",
       "    </tr>\n",
       "  </thead>\n",
       "  <tbody>\n",
       "    <tr>\n",
       "      <th>0</th>\n",
       "      <td>1</td>\n",
       "      <td>Кира</td>\n",
       "      <td>1</td>\n",
       "      <td>451</td>\n",
       "    </tr>\n",
       "    <tr>\n",
       "      <th>1</th>\n",
       "      <td>1</td>\n",
       "      <td>Кира</td>\n",
       "      <td>4</td>\n",
       "      <td>241</td>\n",
       "    </tr>\n",
       "    <tr>\n",
       "      <th>2</th>\n",
       "      <td>1</td>\n",
       "      <td>Кира</td>\n",
       "      <td>8</td>\n",
       "      <td>475</td>\n",
       "    </tr>\n",
       "    <tr>\n",
       "      <th>3</th>\n",
       "      <td>1</td>\n",
       "      <td>Кира</td>\n",
       "      <td>10</td>\n",
       "      <td>391</td>\n",
       "    </tr>\n",
       "    <tr>\n",
       "      <th>4</th>\n",
       "      <td>1</td>\n",
       "      <td>Кира</td>\n",
       "      <td>11</td>\n",
       "      <td>535</td>\n",
       "    </tr>\n",
       "    <tr>\n",
       "      <th>...</th>\n",
       "      <td>...</td>\n",
       "      <td>...</td>\n",
       "      <td>...</td>\n",
       "      <td>...</td>\n",
       "    </tr>\n",
       "    <tr>\n",
       "      <th>11326</th>\n",
       "      <td>1534</td>\n",
       "      <td>Альберт</td>\n",
       "      <td>6</td>\n",
       "      <td>308</td>\n",
       "    </tr>\n",
       "    <tr>\n",
       "      <th>11327</th>\n",
       "      <td>1534</td>\n",
       "      <td>Альберт</td>\n",
       "      <td>8</td>\n",
       "      <td>484</td>\n",
       "    </tr>\n",
       "    <tr>\n",
       "      <th>11328</th>\n",
       "      <td>1534</td>\n",
       "      <td>Альберт</td>\n",
       "      <td>9</td>\n",
       "      <td>234</td>\n",
       "    </tr>\n",
       "    <tr>\n",
       "      <th>11329</th>\n",
       "      <td>1534</td>\n",
       "      <td>Альберт</td>\n",
       "      <td>11</td>\n",
       "      <td>824</td>\n",
       "    </tr>\n",
       "    <tr>\n",
       "      <th>11330</th>\n",
       "      <td>1534</td>\n",
       "      <td>Альберт</td>\n",
       "      <td>12</td>\n",
       "      <td>178</td>\n",
       "    </tr>\n",
       "  </tbody>\n",
       "</table>\n",
       "<p>11331 rows × 4 columns</p>\n",
       "</div>"
      ],
      "text/plain": [
       "       user_id     name  month  gain\n",
       "0            1     Кира      1   451\n",
       "1            1     Кира      4   241\n",
       "2            1     Кира      8   475\n",
       "3            1     Кира     10   391\n",
       "4            1     Кира     11   535\n",
       "...        ...      ...    ...   ...\n",
       "11326     1534  Альберт      6   308\n",
       "11327     1534  Альберт      8   484\n",
       "11328     1534  Альберт      9   234\n",
       "11329     1534  Альберт     11   824\n",
       "11330     1534  Альберт     12   178\n",
       "\n",
       "[11331 rows x 4 columns]"
      ]
     },
     "metadata": {},
     "output_type": "display_data"
    }
   ],
   "source": [
    "data_agg['gain'] = data_agg.apply(gain, axis=1)\n",
    "\n",
    "display(data_agg[['user_id', 'name', 'month', 'gain']])"
   ]
  },
  {
   "cell_type": "markdown",
   "id": "466d66a6-2222-4293-b011-2139b969e030",
   "metadata": {},
   "source": [
    "## Проверка гипотез"
   ]
  },
  {
   "cell_type": "markdown",
   "id": "c6409e55-3167-4bc9-bedb-43d79fc4bb56",
   "metadata": {},
   "source": [
    "**Первая гипотеза:**\n",
    "\n",
    "Важно понять, тратят ли пользователи с подпиской больше времени на поездки? Если да, то пользователи с подпиской могут быть «выгоднее» для компании. Проверим гипотезу. Используем исходные данные о продолжительности каждой сессии — отдельно для подписчиков и тех, у кого нет подписки.\n",
    "\n",
    "* *Нулевая теория:* среднее время поездок пользователей с подпиской и пользователей без подписки равны\n",
    "* *Альтернативная гипотеза:* пользователи с подпиской тратят больше времени"
   ]
  },
  {
   "cell_type": "code",
   "execution_count": 56,
   "id": "219bec3f-52e7-4c28-a4fd-94f1355a92df",
   "metadata": {},
   "outputs": [
    {
     "name": "stdout",
     "output_type": "stream",
     "text": [
      "p-значение: 1.2804098316645618e-34\n",
      "Отвергаем нулевую гипотезу\n"
     ]
    }
   ],
   "source": [
    "alpha = 0.05 \n",
    "\n",
    "results = st.ttest_ind(data_ultra['duration'], data_free['duration'], alternative='greater')\n",
    "\n",
    "print('p-значение:', round((results.pvalue), 50))\n",
    "\n",
    "if results.pvalue < alpha:\n",
    "    print('Отвергаем нулевую гипотезу')\n",
    "else:\n",
    "    print('Не отвергаем нулевую гипотезу')"
   ]
  },
  {
   "cell_type": "code",
   "execution_count": 57,
   "id": "c28d1614-c579-4d48-bae5-8938a57aff77",
   "metadata": {},
   "outputs": [
    {
     "name": "stdout",
     "output_type": "stream",
     "text": [
      "Среднее время поездки пользователей c подпиской: 18.54\n",
      "Среднее время поездки пользователей без подписки: 17.39\n"
     ]
    }
   ],
   "source": [
    "print('Среднее время поездки пользователей c подпиской:', round(data_ultra['duration'].mean(),2))\n",
    "print('Среднее время поездки пользователей без подписки:', round(data_free['duration'].mean(),2))"
   ]
  },
  {
   "cell_type": "markdown",
   "id": "57bf0ebd-f257-4c4d-8e1b-63bfb5588768",
   "metadata": {},
   "source": [
    "**Вывод:**\n",
    "\n",
    "Результаты показывают, что пользователи с подпиской действительно тратят больше времени на поездки по сравнению с пользователями без подписки. Это может указывать на то, что пользователи с подпиской более активно используют сервис по самокатам, что может быть выгодно для компании."
   ]
  },
  {
   "cell_type": "markdown",
   "id": "dea5b086-92a7-40a0-8c22-2bebd490bade",
   "metadata": {},
   "source": [
    "**Вторая гипотеза:**\n",
    "\n",
    "Расстояние одной поездки в 3130 метров — оптимальное с точки зрения износа самоката. Можно ли сказать, что среднее расстояние, которое проезжают пользователи с подпиской за одну поездку, не превышает 3130 метров? Проверим данную гипотезу и сделаем выводы.\n",
    "\n",
    "* *Нулевая гипотеза:* среднее расстояние поездки пользователей с подпиской равно 3130 метров.\n",
    "* *Альтернативная гипотеза:* среднее расстояние поездки пользователей с подпиской больше 3130 метров."
   ]
  },
  {
   "cell_type": "code",
   "execution_count": 60,
   "id": "40ffc360-4ed9-424f-ac96-62e134f0e666",
   "metadata": {},
   "outputs": [
    {
     "name": "stdout",
     "output_type": "stream",
     "text": [
      "p-значение: 0.92\n",
      "Не получилось отвергнуть нулевую гипотезу\n"
     ]
    }
   ],
   "source": [
    "interested_value = 3130 # столько времени должны проводить пользователи на сайте\n",
    "\n",
    "alpha = 0.05 # уровень статистической значимости\n",
    "\n",
    "results = st.ttest_1samp(data_ultra['distance'], interested_value, alternative='greater')\n",
    "\n",
    "print('p-значение:', round((results.pvalue), 2))\n",
    "\n",
    "if results.pvalue < alpha:\n",
    "    print('Отвергаем нулевую гипотезу')\n",
    "else:\n",
    "    print('Не получилось отвергнуть нулевую гипотезу')"
   ]
  },
  {
   "cell_type": "code",
   "execution_count": 61,
   "id": "fd3bc59d-1537-4ab6-bf74-9166f0bd6185",
   "metadata": {},
   "outputs": [
    {
     "name": "stdout",
     "output_type": "stream",
     "text": [
      "Среднее дистанция поездки пользователей c подпиской: 3115.0\n"
     ]
    }
   ],
   "source": [
    "print('Среднее дистанция поездки пользователей c подпиской:', round(data_ultra['distance'].mean(),0))"
   ]
  },
  {
   "cell_type": "markdown",
   "id": "709bfa25-ea25-459d-8348-bc94680d27ef",
   "metadata": {},
   "source": [
    "**Вывод:**\n",
    "\n",
    "На основании проведенного анализа нет достаточных оснований утверждать, что среднее расстояние поездки пользователей с подпиской превышает 3130 метров. Это может указывать на то, что пользователи с подпиской не превышают оптимальное расстояние, что может быть важно для оценки износа самокатов."
   ]
  },
  {
   "cell_type": "markdown",
   "id": "c03157fb-07ef-43bb-94ce-d6e8e69986bb",
   "metadata": {},
   "source": [
    "**Третья гипотеза:**\n",
    "\n",
    "Проверим гипотезу о том, будет ли помесячная выручка от пользователей с подпиской по месяцам выше, чем выручка от пользователей без подписки.\n",
    "\n",
    "* *Нулевая гипотеза:* помесячная выручка от пользователей с подпиской и без равны.\n",
    "* *Альтернативная гипотеза:* помесячная выручка от пользователей с подпиской выше чем выручка от пользователей без подписки"
   ]
  },
  {
   "cell_type": "code",
   "execution_count": 64,
   "id": "27e33e9b-b52d-4fd2-b4c2-aea386b66c31",
   "metadata": {},
   "outputs": [
    {
     "name": "stdout",
     "output_type": "stream",
     "text": [
      "p-значение: 1.8850394384715216e-31\n",
      "Отвергаем нулевую гипотезу\n"
     ]
    }
   ],
   "source": [
    "# создадим две выборки с посчитанной помесячной выручкой\n",
    "data_agg_ultra = data_agg[data_agg['subscription_type'] == 'ultra']\n",
    "data_agg_free = data_agg[data_agg['subscription_type'] == 'free']\n",
    "\n",
    "alpha = 0.05 # уровень статистической значимости\n",
    "\n",
    "results = st.ttest_ind(data_agg_ultra['gain'], data_agg_free['gain'], alternative='greater')\n",
    "\n",
    "print('p-значение:', results.pvalue)\n",
    "\n",
    "if results.pvalue < alpha:\n",
    "    print('Отвергаем нулевую гипотезу')\n",
    "else:\n",
    "    print('Нет оснований отвергнуть нулевую гипотезу')"
   ]
  },
  {
   "cell_type": "code",
   "execution_count": 65,
   "id": "0eaec5f5-e84e-40a8-8d64-0be5652ef632",
   "metadata": {},
   "outputs": [
    {
     "name": "stdout",
     "output_type": "stream",
     "text": [
      "Средняя помесячная выручка от пользователи с подпиской: 362.79\n",
      "Средняя помесячная выручка от пользователи без подписки: 328.64\n"
     ]
    }
   ],
   "source": [
    "print('Средняя помесячная выручка от пользователи с подпиской:', round(data_agg_ultra['gain'].mean(),2))\n",
    "print('Средняя помесячная выручка от пользователи без подписки:', round(data_agg_free['gain'].mean(),2))"
   ]
  },
  {
   "cell_type": "markdown",
   "id": "9a03d0ee-75ff-45ab-a403-342d1b633887",
   "metadata": {},
   "source": [
    "**Вывод:**\n",
    "\n",
    "Результаты показывают, что помесячная выручка от пользователей с подпиской действительно выше, чем выручка от пользователей без подписки. \n",
    "Поскольку нулевая гипотеза отвергнута, далем вывод, что помесячная выручка от пользователей с подпиской по месяцам выше, чем выручка от пользователей без подписки. Таким образом, на основе проведенного анализа можно сделать вывод, что пользователи с подпиской являются более ценными для компании с точки зрения выручки."
   ]
  },
  {
   "cell_type": "markdown",
   "id": "6f1b2bbf-5881-4aa0-81a8-081dba9dbbb8",
   "metadata": {},
   "source": [
    "# Дополнительные вопросы"
   ]
  },
  {
   "cell_type": "markdown",
   "id": "80e5abef-8a03-41cc-a4da-99a20367f6b6",
   "metadata": {},
   "source": [
    "**Задание 1**\n",
    "\n",
    "Отделу маркетинга GoFast поставили задачу: нужно провести акцию с раздачей промокодов на один бесплатный месяц подписки, в рамках которой как минимум 100 существующих клиентов должны продлить эту подписку. То есть по завершении периода действия подписки пользователь может либо отказаться от неё, либо продлить, совершив соответствующий платёж.\n",
    "\n",
    "Эта акция уже проводилась ранее и по итогу выяснилось, что после бесплатного пробного периода подписку продлевают 10 % пользователей. Выясните, какое минимальное количество промокодов нужно разослать, чтобы вероятность не выполнить план была примерно 5 %. Подберем параметры распределения, описывающего эту ситуацию, построем график распределения и сформулируем ответ на вопрос о количестве промокодов."
   ]
  },
  {
   "cell_type": "code",
   "execution_count": 128,
   "id": "d3260397-36e7-418c-ac83-01987657ea61",
   "metadata": {},
   "outputs": [
    {
     "data": {
      "image/png": "[encoded data removed]",
      "text/plain": [
       "<Figure size 1200x600 with 1 Axes>"
      ]
     },
     "metadata": {},
     "output_type": "display_data"
    }
   ],
   "source": [
    "n = 1000\n",
    "p = 0.1\n",
    "distr = []\n",
    "\n",
    "for k in range(0, n + 1):\n",
    "    choose = factorial(n) / (factorial(k) * factorial(n - k))\n",
    "    prob = choose * p**k * (1 - p)**(n - k)\n",
    "    distr.append(prob)\n",
    "\n",
    "plt.figure(figsize=(12, 6))  \n",
    "plt.bar(range(0, n + 1), distr)  \n",
    "plt.xlabel('Количество клиентов, продливших подписку') \n",
    "plt.ylabel('Вероятность')  \n",
    "plt.title('Вероятностное распределение продлений подписки')\n",
    "plt.show()"
   ]
  },
  {
   "cell_type": "code",
   "execution_count": 140,
   "id": "dd738fd0-19cd-47ac-b5a4-d48cef424409",
   "metadata": {},
   "outputs": [
    {
     "name": "stdout",
     "output_type": "stream",
     "text": [
      "Минимальное число промокодов: 500\n"
     ]
    }
   ],
   "source": [
    "# В диапазоне (n-500, n+500) определим минимальное количество промокодов,\n",
    "# чтобы вероятность не выполнить план была не больше 5%\n",
    "\n",
    "for n in range (500, 1500):\n",
    "    if binom.cdf(99, n, p) < 0.05:\n",
    "        print(\"Минимальное число промокодов:\", n)\n",
    "        break"
   ]
  },
  {
   "cell_type": "markdown",
   "id": "32724240-a7ad-44bf-a377-00cc49ac8b9a",
   "metadata": {},
   "source": [
    "**Вывод:**\n",
    "\n",
    "Для акции раздачи промокодов с целью получения не менее 100 продлений подписок, с вероясностью невыполнения не больше 5% нужно сделать рассылку менее 1161 промокодов"
   ]
  },
  {
   "cell_type": "markdown",
   "id": "7a53c091-0091-4a01-a2b2-ffd4c5f63087",
   "metadata": {},
   "source": [
    "**Задание 2**\n",
    "\n",
    "Отдел маркетинга рассылает клиентам push-уведомления в мобильном приложении. Клиенты могут открыть его или не открывать. Известно, что уведомления открывают около 40 % получивших клиентов. Отдел планирует разослать 1 млн уведомлений. С помощью аппроксимации построем примерный график распределения и оцените вероятность того, что уведомление откроют не более 399,5 тыс. пользователей."
   ]
  },
  {
   "cell_type": "code",
   "execution_count": 132,
   "id": "a52d908e-28ea-4cc8-b7f5-adcdef7188d5",
   "metadata": {},
   "outputs": [
    {
     "name": "stdout",
     "output_type": "stream",
     "text": [
      "Вероятность что push-уведомления откроют не более 399,5 тыс. пользователей: 0.15\n"
     ]
    }
   ],
   "source": [
    "# Аппроксимируем биномиальное распределение нормальным и посчитаем\n",
    "# задаём параметры биномиального распределения\n",
    "\n",
    "n = 1000000\n",
    "p = 0.4\n",
    "\n",
    "mu = n * p\n",
    "sigma = sqrt(n * p * (1 - p))\n",
    "# задаём нормальное распределение\n",
    "distr = st.norm(mu, sigma)\n",
    "\n",
    "x = 399500\n",
    "\n",
    "# считаем вероятность получить значение, равное x или меньше\n",
    "result = distr.cdf(x)\n",
    "\n",
    "print('Вероятность что push-уведомления откроют не более 399,5 тыс. пользователей:',\n",
    "      round(result, 2))"
   ]
  },
  {
   "cell_type": "markdown",
   "id": "d3121cca-1763-4846-aeba-9a180e896f42",
   "metadata": {},
   "source": [
    "**Вывод:**\n",
    "\n",
    "В условиях акции рассылки 1 млн. push-уведомлений вероятность что откроют их не более 399,5 тыс. пользователей - 15%"
   ]
  },
  {
   "cell_type": "markdown",
   "id": "e283d5f7-36ea-4cde-9f2c-4395f6d06458",
   "metadata": {},
   "source": [
    "## Общий вывод\n",
    "\n"
   ]
  },
  {
   "cell_type": "markdown",
   "id": "378b4b95-0c7e-49c9-9f42-0b981d7a6dca",
   "metadata": {},
   "source": [
    "На этапе подготовки данных проведена предобработка данных: проверила датафреймах на наличие пропусков, полных дубликатов и соответствие типов данных. Пропусков и дубликатов нет, исправила тип данных столбца date и добавила новый столбец с номером месяца для удобства анализа в дальнейшем. \n",
    "При анализе данных определила, что в выборке представлено 8 городов со среднем числом пользователей 191 человек. \n",
    "\n",
    "Пользователей с подпиской ultra меньше (45,5%), чем без подписки free (55,5%), но не значительно. \n",
    "\n",
    "Соотношение пользователей с подпиской и без\n",
    "    \n",
    "ULTRA  | FREE\n",
    "------ | ------\n",
    "45,5%  | 55,5%\n",
    "\n",
    "\n",
    "Выявили, что в среднем одна поездка длится 18 минут и пользователи преодолевают примерно 3 км.\n",
    "\n",
    "Сведя все данные в одну таблицы, выявили, что пользователи без подписки чаще используют самокаты для коротких поездок, что объяснимо, на более длительные  поездки пользователи ездят сопоставимо одинаково. \n",
    "\n",
    "Поездок без подписки больше, но в целом распределение поездок по времени можно определить как нормальное.\n",
    "\n",
    "Выявили, что пользователи с подпиской тратят в среднем на 1 минуту больше времени, чем пользователей без подписки. Таким образом пользователи с подпиской не на много выгоднее для компании, чем пользователи без подписки. \n",
    "\n",
    "Расстояние одной поездки в  3130 метров — оптимальное с точки зрения износа самоката. При анализе данных рассчитали что среднее расстояние, которое проезжают пользователи с подпиской за одну поездку, не превышает 3130 и составляет в среднем  3115 м. Т.е. поездки подписчиков не причиняют повышенный износ самокатам и, следовательно, не приносят убытки длинными поездками.\n",
    "\n",
    "Помесячная выручка от пользователей с подпиской по месяцам выше, чем выручка от пользователей без подписки - данная гипотеза получила подтверждение.\n",
    "\n",
    "В целях увеличения прибыли сервису стоит искать пути привлечения пользователей оформлять подписку, поскольку они приносят больше прибыли , используя самокаты на более долгие поездки, но при этом не нанося излишний износ самокатам."
   ]
  },
  {
   "cell_type": "code",
   "execution_count": null,
   "id": "8581970a-5c10-41f0-a20f-de27bc20cc2e",
   "metadata": {},
   "outputs": [],
   "source": []
  }
 ],
 "metadata": {
  "kernelspec": {
   "display_name": "Python 3 (ipykernel)",
   "language": "python",
   "name": "python3"
  },
  "language_info": {
   "codemirror_mode": {
    "name": "ipython",
    "version": 3
   },
   "file_extension": ".py",
   "mimetype": "text/x-python",
   "name": "python",
   "nbconvert_exporter": "python",
   "pygments_lexer": "ipython3",
   "version": "3.12.7"
  }
 },
 "nbformat": 4,
 "nbformat_minor": 5
}
