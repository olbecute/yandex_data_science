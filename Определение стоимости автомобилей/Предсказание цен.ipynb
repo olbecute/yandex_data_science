{
 "cells": [
  {
   "cell_type": "markdown",
   "metadata": {},
   "source": [
    "# Описание проекта"
   ]
  },
  {
   "cell_type": "markdown",
   "metadata": {},
   "source": [
    "Сервис по продаже автомобилей с пробегом «Не бит, не крашен» разрабатывает приложение для привлечения новых клиентов. В нём можно быстро узнать рыночную стоимость своего автомобиля. В вашем распоряжении исторические данные: технические характеристики, комплектации и цены автомобилей. Вам нужно построить модель для определения стоимости. \n",
    "\n",
    "Заказчику важны:\n",
    "\n",
    "- качество предсказания;\n",
    "- скорость предсказания;\n",
    "- время обучения."
   ]
  },
  {
   "cell_type": "markdown",
   "metadata": {},
   "source": [
    "## Содержание\n",
    "\n",
    "[Общая информация](#Общая_информация)\n",
    "\n",
    "[Предобработка данных](#Предобработка_данных)\n",
    "\n",
    "[Исследовательский анализ данных](#Исследовательский_анализ_данных)\n",
    "\n",
    "[Обучение моделей](#Обучение_моделей)\n",
    "\n",
    "[Анализ моделей](#Анализ_моделей)\n",
    "\n",
    "[Итоговый вывод](#Итоговый_вывод)"
   ]
  },
  {
   "cell_type": "markdown",
   "metadata": {},
   "source": [
    "**Исходные данные.**\n",
    "\n",
    "Для этой задачи заказчик предоставил данные с признаками:\n",
    "\n",
    "- **DateCrawled** — дата скачивания анкеты из базы\n",
    "- **VehicleType** — тип автомобильного кузова\n",
    "- **RegistrationYear** — год регистрации автомобиля\n",
    "- **Gearbox** — тип коробки передач\n",
    "- **Power** — мощность (л. с.)\n",
    "- **Model** — модель автомобиля\n",
    "- **Kilometer** — пробег (км)\n",
    "- **RegistrationMonth** — месяц регистрации автомобиля\n",
    "- **FuelType** — тип топлива\n",
    "- **Brand** — марка автомобиля\n",
    "- **Repaired** — была машина в ремонте или нет\n",
    "- **DateCreated** — дата создания анкеты\n",
    "- **NumberOfPictures** — количество фотографий автомобиля\n",
    "- **PostalCode** — почтовый индекс владельца анкеты (пользователя)\n",
    "- **LastSeen** — дата последней активности пользователя\n",
    "- **Price** — цена в евро (целевой признак)"
   ]
  },
  {
   "cell_type": "markdown",
   "metadata": {},
   "source": [
    "# Загрузка библиотек"
   ]
  },
  {
   "cell_type": "code",
   "execution_count": 1,
   "metadata": {},
   "outputs": [],
   "source": [
    "import time\n",
    "import pandas as pd\n",
    "import numpy as np\n",
    "import matplotlib.pyplot as plt\n",
    "import seaborn as sns\n",
    "import statistics\n",
    "import re\n",
    "from sklearn.model_selection import train_test_split, GridSearchCV, RandomizedSearchCV\n",
    "from sklearn.metrics import mean_squared_error, r2_score, mean_absolute_error\n",
    "from sklearn.ensemble import RandomForestRegressor\n",
    "from sklearn.model_selection import cross_val_score\n",
    "from lightgbm import LGBMRegressor\n",
    "from catboost import CatBoostRegressor\n",
    "from tqdm import tqdm\n",
    "import warnings\n",
    "warnings.filterwarnings('ignore')\n",
    "\n",
    "import time\n",
    "import itertools\n",
    "from sklearn.preprocessing import OneHotEncoder, OrdinalEncoder\n",
    "from sklearn.compose import ColumnTransformer\n",
    "\n",
    "# Настройка отображения графиков\n",
    "%matplotlib inline\n",
    "sns.set(\n",
    "    font_scale=1.3,\n",
    "    style=\"whitegrid\",\n",
    "    rc={'figure.figsize':(20,7)})\n",
    "\n",
    "# Установка опции отображения широких датафреймов\n",
    "pd.set_option('display.max_colwidth', None)\n",
    "\n",
    "RANDOM_STATE=17"
   ]
  },
  {
   "cell_type": "markdown",
   "metadata": {},
   "source": [
    "## Подготовка данных"
   ]
  },
  {
   "cell_type": "markdown",
   "metadata": {},
   "source": [
    "<a id='Общая_информация'></a>"
   ]
  },
  {
   "cell_type": "markdown",
   "metadata": {},
   "source": [
    "### Общая информация"
   ]
  },
  {
   "cell_type": "code",
   "execution_count": 2,
   "metadata": {
    "scrolled": true
   },
   "outputs": [
    {
     "data": {
      "text/html": [
       "<div>\n",
       "<style scoped>\n",
       "    .dataframe tbody tr th:only-of-type {\n",
       "        vertical-align: middle;\n",
       "    }\n",
       "\n",
       "    .dataframe tbody tr th {\n",
       "        vertical-align: top;\n",
       "    }\n",
       "\n",
       "    .dataframe thead th {\n",
       "        text-align: right;\n",
       "    }\n",
       "</style>\n",
       "<table border=\"1\" class=\"dataframe\">\n",
       "  <thead>\n",
       "    <tr style=\"text-align: right;\">\n",
       "      <th></th>\n",
       "      <th>DateCrawled</th>\n",
       "      <th>Price</th>\n",
       "      <th>VehicleType</th>\n",
       "      <th>RegistrationYear</th>\n",
       "      <th>Gearbox</th>\n",
       "      <th>Power</th>\n",
       "      <th>Model</th>\n",
       "      <th>Kilometer</th>\n",
       "      <th>RegistrationMonth</th>\n",
       "      <th>FuelType</th>\n",
       "      <th>Brand</th>\n",
       "      <th>Repaired</th>\n",
       "      <th>DateCreated</th>\n",
       "      <th>NumberOfPictures</th>\n",
       "      <th>PostalCode</th>\n",
       "      <th>LastSeen</th>\n",
       "    </tr>\n",
       "  </thead>\n",
       "  <tbody>\n",
       "    <tr>\n",
       "      <th>0</th>\n",
       "      <td>2016-03-24 11:52:17</td>\n",
       "      <td>480</td>\n",
       "      <td>NaN</td>\n",
       "      <td>1993</td>\n",
       "      <td>manual</td>\n",
       "      <td>0</td>\n",
       "      <td>golf</td>\n",
       "      <td>150000</td>\n",
       "      <td>0</td>\n",
       "      <td>petrol</td>\n",
       "      <td>volkswagen</td>\n",
       "      <td>NaN</td>\n",
       "      <td>2016-03-24 00:00:00</td>\n",
       "      <td>0</td>\n",
       "      <td>70435</td>\n",
       "      <td>2016-04-07 03:16:57</td>\n",
       "    </tr>\n",
       "    <tr>\n",
       "      <th>1</th>\n",
       "      <td>2016-03-24 10:58:45</td>\n",
       "      <td>18300</td>\n",
       "      <td>coupe</td>\n",
       "      <td>2011</td>\n",
       "      <td>manual</td>\n",
       "      <td>190</td>\n",
       "      <td>NaN</td>\n",
       "      <td>125000</td>\n",
       "      <td>5</td>\n",
       "      <td>gasoline</td>\n",
       "      <td>audi</td>\n",
       "      <td>yes</td>\n",
       "      <td>2016-03-24 00:00:00</td>\n",
       "      <td>0</td>\n",
       "      <td>66954</td>\n",
       "      <td>2016-04-07 01:46:50</td>\n",
       "    </tr>\n",
       "    <tr>\n",
       "      <th>2</th>\n",
       "      <td>2016-03-14 12:52:21</td>\n",
       "      <td>9800</td>\n",
       "      <td>suv</td>\n",
       "      <td>2004</td>\n",
       "      <td>auto</td>\n",
       "      <td>163</td>\n",
       "      <td>grand</td>\n",
       "      <td>125000</td>\n",
       "      <td>8</td>\n",
       "      <td>gasoline</td>\n",
       "      <td>jeep</td>\n",
       "      <td>NaN</td>\n",
       "      <td>2016-03-14 00:00:00</td>\n",
       "      <td>0</td>\n",
       "      <td>90480</td>\n",
       "      <td>2016-04-05 12:47:46</td>\n",
       "    </tr>\n",
       "    <tr>\n",
       "      <th>3</th>\n",
       "      <td>2016-03-17 16:54:04</td>\n",
       "      <td>1500</td>\n",
       "      <td>small</td>\n",
       "      <td>2001</td>\n",
       "      <td>manual</td>\n",
       "      <td>75</td>\n",
       "      <td>golf</td>\n",
       "      <td>150000</td>\n",
       "      <td>6</td>\n",
       "      <td>petrol</td>\n",
       "      <td>volkswagen</td>\n",
       "      <td>no</td>\n",
       "      <td>2016-03-17 00:00:00</td>\n",
       "      <td>0</td>\n",
       "      <td>91074</td>\n",
       "      <td>2016-03-17 17:40:17</td>\n",
       "    </tr>\n",
       "    <tr>\n",
       "      <th>4</th>\n",
       "      <td>2016-03-31 17:25:20</td>\n",
       "      <td>3600</td>\n",
       "      <td>small</td>\n",
       "      <td>2008</td>\n",
       "      <td>manual</td>\n",
       "      <td>69</td>\n",
       "      <td>fabia</td>\n",
       "      <td>90000</td>\n",
       "      <td>7</td>\n",
       "      <td>gasoline</td>\n",
       "      <td>skoda</td>\n",
       "      <td>no</td>\n",
       "      <td>2016-03-31 00:00:00</td>\n",
       "      <td>0</td>\n",
       "      <td>60437</td>\n",
       "      <td>2016-04-06 10:17:21</td>\n",
       "    </tr>\n",
       "  </tbody>\n",
       "</table>\n",
       "</div>"
      ],
      "text/plain": [
       "           DateCrawled  Price VehicleType  RegistrationYear Gearbox  Power  \\\n",
       "0  2016-03-24 11:52:17    480         NaN              1993  manual      0   \n",
       "1  2016-03-24 10:58:45  18300       coupe              2011  manual    190   \n",
       "2  2016-03-14 12:52:21   9800         suv              2004    auto    163   \n",
       "3  2016-03-17 16:54:04   1500       small              2001  manual     75   \n",
       "4  2016-03-31 17:25:20   3600       small              2008  manual     69   \n",
       "\n",
       "   Model  Kilometer  RegistrationMonth  FuelType       Brand Repaired  \\\n",
       "0   golf     150000                  0    petrol  volkswagen      NaN   \n",
       "1    NaN     125000                  5  gasoline        audi      yes   \n",
       "2  grand     125000                  8  gasoline        jeep      NaN   \n",
       "3   golf     150000                  6    petrol  volkswagen       no   \n",
       "4  fabia      90000                  7  gasoline       skoda       no   \n",
       "\n",
       "           DateCreated  NumberOfPictures  PostalCode             LastSeen  \n",
       "0  2016-03-24 00:00:00                 0       70435  2016-04-07 03:16:57  \n",
       "1  2016-03-24 00:00:00                 0       66954  2016-04-07 01:46:50  \n",
       "2  2016-03-14 00:00:00                 0       90480  2016-04-05 12:47:46  \n",
       "3  2016-03-17 00:00:00                 0       91074  2016-03-17 17:40:17  \n",
       "4  2016-03-31 00:00:00                 0       60437  2016-04-06 10:17:21  "
      ]
     },
     "metadata": {},
     "output_type": "display_data"
    },
    {
     "name": "stdout",
     "output_type": "stream",
     "text": [
      "<class 'pandas.core.frame.DataFrame'>\n",
      "RangeIndex: 354369 entries, 0 to 354368\n",
      "Data columns (total 16 columns):\n",
      " #   Column             Non-Null Count   Dtype \n",
      "---  ------             --------------   ----- \n",
      " 0   DateCrawled        354369 non-null  object\n",
      " 1   Price              354369 non-null  int64 \n",
      " 2   VehicleType        316879 non-null  object\n",
      " 3   RegistrationYear   354369 non-null  int64 \n",
      " 4   Gearbox            334536 non-null  object\n",
      " 5   Power              354369 non-null  int64 \n",
      " 6   Model              334664 non-null  object\n",
      " 7   Kilometer          354369 non-null  int64 \n",
      " 8   RegistrationMonth  354369 non-null  int64 \n",
      " 9   FuelType           321474 non-null  object\n",
      " 10  Brand              354369 non-null  object\n",
      " 11  Repaired           283215 non-null  object\n",
      " 12  DateCreated        354369 non-null  object\n",
      " 13  NumberOfPictures   354369 non-null  int64 \n",
      " 14  PostalCode         354369 non-null  int64 \n",
      " 15  LastSeen           354369 non-null  object\n",
      "dtypes: int64(7), object(9)\n",
      "memory usage: 43.3+ MB\n"
     ]
    },
    {
     "data": {
      "text/plain": [
       "None"
      ]
     },
     "metadata": {},
     "output_type": "display_data"
    }
   ],
   "source": [
    "df = pd.read_csv('/datasets/autos.csv')\n",
    "display(df.head())\n",
    "display(df.info())"
   ]
  },
  {
   "cell_type": "markdown",
   "metadata": {},
   "source": [
    "**Вывод**\n",
    "\n",
    "Датафрейм содержит 354369 объектов и 16 признаков, присутствуют и пропуски, и явные ошибки среди значений некоторых признаков.\n",
    "\n",
    "\n",
    "Необходима предобработка данных:\n",
    "\n",
    "- очистить датафрейм от избыточной информации (убрать лишние признаки, осложняющие процесс построения моделей машинного обучения).\n",
    "- произвести обработку или удаление пропущенных значений.\n",
    "- проверить наличие дубликатов в данных."
   ]
  },
  {
   "cell_type": "markdown",
   "metadata": {},
   "source": [
    "<a id='Предобработка_данных'></a>"
   ]
  },
  {
   "cell_type": "markdown",
   "metadata": {},
   "source": [
    "### Предобработка данных"
   ]
  },
  {
   "cell_type": "markdown",
   "metadata": {},
   "source": [
    "#### Удаление ненужных признаков"
   ]
  },
  {
   "cell_type": "code",
   "execution_count": 3,
   "metadata": {},
   "outputs": [
    {
     "data": {
      "text/plain": [
       "array([0])"
      ]
     },
     "metadata": {},
     "output_type": "display_data"
    }
   ],
   "source": [
    "# рассмотрим признак NumberOfPictures\n",
    "\n",
    "display(df.NumberOfPictures.unique())"
   ]
  },
  {
   "cell_type": "markdown",
   "metadata": {},
   "source": [
    "В столбце **NumberOfPictures** все значения равны нулю. Значит наличие этого столбца не имеет никакого смысла. Удалим его."
   ]
  },
  {
   "cell_type": "code",
   "execution_count": 4,
   "metadata": {},
   "outputs": [],
   "source": [
    "df = df.drop(columns=['NumberOfPictures'])"
   ]
  },
  {
   "cell_type": "markdown",
   "metadata": {},
   "source": [
    "Далее, рассмотрим столбцы с указанием времени:\n",
    "\n",
    "- **DateCrawled** — дата скачивания анкеты из базы\n",
    "- **DateCreated** — дата создания анкеты\n",
    "- **LastSeen** — дата последней активности пользователя\n",
    "\n",
    "Эти столбцы никак не влияют на ценообразование автомобиля и, в контексте данной задачи, не имеют смысла. Их тоже удалим."
   ]
  },
  {
   "cell_type": "code",
   "execution_count": 5,
   "metadata": {},
   "outputs": [],
   "source": [
    "df = df.drop(columns=['DateCrawled', 'DateCreated', 'LastSeen'])"
   ]
  },
  {
   "cell_type": "markdown",
   "metadata": {},
   "source": [
    "Рассмотрим столбец **RegistrationMonth**. Если по столбцу **RegistrationYear** можно определить возраст автомобиля, то столбец **RegistrationMonth** не несет в себе полезной информации. Его тоже удалим."
   ]
  },
  {
   "cell_type": "code",
   "execution_count": 6,
   "metadata": {},
   "outputs": [],
   "source": [
    "df = df.drop(columns=['RegistrationMonth'])"
   ]
  },
  {
   "cell_type": "code",
   "execution_count": 7,
   "metadata": {},
   "outputs": [
    {
     "data": {
      "text/plain": [
       "['Price',\n",
       " 'VehicleType',\n",
       " 'RegistrationYear',\n",
       " 'Gearbox',\n",
       " 'Power',\n",
       " 'Model',\n",
       " 'Kilometer',\n",
       " 'FuelType',\n",
       " 'Brand',\n",
       " 'Repaired',\n",
       " 'PostalCode']"
      ]
     },
     "execution_count": 7,
     "metadata": {},
     "output_type": "execute_result"
    }
   ],
   "source": [
    "# проверим данные после удаления ненужных признаков\n",
    "\n",
    "list(df.columns)"
   ]
  },
  {
   "cell_type": "markdown",
   "metadata": {},
   "source": [
    "Проверим количественное и процентное содержание пропусков оставшихся признаков."
   ]
  },
  {
   "cell_type": "code",
   "execution_count": 8,
   "metadata": {},
   "outputs": [
    {
     "data": {
      "text/html": [
       "<div>\n",
       "<style scoped>\n",
       "    .dataframe tbody tr th:only-of-type {\n",
       "        vertical-align: middle;\n",
       "    }\n",
       "\n",
       "    .dataframe tbody tr th {\n",
       "        vertical-align: top;\n",
       "    }\n",
       "\n",
       "    .dataframe thead th {\n",
       "        text-align: right;\n",
       "    }\n",
       "</style>\n",
       "<table border=\"1\" class=\"dataframe\">\n",
       "  <thead>\n",
       "    <tr style=\"text-align: right;\">\n",
       "      <th></th>\n",
       "      <th>missing_values</th>\n",
       "      <th>% of total</th>\n",
       "    </tr>\n",
       "  </thead>\n",
       "  <tbody>\n",
       "    <tr>\n",
       "      <th>Repaired</th>\n",
       "      <td>71154</td>\n",
       "      <td>20.08</td>\n",
       "    </tr>\n",
       "    <tr>\n",
       "      <th>VehicleType</th>\n",
       "      <td>37490</td>\n",
       "      <td>10.58</td>\n",
       "    </tr>\n",
       "    <tr>\n",
       "      <th>FuelType</th>\n",
       "      <td>32895</td>\n",
       "      <td>9.28</td>\n",
       "    </tr>\n",
       "    <tr>\n",
       "      <th>Gearbox</th>\n",
       "      <td>19833</td>\n",
       "      <td>5.60</td>\n",
       "    </tr>\n",
       "    <tr>\n",
       "      <th>Model</th>\n",
       "      <td>19705</td>\n",
       "      <td>5.56</td>\n",
       "    </tr>\n",
       "    <tr>\n",
       "      <th>Price</th>\n",
       "      <td>0</td>\n",
       "      <td>0.00</td>\n",
       "    </tr>\n",
       "    <tr>\n",
       "      <th>RegistrationYear</th>\n",
       "      <td>0</td>\n",
       "      <td>0.00</td>\n",
       "    </tr>\n",
       "    <tr>\n",
       "      <th>Power</th>\n",
       "      <td>0</td>\n",
       "      <td>0.00</td>\n",
       "    </tr>\n",
       "    <tr>\n",
       "      <th>Kilometer</th>\n",
       "      <td>0</td>\n",
       "      <td>0.00</td>\n",
       "    </tr>\n",
       "    <tr>\n",
       "      <th>Brand</th>\n",
       "      <td>0</td>\n",
       "      <td>0.00</td>\n",
       "    </tr>\n",
       "    <tr>\n",
       "      <th>PostalCode</th>\n",
       "      <td>0</td>\n",
       "      <td>0.00</td>\n",
       "    </tr>\n",
       "  </tbody>\n",
       "</table>\n",
       "</div>"
      ],
      "text/plain": [
       "                  missing_values  % of total\n",
       "Repaired                   71154       20.08\n",
       "VehicleType                37490       10.58\n",
       "FuelType                   32895        9.28\n",
       "Gearbox                    19833        5.60\n",
       "Model                      19705        5.56\n",
       "Price                          0        0.00\n",
       "RegistrationYear               0        0.00\n",
       "Power                          0        0.00\n",
       "Kilometer                      0        0.00\n",
       "Brand                          0        0.00\n",
       "PostalCode                     0        0.00"
      ]
     },
     "execution_count": 8,
     "metadata": {},
     "output_type": "execute_result"
    }
   ],
   "source": [
    "def nan_percent(data):\n",
    "    new_data = data.isna().sum().to_frame()\n",
    "    new_data = new_data.rename(columns = {0: 'missing_values'})\n",
    "    new_data['% of total'] = ((new_data['missing_values'] / data.shape[0])*100).round(2)\n",
    "    return new_data.sort_values(by = 'missing_values', ascending = False)\n",
    "\n",
    "nan_percent(df)"
   ]
  },
  {
   "cell_type": "markdown",
   "metadata": {},
   "source": [
    "Признак **Repaired**"
   ]
  },
  {
   "cell_type": "markdown",
   "metadata": {},
   "source": [
    "Больше всего пропусков содержится в признаке Repaired, который отражает факт проведения ремонта у автомобиля. Это важный показатель, который может сильно влиять на цену автомобиля. От чего может зависеть вероятность ремонта? Возраст автомобиля? Но машину могут купить когда-то и просто хранить в гараже. Думаю, что лучше остальных уровень эксплуатации отражает пробег автомобиля. Поэтому посмотрим на зависимость вероятности ремнта от количества пройденного километража. "
   ]
  },
  {
   "cell_type": "code",
   "execution_count": 9,
   "metadata": {},
   "outputs": [
    {
     "data": {
      "image/png": "[encoded data removed]",
      "text/plain": [
       "<Figure size 864x432 with 1 Axes>"
      ]
     },
     "metadata": {},
     "output_type": "display_data"
    }
   ],
   "source": [
    "# Группировка данных\n",
    "data_grouped = df[df['Repaired'].notna()].groupby(['Kilometer', 'Repaired']).size().unstack(fill_value=0)\n",
    "\n",
    "# Построение графика\n",
    "data_grouped.plot(kind='bar', figsize=(12, 6), stacked=False, color=['skyblue', 'orange'])\n",
    "\n",
    "# Настройка графика\n",
    "plt.title('Количество значений Repaired для каждого Kilometer', fontsize=16)\n",
    "plt.xlabel('Kilometer (Километраж)', fontsize=14)\n",
    "plt.ylabel('Количество', fontsize=14)\n",
    "plt.xticks(rotation=45)\n",
    "plt.legend(title='Repaired (Ремонт)', fontsize=12)\n",
    "plt.grid(axis='y', linestyle='--', alpha=0.7)\n",
    "plt.tight_layout()\n",
    "plt.show()"
   ]
  },
  {
   "cell_type": "markdown",
   "metadata": {},
   "source": [
    "Согласно этому графику можно сделать вывод, что почти все б/у машины смогли избежать ремонта. Это выглядит неправдоподобно. Чтобы не терять информацию в остальном массиве, заполним пустоты меткой N/A (недоступно)."
   ]
  },
  {
   "cell_type": "code",
   "execution_count": 10,
   "metadata": {},
   "outputs": [],
   "source": [
    "df['Repaired']=df['Repaired'].fillna('N/A')"
   ]
  },
  {
   "cell_type": "markdown",
   "metadata": {},
   "source": [
    "Признак **VehicleType**"
   ]
  },
  {
   "cell_type": "markdown",
   "metadata": {},
   "source": [
    "Тип кузова - тоже важный признак, влияющий на ценообразование. От чего может зависеть тип кузова? Думаю, что от бренда и марки автомобиля. Например, смотрим какой самый популярный кузов у бренда jeep модели grand и указываем его в пропуске у аналогичного автомобиля.\t"
   ]
  },
  {
   "cell_type": "code",
   "execution_count": 11,
   "metadata": {},
   "outputs": [],
   "source": [
    "# Исключаем строки с пропусками в столбце Model\n",
    "filtered_df = df[df['Model'].notna()]\n",
    "\n",
    "# Заполнение пропусков в VehicleType на основе моды для Brand и Model из отфильтрованного DataFrame\n",
    "df['VehicleType'] = df['VehicleType'].fillna(\n",
    "    filtered_df.groupby(['Brand', 'Model'])['VehicleType'].transform(lambda x: x.mode().iloc[0] \\\n",
    "                                                                     if not x.mode().empty else None))"
   ]
  },
  {
   "cell_type": "code",
   "execution_count": 12,
   "metadata": {},
   "outputs": [],
   "source": [
    "# там, где не удалось определить тип кузова, заполняем меткой N/A\n",
    "\n",
    "df['VehicleType']=df['VehicleType'].fillna('N/A')"
   ]
  },
  {
   "cell_type": "markdown",
   "metadata": {},
   "source": [
    "Признаки **FuelType**, **Gearbox**, **Model**"
   ]
  },
  {
   "cell_type": "markdown",
   "metadata": {},
   "source": [
    "Заполняем меткой N/A"
   ]
  },
  {
   "cell_type": "code",
   "execution_count": 13,
   "metadata": {},
   "outputs": [],
   "source": [
    "df['FuelType']=df['FuelType'].fillna('N/A')\n",
    "df['Gearbox']=df['Gearbox'].fillna('N/A')\n",
    "df['Model']=df['Model'].fillna('N/A')"
   ]
  },
  {
   "cell_type": "markdown",
   "metadata": {},
   "source": [
    "#### Удаление явных дубликатов"
   ]
  },
  {
   "cell_type": "code",
   "execution_count": 14,
   "metadata": {},
   "outputs": [
    {
     "name": "stdout",
     "output_type": "stream",
     "text": [
      "Количество явных дубликатов: 23553\n"
     ]
    }
   ],
   "source": [
    "print('Количество явных дубликатов:', df.duplicated().sum())"
   ]
  },
  {
   "cell_type": "code",
   "execution_count": 15,
   "metadata": {},
   "outputs": [
    {
     "name": "stdout",
     "output_type": "stream",
     "text": [
      "Количество явных дубликатов: 0\n"
     ]
    }
   ],
   "source": [
    "df = df.drop_duplicates()\n",
    "print('Количество явных дубликатов:', df.duplicated().sum())"
   ]
  },
  {
   "cell_type": "code",
   "execution_count": 16,
   "metadata": {
    "scrolled": true
   },
   "outputs": [
    {
     "data": {
      "text/plain": [
       "Price               0\n",
       "VehicleType         0\n",
       "RegistrationYear    0\n",
       "Gearbox             0\n",
       "Power               0\n",
       "Model               0\n",
       "Kilometer           0\n",
       "FuelType            0\n",
       "Brand               0\n",
       "Repaired            0\n",
       "PostalCode          0\n",
       "dtype: int64"
      ]
     },
     "metadata": {},
     "output_type": "display_data"
    }
   ],
   "source": [
    "# проверим на наличие пропусков\n",
    "\n",
    "display(df.isna().sum())"
   ]
  },
  {
   "cell_type": "markdown",
   "metadata": {},
   "source": [
    "Признак **PostalCode**"
   ]
  },
  {
   "cell_type": "markdown",
   "metadata": {},
   "source": [
    "И последним удаляем столбец PostalCode. Я удалила его после избавления от явных дубликатов, потому что этот столбец служил своего рода идентификатором. Если бы я убрала его до удаления явных дубликатов, то много строк, которые на самом деле не являются дубликатами, могли бы ими показаться."
   ]
  },
  {
   "cell_type": "code",
   "execution_count": 17,
   "metadata": {},
   "outputs": [],
   "source": [
    "df = df.drop(columns=['PostalCode'])"
   ]
  },
  {
   "cell_type": "markdown",
   "metadata": {},
   "source": [
    "<a id='Исследовательский_анализ_данных'></a>"
   ]
  },
  {
   "cell_type": "markdown",
   "metadata": {},
   "source": [
    "### Исследовательский анализ данных"
   ]
  },
  {
   "cell_type": "code",
   "execution_count": 18,
   "metadata": {},
   "outputs": [
    {
     "data": {
      "text/html": [
       "<div>\n",
       "<style scoped>\n",
       "    .dataframe tbody tr th:only-of-type {\n",
       "        vertical-align: middle;\n",
       "    }\n",
       "\n",
       "    .dataframe tbody tr th {\n",
       "        vertical-align: top;\n",
       "    }\n",
       "\n",
       "    .dataframe thead th {\n",
       "        text-align: right;\n",
       "    }\n",
       "</style>\n",
       "<table border=\"1\" class=\"dataframe\">\n",
       "  <thead>\n",
       "    <tr style=\"text-align: right;\">\n",
       "      <th></th>\n",
       "      <th>Price</th>\n",
       "    </tr>\n",
       "  </thead>\n",
       "  <tbody>\n",
       "    <tr>\n",
       "      <th>count</th>\n",
       "      <td>330816.000000</td>\n",
       "    </tr>\n",
       "    <tr>\n",
       "      <th>mean</th>\n",
       "      <td>4381.553220</td>\n",
       "    </tr>\n",
       "    <tr>\n",
       "      <th>std</th>\n",
       "      <td>4506.239559</td>\n",
       "    </tr>\n",
       "    <tr>\n",
       "      <th>min</th>\n",
       "      <td>0.000000</td>\n",
       "    </tr>\n",
       "    <tr>\n",
       "      <th>25%</th>\n",
       "      <td>1000.000000</td>\n",
       "    </tr>\n",
       "    <tr>\n",
       "      <th>50%</th>\n",
       "      <td>2699.000000</td>\n",
       "    </tr>\n",
       "    <tr>\n",
       "      <th>75%</th>\n",
       "      <td>6300.000000</td>\n",
       "    </tr>\n",
       "    <tr>\n",
       "      <th>max</th>\n",
       "      <td>20000.000000</td>\n",
       "    </tr>\n",
       "  </tbody>\n",
       "</table>\n",
       "</div>"
      ],
      "text/plain": [
       "               Price\n",
       "count  330816.000000\n",
       "mean     4381.553220\n",
       "std      4506.239559\n",
       "min         0.000000\n",
       "25%      1000.000000\n",
       "50%      2699.000000\n",
       "75%      6300.000000\n",
       "max     20000.000000"
      ]
     },
     "metadata": {},
     "output_type": "display_data"
    },
    {
     "name": "stdout",
     "output_type": "stream",
     "text": [
      "Коэффициент вариации равен 1.0284571092560046\n"
     ]
    },
    {
     "data": {
      "image/png": "[encoded data removed]",
      "text/plain": [
       "<Figure size 1440x504 with 1 Axes>"
      ]
     },
     "metadata": {},
     "output_type": "display_data"
    },
    {
     "data": {
      "image/png": "[encoded data removed]",
      "text/plain": [
       "<Figure size 1440x504 with 1 Axes>"
      ]
     },
     "metadata": {},
     "output_type": "display_data"
    },
    {
     "data": {
      "text/html": [
       "<div>\n",
       "<style scoped>\n",
       "    .dataframe tbody tr th:only-of-type {\n",
       "        vertical-align: middle;\n",
       "    }\n",
       "\n",
       "    .dataframe tbody tr th {\n",
       "        vertical-align: top;\n",
       "    }\n",
       "\n",
       "    .dataframe thead th {\n",
       "        text-align: right;\n",
       "    }\n",
       "</style>\n",
       "<table border=\"1\" class=\"dataframe\">\n",
       "  <thead>\n",
       "    <tr style=\"text-align: right;\">\n",
       "      <th></th>\n",
       "      <th>RegistrationYear</th>\n",
       "    </tr>\n",
       "  </thead>\n",
       "  <tbody>\n",
       "    <tr>\n",
       "      <th>count</th>\n",
       "      <td>330816.000000</td>\n",
       "    </tr>\n",
       "    <tr>\n",
       "      <th>mean</th>\n",
       "      <td>2004.179595</td>\n",
       "    </tr>\n",
       "    <tr>\n",
       "      <th>std</th>\n",
       "      <td>89.516757</td>\n",
       "    </tr>\n",
       "    <tr>\n",
       "      <th>min</th>\n",
       "      <td>1000.000000</td>\n",
       "    </tr>\n",
       "    <tr>\n",
       "      <th>25%</th>\n",
       "      <td>1999.000000</td>\n",
       "    </tr>\n",
       "    <tr>\n",
       "      <th>50%</th>\n",
       "      <td>2003.000000</td>\n",
       "    </tr>\n",
       "    <tr>\n",
       "      <th>75%</th>\n",
       "      <td>2008.000000</td>\n",
       "    </tr>\n",
       "    <tr>\n",
       "      <th>max</th>\n",
       "      <td>9999.000000</td>\n",
       "    </tr>\n",
       "  </tbody>\n",
       "</table>\n",
       "</div>"
      ],
      "text/plain": [
       "       RegistrationYear\n",
       "count     330816.000000\n",
       "mean        2004.179595\n",
       "std           89.516757\n",
       "min         1000.000000\n",
       "25%         1999.000000\n",
       "50%         2003.000000\n",
       "75%         2008.000000\n",
       "max         9999.000000"
      ]
     },
     "metadata": {},
     "output_type": "display_data"
    },
    {
     "name": "stdout",
     "output_type": "stream",
     "text": [
      "Коэффициент вариации равен 0.044665037689125865\n"
     ]
    },
    {
     "data": {
      "image/png": "[encoded data removed]",
      "text/plain": [
       "<Figure size 1440x504 with 1 Axes>"
      ]
     },
     "metadata": {},
     "output_type": "display_data"
    },
    {
     "data": {
      "image/png": "[encoded data removed]",
      "text/plain": [
       "<Figure size 1440x504 with 1 Axes>"
      ]
     },
     "metadata": {},
     "output_type": "display_data"
    },
    {
     "data": {
      "text/html": [
       "<div>\n",
       "<style scoped>\n",
       "    .dataframe tbody tr th:only-of-type {\n",
       "        vertical-align: middle;\n",
       "    }\n",
       "\n",
       "    .dataframe tbody tr th {\n",
       "        vertical-align: top;\n",
       "    }\n",
       "\n",
       "    .dataframe thead th {\n",
       "        text-align: right;\n",
       "    }\n",
       "</style>\n",
       "<table border=\"1\" class=\"dataframe\">\n",
       "  <thead>\n",
       "    <tr style=\"text-align: right;\">\n",
       "      <th></th>\n",
       "      <th>Power</th>\n",
       "    </tr>\n",
       "  </thead>\n",
       "  <tbody>\n",
       "    <tr>\n",
       "      <th>count</th>\n",
       "      <td>330816.000000</td>\n",
       "    </tr>\n",
       "    <tr>\n",
       "      <th>mean</th>\n",
       "      <td>109.799076</td>\n",
       "    </tr>\n",
       "    <tr>\n",
       "      <th>std</th>\n",
       "      <td>194.866714</td>\n",
       "    </tr>\n",
       "    <tr>\n",
       "      <th>min</th>\n",
       "      <td>0.000000</td>\n",
       "    </tr>\n",
       "    <tr>\n",
       "      <th>25%</th>\n",
       "      <td>68.000000</td>\n",
       "    </tr>\n",
       "    <tr>\n",
       "      <th>50%</th>\n",
       "      <td>103.000000</td>\n",
       "    </tr>\n",
       "    <tr>\n",
       "      <th>75%</th>\n",
       "      <td>140.000000</td>\n",
       "    </tr>\n",
       "    <tr>\n",
       "      <th>max</th>\n",
       "      <td>20000.000000</td>\n",
       "    </tr>\n",
       "  </tbody>\n",
       "</table>\n",
       "</div>"
      ],
      "text/plain": [
       "               Power\n",
       "count  330816.000000\n",
       "mean      109.799076\n",
       "std       194.866714\n",
       "min         0.000000\n",
       "25%        68.000000\n",
       "50%       103.000000\n",
       "75%       140.000000\n",
       "max     20000.000000"
      ]
     },
     "metadata": {},
     "output_type": "display_data"
    },
    {
     "name": "stdout",
     "output_type": "stream",
     "text": [
      "Коэффициент вариации равен 1.774757330180175\n"
     ]
    },
    {
     "data": {
      "image/png": "[encoded data removed]",
      "text/plain": [
       "<Figure size 1440x504 with 1 Axes>"
      ]
     },
     "metadata": {},
     "output_type": "display_data"
    },
    {
     "data": {
      "image/png": "[encoded data removed]",
      "text/plain": [
       "<Figure size 1440x504 with 1 Axes>"
      ]
     },
     "metadata": {},
     "output_type": "display_data"
    }
   ],
   "source": [
    "col_num = ['Price', 'RegistrationYear', 'Power']\n",
    "\n",
    "for i in col_num:\n",
    "    df.boxplot([i], vert=False, color='blue')\n",
    "    display(pd.DataFrame(df[i].describe()))\n",
    "    print(f'Коэффициент вариации равен {statistics.stdev(df[i]) / df[i].mean()}')\n",
    "\n",
    "    plt.title('график распределения значений признака '+i)\n",
    "    plt.xlabel('значения')\n",
    "    plt.yticks([1], ['_______'])\n",
    "    plt.show();\n",
    "\n",
    "    sns.histplot(df[i], kde=True, color='blue', edgecolor='black')\n",
    "    plt.title('гистограмма распределения значений признака '+i)\n",
    "    plt.xlabel(\"значения\")\n",
    "    plt.ylabel(\"количество\")\n",
    "    plt.show();"
   ]
  },
  {
   "cell_type": "code",
   "execution_count": 19,
   "metadata": {},
   "outputs": [
    {
     "data": {
      "image/png": "[encoded data removed]",
      "text/plain": [
       "<Figure size 1440x504 with 1 Axes>"
      ]
     },
     "metadata": {},
     "output_type": "display_data"
    },
    {
     "data": {
      "image/png": "[encoded data removed]",
      "text/plain": [
       "<Figure size 1440x504 with 1 Axes>"
      ]
     },
     "metadata": {},
     "output_type": "display_data"
    }
   ],
   "source": [
    "# взглянем на признак Power c фокусом на начало графика\n",
    "df_power = df.query('Power < 600')\n",
    "\n",
    "df_power.boxplot(['Power'], vert=False, color='blue')\n",
    "plt.title('график распределения значений признака Power')\n",
    "plt.xlabel('значения')\n",
    "plt.yticks([1], ['_______'])\n",
    "plt.show();\n",
    "\n",
    "sns.histplot(df_power['Power'], kde=True, color='blue', edgecolor='black')\n",
    "plt.title('гистограмма распределения значений признака Power')\n",
    "plt.xlabel(\"значения\")\n",
    "plt.ylabel(\"количество\")\n",
    "plt.show();"
   ]
  },
  {
   "cell_type": "markdown",
   "metadata": {},
   "source": [
    "<p style=\"text-align: center;\">Price (цена):</p>\n",
    "\n",
    "||||\n",
    "|-----------|-----------|-----------|\n",
    "|**Среднее значение**|5 100||\n",
    "|**Медиана**|3 500||\n",
    "|**Коэффициент вариации**|1.03||\n",
    "|**Статистические выбросы слева**|отсутствуют||\n",
    "|**Статистические выбросы справа**|свыше 14 500||\n",
    "\n",
    "**Интерпретация:** Коэффициент вариации (отношение стандартного отклонения к арифметическому среднему значению) равен 1.03. Согласно правилам статистики, если коэффициент равен 1, то разброс считается высоким. Также, в пользу высокого разброса говорит и существенная разница между арифметическим средним и медианой. Медиана данных смещена влево, что говорит о том, что низких цен в компании значительно больше, чем высоких, что выглядит весьма логичным.\n",
    "Аномальной выглядит самая низкая цена в 0 евро. Насколько бы в аварийном состоянии ни была бы машина, она должна что-то да стоить. Будем считать, что стоимость машине ниже 50 евро уже не релевантна для нашей задачи. Поэтому отсечем объявления с такими подозрительными ценами.\n",
    "<hr>\n",
    "<p style=\"text-align: center;\">RegistrationYear (год регистрации):</p>\n",
    "\n",
    "||||\n",
    "|-----------|-----------|-----------|\n",
    "|**Среднее значение**|2002,8||\n",
    "|**Медиана**|2003||\n",
    "|**Коэффициент вариации**|0.00||\n",
    "|**Статистические выбросы слева**|ниже 1986||\n",
    "|**Статистические выбросы справа**|отсутствуют||\n",
    "\n",
    "**Интерпретация:** Коэффициент вариации почти равен нулю, что говорит об очень низкой дисерсии. Также, в пользу низкой дисперсии говорит и равенство между средним и медианой. Согласно гистограмме, почти все продаваемые автомобили были произведены после 2000 года.\n",
    "Аномальной выглядят даты уходящие к началу 20-го века, что вряд ли соответствует действительности. Или же это штучные раритетные автомобили, которые являются статистическими выбросами. В целом, автомобилей до 1970 года практически нет и их можно отсечь.\n",
    "<hr>\n",
    "<p style=\"text-align: center;\">Power (мощность):</p>\n",
    "\n",
    "||||\n",
    "|-----------|-----------|-----------|\n",
    "|**Среднее значение**|119,7||\n",
    "|**Медиана**|110||\n",
    "|**Коэффициент вариации**|1.20||\n",
    "|**Статистические выбросы слева**|отсутствуют||\n",
    "|**Статистические выбросы справа**|отсутствуют||\n",
    "\n",
    "**Интерпретация:** Значений мощности больше 600 почти отсутствуют, это будет верхним пределом фильтрации. А нижни пределом возьмем мощность в 30 лощадиных сил. Мощность ниже этого значения уже редки."
   ]
  },
  {
   "cell_type": "code",
   "execution_count": 20,
   "metadata": {},
   "outputs": [
    {
     "data": {
      "text/html": [
       "<div>\n",
       "<style scoped>\n",
       "    .dataframe tbody tr th:only-of-type {\n",
       "        vertical-align: middle;\n",
       "    }\n",
       "\n",
       "    .dataframe tbody tr th {\n",
       "        vertical-align: top;\n",
       "    }\n",
       "\n",
       "    .dataframe thead th {\n",
       "        text-align: right;\n",
       "    }\n",
       "</style>\n",
       "<table border=\"1\" class=\"dataframe\">\n",
       "  <thead>\n",
       "    <tr style=\"text-align: right;\">\n",
       "      <th></th>\n",
       "      <th>Kilometer</th>\n",
       "    </tr>\n",
       "  </thead>\n",
       "  <tbody>\n",
       "    <tr>\n",
       "      <th>count</th>\n",
       "      <td>330816.000000</td>\n",
       "    </tr>\n",
       "    <tr>\n",
       "      <th>mean</th>\n",
       "      <td>128253.591120</td>\n",
       "    </tr>\n",
       "    <tr>\n",
       "      <th>std</th>\n",
       "      <td>37943.120916</td>\n",
       "    </tr>\n",
       "    <tr>\n",
       "      <th>min</th>\n",
       "      <td>5000.000000</td>\n",
       "    </tr>\n",
       "    <tr>\n",
       "      <th>25%</th>\n",
       "      <td>125000.000000</td>\n",
       "    </tr>\n",
       "    <tr>\n",
       "      <th>50%</th>\n",
       "      <td>150000.000000</td>\n",
       "    </tr>\n",
       "    <tr>\n",
       "      <th>75%</th>\n",
       "      <td>150000.000000</td>\n",
       "    </tr>\n",
       "    <tr>\n",
       "      <th>max</th>\n",
       "      <td>150000.000000</td>\n",
       "    </tr>\n",
       "  </tbody>\n",
       "</table>\n",
       "</div>"
      ],
      "text/plain": [
       "           Kilometer\n",
       "count  330816.000000\n",
       "mean   128253.591120\n",
       "std     37943.120916\n",
       "min      5000.000000\n",
       "25%    125000.000000\n",
       "50%    150000.000000\n",
       "75%    150000.000000\n",
       "max    150000.000000"
      ]
     },
     "metadata": {},
     "output_type": "display_data"
    },
    {
     "name": "stdout",
     "output_type": "stream",
     "text": [
      "Коэффициент вариации равен 0.29584451073958307\n"
     ]
    },
    {
     "data": {
      "image/png": "[encoded data removed]",
      "text/plain": [
       "<Figure size 1440x504 with 1 Axes>"
      ]
     },
     "metadata": {},
     "output_type": "display_data"
    },
    {
     "data": {
      "image/png": "[encoded data removed]",
      "text/plain": [
       "<Figure size 1440x504 with 1 Axes>"
      ]
     },
     "metadata": {},
     "output_type": "display_data"
    }
   ],
   "source": [
    "df.boxplot(['Kilometer'], vert=False, color='blue')\n",
    "display(pd.DataFrame(df['Kilometer'].describe()))\n",
    "print(f'Коэффициент вариации равен {statistics.stdev(df.Kilometer) / df.Kilometer.mean()}')\n",
    "plt.title('график распределения значений для признака Kilometer')\n",
    "plt.xlabel('значения')\n",
    "plt.yticks([1], ['_______'])\n",
    "plt.show();\n",
    "    \n",
    "sns.countplot(x = 'Kilometer', data = df)\n",
    "plt.title('диаграмма распределения значений для признака Kilometer')\n",
    "plt.xlabel(\"значения\")\n",
    "plt.ylabel(\"количество\")\n",
    "plt.show();"
   ]
  },
  {
   "cell_type": "markdown",
   "metadata": {},
   "source": [
    "Чем выше пробег, тем выше вероятность продажи автомобиля. Крайние значения графика адекватные. Здесь все в порядке."
   ]
  },
  {
   "cell_type": "code",
   "execution_count": 21,
   "metadata": {},
   "outputs": [],
   "source": [
    "# делаем срезы согласно выводам выше\n",
    "\n",
    "df = df[df['Price']>50]\n",
    "df = df[(df['RegistrationYear']>1970)&(df['RegistrationYear']<=2016)]\n",
    "df = df[(df['Power']>30)&(df['Power']<600)]"
   ]
  },
  {
   "cell_type": "code",
   "execution_count": 22,
   "metadata": {
    "scrolled": true
   },
   "outputs": [
    {
     "name": "stdout",
     "output_type": "stream",
     "text": [
      "<class 'pandas.core.frame.DataFrame'>\n",
      "Int64Index: 273709 entries, 1 to 354368\n",
      "Data columns (total 10 columns):\n",
      " #   Column            Non-Null Count   Dtype \n",
      "---  ------            --------------   ----- \n",
      " 0   Price             273709 non-null  int64 \n",
      " 1   VehicleType       273709 non-null  object\n",
      " 2   RegistrationYear  273709 non-null  int64 \n",
      " 3   Gearbox           273709 non-null  object\n",
      " 4   Power             273709 non-null  int64 \n",
      " 5   Model             273709 non-null  object\n",
      " 6   Kilometer         273709 non-null  int64 \n",
      " 7   FuelType          273709 non-null  object\n",
      " 8   Brand             273709 non-null  object\n",
      " 9   Repaired          273709 non-null  object\n",
      "dtypes: int64(4), object(6)\n",
      "memory usage: 23.0+ MB\n"
     ]
    }
   ],
   "source": [
    "# проверяем сколько строк осталось\n",
    "\n",
    "df.info()"
   ]
  },
  {
   "cell_type": "markdown",
   "metadata": {},
   "source": [
    "После удаления явных дубликатов, в датафрейме осталось 331 тысяч строк. Сейчас 273 тысяч строк. Мы избавились от 17,5 % данных."
   ]
  },
  {
   "cell_type": "markdown",
   "metadata": {},
   "source": [
    "## Обучение моделей"
   ]
  },
  {
   "cell_type": "markdown",
   "metadata": {},
   "source": [
    "В рамках исследования мы будет обучать 3 модели регрессии:\n",
    "\n",
    "- CatBoost\n",
    "- RandomForest\n",
    "- LightGBM"
   ]
  },
  {
   "cell_type": "code",
   "execution_count": 23,
   "metadata": {},
   "outputs": [],
   "source": [
    "# разделим признаки на входные и целевой\n",
    "\n",
    "features = df.drop(['Price'], axis=1)  \n",
    "target = df['Price']"
   ]
  },
  {
   "cell_type": "code",
   "execution_count": 24,
   "metadata": {},
   "outputs": [],
   "source": [
    "# Разделение данных на тренировочную и тестовую выборки\n",
    "X_train, X_test, y_train, y_test = train_test_split(features, target, test_size=0.2, random_state=RANDOM_STATE)"
   ]
  },
  {
   "cell_type": "code",
   "execution_count": 25,
   "metadata": {},
   "outputs": [],
   "source": [
    "# для построения некоторых моделей нам потребуются категориальные признаки отдельно\n",
    "\n",
    "cat_features = ['VehicleType', 'Gearbox', 'Model', 'FuelType', 'Brand', 'Repaired']"
   ]
  },
  {
   "cell_type": "code",
   "execution_count": 26,
   "metadata": {},
   "outputs": [],
   "source": [
    "# Преобразование типов данных\n",
    "for dataset in [X_train, X_test]:\n",
    "    dataset[cat_features] = dataset[cat_features].astype('category')"
   ]
  },
  {
   "cell_type": "code",
   "execution_count": 27,
   "metadata": {},
   "outputs": [],
   "source": [
    "# Обучение моделей\n",
    "best_rmse = float('inf')\n",
    "best_model_name = None\n",
    "best_model = None"
   ]
  },
  {
   "cell_type": "markdown",
   "metadata": {},
   "source": [
    "<div style=\"text-align: center;\">\n",
    "CatBoost\n",
    "</div>"
   ]
  },
  {
   "cell_type": "code",
   "execution_count": 28,
   "metadata": {},
   "outputs": [
    {
     "name": "stdout",
     "output_type": "stream",
     "text": [
      "CatBoost RMSE (на кросс-валидации): 1846.2185\n",
      "Лучшие параметры CatBoost: {'n_estimators': 200, 'depth': 6}\n"
     ]
    }
   ],
   "source": [
    "cat_params = {\n",
    "    'n_estimators': [100, 200],\n",
    "    'depth': [6]\n",
    "}\n",
    "\n",
    "cat_model = CatBoostRegressor(\n",
    "    loss_function='MAE',\n",
    "    eval_metric='RMSE',\n",
    "    cat_features=cat_features,\n",
    "    verbose=0,\n",
    "    random_state=RANDOM_STATE\n",
    ")\n",
    "\n",
    "cat_grid = RandomizedSearchCV(cat_model, \n",
    "                              cat_params,\n",
    "                              n_iter=10,\n",
    "                              cv=3, \n",
    "                              scoring='neg_root_mean_squared_error', \n",
    "                              n_jobs=-1)\n",
    "\n",
    "cat_grid.fit(X_train, y_train)\n",
    "\n",
    "cat_rmse = -cat_grid.best_score_\n",
    "print(f\"CatBoost RMSE (на кросс-валидации): {cat_rmse:.4f}\")\n",
    "print(f\"Лучшие параметры CatBoost: {cat_grid.best_params_}\")\n",
    "\n",
    "if cat_rmse < best_rmse:\n",
    "    best_rmse = cat_rmse\n",
    "    best_model_name = \"CatBoost\"\n",
    "    best_model = cat_grid.best_estimator_"
   ]
  },
  {
   "cell_type": "markdown",
   "metadata": {},
   "source": [
    "<div style=\"text-align: center;\">\n",
    "Random Forest\n",
    "</div>"
   ]
  },
  {
   "cell_type": "markdown",
   "metadata": {},
   "source": [
    "Так как модель **Random Forest** в библиотеке sklearn не умеет напрямую работать с категориальными данными, она ожидает, что все признаки будут числовыми. Поэтому перед использованием категориальных данных их нужно закодировать в числовую форму."
   ]
  },
  {
   "cell_type": "code",
   "execution_count": 29,
   "metadata": {},
   "outputs": [
    {
     "name": "stdout",
     "output_type": "stream",
     "text": [
      "Random Forest RMSE (на кросс-валидации): 2197.8668\n",
      "Лучшие параметры Random Forest: {'n_estimators': 200, 'min_samples_leaf': 5, 'max_depth': 6}\n"
     ]
    }
   ],
   "source": [
    "categorical_columns = X_train.select_dtypes(include=['object', 'category']).columns\n",
    "\n",
    "# Кодирование категориальных признаков\n",
    "encoder = ColumnTransformer(\n",
    "    transformers=[\n",
    "        ('cat', OrdinalEncoder(handle_unknown='use_encoded_value', unknown_value=-1), categorical_columns)\n",
    "    ],\n",
    "    remainder='passthrough'\n",
    ")\n",
    "X_train_encoded = encoder.fit_transform(X_train)\n",
    "X_test_encoded = encoder.transform(X_test)\n",
    "\n",
    "rf_params = {\n",
    "    'n_estimators': [100, 200],\n",
    "    'max_depth': [6],\n",
    "    'min_samples_leaf': [3, 5]\n",
    "}\n",
    "\n",
    "rf_model = RandomForestRegressor(random_state=RANDOM_STATE)\n",
    "\n",
    "rf_grid = RandomizedSearchCV(rf_model, \n",
    "                             rf_params,\n",
    "                             n_iter=10,\n",
    "                             cv=3, \n",
    "                             scoring='neg_root_mean_squared_error', \n",
    "                             n_jobs=-1)\n",
    "\n",
    "rf_grid.fit(X_train_encoded, y_train)\n",
    "\n",
    "rf_rmse = -rf_grid.best_score_\n",
    "print(f\"Random Forest RMSE (на кросс-валидации): {rf_rmse:.4f}\")\n",
    "print(f\"Лучшие параметры Random Forest: {rf_grid.best_params_}\")\n",
    "\n",
    "if rf_rmse < best_rmse:\n",
    "    best_rmse = rf_rmse\n",
    "    best_model_name = \"Random Forest\"\n",
    "    best_model = rf_grid.best_estimator_"
   ]
  },
  {
   "cell_type": "markdown",
   "metadata": {},
   "source": [
    "<div style=\"text-align: center;\">\n",
    "LightGBM\n",
    "</div>"
   ]
  },
  {
   "cell_type": "code",
   "execution_count": null,
   "metadata": {},
   "outputs": [],
   "source": [
    "light_params = {\n",
    "    'n_estimators': [100, 200],\n",
    "    'max_depth': [6]\n",
    "}\n",
    "\n",
    "light_model = LGBMRegressor(random_state=RANDOM_STATE)\n",
    "\n",
    "light_grid = RandomizedSearchCV(\n",
    "    light_model,\n",
    "    light_params,\n",
    "    n_iter=10,\n",
    "    cv=3,\n",
    "    scoring='neg_root_mean_squared_error',\n",
    "    n_jobs=-1\n",
    ")\n",
    "\n",
    "light_grid.fit(X_train, y_train, categorical_feature=cat_features)\n",
    "\n",
    "light_rmse = -light_grid.best_score_\n",
    "print(f\"LightGBM RMSE (на кросс-валидации): {light_rmse:.4f}\")\n",
    "print(f\"Лучшие параметры LightGBM: {light_grid.best_params_}\")\n",
    "\n",
    "if light_rmse < best_rmse:\n",
    "    best_rmse = light_rmse\n",
    "    best_model_name = \"LightGBM\"\n",
    "    best_model = light_grid.best_estimator_"
   ]
  },
  {
   "cell_type": "code",
   "execution_count": null,
   "metadata": {},
   "outputs": [],
   "source": [
    "# Итог\n",
    "print(f\"Лучшая модель: {best_model_name} с RMSE (на кросс-валидации): {best_rmse}\")"
   ]
  },
  {
   "cell_type": "markdown",
   "metadata": {},
   "source": [
    "На первый взгляд все очевидно: **LightGBM** - самая лучшая и быстрая модель, **RandomForest** - самая худшая. Однако необходимо рассмотреть обучение и предсказание отдельных моделей - самых лучших для каждого вида. Мы определили, что модели **LightGBM** и **CatBoost** показывают лучшие результаты с увеличением параметров n_estimators и max_depth. В связи с этим, а также в целях улучшения метрики RMSE, при анализе моделей предлагается зафиксировать следующие значения гиперпарметров:\n",
    "\n",
    "для **LightGBM** и **CatBoost**:\n",
    "- n_estimators = 200\n",
    "- max_depth = 6\n",
    "\n",
    "для **RandomForest**:\n",
    "- n_estimators = 100\n",
    "- max_depth = 6\n",
    "- min_samples_leaf = 3"
   ]
  },
  {
   "cell_type": "markdown",
   "metadata": {},
   "source": [
    "## Анализ моделей"
   ]
  },
  {
   "cell_type": "markdown",
   "metadata": {},
   "source": [
    "Анализ моделей произведем при помощи валидационной выборки."
   ]
  },
  {
   "cell_type": "code",
   "execution_count": null,
   "metadata": {},
   "outputs": [],
   "source": [
    "# Функция для вывода информации о модели\n",
    "def print_model_info(model_name, grid, X_train, y_train):\n",
    "    # Время обучения модели\n",
    "    start_fit = time.time()\n",
    "    grid.best_estimator_.fit(X_train, y_train)\n",
    "    fit_time = time.time() - start_fit\n",
    "\n",
    "    # RMSE из кросс-валидации\n",
    "    rmse = -grid.best_score_\n",
    "\n",
    "    # Время предсказания\n",
    "    start_predict = time.time()\n",
    "    _ = grid.best_estimator_.predict(X_train)  # Предсказания на тренировочной выборке\n",
    "    predict_time = time.time() - start_predict\n",
    "\n",
    "    print(f'Модель: {model_name}')\n",
    "    print(f'Средний RMSE (на кросс-валидации): {rmse:.4f}')\n",
    "    print(f'Время обучения: {fit_time:.2f} секунд')\n",
    "    print(f'Время предсказания: {predict_time:.2f} секунд')\n",
    "    print('-' * 50)\n",
    "\n",
    "    return rmse, fit_time, predict_time\n",
    "\n",
    "# Анализ моделей\n",
    "results = pd.DataFrame(columns=['Model', 'Fit Time (s)', 'Predict Time (s)', 'Mean RMSE'])"
   ]
  },
  {
   "cell_type": "code",
   "execution_count": null,
   "metadata": {},
   "outputs": [],
   "source": [
    "# CatBoost\n",
    "cat_rmse, cat_fit_time, cat_predict_time = print_model_info(\"CatBoost\", cat_grid, X_train, y_train)\n",
    "results = results.append({\n",
    "    'Model': 'CatBoost',\n",
    "    'Fit Time (s)': cat_fit_time,\n",
    "    'Predict Time (s)': cat_predict_time,\n",
    "    'Mean RMSE': cat_rmse\n",
    "}, ignore_index=True)"
   ]
  },
  {
   "cell_type": "code",
   "execution_count": null,
   "metadata": {},
   "outputs": [],
   "source": [
    "# Random Forest\n",
    "rf_rmse, rf_fit_time, rf_predict_time = print_model_info(\"Random Forest\", rf_grid, X_train_encoded, y_train)\n",
    "results = results.append({\n",
    "    'Model': 'Random Forest',\n",
    "    'Fit Time (s)': rf_fit_time,\n",
    "    'Predict Time (s)': rf_predict_time,\n",
    "    'Mean RMSE': rf_rmse\n",
    "}, ignore_index=True)"
   ]
  },
  {
   "cell_type": "code",
   "execution_count": null,
   "metadata": {},
   "outputs": [],
   "source": [
    "# LightGBM\n",
    "light_rmse, light_fit_time, light_predict_time = print_model_info(\"LightGBM\", light_grid, X_train, y_train)\n",
    "results = results.append({\n",
    "    'Model': 'LightGBM',\n",
    "    'Fit Time (s)': light_fit_time,\n",
    "    'Predict Time (s)': light_predict_time,\n",
    "    'Mean RMSE': light_rmse\n",
    "}, ignore_index=True)"
   ]
  },
  {
   "cell_type": "code",
   "execution_count": null,
   "metadata": {},
   "outputs": [],
   "source": [
    "# Проверка на тестовой выборке\n",
    "if best_model_name == \"Random Forest\":\n",
    "    best_model.fit(X_train_encoded, y_train)\n",
    "    test_predictions = best_model.predict(X_test_encoded)\n",
    "else:\n",
    "    best_model.fit(X_train, y_train)\n",
    "    test_predictions = best_model.predict(X_test)\n",
    "\n",
    "test_rmse = mean_squared_error(y_test, test_predictions, squared=False)\n",
    "print(f\"RMSE на тестовой выборке для модели {best_model_name}: {test_rmse}\")"
   ]
  },
  {
   "cell_type": "code",
   "execution_count": null,
   "metadata": {},
   "outputs": [],
   "source": [
    "# Итоговая таблица результатов\n",
    "\n",
    "results.sort_values(by='Mean RMSE')"
   ]
  },
  {
   "cell_type": "markdown",
   "metadata": {},
   "source": [
    "# Итоговый вывод"
   ]
  },
  {
   "cell_type": "markdown",
   "metadata": {},
   "source": [
    "**Качество предсказания**\n",
    "\n",
    "По этому показателю, самой лучшей оказалась модель **LightGBM** с показателем RMSE = 1570. Данные показатели можно улучшить путем подбора большего числа гиперпараметров, но это в свою очередь потребует дополнительного значительного временного ресурса.\n",
    "\n",
    "**Время обучения**\n",
    "\n",
    "По времени обучения модель **LightGBM** также фаворит. Ее показатель в 4,5 раза лучше показателя **CatBoost**  и в 3 раза - **RandomForest**.\n",
    "\n",
    "**Время предсказания**\n",
    "\n",
    "По этому показателю наблюдаем иную картину. **LightGBM** быстрее всех предсказывает значения, показатель этой модели почти в 7 раз лучше показателя **CatBoost** и в 5 раза лучше показателя **RandomForest**.\n",
    "\n",
    "Подводя итог, отметим следующее: в практической деятельности главными показателями являются точность и время предсказания. Обучение моделей хотя и является периодическим процессом, но не таким частым, как предсказание. Следовательно, можем заключить, что самым рациональным будет подбор гиперпараметров модели **LightGBM**."
   ]
  }
 ],
 "metadata": {
  "ExecuteTimeLog": [
   {
    "duration": 1587,
    "start_time": "2024-11-19T08:57:29.169Z"
   },
   {
    "duration": 1449,
    "start_time": "2024-11-19T08:57:40.675Z"
   },
   {
    "duration": 1129,
    "start_time": "2024-11-19T08:59:00.738Z"
   },
   {
    "duration": 7,
    "start_time": "2024-11-19T09:00:06.463Z"
   },
   {
    "duration": 876,
    "start_time": "2024-11-19T09:00:08.467Z"
   },
   {
    "duration": 68,
    "start_time": "2024-11-19T09:06:21.650Z"
   },
   {
    "duration": 66,
    "start_time": "2024-11-19T09:07:30.450Z"
   },
   {
    "duration": 67,
    "start_time": "2024-11-19T09:11:16.694Z"
   },
   {
    "duration": 2,
    "start_time": "2024-11-19T09:13:07.395Z"
   },
   {
    "duration": 878,
    "start_time": "2024-11-19T09:13:26.811Z"
   },
   {
    "duration": 1013,
    "start_time": "2024-11-19T09:13:41.778Z"
   },
   {
    "duration": 306,
    "start_time": "2024-11-19T10:51:36.592Z"
   },
   {
    "duration": 291,
    "start_time": "2024-11-19T10:56:41.580Z"
   },
   {
    "duration": 54,
    "start_time": "2024-11-19T12:43:16.331Z"
   },
   {
    "duration": 7223,
    "start_time": "2024-11-19T12:44:26.420Z"
   },
   {
    "duration": 2571,
    "start_time": "2024-11-19T12:44:59.197Z"
   },
   {
    "duration": 2630,
    "start_time": "2024-11-19T12:45:15.620Z"
   },
   {
    "duration": 1720,
    "start_time": "2024-11-19T12:45:18.252Z"
   },
   {
    "duration": 3552,
    "start_time": "2024-11-19T12:45:19.974Z"
   },
   {
    "duration": 398,
    "start_time": "2024-11-19T12:45:23.529Z"
   },
   {
    "duration": 139,
    "start_time": "2024-11-19T12:45:23.929Z"
   },
   {
    "duration": 9,
    "start_time": "2024-11-19T12:46:57.083Z"
   },
   {
    "duration": 8,
    "start_time": "2024-11-19T12:47:17.454Z"
   },
   {
    "duration": 34,
    "start_time": "2024-11-19T12:51:29.908Z"
   },
   {
    "duration": 46,
    "start_time": "2024-11-19T13:16:58.100Z"
   },
   {
    "duration": 50,
    "start_time": "2024-11-19T13:17:05.787Z"
   },
   {
    "duration": 2575,
    "start_time": "2024-11-19T13:23:47.507Z"
   },
   {
    "duration": 1704,
    "start_time": "2024-11-19T13:23:50.085Z"
   },
   {
    "duration": 1156,
    "start_time": "2024-11-19T13:23:51.791Z"
   },
   {
    "duration": 359,
    "start_time": "2024-11-19T13:23:52.949Z"
   },
   {
    "duration": 51,
    "start_time": "2024-11-19T13:23:53.310Z"
   },
   {
    "duration": 6,
    "start_time": "2024-11-19T13:23:53.363Z"
   },
   {
    "duration": 23,
    "start_time": "2024-11-19T13:28:40.603Z"
   },
   {
    "duration": 37,
    "start_time": "2024-11-19T13:28:48.648Z"
   },
   {
    "duration": 27,
    "start_time": "2024-11-19T13:28:55.156Z"
   },
   {
    "duration": 2641,
    "start_time": "2024-11-19T13:33:28.463Z"
   },
   {
    "duration": 1680,
    "start_time": "2024-11-19T13:33:31.106Z"
   },
   {
    "duration": 1158,
    "start_time": "2024-11-19T13:33:32.787Z"
   },
   {
    "duration": 22,
    "start_time": "2024-11-19T13:33:33.947Z"
   },
   {
    "duration": 109,
    "start_time": "2024-11-19T13:33:33.971Z"
   },
   {
    "duration": 31,
    "start_time": "2024-11-19T13:38:54.288Z"
   },
   {
    "duration": 34,
    "start_time": "2024-11-19T13:47:44.558Z"
   },
   {
    "duration": 68,
    "start_time": "2024-11-19T13:47:44.910Z"
   },
   {
    "duration": 19,
    "start_time": "2024-11-19T13:47:45.346Z"
   },
   {
    "duration": 5,
    "start_time": "2024-11-19T13:48:54.853Z"
   },
   {
    "duration": 95,
    "start_time": "2024-11-19T13:51:18.493Z"
   },
   {
    "duration": 4833,
    "start_time": "2024-11-19T13:52:36.882Z"
   },
   {
    "duration": 16,
    "start_time": "2024-11-19T13:52:41.717Z"
   },
   {
    "duration": 120,
    "start_time": "2024-11-19T13:52:41.735Z"
   },
   {
    "duration": 88,
    "start_time": "2024-11-19T13:52:54.324Z"
   },
   {
    "duration": 5231,
    "start_time": "2024-11-19T13:55:53.223Z"
   },
   {
    "duration": 288,
    "start_time": "2024-11-19T13:55:58.456Z"
   },
   {
    "duration": 23,
    "start_time": "2024-11-19T13:59:36.200Z"
   },
   {
    "duration": 5054,
    "start_time": "2024-11-19T13:59:36.964Z"
   },
   {
    "duration": 19,
    "start_time": "2024-11-19T13:59:42.020Z"
   },
   {
    "duration": 170,
    "start_time": "2024-11-19T13:59:42.041Z"
   },
   {
    "duration": 5162,
    "start_time": "2024-11-19T14:01:14.264Z"
   },
   {
    "duration": 5279,
    "start_time": "2024-11-19T14:01:19.429Z"
   },
   {
    "duration": 0,
    "start_time": "2024-11-19T14:01:24.711Z"
   },
   {
    "duration": 65,
    "start_time": "2024-11-19T14:02:06.023Z"
   },
   {
    "duration": 53,
    "start_time": "2024-11-19T14:02:21.900Z"
   },
   {
    "duration": 2,
    "start_time": "2024-11-19T14:02:46.269Z"
   },
   {
    "duration": 3,
    "start_time": "2024-11-19T14:02:46.931Z"
   },
   {
    "duration": 13,
    "start_time": "2024-11-19T14:04:57.003Z"
   },
   {
    "duration": 114,
    "start_time": "2024-11-19T14:08:36.436Z"
   },
   {
    "duration": 17,
    "start_time": "2024-11-19T14:09:17.309Z"
   },
   {
    "duration": 19,
    "start_time": "2024-11-19T14:09:32.243Z"
   },
   {
    "duration": 128,
    "start_time": "2024-11-19T14:09:52.134Z"
   },
   {
    "duration": 13,
    "start_time": "2024-11-19T14:10:13.702Z"
   },
   {
    "duration": 10,
    "start_time": "2024-11-19T14:12:06.669Z"
   },
   {
    "duration": 9,
    "start_time": "2024-11-19T14:13:53.720Z"
   },
   {
    "duration": 20,
    "start_time": "2024-11-19T14:18:11.328Z"
   },
   {
    "duration": 157,
    "start_time": "2024-11-19T14:25:23.470Z"
   },
   {
    "duration": 2642,
    "start_time": "2024-11-19T14:26:28.249Z"
   },
   {
    "duration": 1594,
    "start_time": "2024-11-19T14:26:30.894Z"
   },
   {
    "duration": 1165,
    "start_time": "2024-11-19T14:26:32.490Z"
   },
   {
    "duration": 22,
    "start_time": "2024-11-19T14:26:33.656Z"
   },
   {
    "duration": 192,
    "start_time": "2024-11-19T14:26:33.680Z"
   },
   {
    "duration": 49,
    "start_time": "2024-11-19T14:26:33.875Z"
   },
   {
    "duration": 2701,
    "start_time": "2024-11-19T14:27:55.045Z"
   },
   {
    "duration": 1544,
    "start_time": "2024-11-19T14:27:57.748Z"
   },
   {
    "duration": 1201,
    "start_time": "2024-11-19T14:27:59.294Z"
   },
   {
    "duration": 28,
    "start_time": "2024-11-19T14:28:00.497Z"
   },
   {
    "duration": 180,
    "start_time": "2024-11-19T14:28:00.527Z"
   },
   {
    "duration": 29,
    "start_time": "2024-11-19T14:28:00.709Z"
   },
   {
    "duration": 1347,
    "start_time": "2024-11-19T14:34:07.526Z"
   },
   {
    "duration": 14,
    "start_time": "2024-11-19T14:34:33.855Z"
   },
   {
    "duration": 70,
    "start_time": "2024-11-19T14:34:50.425Z"
   },
   {
    "duration": 1735,
    "start_time": "2024-11-19T14:35:36.655Z"
   },
   {
    "duration": 29,
    "start_time": "2024-11-19T14:35:48.290Z"
   },
   {
    "duration": 110,
    "start_time": "2024-11-19T14:36:02.093Z"
   },
   {
    "duration": 66,
    "start_time": "2024-11-19T14:39:10.721Z"
   },
   {
    "duration": 67,
    "start_time": "2024-11-19T14:39:27.597Z"
   },
   {
    "duration": 74,
    "start_time": "2024-11-19T14:39:35.149Z"
   },
   {
    "duration": 83,
    "start_time": "2024-11-19T14:40:06.911Z"
   },
   {
    "duration": 171,
    "start_time": "2024-11-19T14:40:21.120Z"
   },
   {
    "duration": 164,
    "start_time": "2024-11-19T14:46:11.213Z"
   },
   {
    "duration": 207,
    "start_time": "2024-11-19T14:48:12.196Z"
   },
   {
    "duration": 266,
    "start_time": "2024-11-19T14:49:47.262Z"
   },
   {
    "duration": 281,
    "start_time": "2024-11-19T14:52:22.263Z"
   },
   {
    "duration": 252,
    "start_time": "2024-11-19T14:52:49.995Z"
   },
   {
    "duration": 2755,
    "start_time": "2024-11-19T15:09:26.147Z"
   },
   {
    "duration": 1735,
    "start_time": "2024-11-19T15:09:28.904Z"
   },
   {
    "duration": 1230,
    "start_time": "2024-11-19T15:09:30.641Z"
   },
   {
    "duration": 36,
    "start_time": "2024-11-19T15:09:31.874Z"
   },
   {
    "duration": 2862,
    "start_time": "2024-11-19T15:13:06.028Z"
   },
   {
    "duration": 1689,
    "start_time": "2024-11-19T15:13:08.893Z"
   },
   {
    "duration": 1223,
    "start_time": "2024-11-19T15:13:10.584Z"
   },
   {
    "duration": 42,
    "start_time": "2024-11-19T15:13:11.809Z"
   },
   {
    "duration": 2787,
    "start_time": "2024-11-19T15:18:14.133Z"
   },
   {
    "duration": 1629,
    "start_time": "2024-11-19T15:18:16.927Z"
   },
   {
    "duration": 1219,
    "start_time": "2024-11-19T15:18:18.558Z"
   },
   {
    "duration": 23,
    "start_time": "2024-11-19T15:18:19.778Z"
   },
   {
    "duration": 3755,
    "start_time": "2024-11-19T15:18:19.804Z"
   },
   {
    "duration": 328,
    "start_time": "2024-11-19T15:18:37.802Z"
   },
   {
    "duration": 169,
    "start_time": "2024-11-19T15:20:10.108Z"
   },
   {
    "duration": 251,
    "start_time": "2024-11-19T15:27:26.857Z"
   },
   {
    "duration": 6,
    "start_time": "2024-11-19T16:16:30.784Z"
   },
   {
    "duration": 2,
    "start_time": "2024-11-19T16:17:39.828Z"
   },
   {
    "duration": 58,
    "start_time": "2024-11-19T16:18:09.385Z"
   },
   {
    "duration": 132,
    "start_time": "2024-11-19T16:23:29.438Z"
   },
   {
    "duration": 2517,
    "start_time": "2024-11-19T16:23:41.132Z"
   },
   {
    "duration": 1561,
    "start_time": "2024-11-19T16:23:43.652Z"
   },
   {
    "duration": 1217,
    "start_time": "2024-11-19T16:23:45.215Z"
   },
   {
    "duration": 7,
    "start_time": "2024-11-19T16:23:46.434Z"
   },
   {
    "duration": 55,
    "start_time": "2024-11-19T16:23:46.443Z"
   },
   {
    "duration": 451,
    "start_time": "2024-11-19T16:23:46.500Z"
   },
   {
    "duration": 23,
    "start_time": "2024-11-19T16:23:46.952Z"
   },
   {
    "duration": 2483,
    "start_time": "2024-11-19T16:23:46.977Z"
   },
   {
    "duration": 122,
    "start_time": "2024-11-19T16:24:11.157Z"
   },
   {
    "duration": 105,
    "start_time": "2024-11-19T16:24:46.111Z"
   },
   {
    "duration": 7,
    "start_time": "2024-11-19T16:31:49.795Z"
   },
   {
    "duration": 6,
    "start_time": "2024-11-19T16:32:11.943Z"
   },
   {
    "duration": 5,
    "start_time": "2024-11-19T16:34:27.707Z"
   },
   {
    "duration": 4,
    "start_time": "2024-11-19T16:34:39.613Z"
   },
   {
    "duration": 21,
    "start_time": "2024-11-19T16:35:02.515Z"
   },
   {
    "duration": 5,
    "start_time": "2024-11-19T16:35:26.894Z"
   },
   {
    "duration": 2507,
    "start_time": "2024-11-19T18:35:32.276Z"
   },
   {
    "duration": 1648,
    "start_time": "2024-11-19T18:35:34.786Z"
   },
   {
    "duration": 1196,
    "start_time": "2024-11-19T18:35:36.436Z"
   },
   {
    "duration": 5,
    "start_time": "2024-11-19T18:35:37.633Z"
   },
   {
    "duration": 76,
    "start_time": "2024-11-19T18:35:37.640Z"
   },
   {
    "duration": 62,
    "start_time": "2024-11-19T18:35:37.718Z"
   },
   {
    "duration": 343,
    "start_time": "2024-11-19T18:35:37.783Z"
   },
   {
    "duration": 128,
    "start_time": "2024-11-19T18:35:38.128Z"
   },
   {
    "duration": 0,
    "start_time": "2024-11-19T18:35:38.258Z"
   },
   {
    "duration": 0,
    "start_time": "2024-11-19T18:35:38.260Z"
   },
   {
    "duration": 107,
    "start_time": "2024-11-19T18:41:58.568Z"
   },
   {
    "duration": 121,
    "start_time": "2024-11-19T18:42:12.119Z"
   },
   {
    "duration": 93,
    "start_time": "2024-11-19T18:42:31.475Z"
   },
   {
    "duration": 13,
    "start_time": "2024-11-19T18:48:25.632Z"
   },
   {
    "duration": 5878,
    "start_time": "2024-11-19T18:49:40.238Z"
   },
   {
    "duration": 1540,
    "start_time": "2024-11-19T18:49:46.119Z"
   },
   {
    "duration": 1148,
    "start_time": "2024-11-19T18:49:47.661Z"
   },
   {
    "duration": 11,
    "start_time": "2024-11-19T18:49:48.810Z"
   },
   {
    "duration": 60,
    "start_time": "2024-11-19T18:49:48.824Z"
   },
   {
    "duration": 61,
    "start_time": "2024-11-19T18:49:48.886Z"
   },
   {
    "duration": 298,
    "start_time": "2024-11-19T18:49:48.949Z"
   },
   {
    "duration": 5256,
    "start_time": "2024-11-19T18:51:48.738Z"
   },
   {
    "duration": 1708,
    "start_time": "2024-11-19T18:51:53.997Z"
   },
   {
    "duration": 1140,
    "start_time": "2024-11-19T18:51:55.707Z"
   },
   {
    "duration": 5,
    "start_time": "2024-11-19T18:51:56.849Z"
   },
   {
    "duration": 67,
    "start_time": "2024-11-19T18:51:56.856Z"
   },
   {
    "duration": 53,
    "start_time": "2024-11-19T18:51:56.925Z"
   },
   {
    "duration": 323,
    "start_time": "2024-11-19T18:51:56.980Z"
   },
   {
    "duration": 5122,
    "start_time": "2024-11-19T18:54:20.617Z"
   },
   {
    "duration": 1672,
    "start_time": "2024-11-19T18:54:25.741Z"
   },
   {
    "duration": 1119,
    "start_time": "2024-11-19T18:54:27.415Z"
   },
   {
    "duration": 5,
    "start_time": "2024-11-19T18:54:28.536Z"
   },
   {
    "duration": 52,
    "start_time": "2024-11-19T18:54:28.543Z"
   },
   {
    "duration": 66,
    "start_time": "2024-11-19T18:54:28.597Z"
   },
   {
    "duration": 311,
    "start_time": "2024-11-19T18:54:28.665Z"
   },
   {
    "duration": 5088,
    "start_time": "2024-11-19T18:56:13.754Z"
   },
   {
    "duration": 1700,
    "start_time": "2024-11-19T18:56:18.844Z"
   },
   {
    "duration": 1124,
    "start_time": "2024-11-19T18:56:20.546Z"
   },
   {
    "duration": 6,
    "start_time": "2024-11-19T18:56:21.672Z"
   },
   {
    "duration": 70,
    "start_time": "2024-11-19T18:56:21.679Z"
   },
   {
    "duration": 63,
    "start_time": "2024-11-19T18:56:21.751Z"
   },
   {
    "duration": 321,
    "start_time": "2024-11-19T18:56:21.821Z"
   },
   {
    "duration": 21,
    "start_time": "2024-11-19T18:56:22.144Z"
   },
   {
    "duration": 2449,
    "start_time": "2024-11-19T18:56:22.166Z"
   },
   {
    "duration": 5142,
    "start_time": "2024-11-19T18:57:31.198Z"
   },
   {
    "duration": 1694,
    "start_time": "2024-11-19T18:57:36.342Z"
   },
   {
    "duration": 1107,
    "start_time": "2024-11-19T18:57:38.039Z"
   },
   {
    "duration": 5,
    "start_time": "2024-11-19T18:57:39.148Z"
   },
   {
    "duration": 52,
    "start_time": "2024-11-19T18:57:39.155Z"
   },
   {
    "duration": 59,
    "start_time": "2024-11-19T18:57:39.208Z"
   },
   {
    "duration": 325,
    "start_time": "2024-11-19T18:57:39.268Z"
   },
   {
    "duration": 6,
    "start_time": "2024-11-19T18:57:39.594Z"
   },
   {
    "duration": 33,
    "start_time": "2024-11-19T18:57:39.602Z"
   },
   {
    "duration": 2391,
    "start_time": "2024-11-19T18:57:39.637Z"
   },
   {
    "duration": 101,
    "start_time": "2024-11-19T19:04:36.791Z"
   },
   {
    "duration": 110,
    "start_time": "2024-11-19T19:04:44.112Z"
   },
   {
    "duration": 86,
    "start_time": "2024-11-19T19:08:12.888Z"
   },
   {
    "duration": 65,
    "start_time": "2024-11-19T19:09:59.206Z"
   },
   {
    "duration": 64,
    "start_time": "2024-11-19T19:10:11.543Z"
   },
   {
    "duration": 68,
    "start_time": "2024-11-19T19:10:39.728Z"
   },
   {
    "duration": 52,
    "start_time": "2024-11-19T19:10:45.369Z"
   },
   {
    "duration": 50,
    "start_time": "2024-11-19T19:10:50.752Z"
   },
   {
    "duration": 8,
    "start_time": "2024-11-19T19:14:13.987Z"
   },
   {
    "duration": 52,
    "start_time": "2024-11-20T07:04:31.219Z"
   },
   {
    "duration": 10029,
    "start_time": "2024-11-20T07:04:43.604Z"
   },
   {
    "duration": 1836,
    "start_time": "2024-11-20T07:04:53.635Z"
   },
   {
    "duration": 1430,
    "start_time": "2024-11-20T07:04:55.474Z"
   },
   {
    "duration": 35,
    "start_time": "2024-11-20T07:04:56.906Z"
   },
   {
    "duration": 5,
    "start_time": "2024-11-20T07:04:56.943Z"
   },
   {
    "duration": 74,
    "start_time": "2024-11-20T07:04:56.950Z"
   },
   {
    "duration": 70,
    "start_time": "2024-11-20T07:04:57.026Z"
   },
   {
    "duration": 305,
    "start_time": "2024-11-20T07:04:57.097Z"
   },
   {
    "duration": 6,
    "start_time": "2024-11-20T07:04:57.404Z"
   },
   {
    "duration": 49,
    "start_time": "2024-11-20T07:04:57.411Z"
   },
   {
    "duration": 25,
    "start_time": "2024-11-20T07:04:57.462Z"
   },
   {
    "duration": 2480,
    "start_time": "2024-11-20T07:04:57.488Z"
   },
   {
    "duration": 18,
    "start_time": "2024-11-20T07:05:15.531Z"
   },
   {
    "duration": 32,
    "start_time": "2024-11-20T07:05:22.578Z"
   },
   {
    "duration": 5233,
    "start_time": "2024-11-20T07:07:26.647Z"
   },
   {
    "duration": 2839,
    "start_time": "2024-11-20T07:07:31.883Z"
   },
   {
    "duration": 1197,
    "start_time": "2024-11-20T07:07:34.724Z"
   },
   {
    "duration": 31,
    "start_time": "2024-11-20T07:07:35.923Z"
   },
   {
    "duration": 15220,
    "start_time": "2024-11-20T07:10:58.636Z"
   },
   {
    "duration": 2006,
    "start_time": "2024-11-20T07:11:13.859Z"
   },
   {
    "duration": 1540,
    "start_time": "2024-11-20T07:11:15.867Z"
   },
   {
    "duration": 43,
    "start_time": "2024-11-20T07:11:17.409Z"
   },
   {
    "duration": 62,
    "start_time": "2024-11-20T07:16:35.680Z"
   },
   {
    "duration": 2535,
    "start_time": "2024-11-20T07:17:26.226Z"
   },
   {
    "duration": 11304,
    "start_time": "2024-11-20T07:17:31.755Z"
   },
   {
    "duration": 2004,
    "start_time": "2024-11-20T07:17:43.061Z"
   },
   {
    "duration": 1469,
    "start_time": "2024-11-20T07:17:45.067Z"
   },
   {
    "duration": 44,
    "start_time": "2024-11-20T07:17:46.539Z"
   },
   {
    "duration": 27640,
    "start_time": "2024-11-20T07:19:57.968Z"
   },
   {
    "duration": 1972,
    "start_time": "2024-11-20T07:20:25.619Z"
   },
   {
    "duration": 0,
    "start_time": "2024-11-20T07:20:27.594Z"
   },
   {
    "duration": 0,
    "start_time": "2024-11-20T07:20:27.595Z"
   },
   {
    "duration": 0,
    "start_time": "2024-11-20T07:20:27.595Z"
   },
   {
    "duration": 0,
    "start_time": "2024-11-20T07:20:27.596Z"
   },
   {
    "duration": 0,
    "start_time": "2024-11-20T07:20:27.603Z"
   },
   {
    "duration": 0,
    "start_time": "2024-11-20T07:20:27.604Z"
   },
   {
    "duration": 0,
    "start_time": "2024-11-20T07:20:27.605Z"
   },
   {
    "duration": 0,
    "start_time": "2024-11-20T07:20:27.605Z"
   },
   {
    "duration": 0,
    "start_time": "2024-11-20T07:20:27.606Z"
   },
   {
    "duration": 0,
    "start_time": "2024-11-20T07:20:27.616Z"
   },
   {
    "duration": 1,
    "start_time": "2024-11-20T07:20:27.616Z"
   },
   {
    "duration": 23916,
    "start_time": "2024-11-20T07:54:58.520Z"
   },
   {
    "duration": 3497,
    "start_time": "2024-11-20T07:55:22.438Z"
   },
   {
    "duration": 2574,
    "start_time": "2024-11-20T07:55:25.936Z"
   },
   {
    "duration": 39,
    "start_time": "2024-11-20T08:11:04.802Z"
   },
   {
    "duration": 14,
    "start_time": "2024-11-20T08:11:25.866Z"
   },
   {
    "duration": 11032,
    "start_time": "2024-11-20T08:13:03.613Z"
   },
   {
    "duration": 1842,
    "start_time": "2024-11-20T08:13:14.647Z"
   },
   {
    "duration": 1090,
    "start_time": "2024-11-20T08:13:16.491Z"
   },
   {
    "duration": 27,
    "start_time": "2024-11-20T08:13:17.583Z"
   },
   {
    "duration": 53,
    "start_time": "2024-11-20T08:17:00.598Z"
   },
   {
    "duration": 11136,
    "start_time": "2024-11-20T08:17:25.148Z"
   },
   {
    "duration": 2840,
    "start_time": "2024-11-20T08:17:36.287Z"
   },
   {
    "duration": 1395,
    "start_time": "2024-11-20T08:17:39.128Z"
   },
   {
    "duration": 18,
    "start_time": "2024-11-20T08:17:40.526Z"
   },
   {
    "duration": 187,
    "start_time": "2024-11-20T08:17:40.545Z"
   },
   {
    "duration": 16,
    "start_time": "2024-11-20T08:20:04.648Z"
   },
   {
    "duration": 2926,
    "start_time": "2024-11-20T08:20:06.208Z"
   },
   {
    "duration": 18,
    "start_time": "2024-11-20T08:20:38.850Z"
   },
   {
    "duration": 2925,
    "start_time": "2024-11-20T08:20:39.851Z"
   },
   {
    "duration": 1466,
    "start_time": "2024-11-20T08:22:34.114Z"
   },
   {
    "duration": 11497,
    "start_time": "2024-11-20T08:23:19.266Z"
   },
   {
    "duration": 1915,
    "start_time": "2024-11-20T08:23:30.766Z"
   },
   {
    "duration": 1115,
    "start_time": "2024-11-20T08:23:32.683Z"
   },
   {
    "duration": 36,
    "start_time": "2024-11-20T08:23:33.800Z"
   },
   {
    "duration": 2805,
    "start_time": "2024-11-20T08:23:33.837Z"
   },
   {
    "duration": 11047,
    "start_time": "2024-11-20T08:23:53.481Z"
   },
   {
    "duration": 1858,
    "start_time": "2024-11-20T08:24:04.531Z"
   },
   {
    "duration": 1115,
    "start_time": "2024-11-20T08:24:06.390Z"
   },
   {
    "duration": 53,
    "start_time": "2024-11-20T08:24:07.507Z"
   },
   {
    "duration": 9924,
    "start_time": "2024-11-20T08:24:07.562Z"
   },
   {
    "duration": 275,
    "start_time": "2024-11-20T08:29:55.295Z"
   },
   {
    "duration": 569,
    "start_time": "2024-11-20T08:30:58.091Z"
   },
   {
    "duration": 9911,
    "start_time": "2024-11-20T08:31:06.822Z"
   },
   {
    "duration": 10362,
    "start_time": "2024-11-20T08:31:48.492Z"
   },
   {
    "duration": 160,
    "start_time": "2024-11-20T09:28:01.139Z"
   },
   {
    "duration": 304,
    "start_time": "2024-11-20T09:28:01.326Z"
   },
   {
    "duration": 12446,
    "start_time": "2024-11-20T09:28:19.121Z"
   },
   {
    "duration": 3082,
    "start_time": "2024-11-20T09:28:31.569Z"
   },
   {
    "duration": 1312,
    "start_time": "2024-11-20T09:28:34.654Z"
   },
   {
    "duration": 67,
    "start_time": "2024-11-20T09:28:35.969Z"
   },
   {
    "duration": 322,
    "start_time": "2024-11-20T09:28:36.038Z"
   },
   {
    "duration": 619,
    "start_time": "2024-11-20T09:28:36.362Z"
   },
   {
    "duration": 12361,
    "start_time": "2024-11-20T09:29:34.750Z"
   },
   {
    "duration": 2017,
    "start_time": "2024-11-20T09:29:47.114Z"
   },
   {
    "duration": 1228,
    "start_time": "2024-11-20T09:29:49.133Z"
   },
   {
    "duration": 69,
    "start_time": "2024-11-20T09:29:50.363Z"
   },
   {
    "duration": 257,
    "start_time": "2024-11-20T09:29:50.435Z"
   },
   {
    "duration": 531,
    "start_time": "2024-11-20T09:29:50.694Z"
   },
   {
    "duration": 7991,
    "start_time": "2024-11-20T09:29:51.227Z"
   },
   {
    "duration": 20,
    "start_time": "2024-11-20T09:29:59.231Z"
   },
   {
    "duration": 30,
    "start_time": "2024-11-20T09:35:21.628Z"
   },
   {
    "duration": 415,
    "start_time": "2024-11-20T09:35:23.428Z"
   },
   {
    "duration": 8573,
    "start_time": "2024-11-20T09:36:19.366Z"
   },
   {
    "duration": 153,
    "start_time": "2024-11-20T09:38:16.622Z"
   },
   {
    "duration": 199,
    "start_time": "2024-11-20T09:38:17.045Z"
   },
   {
    "duration": 434,
    "start_time": "2024-11-20T09:38:20.010Z"
   },
   {
    "duration": 12542,
    "start_time": "2024-11-20T09:38:24.626Z"
   },
   {
    "duration": 2210,
    "start_time": "2024-11-20T09:38:37.171Z"
   },
   {
    "duration": 1317,
    "start_time": "2024-11-20T09:38:39.383Z"
   },
   {
    "duration": 49,
    "start_time": "2024-11-20T09:38:40.714Z"
   },
   {
    "duration": 305,
    "start_time": "2024-11-20T09:38:40.764Z"
   },
   {
    "duration": 595,
    "start_time": "2024-11-20T09:38:41.071Z"
   },
   {
    "duration": 9855,
    "start_time": "2024-11-20T09:38:41.670Z"
   },
   {
    "duration": 24,
    "start_time": "2024-11-20T09:38:51.528Z"
   },
   {
    "duration": 435,
    "start_time": "2024-11-20T09:38:51.554Z"
   },
   {
    "duration": 60118,
    "start_time": "2024-11-20T09:38:51.991Z"
   },
   {
    "duration": 454,
    "start_time": "2024-11-20T09:40:12.153Z"
   },
   {
    "duration": 12442,
    "start_time": "2024-11-20T09:40:23.500Z"
   },
   {
    "duration": 2040,
    "start_time": "2024-11-20T09:40:35.945Z"
   },
   {
    "duration": 1350,
    "start_time": "2024-11-20T09:40:37.986Z"
   },
   {
    "duration": 66,
    "start_time": "2024-11-20T09:40:39.339Z"
   },
   {
    "duration": 301,
    "start_time": "2024-11-20T09:40:39.407Z"
   },
   {
    "duration": 546,
    "start_time": "2024-11-20T09:40:39.711Z"
   },
   {
    "duration": 9832,
    "start_time": "2024-11-20T09:40:40.259Z"
   },
   {
    "duration": 40,
    "start_time": "2024-11-20T09:40:50.093Z"
   },
   {
    "duration": 458,
    "start_time": "2024-11-20T09:40:50.135Z"
   },
   {
    "duration": 10732,
    "start_time": "2024-11-20T09:40:50.601Z"
   },
   {
    "duration": 123,
    "start_time": "2024-11-20T09:47:02.708Z"
   },
   {
    "duration": 1017,
    "start_time": "2024-11-20T09:47:13.467Z"
   },
   {
    "duration": 8,
    "start_time": "2024-11-20T11:44:28.781Z"
   },
   {
    "duration": 55,
    "start_time": "2024-11-20T11:46:07.562Z"
   },
   {
    "duration": 50,
    "start_time": "2024-11-20T11:48:58.151Z"
   },
   {
    "duration": 7,
    "start_time": "2024-11-20T11:50:54.650Z"
   },
   {
    "duration": 150,
    "start_time": "2024-11-20T11:51:04.488Z"
   },
   {
    "duration": 5,
    "start_time": "2024-11-20T11:51:13.032Z"
   },
   {
    "duration": 22,
    "start_time": "2024-11-20T12:03:29.093Z"
   },
   {
    "duration": 4,
    "start_time": "2024-11-20T12:03:30.737Z"
   },
   {
    "duration": 201,
    "start_time": "2024-11-20T12:04:53.841Z"
   },
   {
    "duration": 408,
    "start_time": "2024-11-20T12:05:13.239Z"
   },
   {
    "duration": 20,
    "start_time": "2024-11-20T12:06:08.865Z"
   },
   {
    "duration": 124,
    "start_time": "2024-11-20T12:09:32.299Z"
   },
   {
    "duration": 86,
    "start_time": "2024-11-20T12:14:30.005Z"
   },
   {
    "duration": 17,
    "start_time": "2024-11-20T12:46:48.081Z"
   },
   {
    "duration": 102,
    "start_time": "2024-11-20T12:47:00.014Z"
   },
   {
    "duration": 59,
    "start_time": "2024-11-20T12:47:20.073Z"
   },
   {
    "duration": 9,
    "start_time": "2024-11-20T12:58:30.817Z"
   },
   {
    "duration": 18,
    "start_time": "2024-11-20T12:58:50.903Z"
   },
   {
    "duration": 12,
    "start_time": "2024-11-20T12:59:16.361Z"
   },
   {
    "duration": 11,
    "start_time": "2024-11-20T12:59:43.594Z"
   },
   {
    "duration": 1501,
    "start_time": "2024-11-20T12:59:54.611Z"
   },
   {
    "duration": 0,
    "start_time": "2024-11-20T12:59:56.114Z"
   },
   {
    "duration": 0,
    "start_time": "2024-11-20T12:59:56.116Z"
   },
   {
    "duration": 0,
    "start_time": "2024-11-20T12:59:56.117Z"
   },
   {
    "duration": 0,
    "start_time": "2024-11-20T12:59:56.118Z"
   },
   {
    "duration": 0,
    "start_time": "2024-11-20T12:59:56.120Z"
   },
   {
    "duration": 0,
    "start_time": "2024-11-20T12:59:56.121Z"
   },
   {
    "duration": 0,
    "start_time": "2024-11-20T12:59:56.122Z"
   },
   {
    "duration": 0,
    "start_time": "2024-11-20T12:59:56.123Z"
   },
   {
    "duration": 0,
    "start_time": "2024-11-20T12:59:56.125Z"
   },
   {
    "duration": 0,
    "start_time": "2024-11-20T12:59:56.125Z"
   },
   {
    "duration": 0,
    "start_time": "2024-11-20T12:59:56.127Z"
   },
   {
    "duration": 0,
    "start_time": "2024-11-20T12:59:56.127Z"
   },
   {
    "duration": 1441,
    "start_time": "2024-11-20T13:01:26.813Z"
   },
   {
    "duration": 1199,
    "start_time": "2024-11-20T13:01:28.256Z"
   },
   {
    "duration": 5,
    "start_time": "2024-11-20T13:01:29.457Z"
   },
   {
    "duration": 74,
    "start_time": "2024-11-20T13:01:29.464Z"
   },
   {
    "duration": 48,
    "start_time": "2024-11-20T13:01:29.540Z"
   },
   {
    "duration": 39,
    "start_time": "2024-11-20T13:01:29.598Z"
   },
   {
    "duration": 4,
    "start_time": "2024-11-20T13:01:29.639Z"
   },
   {
    "duration": 264,
    "start_time": "2024-11-20T13:01:29.644Z"
   },
   {
    "duration": 461,
    "start_time": "2024-11-20T13:01:29.910Z"
   },
   {
    "duration": 89,
    "start_time": "2024-11-20T13:01:30.373Z"
   },
   {
    "duration": 120,
    "start_time": "2024-11-20T13:01:30.464Z"
   },
   {
    "duration": 65,
    "start_time": "2024-11-20T13:01:30.586Z"
   },
   {
    "duration": 154,
    "start_time": "2024-11-20T13:01:30.653Z"
   },
   {
    "duration": 13,
    "start_time": "2024-11-20T13:02:47.037Z"
   },
   {
    "duration": 9,
    "start_time": "2024-11-20T13:03:00.253Z"
   },
   {
    "duration": 71,
    "start_time": "2024-11-20T13:10:01.287Z"
   },
   {
    "duration": 77,
    "start_time": "2024-11-20T13:11:26.150Z"
   },
   {
    "duration": 11,
    "start_time": "2024-11-20T13:12:30.367Z"
   },
   {
    "duration": 7,
    "start_time": "2024-11-20T13:14:28.859Z"
   },
   {
    "duration": 63,
    "start_time": "2024-11-20T13:16:58.719Z"
   },
   {
    "duration": 24,
    "start_time": "2024-11-20T13:17:06.439Z"
   },
   {
    "duration": 3,
    "start_time": "2024-11-20T13:20:56.192Z"
   },
   {
    "duration": 539,
    "start_time": "2024-11-20T13:20:57.367Z"
   },
   {
    "duration": 23,
    "start_time": "2024-11-20T13:21:20.611Z"
   },
   {
    "duration": 2,
    "start_time": "2024-11-20T13:24:02.232Z"
   },
   {
    "duration": 436,
    "start_time": "2024-11-20T13:24:03.152Z"
   },
   {
    "duration": 23,
    "start_time": "2024-11-20T13:24:55.775Z"
   },
   {
    "duration": 266,
    "start_time": "2024-11-20T13:35:08.389Z"
   },
   {
    "duration": 13,
    "start_time": "2024-11-20T13:35:25.086Z"
   },
   {
    "duration": 13,
    "start_time": "2024-11-20T14:09:13.473Z"
   },
   {
    "duration": 1474,
    "start_time": "2024-11-20T14:28:16.965Z"
   },
   {
    "duration": 1159,
    "start_time": "2024-11-20T14:28:18.441Z"
   },
   {
    "duration": 7,
    "start_time": "2024-11-20T14:28:19.602Z"
   },
   {
    "duration": 57,
    "start_time": "2024-11-20T14:28:19.611Z"
   },
   {
    "duration": 66,
    "start_time": "2024-11-20T14:28:19.670Z"
   },
   {
    "duration": 33,
    "start_time": "2024-11-20T14:28:19.737Z"
   },
   {
    "duration": 8,
    "start_time": "2024-11-20T14:28:19.771Z"
   },
   {
    "duration": 239,
    "start_time": "2024-11-20T14:28:19.782Z"
   },
   {
    "duration": 416,
    "start_time": "2024-11-20T14:28:20.022Z"
   },
   {
    "duration": 97,
    "start_time": "2024-11-20T14:28:20.441Z"
   },
   {
    "duration": 184,
    "start_time": "2024-11-20T14:28:20.539Z"
   },
   {
    "duration": 60,
    "start_time": "2024-11-20T14:28:20.725Z"
   },
   {
    "duration": 30,
    "start_time": "2024-11-20T14:28:20.787Z"
   },
   {
    "duration": 559,
    "start_time": "2024-11-20T14:28:20.819Z"
   },
   {
    "duration": 1418,
    "start_time": "2024-11-20T14:30:13.287Z"
   },
   {
    "duration": 1102,
    "start_time": "2024-11-20T14:30:14.707Z"
   },
   {
    "duration": 7,
    "start_time": "2024-11-20T14:30:15.811Z"
   },
   {
    "duration": 87,
    "start_time": "2024-11-20T14:30:15.820Z"
   },
   {
    "duration": 50,
    "start_time": "2024-11-20T14:30:15.910Z"
   },
   {
    "duration": 40,
    "start_time": "2024-11-20T14:30:15.961Z"
   },
   {
    "duration": 15,
    "start_time": "2024-11-20T14:30:16.003Z"
   },
   {
    "duration": 223,
    "start_time": "2024-11-20T14:30:16.021Z"
   },
   {
    "duration": 418,
    "start_time": "2024-11-20T14:30:16.246Z"
   },
   {
    "duration": 88,
    "start_time": "2024-11-20T14:30:16.666Z"
   },
   {
    "duration": 133,
    "start_time": "2024-11-20T14:30:16.755Z"
   },
   {
    "duration": 62,
    "start_time": "2024-11-20T14:30:16.889Z"
   },
   {
    "duration": 61,
    "start_time": "2024-11-20T14:30:16.952Z"
   },
   {
    "duration": 20977,
    "start_time": "2024-11-20T14:30:17.016Z"
   },
   {
    "duration": 19212,
    "start_time": "2024-11-20T14:38:23.305Z"
   },
   {
    "duration": 19301,
    "start_time": "2024-11-20T14:42:53.842Z"
   },
   {
    "duration": 19376,
    "start_time": "2024-11-20T14:43:20.433Z"
   },
   {
    "duration": 20,
    "start_time": "2024-11-20T15:07:13.743Z"
   },
   {
    "duration": 22,
    "start_time": "2024-11-20T15:07:41.516Z"
   },
   {
    "duration": 51,
    "start_time": "2024-11-20T15:15:04.370Z"
   },
   {
    "duration": 1423,
    "start_time": "2024-11-20T15:18:03.707Z"
   },
   {
    "duration": 1106,
    "start_time": "2024-11-20T15:18:05.132Z"
   },
   {
    "duration": 6,
    "start_time": "2024-11-20T15:18:06.239Z"
   },
   {
    "duration": 70,
    "start_time": "2024-11-20T15:18:06.247Z"
   },
   {
    "duration": 73,
    "start_time": "2024-11-20T15:18:06.318Z"
   },
   {
    "duration": 61,
    "start_time": "2024-11-20T15:18:06.393Z"
   },
   {
    "duration": 19,
    "start_time": "2024-11-20T15:18:06.456Z"
   },
   {
    "duration": 246,
    "start_time": "2024-11-20T15:18:06.476Z"
   },
   {
    "duration": 443,
    "start_time": "2024-11-20T15:18:06.723Z"
   },
   {
    "duration": 92,
    "start_time": "2024-11-20T15:18:07.168Z"
   },
   {
    "duration": 106,
    "start_time": "2024-11-20T15:18:07.261Z"
   },
   {
    "duration": 64,
    "start_time": "2024-11-20T15:18:07.368Z"
   },
   {
    "duration": 24,
    "start_time": "2024-11-20T15:18:07.433Z"
   },
   {
    "duration": 14,
    "start_time": "2024-11-20T15:18:07.459Z"
   },
   {
    "duration": 18838,
    "start_time": "2024-11-20T15:18:07.474Z"
   },
   {
    "duration": 46,
    "start_time": "2024-11-20T15:18:26.314Z"
   },
   {
    "duration": 7714,
    "start_time": "2024-11-20T15:18:34.515Z"
   },
   {
    "duration": 20,
    "start_time": "2024-11-20T15:22:46.967Z"
   },
   {
    "duration": 1444,
    "start_time": "2024-11-20T15:34:16.038Z"
   },
   {
    "duration": 1226,
    "start_time": "2024-11-20T15:34:17.485Z"
   },
   {
    "duration": 7,
    "start_time": "2024-11-20T15:34:18.713Z"
   },
   {
    "duration": 74,
    "start_time": "2024-11-20T15:34:18.722Z"
   },
   {
    "duration": 55,
    "start_time": "2024-11-20T15:34:18.800Z"
   },
   {
    "duration": 28,
    "start_time": "2024-11-20T15:34:18.857Z"
   },
   {
    "duration": 26,
    "start_time": "2024-11-20T15:34:18.886Z"
   },
   {
    "duration": 244,
    "start_time": "2024-11-20T15:34:18.914Z"
   },
   {
    "duration": 464,
    "start_time": "2024-11-20T15:34:19.160Z"
   },
   {
    "duration": 98,
    "start_time": "2024-11-20T15:34:19.626Z"
   },
   {
    "duration": 115,
    "start_time": "2024-11-20T15:34:19.725Z"
   },
   {
    "duration": 77,
    "start_time": "2024-11-20T15:34:19.842Z"
   },
   {
    "duration": 14,
    "start_time": "2024-11-20T15:34:19.921Z"
   },
   {
    "duration": 16,
    "start_time": "2024-11-20T15:34:19.937Z"
   },
   {
    "duration": 19657,
    "start_time": "2024-11-20T15:34:19.954Z"
   },
   {
    "duration": 48,
    "start_time": "2024-11-20T15:34:39.613Z"
   },
   {
    "duration": 37,
    "start_time": "2024-11-20T15:34:39.663Z"
   },
   {
    "duration": 50,
    "start_time": "2024-11-20T15:34:39.703Z"
   },
   {
    "duration": 3,
    "start_time": "2024-11-20T15:34:39.755Z"
   },
   {
    "duration": 118,
    "start_time": "2024-11-20T15:34:39.759Z"
   },
   {
    "duration": 983163,
    "start_time": "2024-11-20T15:34:39.879Z"
   },
   {
    "duration": 62,
    "start_time": "2024-11-20T15:51:03.044Z"
   },
   {
    "duration": 16504,
    "start_time": "2024-11-20T15:51:03.108Z"
   },
   {
    "duration": 55,
    "start_time": "2024-11-20T15:51:19.614Z"
   },
   {
    "duration": 0,
    "start_time": "2024-11-20T15:51:19.671Z"
   },
   {
    "duration": 0,
    "start_time": "2024-11-20T15:51:19.672Z"
   },
   {
    "duration": 0,
    "start_time": "2024-11-20T15:51:19.674Z"
   },
   {
    "duration": 0,
    "start_time": "2024-11-20T15:51:19.675Z"
   },
   {
    "duration": 0,
    "start_time": "2024-11-20T15:51:19.676Z"
   },
   {
    "duration": 0,
    "start_time": "2024-11-20T15:51:19.677Z"
   },
   {
    "duration": 0,
    "start_time": "2024-11-20T15:51:19.678Z"
   },
   {
    "duration": 0,
    "start_time": "2024-11-20T15:51:19.679Z"
   },
   {
    "duration": 0,
    "start_time": "2024-11-20T15:51:19.680Z"
   },
   {
    "duration": 0,
    "start_time": "2024-11-20T15:51:19.681Z"
   },
   {
    "duration": 1627,
    "start_time": "2024-11-21T06:33:36.968Z"
   },
   {
    "duration": 2886,
    "start_time": "2024-11-21T06:33:38.597Z"
   },
   {
    "duration": 4,
    "start_time": "2024-11-21T06:33:41.484Z"
   },
   {
    "duration": 59,
    "start_time": "2024-11-21T06:33:41.490Z"
   },
   {
    "duration": 44,
    "start_time": "2024-11-21T06:33:41.551Z"
   },
   {
    "duration": 36,
    "start_time": "2024-11-21T06:33:41.597Z"
   },
   {
    "duration": 4,
    "start_time": "2024-11-21T06:33:41.635Z"
   },
   {
    "duration": 193,
    "start_time": "2024-11-21T06:33:41.641Z"
   },
   {
    "duration": 337,
    "start_time": "2024-11-21T06:33:41.836Z"
   },
   {
    "duration": 64,
    "start_time": "2024-11-21T06:33:42.175Z"
   },
   {
    "duration": 85,
    "start_time": "2024-11-21T06:33:42.240Z"
   },
   {
    "duration": 44,
    "start_time": "2024-11-21T06:33:42.327Z"
   },
   {
    "duration": 18,
    "start_time": "2024-11-21T06:33:42.372Z"
   },
   {
    "duration": 31,
    "start_time": "2024-11-21T06:33:42.392Z"
   },
   {
    "duration": 15214,
    "start_time": "2024-11-21T06:33:42.425Z"
   },
   {
    "duration": 47,
    "start_time": "2024-11-21T06:33:57.641Z"
   },
   {
    "duration": 22,
    "start_time": "2024-11-21T06:33:57.690Z"
   },
   {
    "duration": 30,
    "start_time": "2024-11-21T06:33:57.713Z"
   },
   {
    "duration": 21,
    "start_time": "2024-11-21T06:33:57.745Z"
   },
   {
    "duration": 96,
    "start_time": "2024-11-21T06:33:57.768Z"
   },
   {
    "duration": 330861,
    "start_time": "2024-11-21T06:33:57.866Z"
   },
   {
    "duration": 8,
    "start_time": "2024-11-21T06:39:28.811Z"
   },
   {
    "duration": 20311,
    "start_time": "2024-11-21T06:39:28.820Z"
   },
   {
    "duration": 80,
    "start_time": "2024-11-21T06:39:49.133Z"
   },
   {
    "duration": 0,
    "start_time": "2024-11-21T06:39:49.215Z"
   },
   {
    "duration": 0,
    "start_time": "2024-11-21T06:39:49.216Z"
   },
   {
    "duration": 0,
    "start_time": "2024-11-21T06:39:49.217Z"
   },
   {
    "duration": 0,
    "start_time": "2024-11-21T06:39:49.218Z"
   },
   {
    "duration": 0,
    "start_time": "2024-11-21T06:39:49.219Z"
   },
   {
    "duration": 0,
    "start_time": "2024-11-21T06:39:49.219Z"
   },
   {
    "duration": 0,
    "start_time": "2024-11-21T06:39:49.220Z"
   },
   {
    "duration": 0,
    "start_time": "2024-11-21T06:39:49.221Z"
   },
   {
    "duration": 0,
    "start_time": "2024-11-21T06:39:49.222Z"
   },
   {
    "duration": 0,
    "start_time": "2024-11-21T06:39:49.223Z"
   },
   {
    "duration": 1622,
    "start_time": "2024-11-21T06:49:02.935Z"
   },
   {
    "duration": 877,
    "start_time": "2024-11-21T06:49:04.559Z"
   },
   {
    "duration": 5,
    "start_time": "2024-11-21T06:49:05.437Z"
   },
   {
    "duration": 79,
    "start_time": "2024-11-21T06:49:05.443Z"
   },
   {
    "duration": 44,
    "start_time": "2024-11-21T06:49:05.524Z"
   },
   {
    "duration": 36,
    "start_time": "2024-11-21T06:49:05.570Z"
   },
   {
    "duration": 5,
    "start_time": "2024-11-21T06:49:05.607Z"
   },
   {
    "duration": 190,
    "start_time": "2024-11-21T06:49:05.614Z"
   },
   {
    "duration": 333,
    "start_time": "2024-11-21T06:49:05.806Z"
   },
   {
    "duration": 72,
    "start_time": "2024-11-21T06:49:06.141Z"
   },
   {
    "duration": 78,
    "start_time": "2024-11-21T06:49:06.214Z"
   },
   {
    "duration": 51,
    "start_time": "2024-11-21T06:49:06.293Z"
   },
   {
    "duration": 37,
    "start_time": "2024-11-21T06:49:06.345Z"
   },
   {
    "duration": 10,
    "start_time": "2024-11-21T06:49:06.383Z"
   },
   {
    "duration": 15097,
    "start_time": "2024-11-21T06:49:06.394Z"
   },
   {
    "duration": 55,
    "start_time": "2024-11-21T06:49:21.492Z"
   },
   {
    "duration": 10,
    "start_time": "2024-11-21T06:49:21.549Z"
   },
   {
    "duration": 32,
    "start_time": "2024-11-21T06:49:21.560Z"
   },
   {
    "duration": 2,
    "start_time": "2024-11-21T06:49:21.594Z"
   },
   {
    "duration": 94,
    "start_time": "2024-11-21T06:49:21.611Z"
   },
   {
    "duration": 297815,
    "start_time": "2024-11-21T06:49:21.707Z"
   },
   {
    "duration": 7,
    "start_time": "2024-11-21T06:54:19.523Z"
   },
   {
    "duration": 25700,
    "start_time": "2024-11-21T06:54:19.532Z"
   },
   {
    "duration": 209006,
    "start_time": "2024-11-21T06:54:45.312Z"
   },
   {
    "duration": 7,
    "start_time": "2024-11-21T06:58:14.319Z"
   },
   {
    "duration": 56620,
    "start_time": "2024-11-21T06:58:14.327Z"
   },
   {
    "duration": 6,
    "start_time": "2024-11-21T06:59:10.949Z"
   },
   {
    "duration": 323,
    "start_time": "2024-11-21T06:59:10.959Z"
   },
   {
    "duration": 99,
    "start_time": "2024-11-21T06:59:11.283Z"
   },
   {
    "duration": 123,
    "start_time": "2024-11-21T06:59:11.384Z"
   },
   {
    "duration": 245597,
    "start_time": "2024-11-21T06:59:11.511Z"
   },
   {
    "duration": 9,
    "start_time": "2024-11-21T07:03:17.111Z"
   },
   {
    "duration": 34920,
    "start_time": "2024-11-21T07:03:17.121Z"
   },
   {
    "duration": 4,
    "start_time": "2024-11-21T07:03:52.042Z"
   },
   {
    "duration": 17,
    "start_time": "2024-11-21T07:03:52.047Z"
   },
   {
    "duration": 32354,
    "start_time": "2024-11-21T07:03:52.065Z"
   },
   {
    "duration": 6991,
    "start_time": "2024-11-21T07:04:24.421Z"
   },
   {
    "duration": 285,
    "start_time": "2024-11-21T07:04:31.413Z"
   },
   {
    "duration": 3,
    "start_time": "2024-11-21T07:04:31.699Z"
   },
   {
    "duration": 112052,
    "start_time": "2024-11-21T07:04:31.711Z"
   },
   {
    "duration": 170,
    "start_time": "2024-11-21T07:06:23.765Z"
   },
   {
    "duration": 248,
    "start_time": "2024-11-21T07:06:23.937Z"
   },
   {
    "duration": 52,
    "start_time": "2024-11-21T07:06:24.187Z"
   },
   {
    "duration": 0,
    "start_time": "2024-11-21T07:06:24.241Z"
   },
   {
    "duration": 0,
    "start_time": "2024-11-21T07:06:24.242Z"
   },
   {
    "duration": 0,
    "start_time": "2024-11-21T07:06:24.243Z"
   },
   {
    "duration": 0,
    "start_time": "2024-11-21T07:06:24.244Z"
   },
   {
    "duration": 0,
    "start_time": "2024-11-21T07:06:24.245Z"
   },
   {
    "duration": 3,
    "start_time": "2024-11-21T07:42:24.321Z"
   },
   {
    "duration": 3,
    "start_time": "2024-11-21T07:43:09.787Z"
   },
   {
    "duration": 1389,
    "start_time": "2024-11-21T07:44:41.789Z"
   },
   {
    "duration": 850,
    "start_time": "2024-11-21T07:44:43.180Z"
   },
   {
    "duration": 6,
    "start_time": "2024-11-21T07:44:44.031Z"
   },
   {
    "duration": 49,
    "start_time": "2024-11-21T07:44:44.038Z"
   },
   {
    "duration": 59,
    "start_time": "2024-11-21T07:44:44.088Z"
   },
   {
    "duration": 43,
    "start_time": "2024-11-21T07:44:44.149Z"
   },
   {
    "duration": 4,
    "start_time": "2024-11-21T07:44:44.195Z"
   },
   {
    "duration": 225,
    "start_time": "2024-11-21T07:44:44.201Z"
   },
   {
    "duration": 361,
    "start_time": "2024-11-21T07:44:44.427Z"
   },
   {
    "duration": 66,
    "start_time": "2024-11-21T07:44:44.790Z"
   },
   {
    "duration": 89,
    "start_time": "2024-11-21T07:44:44.858Z"
   },
   {
    "duration": 46,
    "start_time": "2024-11-21T07:44:44.948Z"
   },
   {
    "duration": 24,
    "start_time": "2024-11-21T07:44:44.995Z"
   },
   {
    "duration": 9,
    "start_time": "2024-11-21T07:44:45.020Z"
   },
   {
    "duration": 15824,
    "start_time": "2024-11-21T07:44:45.030Z"
   },
   {
    "duration": 40,
    "start_time": "2024-11-21T07:45:00.855Z"
   },
   {
    "duration": 21,
    "start_time": "2024-11-21T07:45:00.896Z"
   },
   {
    "duration": 27,
    "start_time": "2024-11-21T07:45:00.918Z"
   },
   {
    "duration": 2,
    "start_time": "2024-11-21T07:45:00.946Z"
   },
   {
    "duration": 112,
    "start_time": "2024-11-21T07:45:00.950Z"
   },
   {
    "duration": 1461,
    "start_time": "2024-11-21T08:02:56.633Z"
   },
   {
    "duration": 906,
    "start_time": "2024-11-21T08:02:58.096Z"
   },
   {
    "duration": 10,
    "start_time": "2024-11-21T08:02:59.003Z"
   },
   {
    "duration": 50,
    "start_time": "2024-11-21T08:02:59.014Z"
   },
   {
    "duration": 66,
    "start_time": "2024-11-21T08:02:59.066Z"
   },
   {
    "duration": 32,
    "start_time": "2024-11-21T08:02:59.134Z"
   },
   {
    "duration": 4,
    "start_time": "2024-11-21T08:02:59.168Z"
   },
   {
    "duration": 197,
    "start_time": "2024-11-21T08:02:59.173Z"
   },
   {
    "duration": 350,
    "start_time": "2024-11-21T08:02:59.372Z"
   },
   {
    "duration": 67,
    "start_time": "2024-11-21T08:02:59.725Z"
   },
   {
    "duration": 117,
    "start_time": "2024-11-21T08:02:59.794Z"
   },
   {
    "duration": 55,
    "start_time": "2024-11-21T08:02:59.912Z"
   },
   {
    "duration": 25,
    "start_time": "2024-11-21T08:02:59.968Z"
   },
   {
    "duration": 20,
    "start_time": "2024-11-21T08:02:59.995Z"
   },
   {
    "duration": 15918,
    "start_time": "2024-11-21T08:03:00.016Z"
   },
   {
    "duration": 50,
    "start_time": "2024-11-21T08:03:15.936Z"
   },
   {
    "duration": 37,
    "start_time": "2024-11-21T08:03:15.988Z"
   },
   {
    "duration": 31,
    "start_time": "2024-11-21T08:03:16.027Z"
   },
   {
    "duration": 2,
    "start_time": "2024-11-21T08:03:16.060Z"
   },
   {
    "duration": 129,
    "start_time": "2024-11-21T08:03:16.063Z"
   },
   {
    "duration": 5478844,
    "start_time": "2024-11-21T08:03:16.193Z"
   },
   {
    "duration": 7,
    "start_time": "2024-11-21T09:34:35.039Z"
   },
   {
    "duration": 30265,
    "start_time": "2024-11-21T09:34:35.047Z"
   },
   {
    "duration": 209541,
    "start_time": "2024-11-21T09:35:05.314Z"
   },
   {
    "duration": 8,
    "start_time": "2024-11-21T09:38:34.856Z"
   },
   {
    "duration": 57038,
    "start_time": "2024-11-21T09:38:34.866Z"
   },
   {
    "duration": 6,
    "start_time": "2024-11-21T09:39:31.906Z"
   },
   {
    "duration": 297,
    "start_time": "2024-11-21T09:39:31.915Z"
   },
   {
    "duration": 93,
    "start_time": "2024-11-21T09:39:32.213Z"
   },
   {
    "duration": 126,
    "start_time": "2024-11-21T09:39:32.307Z"
   },
   {
    "duration": 247617,
    "start_time": "2024-11-21T09:39:32.434Z"
   },
   {
    "duration": 8,
    "start_time": "2024-11-21T09:43:40.053Z"
   },
   {
    "duration": 35431,
    "start_time": "2024-11-21T09:43:40.063Z"
   },
   {
    "duration": 5,
    "start_time": "2024-11-21T09:44:15.496Z"
   },
   {
    "duration": 25,
    "start_time": "2024-11-21T09:44:15.502Z"
   },
   {
    "duration": 35803,
    "start_time": "2024-11-21T09:44:15.528Z"
   },
   {
    "duration": 6835,
    "start_time": "2024-11-21T09:44:51.412Z"
   },
   {
    "duration": 311,
    "start_time": "2024-11-21T09:44:58.250Z"
   },
   {
    "duration": 3,
    "start_time": "2024-11-21T09:44:58.562Z"
   },
   {
    "duration": 111918,
    "start_time": "2024-11-21T09:44:58.566Z"
   },
   {
    "duration": 161,
    "start_time": "2024-11-21T09:46:50.486Z"
   },
   {
    "duration": 248,
    "start_time": "2024-11-21T09:46:50.648Z"
   },
   {
    "duration": 2,
    "start_time": "2024-11-21T09:46:50.898Z"
   },
   {
    "duration": 139465,
    "start_time": "2024-11-21T09:46:50.902Z"
   },
   {
    "duration": 496,
    "start_time": "2024-11-21T09:49:10.369Z"
   },
   {
    "duration": 259,
    "start_time": "2024-11-21T09:49:10.866Z"
   },
   {
    "duration": 11,
    "start_time": "2024-11-21T09:49:11.127Z"
   },
   {
    "duration": 64,
    "start_time": "2024-11-21T11:04:36.380Z"
   },
   {
    "duration": 2392,
    "start_time": "2024-11-21T11:04:53.317Z"
   },
   {
    "duration": 3867,
    "start_time": "2024-11-21T11:05:41.285Z"
   },
   {
    "duration": 3877,
    "start_time": "2024-11-21T11:12:20.879Z"
   },
   {
    "duration": 1604,
    "start_time": "2024-11-21T11:18:18.585Z"
   },
   {
    "duration": 71,
    "start_time": "2024-11-21T11:19:37.708Z"
   },
   {
    "duration": 2010,
    "start_time": "2024-11-21T11:20:28.805Z"
   },
   {
    "duration": 1982,
    "start_time": "2024-11-21T11:21:07.105Z"
   },
   {
    "duration": 1882,
    "start_time": "2024-11-21T11:22:45.437Z"
   },
   {
    "duration": 1395,
    "start_time": "2024-11-21T11:28:10.723Z"
   },
   {
    "duration": 879,
    "start_time": "2024-11-21T11:28:12.119Z"
   },
   {
    "duration": 5,
    "start_time": "2024-11-21T11:28:12.999Z"
   },
   {
    "duration": 49,
    "start_time": "2024-11-21T11:28:13.011Z"
   },
   {
    "duration": 55,
    "start_time": "2024-11-21T11:28:13.061Z"
   },
   {
    "duration": 34,
    "start_time": "2024-11-21T11:28:13.117Z"
   },
   {
    "duration": 4,
    "start_time": "2024-11-21T11:28:13.153Z"
   },
   {
    "duration": 207,
    "start_time": "2024-11-21T11:28:13.159Z"
   },
   {
    "duration": 332,
    "start_time": "2024-11-21T11:28:13.367Z"
   },
   {
    "duration": 76,
    "start_time": "2024-11-21T11:28:13.702Z"
   },
   {
    "duration": 91,
    "start_time": "2024-11-21T11:28:13.780Z"
   },
   {
    "duration": 47,
    "start_time": "2024-11-21T11:28:13.873Z"
   },
   {
    "duration": 20,
    "start_time": "2024-11-21T11:28:13.922Z"
   },
   {
    "duration": 9,
    "start_time": "2024-11-21T11:28:13.944Z"
   },
   {
    "duration": 2099,
    "start_time": "2024-11-21T11:28:13.954Z"
   },
   {
    "duration": 2,
    "start_time": "2024-11-21T11:28:16.055Z"
   },
   {
    "duration": 2279,
    "start_time": "2024-11-21T11:28:16.059Z"
   },
   {
    "duration": 2,
    "start_time": "2024-11-21T11:28:18.339Z"
   },
   {
    "duration": 10904,
    "start_time": "2024-11-21T11:28:18.343Z"
   },
   {
    "duration": 3,
    "start_time": "2024-11-21T11:28:29.248Z"
   },
   {
    "duration": 34,
    "start_time": "2024-11-21T11:28:29.252Z"
   },
   {
    "duration": 39,
    "start_time": "2024-11-21T11:28:29.287Z"
   },
   {
    "duration": 3,
    "start_time": "2024-11-21T11:28:29.328Z"
   },
   {
    "duration": 110,
    "start_time": "2024-11-21T11:28:29.332Z"
   },
   {
    "duration": 110,
    "start_time": "2024-11-21T11:28:29.443Z"
   },
   {
    "duration": 0,
    "start_time": "2024-11-21T11:28:29.555Z"
   },
   {
    "duration": 0,
    "start_time": "2024-11-21T11:28:29.556Z"
   },
   {
    "duration": 0,
    "start_time": "2024-11-21T11:28:29.556Z"
   },
   {
    "duration": 0,
    "start_time": "2024-11-21T11:28:29.557Z"
   },
   {
    "duration": 0,
    "start_time": "2024-11-21T11:28:29.558Z"
   },
   {
    "duration": 0,
    "start_time": "2024-11-21T11:28:29.559Z"
   },
   {
    "duration": 0,
    "start_time": "2024-11-21T11:28:29.560Z"
   },
   {
    "duration": 0,
    "start_time": "2024-11-21T11:28:29.561Z"
   },
   {
    "duration": 0,
    "start_time": "2024-11-21T11:28:29.562Z"
   },
   {
    "duration": 0,
    "start_time": "2024-11-21T11:28:29.562Z"
   },
   {
    "duration": 0,
    "start_time": "2024-11-21T11:28:29.563Z"
   },
   {
    "duration": 0,
    "start_time": "2024-11-21T11:28:29.564Z"
   },
   {
    "duration": 0,
    "start_time": "2024-11-21T11:28:29.565Z"
   },
   {
    "duration": 0,
    "start_time": "2024-11-21T11:28:29.566Z"
   },
   {
    "duration": 0,
    "start_time": "2024-11-21T11:28:29.567Z"
   },
   {
    "duration": 0,
    "start_time": "2024-11-21T11:28:29.567Z"
   },
   {
    "duration": 0,
    "start_time": "2024-11-21T11:28:29.568Z"
   },
   {
    "duration": 0,
    "start_time": "2024-11-21T11:28:29.569Z"
   },
   {
    "duration": 0,
    "start_time": "2024-11-21T11:28:29.570Z"
   },
   {
    "duration": 0,
    "start_time": "2024-11-21T11:28:29.570Z"
   },
   {
    "duration": 0,
    "start_time": "2024-11-21T11:28:29.571Z"
   },
   {
    "duration": 0,
    "start_time": "2024-11-21T11:28:29.572Z"
   },
   {
    "duration": 0,
    "start_time": "2024-11-21T11:28:29.573Z"
   },
   {
    "duration": 0,
    "start_time": "2024-11-21T11:28:29.574Z"
   },
   {
    "duration": 0,
    "start_time": "2024-11-21T11:28:29.574Z"
   },
   {
    "duration": 1962,
    "start_time": "2024-11-21T12:01:13.831Z"
   },
   {
    "duration": 902,
    "start_time": "2024-11-21T12:01:15.794Z"
   },
   {
    "duration": 5,
    "start_time": "2024-11-21T12:01:16.698Z"
   },
   {
    "duration": 50,
    "start_time": "2024-11-21T12:01:16.712Z"
   },
   {
    "duration": 58,
    "start_time": "2024-11-21T12:01:16.763Z"
   },
   {
    "duration": 30,
    "start_time": "2024-11-21T12:01:16.822Z"
   },
   {
    "duration": 4,
    "start_time": "2024-11-21T12:01:16.853Z"
   },
   {
    "duration": 216,
    "start_time": "2024-11-21T12:01:16.858Z"
   },
   {
    "duration": 349,
    "start_time": "2024-11-21T12:01:17.076Z"
   },
   {
    "duration": 85,
    "start_time": "2024-11-21T12:01:17.427Z"
   },
   {
    "duration": 81,
    "start_time": "2024-11-21T12:01:17.513Z"
   },
   {
    "duration": 53,
    "start_time": "2024-11-21T12:01:17.595Z"
   },
   {
    "duration": 73,
    "start_time": "2024-11-21T12:01:17.649Z"
   },
   {
    "duration": 9,
    "start_time": "2024-11-21T12:01:17.724Z"
   },
   {
    "duration": 116,
    "start_time": "2024-11-21T12:01:17.734Z"
   },
   {
    "duration": 0,
    "start_time": "2024-11-21T12:01:17.852Z"
   },
   {
    "duration": 0,
    "start_time": "2024-11-21T12:01:17.853Z"
   },
   {
    "duration": 0,
    "start_time": "2024-11-21T12:01:17.854Z"
   },
   {
    "duration": 0,
    "start_time": "2024-11-21T12:01:17.855Z"
   },
   {
    "duration": 0,
    "start_time": "2024-11-21T12:01:17.856Z"
   },
   {
    "duration": 0,
    "start_time": "2024-11-21T12:01:17.856Z"
   },
   {
    "duration": 0,
    "start_time": "2024-11-21T12:01:17.857Z"
   },
   {
    "duration": 0,
    "start_time": "2024-11-21T12:01:17.858Z"
   },
   {
    "duration": 0,
    "start_time": "2024-11-21T12:01:17.859Z"
   },
   {
    "duration": 0,
    "start_time": "2024-11-21T12:01:17.860Z"
   },
   {
    "duration": 1,
    "start_time": "2024-11-21T12:01:17.860Z"
   },
   {
    "duration": 0,
    "start_time": "2024-11-21T12:01:17.861Z"
   },
   {
    "duration": 0,
    "start_time": "2024-11-21T12:01:17.862Z"
   },
   {
    "duration": 0,
    "start_time": "2024-11-21T12:01:17.863Z"
   },
   {
    "duration": 0,
    "start_time": "2024-11-21T12:01:17.864Z"
   },
   {
    "duration": 1,
    "start_time": "2024-11-21T12:01:17.864Z"
   },
   {
    "duration": 0,
    "start_time": "2024-11-21T12:01:17.865Z"
   },
   {
    "duration": 0,
    "start_time": "2024-11-21T12:01:17.866Z"
   },
   {
    "duration": 0,
    "start_time": "2024-11-21T12:01:17.867Z"
   },
   {
    "duration": 0,
    "start_time": "2024-11-21T12:01:17.868Z"
   },
   {
    "duration": 0,
    "start_time": "2024-11-21T12:01:17.868Z"
   },
   {
    "duration": 0,
    "start_time": "2024-11-21T12:01:17.869Z"
   },
   {
    "duration": 0,
    "start_time": "2024-11-21T12:01:17.870Z"
   },
   {
    "duration": 0,
    "start_time": "2024-11-21T12:01:17.871Z"
   },
   {
    "duration": 0,
    "start_time": "2024-11-21T12:01:17.872Z"
   },
   {
    "duration": 1,
    "start_time": "2024-11-21T12:01:17.872Z"
   },
   {
    "duration": 0,
    "start_time": "2024-11-21T12:01:17.873Z"
   },
   {
    "duration": 0,
    "start_time": "2024-11-21T12:01:17.912Z"
   },
   {
    "duration": 0,
    "start_time": "2024-11-21T12:01:17.912Z"
   },
   {
    "duration": 0,
    "start_time": "2024-11-21T12:01:17.913Z"
   },
   {
    "duration": 0,
    "start_time": "2024-11-21T12:01:17.914Z"
   },
   {
    "duration": 0,
    "start_time": "2024-11-21T12:01:17.915Z"
   },
   {
    "duration": 0,
    "start_time": "2024-11-21T12:01:17.916Z"
   },
   {
    "duration": 0,
    "start_time": "2024-11-21T12:01:17.917Z"
   },
   {
    "duration": 1,
    "start_time": "2024-11-21T12:01:17.917Z"
   },
   {
    "duration": 0,
    "start_time": "2024-11-21T12:01:17.918Z"
   },
   {
    "duration": 2028,
    "start_time": "2024-11-21T12:02:18.537Z"
   },
   {
    "duration": 15225,
    "start_time": "2024-11-21T12:03:13.362Z"
   },
   {
    "duration": 15690,
    "start_time": "2024-11-21T12:10:23.989Z"
   },
   {
    "duration": 1697,
    "start_time": "2024-11-21T12:12:36.486Z"
   },
   {
    "duration": 1025,
    "start_time": "2024-11-21T12:21:36.037Z"
   },
   {
    "duration": 8536,
    "start_time": "2024-11-21T12:26:53.855Z"
   },
   {
    "duration": 7493,
    "start_time": "2024-11-21T12:27:23.036Z"
   },
   {
    "duration": 3970,
    "start_time": "2024-11-21T12:27:58.385Z"
   },
   {
    "duration": 14,
    "start_time": "2024-11-21T13:10:00.408Z"
   },
   {
    "duration": 1390,
    "start_time": "2024-11-21T13:11:08.877Z"
   },
   {
    "duration": 861,
    "start_time": "2024-11-21T13:11:10.269Z"
   },
   {
    "duration": 6,
    "start_time": "2024-11-21T13:11:11.131Z"
   },
   {
    "duration": 84,
    "start_time": "2024-11-21T13:11:11.139Z"
   },
   {
    "duration": 51,
    "start_time": "2024-11-21T13:11:11.225Z"
   },
   {
    "duration": 38,
    "start_time": "2024-11-21T13:11:11.278Z"
   },
   {
    "duration": 4,
    "start_time": "2024-11-21T13:11:11.317Z"
   },
   {
    "duration": 201,
    "start_time": "2024-11-21T13:11:11.323Z"
   },
   {
    "duration": 346,
    "start_time": "2024-11-21T13:11:11.526Z"
   },
   {
    "duration": 70,
    "start_time": "2024-11-21T13:11:11.873Z"
   },
   {
    "duration": 109,
    "start_time": "2024-11-21T13:11:11.944Z"
   },
   {
    "duration": 48,
    "start_time": "2024-11-21T13:11:12.054Z"
   },
   {
    "duration": 16,
    "start_time": "2024-11-21T13:11:12.112Z"
   },
   {
    "duration": 9,
    "start_time": "2024-11-21T13:11:12.131Z"
   },
   {
    "duration": 15323,
    "start_time": "2024-11-21T13:11:12.142Z"
   },
   {
    "duration": 1738,
    "start_time": "2024-11-21T13:11:27.466Z"
   },
   {
    "duration": 1132,
    "start_time": "2024-11-21T13:11:29.205Z"
   },
   {
    "duration": 50,
    "start_time": "2024-11-21T13:11:30.339Z"
   },
   {
    "duration": 9,
    "start_time": "2024-11-21T13:11:30.391Z"
   },
   {
    "duration": 37,
    "start_time": "2024-11-21T13:11:30.401Z"
   },
   {
    "duration": 3,
    "start_time": "2024-11-21T13:11:30.439Z"
   },
   {
    "duration": 208807,
    "start_time": "2024-11-21T13:11:30.443Z"
   },
   {
    "duration": 8,
    "start_time": "2024-11-21T13:14:59.251Z"
   },
   {
    "duration": 57378,
    "start_time": "2024-11-21T13:14:59.261Z"
   },
   {
    "duration": 7,
    "start_time": "2024-11-21T13:15:56.641Z"
   },
   {
    "duration": 311,
    "start_time": "2024-11-21T13:15:56.649Z"
   },
   {
    "duration": 106,
    "start_time": "2024-11-21T13:15:56.961Z"
   },
   {
    "duration": 135,
    "start_time": "2024-11-21T13:15:57.069Z"
   },
   {
    "duration": 245727,
    "start_time": "2024-11-21T13:15:57.206Z"
   },
   {
    "duration": 8,
    "start_time": "2024-11-21T13:20:02.934Z"
   },
   {
    "duration": 35124,
    "start_time": "2024-11-21T13:20:02.943Z"
   },
   {
    "duration": 88,
    "start_time": "2024-11-21T13:20:38.068Z"
   },
   {
    "duration": 308958,
    "start_time": "2024-11-21T13:20:38.157Z"
   },
   {
    "duration": 8,
    "start_time": "2024-11-21T13:25:47.117Z"
   },
   {
    "duration": 20090,
    "start_time": "2024-11-21T13:25:47.126Z"
   },
   {
    "duration": 5,
    "start_time": "2024-11-21T13:26:07.219Z"
   },
   {
    "duration": 50,
    "start_time": "2024-11-21T13:26:07.225Z"
   },
   {
    "duration": 35843,
    "start_time": "2024-11-21T13:26:07.276Z"
   },
   {
    "duration": 7109,
    "start_time": "2024-11-21T13:26:43.120Z"
   },
   {
    "duration": 287,
    "start_time": "2024-11-21T13:26:50.232Z"
   },
   {
    "duration": 3,
    "start_time": "2024-11-21T13:26:50.522Z"
   },
   {
    "duration": 114124,
    "start_time": "2024-11-21T13:26:50.526Z"
   },
   {
    "duration": 167,
    "start_time": "2024-11-21T13:28:44.651Z"
   },
   {
    "duration": 1185,
    "start_time": "2024-11-21T13:28:44.820Z"
   },
   {
    "duration": 5,
    "start_time": "2024-11-21T13:28:46.007Z"
   },
   {
    "duration": 139708,
    "start_time": "2024-11-21T13:28:46.013Z"
   },
   {
    "duration": 499,
    "start_time": "2024-11-21T13:31:05.722Z"
   },
   {
    "duration": 248,
    "start_time": "2024-11-21T13:31:06.222Z"
   },
   {
    "duration": 10,
    "start_time": "2024-11-21T13:31:06.471Z"
   },
   {
    "duration": 1778,
    "start_time": "2024-11-22T08:50:00.249Z"
   },
   {
    "duration": 3260,
    "start_time": "2024-11-22T08:50:02.029Z"
   },
   {
    "duration": 6,
    "start_time": "2024-11-22T08:50:05.291Z"
   },
   {
    "duration": 84,
    "start_time": "2024-11-22T08:50:05.299Z"
   },
   {
    "duration": 70,
    "start_time": "2024-11-22T08:50:05.385Z"
   },
   {
    "duration": 72,
    "start_time": "2024-11-22T08:50:05.457Z"
   },
   {
    "duration": 21,
    "start_time": "2024-11-22T08:50:05.531Z"
   },
   {
    "duration": 282,
    "start_time": "2024-11-22T08:50:05.554Z"
   },
   {
    "duration": 435,
    "start_time": "2024-11-22T08:50:05.838Z"
   },
   {
    "duration": 118,
    "start_time": "2024-11-22T08:50:06.276Z"
   },
   {
    "duration": 125,
    "start_time": "2024-11-22T08:50:06.395Z"
   },
   {
    "duration": 67,
    "start_time": "2024-11-22T08:50:06.521Z"
   },
   {
    "duration": 39,
    "start_time": "2024-11-22T08:50:06.590Z"
   },
   {
    "duration": 65,
    "start_time": "2024-11-22T08:50:06.630Z"
   },
   {
    "duration": 19219,
    "start_time": "2024-11-22T08:50:06.697Z"
   },
   {
    "duration": 1984,
    "start_time": "2024-11-22T08:50:25.921Z"
   },
   {
    "duration": 1171,
    "start_time": "2024-11-22T08:50:27.907Z"
   },
   {
    "duration": 66,
    "start_time": "2024-11-22T08:50:29.080Z"
   },
   {
    "duration": 12,
    "start_time": "2024-11-22T08:50:29.148Z"
   },
   {
    "duration": 75,
    "start_time": "2024-11-22T08:50:29.161Z"
   },
   {
    "duration": 3,
    "start_time": "2024-11-22T08:50:29.238Z"
   },
   {
    "duration": 216767,
    "start_time": "2024-11-22T08:50:29.243Z"
   },
   {
    "duration": 17,
    "start_time": "2024-11-22T08:54:06.012Z"
   },
   {
    "duration": 58987,
    "start_time": "2024-11-22T08:54:06.031Z"
   },
   {
    "duration": 9,
    "start_time": "2024-11-22T08:55:05.021Z"
   },
   {
    "duration": 460,
    "start_time": "2024-11-22T08:55:05.031Z"
   },
   {
    "duration": 137,
    "start_time": "2024-11-22T08:55:05.493Z"
   },
   {
    "duration": 192,
    "start_time": "2024-11-22T08:55:05.634Z"
   },
   {
    "duration": 322721,
    "start_time": "2024-11-22T08:55:05.828Z"
   },
   {
    "duration": 11,
    "start_time": "2024-11-22T09:00:28.551Z"
   },
   {
    "duration": 45554,
    "start_time": "2024-11-22T09:00:28.564Z"
   },
   {
    "duration": 100,
    "start_time": "2024-11-22T09:01:14.121Z"
   },
   {
    "duration": 326516,
    "start_time": "2024-11-22T09:01:14.222Z"
   },
   {
    "duration": 10,
    "start_time": "2024-11-22T09:06:40.739Z"
   },
   {
    "duration": 22212,
    "start_time": "2024-11-22T09:06:40.750Z"
   },
   {
    "duration": 5,
    "start_time": "2024-11-22T09:07:03.021Z"
   },
   {
    "duration": 38,
    "start_time": "2024-11-22T09:07:03.028Z"
   },
   {
    "duration": 37169,
    "start_time": "2024-11-22T09:07:03.067Z"
   },
   {
    "duration": 8644,
    "start_time": "2024-11-22T09:07:40.238Z"
   },
   {
    "duration": 338,
    "start_time": "2024-11-22T09:07:48.889Z"
   },
   {
    "duration": 3,
    "start_time": "2024-11-22T09:07:49.229Z"
   },
   {
    "duration": 115119,
    "start_time": "2024-11-22T09:07:49.234Z"
   },
   {
    "duration": 190,
    "start_time": "2024-11-22T09:09:44.354Z"
   },
   {
    "duration": 1499,
    "start_time": "2024-11-22T09:09:44.546Z"
   },
   {
    "duration": 3,
    "start_time": "2024-11-22T09:09:46.047Z"
   },
   {
    "duration": 182869,
    "start_time": "2024-11-22T09:09:46.052Z"
   },
   {
    "duration": 522,
    "start_time": "2024-11-22T09:12:48.923Z"
   },
   {
    "duration": 317,
    "start_time": "2024-11-22T09:12:49.447Z"
   },
   {
    "duration": 13,
    "start_time": "2024-11-22T09:12:49.765Z"
   },
   {
    "duration": 4,
    "start_time": "2024-11-22T09:23:59.773Z"
   },
   {
    "duration": 5,
    "start_time": "2024-11-22T09:47:53.370Z"
   },
   {
    "duration": 3,
    "start_time": "2024-11-22T09:47:57.902Z"
   },
   {
    "duration": 17,
    "start_time": "2024-11-22T09:51:54.141Z"
   },
   {
    "duration": 1633,
    "start_time": "2024-11-22T09:52:08.245Z"
   },
   {
    "duration": 1498,
    "start_time": "2024-11-22T09:52:09.880Z"
   },
   {
    "duration": 6,
    "start_time": "2024-11-22T09:52:11.380Z"
   },
   {
    "duration": 78,
    "start_time": "2024-11-22T09:52:11.388Z"
   },
   {
    "duration": 57,
    "start_time": "2024-11-22T09:52:11.469Z"
   },
   {
    "duration": 32,
    "start_time": "2024-11-22T09:52:11.528Z"
   },
   {
    "duration": 21,
    "start_time": "2024-11-22T09:52:11.562Z"
   },
   {
    "duration": 256,
    "start_time": "2024-11-22T09:52:11.585Z"
   },
   {
    "duration": 443,
    "start_time": "2024-11-22T09:52:11.843Z"
   },
   {
    "duration": 100,
    "start_time": "2024-11-22T09:52:12.288Z"
   },
   {
    "duration": 118,
    "start_time": "2024-11-22T09:52:12.390Z"
   },
   {
    "duration": 71,
    "start_time": "2024-11-22T09:52:12.510Z"
   },
   {
    "duration": 18,
    "start_time": "2024-11-22T09:52:12.583Z"
   },
   {
    "duration": 11,
    "start_time": "2024-11-22T09:52:12.620Z"
   },
   {
    "duration": 20036,
    "start_time": "2024-11-22T09:52:12.632Z"
   },
   {
    "duration": 2029,
    "start_time": "2024-11-22T09:52:32.670Z"
   },
   {
    "duration": 1276,
    "start_time": "2024-11-22T09:52:34.701Z"
   },
   {
    "duration": 71,
    "start_time": "2024-11-22T09:52:35.979Z"
   },
   {
    "duration": 21,
    "start_time": "2024-11-22T09:52:36.052Z"
   },
   {
    "duration": 79,
    "start_time": "2024-11-22T09:52:36.075Z"
   },
   {
    "duration": 66,
    "start_time": "2024-11-22T09:52:36.156Z"
   },
   {
    "duration": 28,
    "start_time": "2024-11-22T09:52:36.224Z"
   },
   {
    "duration": 0,
    "start_time": "2024-11-22T09:52:36.254Z"
   },
   {
    "duration": 0,
    "start_time": "2024-11-22T09:52:36.255Z"
   },
   {
    "duration": 0,
    "start_time": "2024-11-22T09:52:36.256Z"
   },
   {
    "duration": 0,
    "start_time": "2024-11-22T09:52:36.257Z"
   },
   {
    "duration": 0,
    "start_time": "2024-11-22T09:52:36.258Z"
   },
   {
    "duration": 0,
    "start_time": "2024-11-22T09:52:36.259Z"
   },
   {
    "duration": 0,
    "start_time": "2024-11-22T09:52:36.260Z"
   },
   {
    "duration": 0,
    "start_time": "2024-11-22T09:52:36.261Z"
   },
   {
    "duration": 0,
    "start_time": "2024-11-22T09:52:36.262Z"
   },
   {
    "duration": 0,
    "start_time": "2024-11-22T09:52:36.263Z"
   },
   {
    "duration": 0,
    "start_time": "2024-11-22T09:52:36.264Z"
   },
   {
    "duration": 0,
    "start_time": "2024-11-22T09:52:36.266Z"
   },
   {
    "duration": 0,
    "start_time": "2024-11-22T09:52:36.267Z"
   },
   {
    "duration": 0,
    "start_time": "2024-11-22T09:52:36.268Z"
   },
   {
    "duration": 0,
    "start_time": "2024-11-22T09:52:36.269Z"
   },
   {
    "duration": 0,
    "start_time": "2024-11-22T09:52:36.270Z"
   },
   {
    "duration": 0,
    "start_time": "2024-11-22T09:52:36.271Z"
   },
   {
    "duration": 0,
    "start_time": "2024-11-22T09:52:36.272Z"
   },
   {
    "duration": 0,
    "start_time": "2024-11-22T09:52:36.274Z"
   },
   {
    "duration": 0,
    "start_time": "2024-11-22T09:52:36.275Z"
   },
   {
    "duration": 0,
    "start_time": "2024-11-22T09:52:36.276Z"
   },
   {
    "duration": 0,
    "start_time": "2024-11-22T09:52:36.277Z"
   },
   {
    "duration": 0,
    "start_time": "2024-11-22T09:52:36.278Z"
   },
   {
    "duration": 0,
    "start_time": "2024-11-22T09:52:36.279Z"
   },
   {
    "duration": 0,
    "start_time": "2024-11-22T09:52:36.280Z"
   },
   {
    "duration": 0,
    "start_time": "2024-11-22T09:52:36.282Z"
   },
   {
    "duration": 0,
    "start_time": "2024-11-22T09:52:36.283Z"
   },
   {
    "duration": 9,
    "start_time": "2024-11-22T09:56:58.500Z"
   },
   {
    "duration": 1730,
    "start_time": "2024-11-22T09:57:45.911Z"
   },
   {
    "duration": 1280,
    "start_time": "2024-11-22T09:57:47.644Z"
   },
   {
    "duration": 5,
    "start_time": "2024-11-22T09:57:48.926Z"
   },
   {
    "duration": 51,
    "start_time": "2024-11-22T09:57:48.933Z"
   },
   {
    "duration": 67,
    "start_time": "2024-11-22T09:57:48.985Z"
   },
   {
    "duration": 27,
    "start_time": "2024-11-22T09:57:49.053Z"
   },
   {
    "duration": 11,
    "start_time": "2024-11-22T09:57:49.082Z"
   },
   {
    "duration": 277,
    "start_time": "2024-11-22T09:57:49.095Z"
   },
   {
    "duration": 482,
    "start_time": "2024-11-22T09:57:49.375Z"
   },
   {
    "duration": 98,
    "start_time": "2024-11-22T09:57:49.860Z"
   },
   {
    "duration": 120,
    "start_time": "2024-11-22T09:57:49.959Z"
   },
   {
    "duration": 67,
    "start_time": "2024-11-22T09:57:50.081Z"
   },
   {
    "duration": 112,
    "start_time": "2024-11-22T09:57:50.150Z"
   },
   {
    "duration": 22,
    "start_time": "2024-11-22T09:57:50.264Z"
   },
   {
    "duration": 20322,
    "start_time": "2024-11-22T09:57:50.288Z"
   },
   {
    "duration": 2137,
    "start_time": "2024-11-22T09:58:10.612Z"
   },
   {
    "duration": 1280,
    "start_time": "2024-11-22T09:58:12.750Z"
   },
   {
    "duration": 59,
    "start_time": "2024-11-22T09:58:14.032Z"
   },
   {
    "duration": 28,
    "start_time": "2024-11-22T09:58:14.093Z"
   },
   {
    "duration": 57,
    "start_time": "2024-11-22T09:58:14.122Z"
   },
   {
    "duration": 62,
    "start_time": "2024-11-22T09:58:14.181Z"
   },
   {
    "duration": 39,
    "start_time": "2024-11-22T09:58:14.245Z"
   },
   {
    "duration": 0,
    "start_time": "2024-11-22T09:58:14.287Z"
   },
   {
    "duration": 0,
    "start_time": "2024-11-22T09:58:14.288Z"
   },
   {
    "duration": 0,
    "start_time": "2024-11-22T09:58:14.290Z"
   },
   {
    "duration": 0,
    "start_time": "2024-11-22T09:58:14.291Z"
   },
   {
    "duration": 0,
    "start_time": "2024-11-22T09:58:14.293Z"
   },
   {
    "duration": 0,
    "start_time": "2024-11-22T09:58:14.295Z"
   },
   {
    "duration": 0,
    "start_time": "2024-11-22T09:58:14.296Z"
   },
   {
    "duration": 0,
    "start_time": "2024-11-22T09:58:14.297Z"
   },
   {
    "duration": 0,
    "start_time": "2024-11-22T09:58:14.299Z"
   },
   {
    "duration": 0,
    "start_time": "2024-11-22T09:58:14.301Z"
   },
   {
    "duration": 0,
    "start_time": "2024-11-22T09:58:14.302Z"
   },
   {
    "duration": 0,
    "start_time": "2024-11-22T09:58:14.304Z"
   },
   {
    "duration": 0,
    "start_time": "2024-11-22T09:58:14.305Z"
   },
   {
    "duration": 0,
    "start_time": "2024-11-22T09:58:14.307Z"
   },
   {
    "duration": 0,
    "start_time": "2024-11-22T09:58:14.308Z"
   },
   {
    "duration": 0,
    "start_time": "2024-11-22T09:58:14.309Z"
   },
   {
    "duration": 0,
    "start_time": "2024-11-22T09:58:14.310Z"
   },
   {
    "duration": 0,
    "start_time": "2024-11-22T09:58:14.312Z"
   },
   {
    "duration": 0,
    "start_time": "2024-11-22T09:58:14.313Z"
   },
   {
    "duration": 0,
    "start_time": "2024-11-22T09:58:14.314Z"
   },
   {
    "duration": 0,
    "start_time": "2024-11-22T09:58:14.315Z"
   },
   {
    "duration": 0,
    "start_time": "2024-11-22T09:58:14.316Z"
   },
   {
    "duration": 0,
    "start_time": "2024-11-22T09:58:14.317Z"
   },
   {
    "duration": 0,
    "start_time": "2024-11-22T09:58:14.320Z"
   },
   {
    "duration": 0,
    "start_time": "2024-11-22T09:58:14.321Z"
   },
   {
    "duration": 0,
    "start_time": "2024-11-22T09:58:14.322Z"
   },
   {
    "duration": 0,
    "start_time": "2024-11-22T09:58:14.323Z"
   },
   {
    "duration": 224186,
    "start_time": "2024-11-22T09:58:42.065Z"
   },
   {
    "duration": 11,
    "start_time": "2024-11-22T10:21:43.820Z"
   },
   {
    "duration": 9,
    "start_time": "2024-11-22T10:23:30.868Z"
   },
   {
    "duration": 59754,
    "start_time": "2024-11-22T10:25:14.700Z"
   },
   {
    "duration": 10,
    "start_time": "2024-11-22T10:31:02.334Z"
   },
   {
    "duration": 399,
    "start_time": "2024-11-22T10:31:02.721Z"
   },
   {
    "duration": 127,
    "start_time": "2024-11-22T10:31:03.153Z"
   },
   {
    "duration": 171,
    "start_time": "2024-11-22T10:31:04.175Z"
   },
   {
    "duration": 346307,
    "start_time": "2024-11-22T10:31:05.097Z"
   },
   {
    "duration": 1679,
    "start_time": "2024-11-22T10:40:51.567Z"
   },
   {
    "duration": 1367,
    "start_time": "2024-11-22T10:40:53.248Z"
   },
   {
    "duration": 17,
    "start_time": "2024-11-22T10:40:54.617Z"
   },
   {
    "duration": 74,
    "start_time": "2024-11-22T10:40:54.636Z"
   },
   {
    "duration": 64,
    "start_time": "2024-11-22T10:40:54.713Z"
   },
   {
    "duration": 32,
    "start_time": "2024-11-22T10:40:54.779Z"
   },
   {
    "duration": 4,
    "start_time": "2024-11-22T10:40:54.813Z"
   },
   {
    "duration": 290,
    "start_time": "2024-11-22T10:40:54.822Z"
   },
   {
    "duration": 521,
    "start_time": "2024-11-22T10:40:55.114Z"
   },
   {
    "duration": 118,
    "start_time": "2024-11-22T10:40:55.638Z"
   },
   {
    "duration": 161,
    "start_time": "2024-11-22T10:40:55.759Z"
   },
   {
    "duration": 75,
    "start_time": "2024-11-22T10:40:55.925Z"
   },
   {
    "duration": 36,
    "start_time": "2024-11-22T10:40:56.001Z"
   },
   {
    "duration": 12,
    "start_time": "2024-11-22T10:40:56.040Z"
   },
   {
    "duration": 21639,
    "start_time": "2024-11-22T10:40:56.054Z"
   },
   {
    "duration": 2215,
    "start_time": "2024-11-22T10:41:17.694Z"
   },
   {
    "duration": 1383,
    "start_time": "2024-11-22T10:41:19.911Z"
   },
   {
    "duration": 71,
    "start_time": "2024-11-22T10:41:21.296Z"
   },
   {
    "duration": 13,
    "start_time": "2024-11-22T10:41:21.370Z"
   },
   {
    "duration": 76,
    "start_time": "2024-11-22T10:41:21.385Z"
   },
   {
    "duration": 4,
    "start_time": "2024-11-22T10:41:21.463Z"
   },
   {
    "duration": 150,
    "start_time": "2024-11-22T10:41:21.469Z"
   },
   {
    "duration": 226884,
    "start_time": "2024-11-22T10:41:21.621Z"
   },
   {
    "duration": 15,
    "start_time": "2024-11-22T10:45:08.507Z"
   },
   {
    "duration": 62416,
    "start_time": "2024-11-22T10:45:08.524Z"
   },
   {
    "duration": 17,
    "start_time": "2024-11-22T10:46:10.942Z"
   },
   {
    "duration": 520,
    "start_time": "2024-11-22T10:46:10.961Z"
   },
   {
    "duration": 147,
    "start_time": "2024-11-22T10:46:11.483Z"
   },
   {
    "duration": 219,
    "start_time": "2024-11-22T10:46:11.633Z"
   },
   {
    "duration": 343355,
    "start_time": "2024-11-22T10:46:11.854Z"
   },
   {
    "duration": 14,
    "start_time": "2024-11-22T10:51:55.220Z"
   },
   {
    "duration": 49833,
    "start_time": "2024-11-22T10:51:55.236Z"
   },
   {
    "duration": 1841,
    "start_time": "2024-11-22T11:03:19.610Z"
   },
   {
    "duration": 1452,
    "start_time": "2024-11-22T11:03:21.454Z"
   },
   {
    "duration": 18,
    "start_time": "2024-11-22T11:03:22.908Z"
   },
   {
    "duration": 65,
    "start_time": "2024-11-22T11:03:22.930Z"
   },
   {
    "duration": 82,
    "start_time": "2024-11-22T11:03:22.996Z"
   },
   {
    "duration": 52,
    "start_time": "2024-11-22T11:03:23.080Z"
   },
   {
    "duration": 23,
    "start_time": "2024-11-22T11:03:23.135Z"
   },
   {
    "duration": 348,
    "start_time": "2024-11-22T11:03:23.160Z"
   },
   {
    "duration": 599,
    "start_time": "2024-11-22T11:03:23.510Z"
   },
   {
    "duration": 113,
    "start_time": "2024-11-22T11:03:24.112Z"
   },
   {
    "duration": 158,
    "start_time": "2024-11-22T11:03:24.228Z"
   },
   {
    "duration": 75,
    "start_time": "2024-11-22T11:03:24.388Z"
   },
   {
    "duration": 66,
    "start_time": "2024-11-22T11:03:24.465Z"
   },
   {
    "duration": 89,
    "start_time": "2024-11-22T11:03:24.532Z"
   },
   {
    "duration": 23216,
    "start_time": "2024-11-22T11:03:24.624Z"
   },
   {
    "duration": 2404,
    "start_time": "2024-11-22T11:03:47.842Z"
   },
   {
    "duration": 1424,
    "start_time": "2024-11-22T11:03:50.247Z"
   },
   {
    "duration": 90,
    "start_time": "2024-11-22T11:03:51.673Z"
   },
   {
    "duration": 26,
    "start_time": "2024-11-22T11:03:51.767Z"
   },
   {
    "duration": 86,
    "start_time": "2024-11-22T11:03:51.796Z"
   },
   {
    "duration": 4,
    "start_time": "2024-11-22T11:03:51.884Z"
   },
   {
    "duration": 154,
    "start_time": "2024-11-22T11:03:51.889Z"
   },
   {
    "duration": 251616,
    "start_time": "2024-11-22T11:03:52.045Z"
   },
   {
    "duration": 13,
    "start_time": "2024-11-22T11:08:03.664Z"
   },
   {
    "duration": 59350,
    "start_time": "2024-11-22T11:08:03.679Z"
   },
   {
    "duration": 14,
    "start_time": "2024-11-22T11:09:03.031Z"
   },
   {
    "duration": 413,
    "start_time": "2024-11-22T11:09:03.047Z"
   },
   {
    "duration": 131,
    "start_time": "2024-11-22T11:09:03.464Z"
   },
   {
    "duration": 201,
    "start_time": "2024-11-22T11:09:03.596Z"
   },
   {
    "duration": 349565,
    "start_time": "2024-11-22T11:09:03.799Z"
   },
   {
    "duration": 10,
    "start_time": "2024-11-22T11:14:53.366Z"
   },
   {
    "duration": 46102,
    "start_time": "2024-11-22T11:14:53.378Z"
   },
   {
    "duration": 1628,
    "start_time": "2024-11-22T11:25:56.773Z"
   },
   {
    "duration": 1230,
    "start_time": "2024-11-22T11:25:58.403Z"
   },
   {
    "duration": 8,
    "start_time": "2024-11-22T11:25:59.634Z"
   },
   {
    "duration": 129,
    "start_time": "2024-11-22T11:25:59.645Z"
   },
   {
    "duration": 60,
    "start_time": "2024-11-22T11:25:59.776Z"
   },
   {
    "duration": 38,
    "start_time": "2024-11-22T11:25:59.839Z"
   },
   {
    "duration": 9,
    "start_time": "2024-11-22T11:25:59.879Z"
   },
   {
    "duration": 251,
    "start_time": "2024-11-22T11:25:59.890Z"
   },
   {
    "duration": 435,
    "start_time": "2024-11-22T11:26:00.142Z"
   },
   {
    "duration": 97,
    "start_time": "2024-11-22T11:26:00.580Z"
   },
   {
    "duration": 220,
    "start_time": "2024-11-22T11:26:00.678Z"
   },
   {
    "duration": 68,
    "start_time": "2024-11-22T11:26:00.900Z"
   },
   {
    "duration": 55,
    "start_time": "2024-11-22T11:26:00.969Z"
   },
   {
    "duration": 40,
    "start_time": "2024-11-22T11:26:01.026Z"
   },
   {
    "duration": 20184,
    "start_time": "2024-11-22T11:26:01.068Z"
   },
   {
    "duration": 2034,
    "start_time": "2024-11-22T11:26:21.254Z"
   },
   {
    "duration": 1233,
    "start_time": "2024-11-22T11:26:23.290Z"
   },
   {
    "duration": 62,
    "start_time": "2024-11-22T11:26:24.525Z"
   },
   {
    "duration": 72,
    "start_time": "2024-11-22T11:26:24.589Z"
   },
   {
    "duration": 53,
    "start_time": "2024-11-22T11:26:24.663Z"
   },
   {
    "duration": 99,
    "start_time": "2024-11-22T11:26:24.718Z"
   },
   {
    "duration": 122,
    "start_time": "2024-11-22T11:26:24.819Z"
   },
   {
    "duration": 220061,
    "start_time": "2024-11-22T11:26:24.943Z"
   },
   {
    "duration": 9,
    "start_time": "2024-11-22T11:30:05.005Z"
   },
   {
    "duration": 59091,
    "start_time": "2024-11-22T11:30:05.021Z"
   },
   {
    "duration": 19,
    "start_time": "2024-11-22T11:31:04.113Z"
   },
   {
    "duration": 404,
    "start_time": "2024-11-22T11:31:04.134Z"
   },
   {
    "duration": 138,
    "start_time": "2024-11-22T11:31:04.542Z"
   },
   {
    "duration": 189,
    "start_time": "2024-11-22T11:31:04.681Z"
   },
   {
    "duration": 323633,
    "start_time": "2024-11-22T11:31:04.871Z"
   },
   {
    "duration": 17,
    "start_time": "2024-11-22T11:36:28.506Z"
   },
   {
    "duration": 46677,
    "start_time": "2024-11-22T11:36:28.525Z"
   },
   {
    "duration": 282534,
    "start_time": "2024-11-22T11:37:15.204Z"
   },
   {
    "duration": 9,
    "start_time": "2024-11-22T11:41:57.740Z"
   },
   {
    "duration": 23483,
    "start_time": "2024-11-22T11:41:57.751Z"
   },
   {
    "duration": 5,
    "start_time": "2024-11-22T11:42:21.236Z"
   },
   {
    "duration": 29,
    "start_time": "2024-11-22T11:42:21.243Z"
   },
   {
    "duration": 40257,
    "start_time": "2024-11-22T11:42:21.274Z"
   },
   {
    "duration": 8622,
    "start_time": "2024-11-22T11:43:01.533Z"
   },
   {
    "duration": 404,
    "start_time": "2024-11-22T11:43:10.160Z"
   },
   {
    "duration": 3,
    "start_time": "2024-11-22T11:43:10.565Z"
   },
   {
    "duration": 115672,
    "start_time": "2024-11-22T11:43:10.570Z"
   },
   {
    "duration": 193,
    "start_time": "2024-11-22T11:45:06.244Z"
   },
   {
    "duration": 1505,
    "start_time": "2024-11-22T11:45:06.439Z"
   },
   {
    "duration": 3,
    "start_time": "2024-11-22T11:45:07.946Z"
   },
   {
    "duration": 189170,
    "start_time": "2024-11-22T11:45:07.950Z"
   },
   {
    "duration": 567,
    "start_time": "2024-11-22T11:48:17.122Z"
   },
   {
    "duration": 348,
    "start_time": "2024-11-22T11:48:17.691Z"
   },
   {
    "duration": 14,
    "start_time": "2024-11-22T11:48:18.041Z"
   },
   {
    "duration": 19,
    "start_time": "2024-11-22T12:18:53.333Z"
   },
   {
    "duration": 1627,
    "start_time": "2024-11-23T10:57:13.138Z"
   },
   {
    "duration": 1406,
    "start_time": "2024-11-23T10:57:14.768Z"
   },
   {
    "duration": 5,
    "start_time": "2024-11-23T10:57:16.176Z"
   },
   {
    "duration": 124,
    "start_time": "2024-11-23T10:57:16.183Z"
   },
   {
    "duration": 51,
    "start_time": "2024-11-23T10:57:16.309Z"
   },
   {
    "duration": 31,
    "start_time": "2024-11-23T10:57:16.362Z"
   },
   {
    "duration": 6,
    "start_time": "2024-11-23T10:57:16.395Z"
   },
   {
    "duration": 241,
    "start_time": "2024-11-23T10:57:16.403Z"
   },
   {
    "duration": 390,
    "start_time": "2024-11-23T10:57:16.647Z"
   },
   {
    "duration": 91,
    "start_time": "2024-11-23T10:57:17.038Z"
   },
   {
    "duration": 108,
    "start_time": "2024-11-23T10:57:17.130Z"
   },
   {
    "duration": 84,
    "start_time": "2024-11-23T10:57:17.240Z"
   },
   {
    "duration": 19,
    "start_time": "2024-11-23T10:57:17.327Z"
   },
   {
    "duration": 13,
    "start_time": "2024-11-23T10:57:17.349Z"
   },
   {
    "duration": 19327,
    "start_time": "2024-11-23T10:57:17.364Z"
   },
   {
    "duration": 1989,
    "start_time": "2024-11-23T10:57:36.693Z"
   },
   {
    "duration": 1181,
    "start_time": "2024-11-23T10:57:38.684Z"
   },
   {
    "duration": 69,
    "start_time": "2024-11-23T10:57:39.867Z"
   },
   {
    "duration": 1536,
    "start_time": "2024-11-23T10:58:02.481Z"
   },
   {
    "duration": 1090,
    "start_time": "2024-11-23T10:58:04.019Z"
   },
   {
    "duration": 12,
    "start_time": "2024-11-23T10:58:05.110Z"
   },
   {
    "duration": 60,
    "start_time": "2024-11-23T10:58:05.125Z"
   },
   {
    "duration": 54,
    "start_time": "2024-11-23T10:58:05.187Z"
   },
   {
    "duration": 31,
    "start_time": "2024-11-23T10:58:05.242Z"
   },
   {
    "duration": 7,
    "start_time": "2024-11-23T10:58:05.276Z"
   },
   {
    "duration": 231,
    "start_time": "2024-11-23T10:58:05.284Z"
   },
   {
    "duration": 454,
    "start_time": "2024-11-23T10:58:05.520Z"
   },
   {
    "duration": 98,
    "start_time": "2024-11-23T10:58:05.977Z"
   },
   {
    "duration": 116,
    "start_time": "2024-11-23T10:58:06.076Z"
   },
   {
    "duration": 67,
    "start_time": "2024-11-23T10:58:06.193Z"
   },
   {
    "duration": 19,
    "start_time": "2024-11-23T10:58:06.262Z"
   },
   {
    "duration": 11,
    "start_time": "2024-11-23T10:58:06.282Z"
   },
   {
    "duration": 18861,
    "start_time": "2024-11-23T10:58:06.294Z"
   },
   {
    "duration": 1974,
    "start_time": "2024-11-23T10:58:25.157Z"
   },
   {
    "duration": 1130,
    "start_time": "2024-11-23T10:58:27.133Z"
   },
   {
    "duration": 2,
    "start_time": "2024-11-23T10:58:28.265Z"
   },
   {
    "duration": 4,
    "start_time": "2024-11-23T11:01:36.566Z"
   },
   {
    "duration": 76,
    "start_time": "2024-11-23T11:01:37.309Z"
   },
   {
    "duration": 1394,
    "start_time": "2024-11-23T11:03:03.114Z"
   },
   {
    "duration": 1005,
    "start_time": "2024-11-23T11:03:04.510Z"
   },
   {
    "duration": 4,
    "start_time": "2024-11-23T11:03:05.517Z"
   },
   {
    "duration": 168,
    "start_time": "2024-11-23T11:03:05.522Z"
   },
   {
    "duration": 5,
    "start_time": "2024-11-23T11:03:05.692Z"
   },
   {
    "duration": 53,
    "start_time": "2024-11-23T11:03:05.699Z"
   },
   {
    "duration": 59,
    "start_time": "2024-11-23T11:03:05.754Z"
   },
   {
    "duration": 36,
    "start_time": "2024-11-23T11:03:05.814Z"
   },
   {
    "duration": 18,
    "start_time": "2024-11-23T11:03:05.852Z"
   },
   {
    "duration": 13,
    "start_time": "2024-11-23T11:03:05.872Z"
   },
   {
    "duration": 4,
    "start_time": "2024-11-23T11:03:05.886Z"
   },
   {
    "duration": 4,
    "start_time": "2024-11-23T11:03:05.891Z"
   },
   {
    "duration": 7,
    "start_time": "2024-11-23T11:03:05.896Z"
   },
   {
    "duration": 14,
    "start_time": "2024-11-23T11:03:05.905Z"
   },
   {
    "duration": 29,
    "start_time": "2024-11-23T11:03:05.921Z"
   },
   {
    "duration": 55,
    "start_time": "2024-11-23T11:03:05.951Z"
   },
   {
    "duration": 76528,
    "start_time": "2024-11-23T11:03:06.007Z"
   },
   {
    "duration": 2410,
    "start_time": "2024-11-23T11:04:22.537Z"
   },
   {
    "duration": 1377,
    "start_time": "2024-11-23T11:04:24.949Z"
   },
   {
    "duration": 2,
    "start_time": "2024-11-23T11:04:26.328Z"
   },
   {
    "duration": 50,
    "start_time": "2024-11-23T11:27:45.306Z"
   },
   {
    "duration": 1636,
    "start_time": "2024-11-23T11:31:38.040Z"
   },
   {
    "duration": 277,
    "start_time": "2024-11-23T11:36:54.060Z"
   },
   {
    "duration": 1343,
    "start_time": "2024-11-23T11:37:30.407Z"
   },
   {
    "duration": 5,
    "start_time": "2024-11-23T11:40:39.324Z"
   },
   {
    "duration": 477,
    "start_time": "2024-11-23T11:44:09.031Z"
   },
   {
    "duration": 473,
    "start_time": "2024-11-23T11:44:35.348Z"
   },
   {
    "duration": 1944,
    "start_time": "2024-11-23T11:51:14.983Z"
   },
   {
    "duration": 1075,
    "start_time": "2024-11-23T11:51:16.928Z"
   },
   {
    "duration": 6,
    "start_time": "2024-11-23T11:51:18.005Z"
   },
   {
    "duration": 52,
    "start_time": "2024-11-23T11:51:18.021Z"
   },
   {
    "duration": 61,
    "start_time": "2024-11-23T11:51:18.075Z"
   },
   {
    "duration": 64,
    "start_time": "2024-11-23T11:51:18.138Z"
   },
   {
    "duration": 20,
    "start_time": "2024-11-23T11:51:18.204Z"
   },
   {
    "duration": 101,
    "start_time": "2024-11-23T11:51:18.225Z"
   },
   {
    "duration": 3,
    "start_time": "2024-11-23T11:51:18.328Z"
   },
   {
    "duration": 12,
    "start_time": "2024-11-23T11:51:18.332Z"
   },
   {
    "duration": 6,
    "start_time": "2024-11-23T11:51:18.345Z"
   },
   {
    "duration": 4,
    "start_time": "2024-11-23T11:51:18.353Z"
   },
   {
    "duration": 3,
    "start_time": "2024-11-23T11:51:18.359Z"
   },
   {
    "duration": 3,
    "start_time": "2024-11-23T11:51:18.365Z"
   },
   {
    "duration": 20,
    "start_time": "2024-11-23T11:51:18.369Z"
   },
   {
    "duration": 73665,
    "start_time": "2024-11-23T11:51:18.391Z"
   },
   {
    "duration": 2323,
    "start_time": "2024-11-23T11:52:32.058Z"
   },
   {
    "duration": 1357,
    "start_time": "2024-11-23T11:52:34.383Z"
   },
   {
    "duration": 2,
    "start_time": "2024-11-23T11:52:35.741Z"
   },
   {
    "duration": 98,
    "start_time": "2024-11-23T11:52:57.362Z"
   },
   {
    "duration": 1802,
    "start_time": "2024-11-23T12:03:45.574Z"
   },
   {
    "duration": 463,
    "start_time": "2024-11-23T12:04:29.146Z"
   },
   {
    "duration": 494,
    "start_time": "2024-11-23T12:19:12.637Z"
   },
   {
    "duration": 24,
    "start_time": "2024-11-23T12:19:48.169Z"
   },
   {
    "duration": 361,
    "start_time": "2024-11-23T12:40:57.245Z"
   },
   {
    "duration": 339,
    "start_time": "2024-11-23T12:44:47.152Z"
   },
   {
    "duration": 23,
    "start_time": "2024-11-23T12:45:31.172Z"
   },
   {
    "duration": 23,
    "start_time": "2024-11-23T12:56:37.762Z"
   },
   {
    "duration": 58,
    "start_time": "2024-11-23T13:00:53.229Z"
   },
   {
    "duration": 1501,
    "start_time": "2024-11-23T13:01:46.295Z"
   },
   {
    "duration": 1126,
    "start_time": "2024-11-23T13:01:47.798Z"
   },
   {
    "duration": 6,
    "start_time": "2024-11-23T13:01:48.926Z"
   },
   {
    "duration": 66,
    "start_time": "2024-11-23T13:01:48.934Z"
   },
   {
    "duration": 61,
    "start_time": "2024-11-23T13:01:49.002Z"
   },
   {
    "duration": 37,
    "start_time": "2024-11-23T13:01:49.065Z"
   },
   {
    "duration": 18,
    "start_time": "2024-11-23T13:01:49.104Z"
   },
   {
    "duration": 119,
    "start_time": "2024-11-23T13:01:49.124Z"
   },
   {
    "duration": 562,
    "start_time": "2024-11-23T13:01:49.245Z"
   },
   {
    "duration": 28,
    "start_time": "2024-11-23T13:01:49.809Z"
   },
   {
    "duration": 382,
    "start_time": "2024-11-23T13:01:49.839Z"
   },
   {
    "duration": 63,
    "start_time": "2024-11-23T13:01:50.223Z"
   },
   {
    "duration": 237,
    "start_time": "2024-11-23T13:01:50.288Z"
   },
   {
    "duration": 481,
    "start_time": "2024-11-23T13:01:50.528Z"
   },
   {
    "duration": 98,
    "start_time": "2024-11-23T13:01:51.010Z"
   },
   {
    "duration": 3,
    "start_time": "2024-11-23T13:01:51.120Z"
   },
   {
    "duration": 10,
    "start_time": "2024-11-23T13:01:51.126Z"
   },
   {
    "duration": 11,
    "start_time": "2024-11-23T13:01:51.138Z"
   },
   {
    "duration": 19,
    "start_time": "2024-11-23T13:01:51.151Z"
   },
   {
    "duration": 74459,
    "start_time": "2024-11-23T13:01:51.172Z"
   },
   {
    "duration": 2335,
    "start_time": "2024-11-23T13:03:05.632Z"
   },
   {
    "duration": 1373,
    "start_time": "2024-11-23T13:03:07.969Z"
   },
   {
    "duration": 2,
    "start_time": "2024-11-23T13:03:09.344Z"
   },
   {
    "duration": 1682,
    "start_time": "2024-11-23T13:08:13.615Z"
   },
   {
    "duration": 1471,
    "start_time": "2024-11-23T13:08:19.638Z"
   },
   {
    "duration": 1017,
    "start_time": "2024-11-23T13:08:21.111Z"
   },
   {
    "duration": 6,
    "start_time": "2024-11-23T13:08:22.129Z"
   },
   {
    "duration": 53,
    "start_time": "2024-11-23T13:08:22.137Z"
   },
   {
    "duration": 61,
    "start_time": "2024-11-23T13:08:22.191Z"
   },
   {
    "duration": 29,
    "start_time": "2024-11-23T13:08:22.254Z"
   },
   {
    "duration": 4,
    "start_time": "2024-11-23T13:08:22.285Z"
   },
   {
    "duration": 115,
    "start_time": "2024-11-23T13:08:22.290Z"
   },
   {
    "duration": 488,
    "start_time": "2024-11-23T13:08:22.406Z"
   },
   {
    "duration": 32,
    "start_time": "2024-11-23T13:08:22.898Z"
   },
   {
    "duration": 370,
    "start_time": "2024-11-23T13:08:22.932Z"
   },
   {
    "duration": 25,
    "start_time": "2024-11-23T13:08:23.304Z"
   },
   {
    "duration": 80,
    "start_time": "2024-11-23T13:08:23.331Z"
   },
   {
    "duration": 189,
    "start_time": "2024-11-23T13:08:23.413Z"
   },
   {
    "duration": 418,
    "start_time": "2024-11-23T13:08:23.603Z"
   },
   {
    "duration": 87,
    "start_time": "2024-11-23T13:08:24.023Z"
   },
   {
    "duration": 11,
    "start_time": "2024-11-23T13:08:24.112Z"
   },
   {
    "duration": 28,
    "start_time": "2024-11-23T13:08:24.125Z"
   },
   {
    "duration": 10,
    "start_time": "2024-11-23T13:08:24.154Z"
   },
   {
    "duration": 21,
    "start_time": "2024-11-23T13:08:24.165Z"
   },
   {
    "duration": 78750,
    "start_time": "2024-11-23T13:08:24.188Z"
   },
   {
    "duration": 2269,
    "start_time": "2024-11-23T13:09:42.940Z"
   },
   {
    "duration": 1343,
    "start_time": "2024-11-23T13:09:45.211Z"
   },
   {
    "duration": 2,
    "start_time": "2024-11-23T13:09:46.556Z"
   },
   {
    "duration": 21,
    "start_time": "2024-11-23T13:10:24.065Z"
   },
   {
    "duration": 62,
    "start_time": "2024-11-23T13:23:34.738Z"
   },
   {
    "duration": 112,
    "start_time": "2024-11-23T13:24:00.985Z"
   },
   {
    "duration": 54,
    "start_time": "2024-11-23T13:31:02.186Z"
   },
   {
    "duration": 75,
    "start_time": "2024-11-23T13:31:02.938Z"
   },
   {
    "duration": 51,
    "start_time": "2024-11-23T13:31:11.832Z"
   },
   {
    "duration": 86,
    "start_time": "2024-11-23T13:31:12.298Z"
   },
   {
    "duration": 1509,
    "start_time": "2024-11-23T13:31:21.110Z"
   },
   {
    "duration": 1088,
    "start_time": "2024-11-23T13:31:22.621Z"
   },
   {
    "duration": 16,
    "start_time": "2024-11-23T13:31:23.711Z"
   },
   {
    "duration": 69,
    "start_time": "2024-11-23T13:31:23.729Z"
   },
   {
    "duration": 82,
    "start_time": "2024-11-23T13:31:23.800Z"
   },
   {
    "duration": 29,
    "start_time": "2024-11-23T13:31:23.884Z"
   },
   {
    "duration": 41,
    "start_time": "2024-11-23T13:31:23.914Z"
   },
   {
    "duration": 194,
    "start_time": "2024-11-23T13:31:23.956Z"
   },
   {
    "duration": 524,
    "start_time": "2024-11-23T13:31:24.151Z"
   },
   {
    "duration": 21,
    "start_time": "2024-11-23T13:31:24.676Z"
   },
   {
    "duration": 364,
    "start_time": "2024-11-23T13:31:24.699Z"
   },
   {
    "duration": 18,
    "start_time": "2024-11-23T13:31:25.065Z"
   },
   {
    "duration": 87,
    "start_time": "2024-11-23T13:31:25.084Z"
   },
   {
    "duration": 191,
    "start_time": "2024-11-23T13:31:25.174Z"
   },
   {
    "duration": 371,
    "start_time": "2024-11-23T13:31:25.366Z"
   },
   {
    "duration": 97,
    "start_time": "2024-11-23T13:31:25.738Z"
   },
   {
    "duration": 25,
    "start_time": "2024-11-23T13:31:25.836Z"
   },
   {
    "duration": 79183,
    "start_time": "2024-11-23T13:31:25.863Z"
   },
   {
    "duration": 2447,
    "start_time": "2024-11-23T13:32:45.048Z"
   },
   {
    "duration": 1547,
    "start_time": "2024-11-23T13:32:47.497Z"
   },
   {
    "duration": 54,
    "start_time": "2024-11-23T13:32:49.045Z"
   },
   {
    "duration": 94,
    "start_time": "2024-11-23T13:32:49.101Z"
   },
   {
    "duration": 57,
    "start_time": "2024-11-23T13:35:15.584Z"
   },
   {
    "duration": 91,
    "start_time": "2024-11-23T13:35:16.112Z"
   },
   {
    "duration": 1472,
    "start_time": "2024-11-23T13:35:25.299Z"
   },
   {
    "duration": 1129,
    "start_time": "2024-11-23T13:35:26.773Z"
   },
   {
    "duration": 5,
    "start_time": "2024-11-23T13:35:27.904Z"
   },
   {
    "duration": 65,
    "start_time": "2024-11-23T13:35:27.910Z"
   },
   {
    "duration": 103,
    "start_time": "2024-11-23T13:35:27.977Z"
   },
   {
    "duration": 28,
    "start_time": "2024-11-23T13:35:28.082Z"
   },
   {
    "duration": 7,
    "start_time": "2024-11-23T13:35:28.111Z"
   },
   {
    "duration": 116,
    "start_time": "2024-11-23T13:35:28.120Z"
   },
   {
    "duration": 502,
    "start_time": "2024-11-23T13:35:28.237Z"
   },
   {
    "duration": 22,
    "start_time": "2024-11-23T13:35:28.742Z"
   },
   {
    "duration": 372,
    "start_time": "2024-11-23T13:35:28.766Z"
   },
   {
    "duration": 19,
    "start_time": "2024-11-23T13:35:29.140Z"
   },
   {
    "duration": 77,
    "start_time": "2024-11-23T13:35:29.161Z"
   },
   {
    "duration": 202,
    "start_time": "2024-11-23T13:35:29.239Z"
   },
   {
    "duration": 356,
    "start_time": "2024-11-23T13:35:29.443Z"
   },
   {
    "duration": 95,
    "start_time": "2024-11-23T13:35:29.801Z"
   },
   {
    "duration": 39,
    "start_time": "2024-11-23T13:35:29.897Z"
   },
   {
    "duration": 79650,
    "start_time": "2024-11-23T13:35:29.939Z"
   },
   {
    "duration": 2453,
    "start_time": "2024-11-23T13:36:49.590Z"
   },
   {
    "duration": 1521,
    "start_time": "2024-11-23T13:36:52.047Z"
   },
   {
    "duration": 82,
    "start_time": "2024-11-23T13:36:53.569Z"
   },
   {
    "duration": 92,
    "start_time": "2024-11-23T13:36:53.656Z"
   },
   {
    "duration": 2,
    "start_time": "2024-11-23T13:43:40.949Z"
   },
   {
    "duration": 74,
    "start_time": "2024-11-23T13:43:43.169Z"
   },
   {
    "duration": 1374,
    "start_time": "2024-11-23T13:43:49.366Z"
   },
   {
    "duration": 1033,
    "start_time": "2024-11-23T13:43:50.742Z"
   },
   {
    "duration": 5,
    "start_time": "2024-11-23T13:43:51.776Z"
   },
   {
    "duration": 79,
    "start_time": "2024-11-23T13:43:51.783Z"
   },
   {
    "duration": 72,
    "start_time": "2024-11-23T13:43:51.864Z"
   },
   {
    "duration": 71,
    "start_time": "2024-11-23T13:43:51.938Z"
   },
   {
    "duration": 6,
    "start_time": "2024-11-23T13:43:52.011Z"
   },
   {
    "duration": 113,
    "start_time": "2024-11-23T13:43:52.018Z"
   },
   {
    "duration": 528,
    "start_time": "2024-11-23T13:43:52.133Z"
   },
   {
    "duration": 22,
    "start_time": "2024-11-23T13:43:52.664Z"
   },
   {
    "duration": 467,
    "start_time": "2024-11-23T13:43:52.688Z"
   },
   {
    "duration": 19,
    "start_time": "2024-11-23T13:43:53.156Z"
   },
   {
    "duration": 73,
    "start_time": "2024-11-23T13:43:53.177Z"
   },
   {
    "duration": 193,
    "start_time": "2024-11-23T13:43:53.252Z"
   },
   {
    "duration": 358,
    "start_time": "2024-11-23T13:43:53.447Z"
   },
   {
    "duration": 99,
    "start_time": "2024-11-23T13:43:53.807Z"
   },
   {
    "duration": 20,
    "start_time": "2024-11-23T13:43:53.907Z"
   },
   {
    "duration": 74764,
    "start_time": "2024-11-23T13:43:53.929Z"
   },
   {
    "duration": 2232,
    "start_time": "2024-11-23T13:45:08.694Z"
   },
   {
    "duration": 1319,
    "start_time": "2024-11-23T13:45:10.928Z"
   },
   {
    "duration": 2,
    "start_time": "2024-11-23T13:45:12.249Z"
   },
   {
    "duration": 109,
    "start_time": "2024-11-23T13:45:12.252Z"
   },
   {
    "duration": 29,
    "start_time": "2024-11-23T13:45:58.629Z"
   },
   {
    "duration": 86,
    "start_time": "2024-11-23T13:45:59.166Z"
   },
   {
    "duration": 37,
    "start_time": "2024-11-23T13:46:11.296Z"
   },
   {
    "duration": 94,
    "start_time": "2024-11-23T13:46:12.867Z"
   },
   {
    "duration": 38,
    "start_time": "2024-11-23T13:46:28.709Z"
   },
   {
    "duration": 73,
    "start_time": "2024-11-23T13:46:29.545Z"
   },
   {
    "duration": 52,
    "start_time": "2024-11-23T13:50:10.742Z"
   },
   {
    "duration": 75,
    "start_time": "2024-11-23T13:50:11.645Z"
   },
   {
    "duration": 1491,
    "start_time": "2024-11-23T13:50:19.652Z"
   },
   {
    "duration": 1083,
    "start_time": "2024-11-23T13:50:21.145Z"
   },
   {
    "duration": 6,
    "start_time": "2024-11-23T13:50:22.237Z"
   },
   {
    "duration": 59,
    "start_time": "2024-11-23T13:50:22.245Z"
   },
   {
    "duration": 75,
    "start_time": "2024-11-23T13:50:22.306Z"
   },
   {
    "duration": 33,
    "start_time": "2024-11-23T13:50:22.383Z"
   },
   {
    "duration": 34,
    "start_time": "2024-11-23T13:50:22.418Z"
   },
   {
    "duration": 134,
    "start_time": "2024-11-23T13:50:22.454Z"
   },
   {
    "duration": 549,
    "start_time": "2024-11-23T13:50:22.590Z"
   },
   {
    "duration": 24,
    "start_time": "2024-11-23T13:50:23.141Z"
   },
   {
    "duration": 387,
    "start_time": "2024-11-23T13:50:23.166Z"
   },
   {
    "duration": 19,
    "start_time": "2024-11-23T13:50:23.555Z"
   },
   {
    "duration": 108,
    "start_time": "2024-11-23T13:50:23.575Z"
   },
   {
    "duration": 234,
    "start_time": "2024-11-23T13:50:23.685Z"
   },
   {
    "duration": 355,
    "start_time": "2024-11-23T13:50:23.935Z"
   },
   {
    "duration": 100,
    "start_time": "2024-11-23T13:50:24.292Z"
   },
   {
    "duration": 24,
    "start_time": "2024-11-23T13:50:24.394Z"
   },
   {
    "duration": 80426,
    "start_time": "2024-11-23T13:50:24.420Z"
   },
   {
    "duration": 2466,
    "start_time": "2024-11-23T13:51:44.848Z"
   },
   {
    "duration": 71,
    "start_time": "2024-11-23T13:51:47.316Z"
   },
   {
    "duration": 91,
    "start_time": "2024-11-23T13:51:47.388Z"
   },
   {
    "duration": 57,
    "start_time": "2024-11-23T13:53:15.675Z"
   },
   {
    "duration": 88,
    "start_time": "2024-11-23T13:53:17.449Z"
   },
   {
    "duration": 53,
    "start_time": "2024-11-23T13:53:56.049Z"
   },
   {
    "duration": 82,
    "start_time": "2024-11-23T13:53:56.721Z"
   },
   {
    "duration": 66,
    "start_time": "2024-11-23T14:31:43.260Z"
   },
   {
    "duration": 1407,
    "start_time": "2024-11-23T14:36:39.388Z"
   },
   {
    "duration": 995,
    "start_time": "2024-11-23T14:36:40.796Z"
   },
   {
    "duration": 5,
    "start_time": "2024-11-23T14:36:41.792Z"
   },
   {
    "duration": 128,
    "start_time": "2024-11-23T14:36:41.799Z"
   },
   {
    "duration": 48,
    "start_time": "2024-11-23T14:36:41.928Z"
   },
   {
    "duration": 44,
    "start_time": "2024-11-23T14:36:41.978Z"
   },
   {
    "duration": 4,
    "start_time": "2024-11-23T14:36:42.024Z"
   },
   {
    "duration": 110,
    "start_time": "2024-11-23T14:36:42.029Z"
   },
   {
    "duration": 477,
    "start_time": "2024-11-23T14:36:42.140Z"
   },
   {
    "duration": 21,
    "start_time": "2024-11-23T14:36:42.620Z"
   },
   {
    "duration": 370,
    "start_time": "2024-11-23T14:36:42.643Z"
   },
   {
    "duration": 18,
    "start_time": "2024-11-23T14:36:43.015Z"
   },
   {
    "duration": 57,
    "start_time": "2024-11-23T14:36:43.035Z"
   },
   {
    "duration": 191,
    "start_time": "2024-11-23T14:36:43.094Z"
   },
   {
    "duration": 340,
    "start_time": "2024-11-23T14:36:43.287Z"
   },
   {
    "duration": 96,
    "start_time": "2024-11-23T14:36:43.629Z"
   },
   {
    "duration": 16,
    "start_time": "2024-11-23T14:36:43.727Z"
   },
   {
    "duration": 74354,
    "start_time": "2024-11-23T14:36:43.745Z"
   },
   {
    "duration": 2487,
    "start_time": "2024-11-23T14:37:58.101Z"
   },
   {
    "duration": 70,
    "start_time": "2024-11-23T14:38:00.589Z"
   },
   {
    "duration": 92,
    "start_time": "2024-11-23T14:38:00.661Z"
   },
   {
    "duration": 78,
    "start_time": "2024-11-23T14:38:00.755Z"
   },
   {
    "duration": 54,
    "start_time": "2024-11-23T14:38:00.835Z"
   },
   {
    "duration": 3,
    "start_time": "2024-11-23T14:38:00.890Z"
   },
   {
    "duration": 148,
    "start_time": "2024-11-23T14:38:00.894Z"
   },
   {
    "duration": 1434,
    "start_time": "2024-11-23T14:44:34.158Z"
   },
   {
    "duration": 1038,
    "start_time": "2024-11-23T14:44:35.594Z"
   },
   {
    "duration": 6,
    "start_time": "2024-11-23T14:44:36.637Z"
   },
   {
    "duration": 59,
    "start_time": "2024-11-23T14:44:36.646Z"
   },
   {
    "duration": 54,
    "start_time": "2024-11-23T14:44:36.706Z"
   },
   {
    "duration": 29,
    "start_time": "2024-11-23T14:44:36.762Z"
   },
   {
    "duration": 74,
    "start_time": "2024-11-23T14:44:36.793Z"
   },
   {
    "duration": 118,
    "start_time": "2024-11-23T14:44:36.869Z"
   },
   {
    "duration": 524,
    "start_time": "2024-11-23T14:44:36.989Z"
   },
   {
    "duration": 31,
    "start_time": "2024-11-23T14:44:37.515Z"
   },
   {
    "duration": 382,
    "start_time": "2024-11-23T14:44:37.547Z"
   },
   {
    "duration": 23,
    "start_time": "2024-11-23T14:44:37.931Z"
   },
   {
    "duration": 55,
    "start_time": "2024-11-23T14:44:37.955Z"
   },
   {
    "duration": 201,
    "start_time": "2024-11-23T14:44:38.012Z"
   },
   {
    "duration": 377,
    "start_time": "2024-11-23T14:44:38.214Z"
   },
   {
    "duration": 93,
    "start_time": "2024-11-23T14:44:38.593Z"
   },
   {
    "duration": 15,
    "start_time": "2024-11-23T14:44:38.688Z"
   },
   {
    "duration": 79613,
    "start_time": "2024-11-23T14:44:38.704Z"
   },
   {
    "duration": 2516,
    "start_time": "2024-11-23T14:45:58.325Z"
   },
   {
    "duration": 52,
    "start_time": "2024-11-23T14:46:00.843Z"
   },
   {
    "duration": 83,
    "start_time": "2024-11-23T14:46:00.897Z"
   },
   {
    "duration": 36,
    "start_time": "2024-11-23T14:46:00.981Z"
   },
   {
    "duration": 67,
    "start_time": "2024-11-23T14:46:01.018Z"
   },
   {
    "duration": 3,
    "start_time": "2024-11-23T14:46:01.087Z"
   },
   {
    "duration": 146,
    "start_time": "2024-11-23T14:46:01.091Z"
   },
   {
    "duration": 359300,
    "start_time": "2024-11-23T14:46:01.239Z"
   },
   {
    "duration": 7,
    "start_time": "2024-11-23T14:52:00.541Z"
   },
   {
    "duration": 32,
    "start_time": "2024-11-23T14:52:00.551Z"
   },
   {
    "duration": 2,
    "start_time": "2024-11-23T14:52:00.585Z"
   },
   {
    "duration": 45,
    "start_time": "2024-11-23T14:52:00.588Z"
   },
   {
    "duration": 67,
    "start_time": "2024-11-23T14:52:00.634Z"
   },
   {
    "duration": 155,
    "start_time": "2024-11-23T14:52:00.703Z"
   },
   {
    "duration": 0,
    "start_time": "2024-11-23T14:52:00.860Z"
   },
   {
    "duration": 0,
    "start_time": "2024-11-23T14:52:00.861Z"
   },
   {
    "duration": 0,
    "start_time": "2024-11-23T14:52:00.862Z"
   },
   {
    "duration": 0,
    "start_time": "2024-11-23T14:52:00.862Z"
   },
   {
    "duration": 1417,
    "start_time": "2024-11-23T15:02:27.812Z"
   },
   {
    "duration": 982,
    "start_time": "2024-11-23T15:02:29.230Z"
   },
   {
    "duration": 10,
    "start_time": "2024-11-23T15:02:30.213Z"
   },
   {
    "duration": 51,
    "start_time": "2024-11-23T15:02:30.225Z"
   },
   {
    "duration": 77,
    "start_time": "2024-11-23T15:02:30.278Z"
   },
   {
    "duration": 55,
    "start_time": "2024-11-23T15:02:30.357Z"
   },
   {
    "duration": 13,
    "start_time": "2024-11-23T15:02:30.413Z"
   },
   {
    "duration": 108,
    "start_time": "2024-11-23T15:02:30.428Z"
   },
   {
    "duration": 495,
    "start_time": "2024-11-23T15:02:30.538Z"
   },
   {
    "duration": 22,
    "start_time": "2024-11-23T15:02:31.036Z"
   },
   {
    "duration": 334,
    "start_time": "2024-11-23T15:02:31.059Z"
   },
   {
    "duration": 26,
    "start_time": "2024-11-23T15:02:31.395Z"
   },
   {
    "duration": 76,
    "start_time": "2024-11-23T15:02:31.422Z"
   },
   {
    "duration": 198,
    "start_time": "2024-11-23T15:02:31.500Z"
   },
   {
    "duration": 351,
    "start_time": "2024-11-23T15:02:31.699Z"
   },
   {
    "duration": 95,
    "start_time": "2024-11-23T15:02:32.051Z"
   },
   {
    "duration": 36,
    "start_time": "2024-11-23T15:02:32.148Z"
   },
   {
    "duration": 74779,
    "start_time": "2024-11-23T15:02:32.185Z"
   },
   {
    "duration": 2456,
    "start_time": "2024-11-23T15:03:46.965Z"
   },
   {
    "duration": 63,
    "start_time": "2024-11-23T15:03:49.423Z"
   },
   {
    "duration": 90,
    "start_time": "2024-11-23T15:03:49.487Z"
   },
   {
    "duration": 12,
    "start_time": "2024-11-23T15:03:49.578Z"
   },
   {
    "duration": 60,
    "start_time": "2024-11-23T15:03:49.592Z"
   },
   {
    "duration": 3,
    "start_time": "2024-11-23T15:03:49.654Z"
   },
   {
    "duration": 126,
    "start_time": "2024-11-23T15:03:49.658Z"
   },
   {
    "duration": 331488,
    "start_time": "2024-11-23T15:03:49.786Z"
   },
   {
    "duration": 7,
    "start_time": "2024-11-23T15:09:21.275Z"
   },
   {
    "duration": 21,
    "start_time": "2024-11-23T15:09:21.285Z"
   },
   {
    "duration": 3,
    "start_time": "2024-11-23T15:09:21.321Z"
   },
   {
    "duration": 47,
    "start_time": "2024-11-23T15:09:21.325Z"
   },
   {
    "duration": 54,
    "start_time": "2024-11-23T15:09:21.373Z"
   },
   {
    "duration": 133,
    "start_time": "2024-11-23T15:09:21.429Z"
   },
   {
    "duration": 0,
    "start_time": "2024-11-23T15:09:21.563Z"
   },
   {
    "duration": 0,
    "start_time": "2024-11-23T15:09:21.565Z"
   },
   {
    "duration": 0,
    "start_time": "2024-11-23T15:09:21.566Z"
   },
   {
    "duration": 0,
    "start_time": "2024-11-23T15:09:21.567Z"
   },
   {
    "duration": 2404,
    "start_time": "2024-11-23T15:13:26.829Z"
   },
   {
    "duration": 2173,
    "start_time": "2024-11-23T15:14:38.502Z"
   },
   {
    "duration": 372,
    "start_time": "2024-11-23T15:14:54.908Z"
   },
   {
    "duration": 13,
    "start_time": "2024-11-23T15:16:06.299Z"
   },
   {
    "duration": 652129,
    "start_time": "2024-11-23T15:16:19.863Z"
   },
   {
    "duration": 9,
    "start_time": "2024-11-23T15:28:20.247Z"
   },
   {
    "duration": 1810654,
    "start_time": "2024-11-23T15:28:35.485Z"
   },
   {
    "duration": 8,
    "start_time": "2024-11-23T16:04:31.629Z"
   },
   {
    "duration": 2,
    "start_time": "2024-11-23T16:06:56.851Z"
   },
   {
    "duration": 3,
    "start_time": "2024-11-23T16:09:22.883Z"
   },
   {
    "duration": 144060,
    "start_time": "2024-11-23T16:17:13.985Z"
   },
   {
    "duration": 5,
    "start_time": "2024-11-23T17:20:50.384Z"
   },
   {
    "duration": 3,
    "start_time": "2024-11-23T17:20:51.867Z"
   },
   {
    "duration": 27263,
    "start_time": "2024-11-23T17:20:52.369Z"
   },
   {
    "duration": 10727,
    "start_time": "2024-11-23T17:21:19.634Z"
   },
   {
    "duration": 283,
    "start_time": "2024-11-23T17:21:30.363Z"
   },
   {
    "duration": 3,
    "start_time": "2024-11-23T17:21:30.648Z"
   },
   {
    "duration": 177693,
    "start_time": "2024-11-23T17:21:30.653Z"
   },
   {
    "duration": 221,
    "start_time": "2024-11-23T17:24:28.347Z"
   },
   {
    "duration": 1624,
    "start_time": "2024-11-23T17:24:28.569Z"
   },
   {
    "duration": 3,
    "start_time": "2024-11-23T17:24:30.194Z"
   },
   {
    "duration": 113,
    "start_time": "2024-11-23T17:24:30.198Z"
   },
   {
    "duration": 59,
    "start_time": "2024-11-23T17:24:30.314Z"
   },
   {
    "duration": 8,
    "start_time": "2024-11-23T17:24:30.375Z"
   },
   {
    "duration": 5,
    "start_time": "2024-11-23T17:30:43.373Z"
   },
   {
    "duration": 6,
    "start_time": "2024-11-23T17:30:43.937Z"
   },
   {
    "duration": 2,
    "start_time": "2024-11-23T17:30:47.489Z"
   },
   {
    "duration": 9,
    "start_time": "2024-11-23T17:30:47.789Z"
   },
   {
    "duration": 9,
    "start_time": "2024-11-23T17:30:48.136Z"
   },
   {
    "duration": 1344,
    "start_time": "2024-11-23T17:32:44.263Z"
   },
   {
    "duration": 967,
    "start_time": "2024-11-23T17:32:45.608Z"
   },
   {
    "duration": 5,
    "start_time": "2024-11-23T17:32:46.576Z"
   },
   {
    "duration": 60,
    "start_time": "2024-11-23T17:32:46.583Z"
   },
   {
    "duration": 44,
    "start_time": "2024-11-23T17:32:46.645Z"
   },
   {
    "duration": 38,
    "start_time": "2024-11-23T17:32:46.691Z"
   },
   {
    "duration": 4,
    "start_time": "2024-11-23T17:32:46.731Z"
   },
   {
    "duration": 104,
    "start_time": "2024-11-23T17:32:46.736Z"
   },
   {
    "duration": 499,
    "start_time": "2024-11-23T17:32:46.842Z"
   },
   {
    "duration": 28,
    "start_time": "2024-11-23T17:32:47.343Z"
   },
   {
    "duration": 364,
    "start_time": "2024-11-23T17:32:47.372Z"
   },
   {
    "duration": 19,
    "start_time": "2024-11-23T17:32:47.738Z"
   },
   {
    "duration": 65,
    "start_time": "2024-11-23T17:32:47.759Z"
   },
   {
    "duration": 193,
    "start_time": "2024-11-23T17:32:47.825Z"
   },
   {
    "duration": 400,
    "start_time": "2024-11-23T17:32:48.021Z"
   },
   {
    "duration": 84,
    "start_time": "2024-11-23T17:32:48.422Z"
   },
   {
    "duration": 24,
    "start_time": "2024-11-23T17:32:48.507Z"
   },
   {
    "duration": 73109,
    "start_time": "2024-11-23T17:32:48.532Z"
   },
   {
    "duration": 2333,
    "start_time": "2024-11-23T17:34:01.643Z"
   },
   {
    "duration": 66,
    "start_time": "2024-11-23T17:34:03.978Z"
   },
   {
    "duration": 82,
    "start_time": "2024-11-23T17:34:04.045Z"
   },
   {
    "duration": 19,
    "start_time": "2024-11-23T17:34:04.129Z"
   },
   {
    "duration": 63,
    "start_time": "2024-11-23T17:34:04.150Z"
   },
   {
    "duration": 4,
    "start_time": "2024-11-23T17:34:04.215Z"
   },
   {
    "duration": 138,
    "start_time": "2024-11-23T17:34:04.221Z"
   },
   {
    "duration": 325805,
    "start_time": "2024-11-23T17:34:04.361Z"
   },
   {
    "duration": 3,
    "start_time": "2024-11-23T17:39:30.167Z"
   },
   {
    "duration": 50,
    "start_time": "2024-11-23T17:39:30.173Z"
   },
   {
    "duration": 34,
    "start_time": "2024-11-23T17:39:30.225Z"
   },
   {
    "duration": 39,
    "start_time": "2024-11-23T17:39:30.261Z"
   },
   {
    "duration": 108,
    "start_time": "2024-11-23T17:39:30.301Z"
   },
   {
    "duration": 1553,
    "start_time": "2024-11-23T17:39:30.411Z"
   },
   {
    "duration": 644994,
    "start_time": "2024-11-23T17:39:31.965Z"
   },
   {
    "duration": 3,
    "start_time": "2024-11-23T17:50:16.960Z"
   },
   {
    "duration": 157761,
    "start_time": "2024-11-23T17:50:16.964Z"
   },
   {
    "duration": 19414,
    "start_time": "2024-11-23T17:52:54.726Z"
   },
   {
    "duration": 4,
    "start_time": "2024-11-23T17:53:14.141Z"
   },
   {
    "duration": 7,
    "start_time": "2024-11-23T17:53:14.147Z"
   },
   {
    "duration": 3,
    "start_time": "2024-11-23T17:53:14.156Z"
   },
   {
    "duration": 27815,
    "start_time": "2024-11-23T17:53:14.221Z"
   },
   {
    "duration": 10810,
    "start_time": "2024-11-23T17:53:42.037Z"
   },
   {
    "duration": 12,
    "start_time": "2024-11-23T17:53:52.849Z"
   },
   {
    "duration": 65,
    "start_time": "2024-11-23T17:53:52.862Z"
   },
   {
    "duration": 180468,
    "start_time": "2024-11-23T17:53:52.929Z"
   },
   {
    "duration": 219,
    "start_time": "2024-11-23T17:56:53.398Z"
   },
   {
    "duration": 10,
    "start_time": "2024-11-23T17:56:53.621Z"
   },
   {
    "duration": 2,
    "start_time": "2024-11-23T17:56:53.633Z"
   },
   {
    "duration": 158,
    "start_time": "2024-11-23T17:56:53.637Z"
   },
   {
    "duration": 0,
    "start_time": "2024-11-23T17:56:53.797Z"
   },
   {
    "duration": 0,
    "start_time": "2024-11-23T17:56:53.798Z"
   },
   {
    "duration": 0,
    "start_time": "2024-11-23T17:56:53.799Z"
   },
   {
    "duration": 23,
    "start_time": "2024-11-23T18:13:55.055Z"
   },
   {
    "duration": 1583,
    "start_time": "2024-11-23T18:14:05.920Z"
   },
   {
    "duration": 3,
    "start_time": "2024-11-23T18:14:12.212Z"
   },
   {
    "duration": 42,
    "start_time": "2024-11-23T18:14:13.046Z"
   },
   {
    "duration": 1543,
    "start_time": "2024-11-23T18:18:06.390Z"
   },
   {
    "duration": 2,
    "start_time": "2024-11-23T18:18:08.158Z"
   },
   {
    "duration": 40,
    "start_time": "2024-11-23T18:18:10.638Z"
   },
   {
    "duration": 1540,
    "start_time": "2024-11-23T18:21:51.657Z"
   },
   {
    "duration": 2,
    "start_time": "2024-11-23T18:21:53.199Z"
   },
   {
    "duration": 348204,
    "start_time": "2024-11-23T18:21:53.202Z"
   },
   {
    "duration": 2731,
    "start_time": "2024-11-23T18:27:41.408Z"
   },
   {
    "duration": 1420,
    "start_time": "2024-11-23T18:33:16.690Z"
   },
   {
    "duration": 998,
    "start_time": "2024-11-23T18:33:18.112Z"
   },
   {
    "duration": 11,
    "start_time": "2024-11-23T18:33:19.111Z"
   },
   {
    "duration": 50,
    "start_time": "2024-11-23T18:33:19.123Z"
   },
   {
    "duration": 59,
    "start_time": "2024-11-23T18:33:19.175Z"
   },
   {
    "duration": 48,
    "start_time": "2024-11-23T18:33:19.235Z"
   },
   {
    "duration": 4,
    "start_time": "2024-11-23T18:33:19.284Z"
   },
   {
    "duration": 103,
    "start_time": "2024-11-23T18:33:19.290Z"
   },
   {
    "duration": 474,
    "start_time": "2024-11-23T18:33:19.395Z"
   },
   {
    "duration": 21,
    "start_time": "2024-11-23T18:33:19.871Z"
   },
   {
    "duration": 341,
    "start_time": "2024-11-23T18:33:19.894Z"
   },
   {
    "duration": 20,
    "start_time": "2024-11-23T18:33:20.237Z"
   },
   {
    "duration": 95,
    "start_time": "2024-11-23T18:33:20.259Z"
   },
   {
    "duration": 191,
    "start_time": "2024-11-23T18:33:20.358Z"
   },
   {
    "duration": 388,
    "start_time": "2024-11-23T18:33:20.551Z"
   },
   {
    "duration": 92,
    "start_time": "2024-11-23T18:33:20.940Z"
   },
   {
    "duration": 19,
    "start_time": "2024-11-23T18:33:21.034Z"
   },
   {
    "duration": 72825,
    "start_time": "2024-11-23T18:33:21.054Z"
   },
   {
    "duration": 2241,
    "start_time": "2024-11-23T18:34:33.881Z"
   },
   {
    "duration": 55,
    "start_time": "2024-11-23T18:34:36.124Z"
   },
   {
    "duration": 97,
    "start_time": "2024-11-23T18:34:36.180Z"
   },
   {
    "duration": 40,
    "start_time": "2024-11-23T18:34:36.279Z"
   },
   {
    "duration": 70,
    "start_time": "2024-11-23T18:34:36.320Z"
   },
   {
    "duration": 28,
    "start_time": "2024-11-23T18:34:36.392Z"
   },
   {
    "duration": 140,
    "start_time": "2024-11-23T18:34:36.422Z"
   },
   {
    "duration": 1637,
    "start_time": "2024-11-23T18:40:01.972Z"
   },
   {
    "duration": 609621,
    "start_time": "2024-11-23T18:40:03.610Z"
   },
   {
    "duration": 2,
    "start_time": "2024-11-23T18:50:13.233Z"
   },
   {
    "duration": 134486,
    "start_time": "2024-11-23T18:50:13.237Z"
   },
   {
    "duration": 19327,
    "start_time": "2024-11-23T18:52:27.725Z"
   },
   {
    "duration": 4,
    "start_time": "2024-11-23T18:52:47.053Z"
   },
   {
    "duration": 11,
    "start_time": "2024-11-23T18:52:47.058Z"
   },
   {
    "duration": 8,
    "start_time": "2024-11-23T18:52:47.120Z"
   },
   {
    "duration": 32401,
    "start_time": "2024-11-23T18:52:47.130Z"
   },
   {
    "duration": 11320,
    "start_time": "2024-11-23T18:53:19.535Z"
   },
   {
    "duration": 13,
    "start_time": "2024-11-23T18:53:30.921Z"
   },
   {
    "duration": 9,
    "start_time": "2024-11-23T18:53:30.939Z"
   },
   {
    "duration": 180133,
    "start_time": "2024-11-23T18:53:30.950Z"
   },
   {
    "duration": 220,
    "start_time": "2024-11-23T18:56:31.085Z"
   },
   {
    "duration": 18,
    "start_time": "2024-11-23T18:56:31.306Z"
   },
   {
    "duration": 1613,
    "start_time": "2024-11-23T18:56:31.326Z"
   },
   {
    "duration": 4,
    "start_time": "2024-11-23T18:56:32.941Z"
   },
   {
    "duration": 352024,
    "start_time": "2024-11-23T18:56:32.947Z"
   },
   {
    "duration": 2773,
    "start_time": "2024-11-23T19:02:24.973Z"
   },
   {
    "duration": 1332,
    "start_time": "2024-11-23T19:06:05.348Z"
   },
   {
    "duration": 993,
    "start_time": "2024-11-23T19:06:06.681Z"
   },
   {
    "duration": 5,
    "start_time": "2024-11-23T19:06:07.675Z"
   },
   {
    "duration": 58,
    "start_time": "2024-11-23T19:06:07.682Z"
   },
   {
    "duration": 56,
    "start_time": "2024-11-23T19:06:07.741Z"
   },
   {
    "duration": 44,
    "start_time": "2024-11-23T19:06:07.799Z"
   },
   {
    "duration": 30,
    "start_time": "2024-11-23T19:06:07.845Z"
   },
   {
    "duration": 90,
    "start_time": "2024-11-23T19:06:07.877Z"
   },
   {
    "duration": 474,
    "start_time": "2024-11-23T19:06:07.969Z"
   },
   {
    "duration": 20,
    "start_time": "2024-11-23T19:06:08.446Z"
   },
   {
    "duration": 327,
    "start_time": "2024-11-23T19:06:08.467Z"
   },
   {
    "duration": 26,
    "start_time": "2024-11-23T19:06:08.796Z"
   },
   {
    "duration": 56,
    "start_time": "2024-11-23T19:06:08.824Z"
   },
   {
    "duration": 191,
    "start_time": "2024-11-23T19:06:08.881Z"
   },
   {
    "duration": 328,
    "start_time": "2024-11-23T19:06:09.073Z"
   },
   {
    "duration": 83,
    "start_time": "2024-11-23T19:06:09.402Z"
   },
   {
    "duration": 29,
    "start_time": "2024-11-23T19:06:09.486Z"
   },
   {
    "duration": 72174,
    "start_time": "2024-11-23T19:06:09.516Z"
   },
   {
    "duration": 2209,
    "start_time": "2024-11-23T19:07:21.691Z"
   },
   {
    "duration": 63,
    "start_time": "2024-11-23T19:07:23.902Z"
   },
   {
    "duration": 76,
    "start_time": "2024-11-23T19:07:23.966Z"
   },
   {
    "duration": 12,
    "start_time": "2024-11-23T19:07:24.044Z"
   },
   {
    "duration": 51,
    "start_time": "2024-11-23T19:07:24.057Z"
   },
   {
    "duration": 12,
    "start_time": "2024-11-23T19:07:24.109Z"
   },
   {
    "duration": 118,
    "start_time": "2024-11-23T19:07:24.123Z"
   },
   {
    "duration": 319424,
    "start_time": "2024-11-23T19:07:24.242Z"
   },
   {
    "duration": 2,
    "start_time": "2024-11-23T19:12:43.667Z"
   },
   {
    "duration": 20,
    "start_time": "2024-11-23T19:12:43.673Z"
   },
   {
    "duration": 3,
    "start_time": "2024-11-23T19:12:43.694Z"
   },
   {
    "duration": 37,
    "start_time": "2024-11-23T19:12:43.698Z"
   },
   {
    "duration": 55,
    "start_time": "2024-11-23T19:12:43.737Z"
   },
   {
    "duration": 1604,
    "start_time": "2024-11-23T19:12:43.794Z"
   },
   {
    "duration": 601428,
    "start_time": "2024-11-23T19:12:45.400Z"
   },
   {
    "duration": 2,
    "start_time": "2024-11-23T19:22:46.830Z"
   },
   {
    "duration": 133690,
    "start_time": "2024-11-23T19:22:46.833Z"
   },
   {
    "duration": 18808,
    "start_time": "2024-11-23T19:25:00.524Z"
   },
   {
    "duration": 4,
    "start_time": "2024-11-23T19:25:19.333Z"
   },
   {
    "duration": 18,
    "start_time": "2024-11-23T19:25:19.338Z"
   },
   {
    "duration": 19,
    "start_time": "2024-11-23T19:25:19.357Z"
   },
   {
    "duration": 41952,
    "start_time": "2024-11-23T19:25:19.378Z"
   },
   {
    "duration": 10998,
    "start_time": "2024-11-23T19:26:01.331Z"
   },
   {
    "duration": 10,
    "start_time": "2024-11-23T19:26:12.331Z"
   },
   {
    "duration": 36,
    "start_time": "2024-11-23T19:26:12.343Z"
   },
   {
    "duration": 175179,
    "start_time": "2024-11-23T19:26:12.381Z"
   },
   {
    "duration": 223,
    "start_time": "2024-11-23T19:29:07.561Z"
   },
   {
    "duration": 10,
    "start_time": "2024-11-23T19:29:07.785Z"
   },
   {
    "duration": 19,
    "start_time": "2024-11-23T19:29:07.797Z"
   },
   {
    "duration": 349839,
    "start_time": "2024-11-23T19:29:07.818Z"
   },
   {
    "duration": 134,
    "start_time": "2024-11-23T19:34:57.659Z"
   },
   {
    "duration": 0,
    "start_time": "2024-11-23T19:34:57.795Z"
   },
   {
    "duration": 0,
    "start_time": "2024-11-23T19:34:57.796Z"
   },
   {
    "duration": 586,
    "start_time": "2024-11-23T19:53:09.141Z"
   },
   {
    "duration": 11,
    "start_time": "2024-11-23T19:53:12.102Z"
   },
   {
    "duration": 6,
    "start_time": "2024-11-23T19:53:15.451Z"
   },
   {
    "duration": 1784,
    "start_time": "2024-11-24T05:53:49.689Z"
   },
   {
    "duration": 1299,
    "start_time": "2024-11-24T05:53:51.475Z"
   },
   {
    "duration": 5,
    "start_time": "2024-11-24T05:53:52.775Z"
   },
   {
    "duration": 53,
    "start_time": "2024-11-24T05:53:52.782Z"
   },
   {
    "duration": 55,
    "start_time": "2024-11-24T05:53:52.837Z"
   },
   {
    "duration": 27,
    "start_time": "2024-11-24T05:53:52.894Z"
   },
   {
    "duration": 52,
    "start_time": "2024-11-24T05:53:52.923Z"
   },
   {
    "duration": 129,
    "start_time": "2024-11-24T05:53:52.976Z"
   },
   {
    "duration": 551,
    "start_time": "2024-11-24T05:53:53.107Z"
   },
   {
    "duration": 27,
    "start_time": "2024-11-24T05:53:53.660Z"
   },
   {
    "duration": 406,
    "start_time": "2024-11-24T05:53:53.688Z"
   },
   {
    "duration": 21,
    "start_time": "2024-11-24T05:53:54.097Z"
   },
   {
    "duration": 74,
    "start_time": "2024-11-24T05:53:54.120Z"
   },
   {
    "duration": 195,
    "start_time": "2024-11-24T05:53:54.196Z"
   },
   {
    "duration": 338,
    "start_time": "2024-11-24T05:53:54.392Z"
   },
   {
    "duration": 88,
    "start_time": "2024-11-24T05:53:54.731Z"
   },
   {
    "duration": 16,
    "start_time": "2024-11-24T05:53:54.820Z"
   },
   {
    "duration": 74812,
    "start_time": "2024-11-24T05:53:54.837Z"
   },
   {
    "duration": 2349,
    "start_time": "2024-11-24T05:55:09.650Z"
   },
   {
    "duration": 55,
    "start_time": "2024-11-24T05:55:12.000Z"
   },
   {
    "duration": 84,
    "start_time": "2024-11-24T05:55:12.057Z"
   },
   {
    "duration": 11,
    "start_time": "2024-11-24T05:55:12.143Z"
   },
   {
    "duration": 62,
    "start_time": "2024-11-24T05:55:12.155Z"
   },
   {
    "duration": 3,
    "start_time": "2024-11-24T05:55:12.218Z"
   },
   {
    "duration": 130,
    "start_time": "2024-11-24T05:55:12.222Z"
   },
   {
    "duration": 335970,
    "start_time": "2024-11-24T05:55:12.353Z"
   },
   {
    "duration": 2,
    "start_time": "2024-11-24T06:00:48.324Z"
   },
   {
    "duration": 21,
    "start_time": "2024-11-24T06:00:48.329Z"
   },
   {
    "duration": 18,
    "start_time": "2024-11-24T06:00:48.352Z"
   },
   {
    "duration": 21,
    "start_time": "2024-11-24T06:00:48.372Z"
   },
   {
    "duration": 55,
    "start_time": "2024-11-24T06:00:48.395Z"
   },
   {
    "duration": 1658,
    "start_time": "2024-11-24T06:00:48.452Z"
   },
   {
    "duration": 652160,
    "start_time": "2024-11-24T06:00:50.111Z"
   },
   {
    "duration": 2,
    "start_time": "2024-11-24T06:11:42.273Z"
   },
   {
    "duration": 1874815,
    "start_time": "2024-11-24T06:11:42.277Z"
   },
   {
    "duration": 19284,
    "start_time": "2024-11-24T06:42:57.094Z"
   },
   {
    "duration": 3,
    "start_time": "2024-11-24T06:43:16.380Z"
   },
   {
    "duration": 5,
    "start_time": "2024-11-24T06:43:16.385Z"
   },
   {
    "duration": 4,
    "start_time": "2024-11-24T06:43:16.392Z"
   },
   {
    "duration": 28390,
    "start_time": "2024-11-24T06:43:16.397Z"
   },
   {
    "duration": 10902,
    "start_time": "2024-11-24T06:43:44.788Z"
   },
   {
    "duration": 9,
    "start_time": "2024-11-24T06:43:55.692Z"
   },
   {
    "duration": 3,
    "start_time": "2024-11-24T06:43:55.703Z"
   },
   {
    "duration": 186242,
    "start_time": "2024-11-24T06:43:55.707Z"
   },
   {
    "duration": 242,
    "start_time": "2024-11-24T06:47:01.950Z"
   },
   {
    "duration": 11,
    "start_time": "2024-11-24T06:47:02.193Z"
   },
   {
    "duration": 3,
    "start_time": "2024-11-24T06:47:02.206Z"
   },
   {
    "duration": 376493,
    "start_time": "2024-11-24T06:47:02.211Z"
   },
   {
    "duration": 749,
    "start_time": "2024-11-24T06:53:18.706Z"
   },
   {
    "duration": 14,
    "start_time": "2024-11-24T06:53:19.457Z"
   },
   {
    "duration": 7,
    "start_time": "2024-11-24T06:53:19.472Z"
   },
   {
    "duration": 2580,
    "start_time": "2024-11-24T06:57:57.081Z"
   },
   {
    "duration": 1755,
    "start_time": "2024-11-25T08:36:01.789Z"
   },
   {
    "duration": 3151,
    "start_time": "2024-11-25T08:36:03.546Z"
   },
   {
    "duration": 8,
    "start_time": "2024-11-25T08:36:06.700Z"
   },
   {
    "duration": 56,
    "start_time": "2024-11-25T08:36:06.711Z"
   },
   {
    "duration": 71,
    "start_time": "2024-11-25T08:36:06.770Z"
   },
   {
    "duration": 39,
    "start_time": "2024-11-25T08:36:06.843Z"
   },
   {
    "duration": 32,
    "start_time": "2024-11-25T08:36:06.884Z"
   },
   {
    "duration": 146,
    "start_time": "2024-11-25T08:36:06.918Z"
   },
   {
    "duration": 552,
    "start_time": "2024-11-25T08:36:07.066Z"
   },
   {
    "duration": 23,
    "start_time": "2024-11-25T08:36:07.619Z"
   },
   {
    "duration": 389,
    "start_time": "2024-11-25T08:36:07.644Z"
   },
   {
    "duration": 20,
    "start_time": "2024-11-25T08:36:08.035Z"
   },
   {
    "duration": 97,
    "start_time": "2024-11-25T08:36:08.056Z"
   },
   {
    "duration": 240,
    "start_time": "2024-11-25T08:36:08.157Z"
   },
   {
    "duration": 437,
    "start_time": "2024-11-25T08:36:08.399Z"
   },
   {
    "duration": 83,
    "start_time": "2024-11-25T08:36:08.837Z"
   },
   {
    "duration": 22,
    "start_time": "2024-11-25T08:36:08.922Z"
   },
   {
    "duration": 82048,
    "start_time": "2024-11-25T08:36:08.946Z"
   },
   {
    "duration": 2566,
    "start_time": "2024-11-25T08:37:30.999Z"
   },
   {
    "duration": 1476,
    "start_time": "2024-11-25T08:37:33.567Z"
   },
   {
    "duration": 65,
    "start_time": "2024-11-25T08:37:35.045Z"
   },
   {
    "duration": 85,
    "start_time": "2024-11-25T08:37:35.115Z"
   },
   {
    "duration": 65,
    "start_time": "2024-11-25T08:37:35.202Z"
   },
   {
    "duration": 74,
    "start_time": "2024-11-25T08:37:35.270Z"
   },
   {
    "duration": 3,
    "start_time": "2024-11-25T08:37:35.346Z"
   },
   {
    "duration": 1636,
    "start_time": "2024-11-25T08:37:35.350Z"
   },
   {
    "duration": 353378,
    "start_time": "2024-11-25T08:37:36.988Z"
   },
   {
    "duration": 2,
    "start_time": "2024-11-25T08:43:30.368Z"
   },
   {
    "duration": 35,
    "start_time": "2024-11-25T08:43:30.372Z"
   },
   {
    "duration": 28,
    "start_time": "2024-11-25T08:43:30.409Z"
   },
   {
    "duration": 79,
    "start_time": "2024-11-25T08:43:30.438Z"
   },
   {
    "duration": 82,
    "start_time": "2024-11-25T08:43:30.518Z"
   },
   {
    "duration": 1662,
    "start_time": "2024-11-25T08:43:30.601Z"
   },
   {
    "duration": 986420,
    "start_time": "2024-11-25T08:43:32.265Z"
   },
   {
    "duration": 3,
    "start_time": "2024-11-25T08:59:58.687Z"
   },
   {
    "duration": 2016027,
    "start_time": "2024-11-25T08:59:58.701Z"
   },
   {
    "duration": 27432,
    "start_time": "2024-11-25T09:33:34.801Z"
   },
   {
    "duration": 4,
    "start_time": "2024-11-25T09:34:02.234Z"
   },
   {
    "duration": 63,
    "start_time": "2024-11-25T09:34:02.240Z"
   },
   {
    "duration": 17,
    "start_time": "2024-11-25T09:34:02.305Z"
   },
   {
    "duration": 46881,
    "start_time": "2024-11-25T09:34:02.327Z"
   },
   {
    "duration": 140,
    "start_time": "2024-11-25T09:34:49.210Z"
   },
   {
    "duration": 0,
    "start_time": "2024-11-25T09:34:49.352Z"
   },
   {
    "duration": 0,
    "start_time": "2024-11-25T09:34:49.354Z"
   },
   {
    "duration": 0,
    "start_time": "2024-11-25T09:34:49.355Z"
   },
   {
    "duration": 0,
    "start_time": "2024-11-25T09:34:49.356Z"
   },
   {
    "duration": 0,
    "start_time": "2024-11-25T09:34:49.357Z"
   },
   {
    "duration": 0,
    "start_time": "2024-11-25T09:34:49.359Z"
   },
   {
    "duration": 0,
    "start_time": "2024-11-25T09:34:49.360Z"
   },
   {
    "duration": 0,
    "start_time": "2024-11-25T09:34:49.361Z"
   },
   {
    "duration": 0,
    "start_time": "2024-11-25T09:34:49.362Z"
   },
   {
    "duration": 0,
    "start_time": "2024-11-25T09:34:49.364Z"
   },
   {
    "duration": 1568,
    "start_time": "2024-11-25T11:49:40.884Z"
   },
   {
    "duration": 1172,
    "start_time": "2024-11-25T11:49:42.454Z"
   },
   {
    "duration": 6,
    "start_time": "2024-11-25T11:49:43.628Z"
   },
   {
    "duration": 89,
    "start_time": "2024-11-25T11:49:43.637Z"
   },
   {
    "duration": 72,
    "start_time": "2024-11-25T11:49:43.728Z"
   },
   {
    "duration": 74,
    "start_time": "2024-11-25T11:49:43.802Z"
   },
   {
    "duration": 7,
    "start_time": "2024-11-25T11:49:43.878Z"
   },
   {
    "duration": 103,
    "start_time": "2024-11-25T11:49:43.886Z"
   },
   {
    "duration": 555,
    "start_time": "2024-11-25T11:49:43.991Z"
   },
   {
    "duration": 26,
    "start_time": "2024-11-25T11:49:44.548Z"
   },
   {
    "duration": 387,
    "start_time": "2024-11-25T11:49:44.576Z"
   },
   {
    "duration": 21,
    "start_time": "2024-11-25T11:49:44.966Z"
   },
   {
    "duration": 71,
    "start_time": "2024-11-25T11:49:44.989Z"
   },
   {
    "duration": 232,
    "start_time": "2024-11-25T11:49:45.062Z"
   },
   {
    "duration": 450,
    "start_time": "2024-11-25T11:49:45.296Z"
   },
   {
    "duration": 95,
    "start_time": "2024-11-25T11:49:45.747Z"
   },
   {
    "duration": 31,
    "start_time": "2024-11-25T11:49:45.843Z"
   },
   {
    "duration": 80036,
    "start_time": "2024-11-25T11:49:45.876Z"
   },
   {
    "duration": 2493,
    "start_time": "2024-11-25T11:51:05.913Z"
   },
   {
    "duration": 1469,
    "start_time": "2024-11-25T11:51:08.408Z"
   },
   {
    "duration": 74,
    "start_time": "2024-11-25T11:51:09.880Z"
   },
   {
    "duration": 86,
    "start_time": "2024-11-25T11:51:09.956Z"
   },
   {
    "duration": 131,
    "start_time": "2024-11-25T11:51:10.045Z"
   },
   {
    "duration": 0,
    "start_time": "2024-11-25T11:51:10.179Z"
   },
   {
    "duration": 0,
    "start_time": "2024-11-25T11:51:10.180Z"
   },
   {
    "duration": 0,
    "start_time": "2024-11-25T11:51:10.182Z"
   },
   {
    "duration": 0,
    "start_time": "2024-11-25T11:51:10.184Z"
   },
   {
    "duration": 0,
    "start_time": "2024-11-25T11:51:10.185Z"
   },
   {
    "duration": 0,
    "start_time": "2024-11-25T11:51:10.200Z"
   },
   {
    "duration": 0,
    "start_time": "2024-11-25T11:51:10.202Z"
   },
   {
    "duration": 0,
    "start_time": "2024-11-25T11:51:10.203Z"
   },
   {
    "duration": 0,
    "start_time": "2024-11-25T11:51:10.205Z"
   },
   {
    "duration": 0,
    "start_time": "2024-11-25T11:51:10.206Z"
   },
   {
    "duration": 0,
    "start_time": "2024-11-25T11:51:10.208Z"
   },
   {
    "duration": 0,
    "start_time": "2024-11-25T11:51:10.210Z"
   },
   {
    "duration": 0,
    "start_time": "2024-11-25T11:51:10.211Z"
   },
   {
    "duration": 0,
    "start_time": "2024-11-25T11:51:11.804Z"
   },
   {
    "duration": 0,
    "start_time": "2024-11-25T11:51:11.805Z"
   },
   {
    "duration": 0,
    "start_time": "2024-11-25T11:51:11.806Z"
   },
   {
    "duration": 1545,
    "start_time": "2024-11-25T12:02:27.659Z"
   },
   {
    "duration": 1186,
    "start_time": "2024-11-25T12:02:29.206Z"
   },
   {
    "duration": 6,
    "start_time": "2024-11-25T12:02:30.400Z"
   },
   {
    "duration": 161,
    "start_time": "2024-11-25T12:02:30.408Z"
   },
   {
    "duration": 90,
    "start_time": "2024-11-25T12:02:30.571Z"
   },
   {
    "duration": 70,
    "start_time": "2024-11-25T12:02:30.663Z"
   },
   {
    "duration": 142,
    "start_time": "2024-11-25T12:02:30.734Z"
   },
   {
    "duration": 106,
    "start_time": "2024-11-25T12:02:30.878Z"
   },
   {
    "duration": 499,
    "start_time": "2024-11-25T12:02:30.987Z"
   },
   {
    "duration": 40,
    "start_time": "2024-11-25T12:02:31.490Z"
   },
   {
    "duration": 401,
    "start_time": "2024-11-25T12:02:31.532Z"
   },
   {
    "duration": 21,
    "start_time": "2024-11-25T12:02:31.935Z"
   },
   {
    "duration": 75,
    "start_time": "2024-11-25T12:02:31.958Z"
   },
   {
    "duration": 281,
    "start_time": "2024-11-25T12:02:32.035Z"
   },
   {
    "duration": 436,
    "start_time": "2024-11-25T12:02:32.318Z"
   },
   {
    "duration": 91,
    "start_time": "2024-11-25T12:02:32.756Z"
   },
   {
    "duration": 28,
    "start_time": "2024-11-25T12:02:32.849Z"
   },
   {
    "duration": 84494,
    "start_time": "2024-11-25T12:02:32.879Z"
   },
   {
    "duration": 2558,
    "start_time": "2024-11-25T12:03:57.375Z"
   },
   {
    "duration": 1570,
    "start_time": "2024-11-25T12:03:59.936Z"
   },
   {
    "duration": 60,
    "start_time": "2024-11-25T12:04:01.508Z"
   },
   {
    "duration": 113,
    "start_time": "2024-11-25T12:04:01.570Z"
   },
   {
    "duration": 45,
    "start_time": "2024-11-25T12:04:01.685Z"
   },
   {
    "duration": 114,
    "start_time": "2024-11-25T12:04:01.732Z"
   },
   {
    "duration": 2,
    "start_time": "2024-11-25T12:04:01.849Z"
   },
   {
    "duration": 40,
    "start_time": "2024-11-25T12:04:01.853Z"
   },
   {
    "duration": 26,
    "start_time": "2024-11-25T12:04:01.895Z"
   },
   {
    "duration": 144,
    "start_time": "2024-11-25T12:04:01.925Z"
   },
   {
    "duration": 0,
    "start_time": "2024-11-25T12:04:02.071Z"
   },
   {
    "duration": 0,
    "start_time": "2024-11-25T12:04:02.073Z"
   },
   {
    "duration": 0,
    "start_time": "2024-11-25T12:04:02.075Z"
   },
   {
    "duration": 0,
    "start_time": "2024-11-25T12:04:02.076Z"
   },
   {
    "duration": 0,
    "start_time": "2024-11-25T12:04:02.078Z"
   },
   {
    "duration": 0,
    "start_time": "2024-11-25T12:04:02.080Z"
   },
   {
    "duration": 0,
    "start_time": "2024-11-25T12:04:02.081Z"
   },
   {
    "duration": 0,
    "start_time": "2024-11-25T12:04:02.099Z"
   },
   {
    "duration": 0,
    "start_time": "2024-11-25T12:04:02.101Z"
   },
   {
    "duration": 0,
    "start_time": "2024-11-25T12:04:02.103Z"
   },
   {
    "duration": 0,
    "start_time": "2024-11-25T12:04:02.104Z"
   },
   {
    "duration": 1582,
    "start_time": "2024-11-25T12:05:58.701Z"
   },
   {
    "duration": 1129,
    "start_time": "2024-11-25T12:06:00.285Z"
   },
   {
    "duration": 6,
    "start_time": "2024-11-25T12:06:01.416Z"
   },
   {
    "duration": 66,
    "start_time": "2024-11-25T12:06:01.424Z"
   },
   {
    "duration": 67,
    "start_time": "2024-11-25T12:06:01.500Z"
   },
   {
    "duration": 93,
    "start_time": "2024-11-25T12:06:01.570Z"
   },
   {
    "duration": 40,
    "start_time": "2024-11-25T12:06:01.665Z"
   },
   {
    "duration": 134,
    "start_time": "2024-11-25T12:06:01.707Z"
   },
   {
    "duration": 531,
    "start_time": "2024-11-25T12:06:01.843Z"
   },
   {
    "duration": 28,
    "start_time": "2024-11-25T12:06:02.378Z"
   },
   {
    "duration": 414,
    "start_time": "2024-11-25T12:06:02.408Z"
   },
   {
    "duration": 24,
    "start_time": "2024-11-25T12:06:02.824Z"
   },
   {
    "duration": 76,
    "start_time": "2024-11-25T12:06:02.849Z"
   },
   {
    "duration": 240,
    "start_time": "2024-11-25T12:06:02.927Z"
   },
   {
    "duration": 452,
    "start_time": "2024-11-25T12:06:03.169Z"
   },
   {
    "duration": 93,
    "start_time": "2024-11-25T12:06:03.623Z"
   },
   {
    "duration": 28,
    "start_time": "2024-11-25T12:06:03.717Z"
   },
   {
    "duration": 82773,
    "start_time": "2024-11-25T12:06:03.747Z"
   },
   {
    "duration": 2435,
    "start_time": "2024-11-25T12:07:26.522Z"
   },
   {
    "duration": 1499,
    "start_time": "2024-11-25T12:07:28.959Z"
   },
   {
    "duration": 75,
    "start_time": "2024-11-25T12:07:30.460Z"
   },
   {
    "duration": 78,
    "start_time": "2024-11-25T12:07:30.536Z"
   },
   {
    "duration": 25,
    "start_time": "2024-11-25T12:07:30.615Z"
   },
   {
    "duration": 82,
    "start_time": "2024-11-25T12:07:30.642Z"
   },
   {
    "duration": 3,
    "start_time": "2024-11-25T12:07:30.725Z"
   },
   {
    "duration": 18,
    "start_time": "2024-11-25T12:07:30.731Z"
   },
   {
    "duration": 16,
    "start_time": "2024-11-25T12:07:30.751Z"
   },
   {
    "duration": 159826,
    "start_time": "2024-11-25T12:07:30.772Z"
   },
   {
    "duration": 17,
    "start_time": "2024-11-25T12:10:10.601Z"
   },
   {
    "duration": 2914,
    "start_time": "2024-11-25T12:10:10.620Z"
   },
   {
    "duration": 0,
    "start_time": "2024-11-25T12:10:13.536Z"
   },
   {
    "duration": 0,
    "start_time": "2024-11-25T12:10:13.537Z"
   },
   {
    "duration": 0,
    "start_time": "2024-11-25T12:10:13.538Z"
   },
   {
    "duration": 0,
    "start_time": "2024-11-25T12:10:13.539Z"
   },
   {
    "duration": 0,
    "start_time": "2024-11-25T12:10:13.541Z"
   },
   {
    "duration": 1,
    "start_time": "2024-11-25T12:10:13.541Z"
   },
   {
    "duration": 1,
    "start_time": "2024-11-25T12:10:13.542Z"
   },
   {
    "duration": 0,
    "start_time": "2024-11-25T12:10:13.544Z"
   },
   {
    "duration": 0,
    "start_time": "2024-11-25T12:10:13.544Z"
   },
   {
    "duration": 1486,
    "start_time": "2024-11-25T12:21:15.435Z"
   },
   {
    "duration": 1100,
    "start_time": "2024-11-25T12:21:16.922Z"
   },
   {
    "duration": 5,
    "start_time": "2024-11-25T12:21:18.023Z"
   },
   {
    "duration": 71,
    "start_time": "2024-11-25T12:21:18.030Z"
   },
   {
    "duration": 120,
    "start_time": "2024-11-25T12:21:18.104Z"
   },
   {
    "duration": 42,
    "start_time": "2024-11-25T12:21:18.225Z"
   },
   {
    "duration": 12,
    "start_time": "2024-11-25T12:21:18.269Z"
   },
   {
    "duration": 123,
    "start_time": "2024-11-25T12:21:18.282Z"
   },
   {
    "duration": 519,
    "start_time": "2024-11-25T12:21:18.407Z"
   },
   {
    "duration": 23,
    "start_time": "2024-11-25T12:21:18.928Z"
   },
   {
    "duration": 414,
    "start_time": "2024-11-25T12:21:18.952Z"
   },
   {
    "duration": 32,
    "start_time": "2024-11-25T12:21:19.368Z"
   },
   {
    "duration": 60,
    "start_time": "2024-11-25T12:21:19.402Z"
   },
   {
    "duration": 206,
    "start_time": "2024-11-25T12:21:19.465Z"
   },
   {
    "duration": 372,
    "start_time": "2024-11-25T12:21:19.673Z"
   },
   {
    "duration": 92,
    "start_time": "2024-11-25T12:21:20.047Z"
   },
   {
    "duration": 58,
    "start_time": "2024-11-25T12:21:20.141Z"
   },
   {
    "duration": 84570,
    "start_time": "2024-11-25T12:21:20.201Z"
   },
   {
    "duration": 2532,
    "start_time": "2024-11-25T12:22:44.773Z"
   },
   {
    "duration": 1617,
    "start_time": "2024-11-25T12:22:47.308Z"
   },
   {
    "duration": 74,
    "start_time": "2024-11-25T12:22:48.926Z"
   },
   {
    "duration": 82,
    "start_time": "2024-11-25T12:22:49.003Z"
   },
   {
    "duration": 27,
    "start_time": "2024-11-25T12:22:49.086Z"
   },
   {
    "duration": 110,
    "start_time": "2024-11-25T12:22:49.116Z"
   },
   {
    "duration": 3,
    "start_time": "2024-11-25T12:22:49.228Z"
   },
   {
    "duration": 28,
    "start_time": "2024-11-25T12:22:49.232Z"
   },
   {
    "duration": 34,
    "start_time": "2024-11-25T12:22:49.261Z"
   },
   {
    "duration": 1595,
    "start_time": "2024-11-25T12:31:24.958Z"
   },
   {
    "duration": 1158,
    "start_time": "2024-11-25T12:31:26.556Z"
   },
   {
    "duration": 5,
    "start_time": "2024-11-25T12:31:27.716Z"
   },
   {
    "duration": 81,
    "start_time": "2024-11-25T12:31:27.723Z"
   },
   {
    "duration": 54,
    "start_time": "2024-11-25T12:31:27.807Z"
   },
   {
    "duration": 43,
    "start_time": "2024-11-25T12:31:27.862Z"
   },
   {
    "duration": 5,
    "start_time": "2024-11-25T12:31:27.908Z"
   },
   {
    "duration": 111,
    "start_time": "2024-11-25T12:31:27.915Z"
   },
   {
    "duration": 601,
    "start_time": "2024-11-25T12:31:28.027Z"
   },
   {
    "duration": 28,
    "start_time": "2024-11-25T12:31:28.632Z"
   },
   {
    "duration": 401,
    "start_time": "2024-11-25T12:31:28.663Z"
   },
   {
    "duration": 20,
    "start_time": "2024-11-25T12:31:29.065Z"
   },
   {
    "duration": 72,
    "start_time": "2024-11-25T12:31:29.087Z"
   },
   {
    "duration": 229,
    "start_time": "2024-11-25T12:31:29.161Z"
   },
   {
    "duration": 476,
    "start_time": "2024-11-25T12:31:29.392Z"
   },
   {
    "duration": 99,
    "start_time": "2024-11-25T12:31:29.869Z"
   },
   {
    "duration": 33,
    "start_time": "2024-11-25T12:31:29.970Z"
   },
   {
    "duration": 85759,
    "start_time": "2024-11-25T12:31:30.005Z"
   },
   {
    "duration": 2578,
    "start_time": "2024-11-25T12:32:55.766Z"
   },
   {
    "duration": 1585,
    "start_time": "2024-11-25T12:32:58.346Z"
   },
   {
    "duration": 83,
    "start_time": "2024-11-25T12:32:59.933Z"
   },
   {
    "duration": 117,
    "start_time": "2024-11-25T12:33:00.019Z"
   },
   {
    "duration": 26,
    "start_time": "2024-11-25T12:33:00.138Z"
   },
   {
    "duration": 157,
    "start_time": "2024-11-25T12:33:00.166Z"
   },
   {
    "duration": 3,
    "start_time": "2024-11-25T12:33:00.325Z"
   },
   {
    "duration": 37,
    "start_time": "2024-11-25T12:33:00.329Z"
   },
   {
    "duration": 102,
    "start_time": "2024-11-25T12:33:00.367Z"
   },
   {
    "duration": 168617,
    "start_time": "2024-11-25T12:33:00.473Z"
   },
   {
    "duration": 13,
    "start_time": "2024-11-25T12:35:49.092Z"
   },
   {
    "duration": 2769,
    "start_time": "2024-11-25T12:35:49.108Z"
   },
   {
    "duration": 1267882,
    "start_time": "2024-11-25T12:35:51.879Z"
   },
   {
    "duration": 3,
    "start_time": "2024-11-25T12:56:59.762Z"
   },
   {
    "duration": 133,
    "start_time": "2024-11-25T12:56:59.766Z"
   },
   {
    "duration": 0,
    "start_time": "2024-11-25T12:56:59.901Z"
   },
   {
    "duration": 0,
    "start_time": "2024-11-25T12:56:59.902Z"
   },
   {
    "duration": 0,
    "start_time": "2024-11-25T12:56:59.903Z"
   },
   {
    "duration": 0,
    "start_time": "2024-11-25T12:56:59.904Z"
   },
   {
    "duration": 0,
    "start_time": "2024-11-25T12:56:59.905Z"
   },
   {
    "duration": 0,
    "start_time": "2024-11-25T12:56:59.906Z"
   },
   {
    "duration": 1577,
    "start_time": "2024-11-25T13:08:45.282Z"
   },
   {
    "duration": 1033,
    "start_time": "2024-11-25T13:08:46.861Z"
   },
   {
    "duration": 6,
    "start_time": "2024-11-25T13:08:47.896Z"
   },
   {
    "duration": 73,
    "start_time": "2024-11-25T13:08:47.904Z"
   },
   {
    "duration": 67,
    "start_time": "2024-11-25T13:08:47.979Z"
   },
   {
    "duration": 75,
    "start_time": "2024-11-25T13:08:48.047Z"
   },
   {
    "duration": 18,
    "start_time": "2024-11-25T13:08:48.124Z"
   },
   {
    "duration": 113,
    "start_time": "2024-11-25T13:08:48.143Z"
   },
   {
    "duration": 30,
    "start_time": "2024-11-25T13:08:48.258Z"
   },
   {
    "duration": 386,
    "start_time": "2024-11-25T13:08:48.299Z"
   },
   {
    "duration": 20,
    "start_time": "2024-11-25T13:08:48.687Z"
   },
   {
    "duration": 56,
    "start_time": "2024-11-25T13:08:48.708Z"
   },
   {
    "duration": 210,
    "start_time": "2024-11-25T13:08:48.765Z"
   },
   {
    "duration": 439,
    "start_time": "2024-11-25T13:08:48.977Z"
   },
   {
    "duration": 103,
    "start_time": "2024-11-25T13:08:49.418Z"
   },
   {
    "duration": 18,
    "start_time": "2024-11-25T13:08:49.523Z"
   },
   {
    "duration": 72,
    "start_time": "2024-11-25T13:08:49.543Z"
   },
   {
    "duration": 91,
    "start_time": "2024-11-25T13:08:49.617Z"
   },
   {
    "duration": 13,
    "start_time": "2024-11-25T13:08:49.709Z"
   },
   {
    "duration": 89,
    "start_time": "2024-11-25T13:08:49.724Z"
   },
   {
    "duration": 3,
    "start_time": "2024-11-25T13:08:49.815Z"
   },
   {
    "duration": 155418,
    "start_time": "2024-11-25T13:08:49.819Z"
   },
   {
    "duration": 11,
    "start_time": "2024-11-25T13:11:25.239Z"
   },
   {
    "duration": 143,
    "start_time": "2024-11-25T13:11:25.252Z"
   },
   {
    "duration": 0,
    "start_time": "2024-11-25T13:11:25.400Z"
   },
   {
    "duration": 0,
    "start_time": "2024-11-25T13:11:25.401Z"
   },
   {
    "duration": 0,
    "start_time": "2024-11-25T13:11:25.402Z"
   },
   {
    "duration": 0,
    "start_time": "2024-11-25T13:11:25.403Z"
   },
   {
    "duration": 0,
    "start_time": "2024-11-25T13:11:25.405Z"
   },
   {
    "duration": 0,
    "start_time": "2024-11-25T13:11:25.406Z"
   },
   {
    "duration": 0,
    "start_time": "2024-11-25T13:11:25.407Z"
   },
   {
    "duration": 0,
    "start_time": "2024-11-25T13:11:25.408Z"
   },
   {
    "duration": 1663,
    "start_time": "2024-11-25T13:13:22.124Z"
   },
   {
    "duration": 1520,
    "start_time": "2024-11-25T13:13:43.621Z"
   },
   {
    "duration": 1076,
    "start_time": "2024-11-25T13:13:45.143Z"
   },
   {
    "duration": 6,
    "start_time": "2024-11-25T13:13:46.221Z"
   },
   {
    "duration": 73,
    "start_time": "2024-11-25T13:13:46.229Z"
   },
   {
    "duration": 64,
    "start_time": "2024-11-25T13:13:46.304Z"
   },
   {
    "duration": 73,
    "start_time": "2024-11-25T13:13:46.370Z"
   },
   {
    "duration": 9,
    "start_time": "2024-11-25T13:13:46.445Z"
   },
   {
    "duration": 109,
    "start_time": "2024-11-25T13:13:46.456Z"
   },
   {
    "duration": 35,
    "start_time": "2024-11-25T13:13:46.567Z"
   },
   {
    "duration": 366,
    "start_time": "2024-11-25T13:13:46.606Z"
   },
   {
    "duration": 30,
    "start_time": "2024-11-25T13:13:46.973Z"
   },
   {
    "duration": 59,
    "start_time": "2024-11-25T13:13:47.004Z"
   },
   {
    "duration": 226,
    "start_time": "2024-11-25T13:13:47.065Z"
   },
   {
    "duration": 363,
    "start_time": "2024-11-25T13:13:47.292Z"
   },
   {
    "duration": 92,
    "start_time": "2024-11-25T13:13:47.657Z"
   },
   {
    "duration": 18,
    "start_time": "2024-11-25T13:13:47.750Z"
   },
   {
    "duration": 76,
    "start_time": "2024-11-25T13:13:47.769Z"
   },
   {
    "duration": 77,
    "start_time": "2024-11-25T13:13:47.847Z"
   },
   {
    "duration": 29,
    "start_time": "2024-11-25T13:13:47.925Z"
   },
   {
    "duration": 74,
    "start_time": "2024-11-25T13:13:47.956Z"
   },
   {
    "duration": 3,
    "start_time": "2024-11-25T13:13:48.032Z"
   },
   {
    "duration": 155696,
    "start_time": "2024-11-25T13:13:48.036Z"
   },
   {
    "duration": 10,
    "start_time": "2024-11-25T13:16:23.734Z"
   },
   {
    "duration": 1644,
    "start_time": "2024-11-25T13:16:23.745Z"
   },
   {
    "duration": 443693,
    "start_time": "2024-11-25T13:16:25.391Z"
   },
   {
    "duration": 127,
    "start_time": "2024-11-25T13:23:49.086Z"
   },
   {
    "duration": 0,
    "start_time": "2024-11-25T13:23:49.215Z"
   },
   {
    "duration": 0,
    "start_time": "2024-11-25T13:23:49.216Z"
   },
   {
    "duration": 0,
    "start_time": "2024-11-25T13:23:49.217Z"
   },
   {
    "duration": 0,
    "start_time": "2024-11-25T13:23:49.218Z"
   },
   {
    "duration": 0,
    "start_time": "2024-11-25T13:23:49.219Z"
   },
   {
    "duration": 0,
    "start_time": "2024-11-25T13:23:49.220Z"
   },
   {
    "duration": 1654,
    "start_time": "2024-11-25T14:12:35.172Z"
   },
   {
    "duration": 1091,
    "start_time": "2024-11-25T14:12:36.828Z"
   },
   {
    "duration": 5,
    "start_time": "2024-11-25T14:12:37.921Z"
   },
   {
    "duration": 88,
    "start_time": "2024-11-25T14:12:37.927Z"
   },
   {
    "duration": 64,
    "start_time": "2024-11-25T14:12:38.017Z"
   },
   {
    "duration": 49,
    "start_time": "2024-11-25T14:12:38.083Z"
   },
   {
    "duration": 38,
    "start_time": "2024-11-25T14:12:38.134Z"
   },
   {
    "duration": 142,
    "start_time": "2024-11-25T14:12:38.174Z"
   },
   {
    "duration": 36,
    "start_time": "2024-11-25T14:12:38.318Z"
   },
   {
    "duration": 403,
    "start_time": "2024-11-25T14:12:38.356Z"
   },
   {
    "duration": 20,
    "start_time": "2024-11-25T14:12:38.761Z"
   },
   {
    "duration": 98,
    "start_time": "2024-11-25T14:12:38.782Z"
   },
   {
    "duration": 197,
    "start_time": "2024-11-25T14:12:38.881Z"
   },
   {
    "duration": 357,
    "start_time": "2024-11-25T14:12:39.080Z"
   },
   {
    "duration": 91,
    "start_time": "2024-11-25T14:12:39.439Z"
   },
   {
    "duration": 22,
    "start_time": "2024-11-25T14:12:39.531Z"
   },
   {
    "duration": 71,
    "start_time": "2024-11-25T14:12:39.555Z"
   },
   {
    "duration": 79,
    "start_time": "2024-11-25T14:12:39.628Z"
   },
   {
    "duration": 14,
    "start_time": "2024-11-25T14:12:39.709Z"
   },
   {
    "duration": 84,
    "start_time": "2024-11-25T14:12:39.724Z"
   },
   {
    "duration": 3,
    "start_time": "2024-11-25T14:12:39.810Z"
   },
   {
    "duration": 157086,
    "start_time": "2024-11-25T14:12:39.814Z"
   },
   {
    "duration": 1252,
    "start_time": "2024-11-25T14:15:16.902Z"
   },
   {
    "duration": 0,
    "start_time": "2024-11-25T14:15:18.156Z"
   },
   {
    "duration": 0,
    "start_time": "2024-11-25T14:15:18.158Z"
   },
   {
    "duration": 0,
    "start_time": "2024-11-25T14:15:18.159Z"
   },
   {
    "duration": 0,
    "start_time": "2024-11-25T14:15:18.161Z"
   },
   {
    "duration": 0,
    "start_time": "2024-11-25T14:15:18.162Z"
   },
   {
    "duration": 0,
    "start_time": "2024-11-25T14:15:18.164Z"
   },
   {
    "duration": 32,
    "start_time": "2024-11-25T14:22:03.109Z"
   },
   {
    "duration": 1529,
    "start_time": "2024-11-25T14:23:59.902Z"
   },
   {
    "duration": 1076,
    "start_time": "2024-11-25T14:24:01.433Z"
   },
   {
    "duration": 5,
    "start_time": "2024-11-25T14:24:02.511Z"
   },
   {
    "duration": 121,
    "start_time": "2024-11-25T14:24:02.518Z"
   },
   {
    "duration": 67,
    "start_time": "2024-11-25T14:24:02.641Z"
   },
   {
    "duration": 34,
    "start_time": "2024-11-25T14:24:02.710Z"
   },
   {
    "duration": 10,
    "start_time": "2024-11-25T14:24:02.745Z"
   },
   {
    "duration": 102,
    "start_time": "2024-11-25T14:24:02.757Z"
   },
   {
    "duration": 39,
    "start_time": "2024-11-25T14:24:02.861Z"
   },
   {
    "duration": 368,
    "start_time": "2024-11-25T14:24:02.901Z"
   },
   {
    "duration": 29,
    "start_time": "2024-11-25T14:24:03.271Z"
   },
   {
    "duration": 71,
    "start_time": "2024-11-25T14:24:03.301Z"
   },
   {
    "duration": 200,
    "start_time": "2024-11-25T14:24:03.373Z"
   },
   {
    "duration": 455,
    "start_time": "2024-11-25T14:24:03.576Z"
   },
   {
    "duration": 93,
    "start_time": "2024-11-25T14:24:04.033Z"
   },
   {
    "duration": 42,
    "start_time": "2024-11-25T14:24:04.128Z"
   },
   {
    "duration": 61,
    "start_time": "2024-11-25T14:24:04.172Z"
   },
   {
    "duration": 80,
    "start_time": "2024-11-25T14:24:04.235Z"
   },
   {
    "duration": 21,
    "start_time": "2024-11-25T14:24:04.316Z"
   },
   {
    "duration": 94,
    "start_time": "2024-11-25T14:24:04.338Z"
   },
   {
    "duration": 3,
    "start_time": "2024-11-25T14:24:04.434Z"
   },
   {
    "duration": 156674,
    "start_time": "2024-11-25T14:24:04.438Z"
   },
   {
    "duration": 463241,
    "start_time": "2024-11-25T14:26:41.114Z"
   },
   {
    "duration": 143,
    "start_time": "2024-11-25T14:34:24.356Z"
   },
   {
    "duration": 0,
    "start_time": "2024-11-25T14:34:24.501Z"
   },
   {
    "duration": 0,
    "start_time": "2024-11-25T14:34:24.502Z"
   },
   {
    "duration": 0,
    "start_time": "2024-11-25T14:34:24.503Z"
   },
   {
    "duration": 0,
    "start_time": "2024-11-25T14:34:24.505Z"
   },
   {
    "duration": 0,
    "start_time": "2024-11-25T14:34:24.505Z"
   },
   {
    "duration": 1554,
    "start_time": "2024-11-25T15:24:21.904Z"
   },
   {
    "duration": 1071,
    "start_time": "2024-11-25T15:24:23.460Z"
   },
   {
    "duration": 6,
    "start_time": "2024-11-25T15:24:24.533Z"
   },
   {
    "duration": 69,
    "start_time": "2024-11-25T15:24:24.542Z"
   },
   {
    "duration": 57,
    "start_time": "2024-11-25T15:24:24.613Z"
   },
   {
    "duration": 32,
    "start_time": "2024-11-25T15:24:24.671Z"
   },
   {
    "duration": 4,
    "start_time": "2024-11-25T15:24:24.705Z"
   },
   {
    "duration": 106,
    "start_time": "2024-11-25T15:24:24.710Z"
   },
   {
    "duration": 22,
    "start_time": "2024-11-25T15:24:24.817Z"
   },
   {
    "duration": 366,
    "start_time": "2024-11-25T15:24:24.842Z"
   },
   {
    "duration": 21,
    "start_time": "2024-11-25T15:24:25.209Z"
   },
   {
    "duration": 79,
    "start_time": "2024-11-25T15:24:25.231Z"
   },
   {
    "duration": 193,
    "start_time": "2024-11-25T15:24:25.312Z"
   },
   {
    "duration": 377,
    "start_time": "2024-11-25T15:24:25.507Z"
   },
   {
    "duration": 114,
    "start_time": "2024-11-25T15:24:25.886Z"
   },
   {
    "duration": 18,
    "start_time": "2024-11-25T15:24:26.002Z"
   },
   {
    "duration": 80,
    "start_time": "2024-11-25T15:24:26.022Z"
   },
   {
    "duration": 109,
    "start_time": "2024-11-25T15:24:26.104Z"
   },
   {
    "duration": 16,
    "start_time": "2024-11-25T15:24:26.216Z"
   },
   {
    "duration": 97,
    "start_time": "2024-11-25T15:24:26.235Z"
   },
   {
    "duration": 3,
    "start_time": "2024-11-25T15:24:26.333Z"
   },
   {
    "duration": 131,
    "start_time": "2024-11-25T15:24:26.337Z"
   },
   {
    "duration": 0,
    "start_time": "2024-11-25T15:24:26.470Z"
   },
   {
    "duration": 0,
    "start_time": "2024-11-25T15:24:26.471Z"
   },
   {
    "duration": 0,
    "start_time": "2024-11-25T15:24:26.472Z"
   },
   {
    "duration": 0,
    "start_time": "2024-11-25T15:24:26.473Z"
   },
   {
    "duration": 0,
    "start_time": "2024-11-25T15:24:26.474Z"
   },
   {
    "duration": 0,
    "start_time": "2024-11-25T15:24:26.475Z"
   },
   {
    "duration": 0,
    "start_time": "2024-11-25T15:24:26.476Z"
   },
   {
    "duration": 0,
    "start_time": "2024-11-25T15:24:26.477Z"
   },
   {
    "duration": 0,
    "start_time": "2024-11-25T15:24:26.479Z"
   },
   {
    "duration": 0,
    "start_time": "2024-11-25T15:24:26.479Z"
   },
   {
    "duration": 0,
    "start_time": "2024-11-25T15:24:26.480Z"
   },
   {
    "duration": 0,
    "start_time": "2024-11-25T15:24:26.481Z"
   },
   {
    "duration": 1519,
    "start_time": "2024-11-25T16:00:19.426Z"
   },
   {
    "duration": 1104,
    "start_time": "2024-11-25T16:00:20.947Z"
   },
   {
    "duration": 17,
    "start_time": "2024-11-25T16:00:22.052Z"
   },
   {
    "duration": 61,
    "start_time": "2024-11-25T16:00:22.071Z"
   },
   {
    "duration": 83,
    "start_time": "2024-11-25T16:00:22.136Z"
   },
   {
    "duration": 32,
    "start_time": "2024-11-25T16:00:22.221Z"
   },
   {
    "duration": 42,
    "start_time": "2024-11-25T16:00:22.255Z"
   },
   {
    "duration": 115,
    "start_time": "2024-11-25T16:00:22.299Z"
   },
   {
    "duration": 24,
    "start_time": "2024-11-25T16:00:22.417Z"
   },
   {
    "duration": 427,
    "start_time": "2024-11-25T16:00:22.443Z"
   },
   {
    "duration": 29,
    "start_time": "2024-11-25T16:00:22.871Z"
   },
   {
    "duration": 61,
    "start_time": "2024-11-25T16:00:22.902Z"
   },
   {
    "duration": 216,
    "start_time": "2024-11-25T16:00:22.965Z"
   },
   {
    "duration": 374,
    "start_time": "2024-11-25T16:00:23.185Z"
   },
   {
    "duration": 94,
    "start_time": "2024-11-25T16:00:23.561Z"
   },
   {
    "duration": 19,
    "start_time": "2024-11-25T16:00:23.658Z"
   },
   {
    "duration": 89,
    "start_time": "2024-11-25T16:00:23.679Z"
   },
   {
    "duration": 86,
    "start_time": "2024-11-25T16:00:23.769Z"
   },
   {
    "duration": 13,
    "start_time": "2024-11-25T16:00:23.856Z"
   },
   {
    "duration": 86,
    "start_time": "2024-11-25T16:00:23.871Z"
   },
   {
    "duration": 3,
    "start_time": "2024-11-25T16:00:23.959Z"
   },
   {
    "duration": 158,
    "start_time": "2024-11-25T16:00:23.964Z"
   },
   {
    "duration": 3,
    "start_time": "2024-11-25T16:00:24.124Z"
   },
   {
    "duration": 78360,
    "start_time": "2024-11-25T16:00:24.129Z"
   },
   {
    "duration": 199074,
    "start_time": "2024-11-25T16:01:42.491Z"
   },
   {
    "duration": 0,
    "start_time": "2024-11-25T16:05:01.567Z"
   },
   {
    "duration": 0,
    "start_time": "2024-11-25T16:05:01.568Z"
   },
   {
    "duration": 0,
    "start_time": "2024-11-25T16:05:01.569Z"
   },
   {
    "duration": 0,
    "start_time": "2024-11-25T16:05:01.569Z"
   },
   {
    "duration": 0,
    "start_time": "2024-11-25T16:05:01.570Z"
   },
   {
    "duration": 0,
    "start_time": "2024-11-25T16:05:01.571Z"
   },
   {
    "duration": 0,
    "start_time": "2024-11-25T16:05:01.572Z"
   },
   {
    "duration": 1510,
    "start_time": "2024-11-25T16:25:12.116Z"
   },
   {
    "duration": 1088,
    "start_time": "2024-11-25T16:25:13.628Z"
   },
   {
    "duration": 6,
    "start_time": "2024-11-25T16:25:14.718Z"
   },
   {
    "duration": 54,
    "start_time": "2024-11-25T16:25:14.726Z"
   },
   {
    "duration": 69,
    "start_time": "2024-11-25T16:25:14.782Z"
   },
   {
    "duration": 47,
    "start_time": "2024-11-25T16:25:14.853Z"
   },
   {
    "duration": 5,
    "start_time": "2024-11-25T16:25:14.901Z"
   },
   {
    "duration": 122,
    "start_time": "2024-11-25T16:25:14.907Z"
   },
   {
    "duration": 50,
    "start_time": "2024-11-25T16:25:15.031Z"
   },
   {
    "duration": 406,
    "start_time": "2024-11-25T16:25:15.084Z"
   },
   {
    "duration": 24,
    "start_time": "2024-11-25T16:25:15.492Z"
   },
   {
    "duration": 67,
    "start_time": "2024-11-25T16:25:15.517Z"
   },
   {
    "duration": 193,
    "start_time": "2024-11-25T16:25:15.585Z"
   },
   {
    "duration": 358,
    "start_time": "2024-11-25T16:25:15.780Z"
   },
   {
    "duration": 103,
    "start_time": "2024-11-25T16:25:16.139Z"
   },
   {
    "duration": 17,
    "start_time": "2024-11-25T16:25:16.244Z"
   },
   {
    "duration": 80,
    "start_time": "2024-11-25T16:25:16.263Z"
   },
   {
    "duration": 85,
    "start_time": "2024-11-25T16:25:16.345Z"
   },
   {
    "duration": 45,
    "start_time": "2024-11-25T16:25:16.432Z"
   },
   {
    "duration": 85,
    "start_time": "2024-11-25T16:25:16.478Z"
   },
   {
    "duration": 4,
    "start_time": "2024-11-25T16:25:16.566Z"
   },
   {
    "duration": 195,
    "start_time": "2024-11-25T16:25:16.572Z"
   },
   {
    "duration": 4,
    "start_time": "2024-11-25T16:25:16.773Z"
   },
   {
    "duration": 77829,
    "start_time": "2024-11-25T16:25:16.779Z"
   },
   {
    "duration": 140,
    "start_time": "2024-11-25T16:26:34.610Z"
   },
   {
    "duration": 0,
    "start_time": "2024-11-25T16:26:34.752Z"
   },
   {
    "duration": 0,
    "start_time": "2024-11-25T16:26:34.753Z"
   },
   {
    "duration": 0,
    "start_time": "2024-11-25T16:26:34.754Z"
   },
   {
    "duration": 0,
    "start_time": "2024-11-25T16:26:34.755Z"
   },
   {
    "duration": 0,
    "start_time": "2024-11-25T16:26:34.756Z"
   },
   {
    "duration": 0,
    "start_time": "2024-11-25T16:26:34.757Z"
   },
   {
    "duration": 0,
    "start_time": "2024-11-25T16:26:34.758Z"
   },
   {
    "duration": 1526,
    "start_time": "2024-11-25T16:27:52.809Z"
   },
   {
    "duration": 1126,
    "start_time": "2024-11-25T16:27:54.337Z"
   },
   {
    "duration": 6,
    "start_time": "2024-11-25T16:27:55.464Z"
   },
   {
    "duration": 72,
    "start_time": "2024-11-25T16:27:55.472Z"
   },
   {
    "duration": 66,
    "start_time": "2024-11-25T16:27:55.545Z"
   },
   {
    "duration": 30,
    "start_time": "2024-11-25T16:27:55.613Z"
   },
   {
    "duration": 19,
    "start_time": "2024-11-25T16:27:55.645Z"
   },
   {
    "duration": 113,
    "start_time": "2024-11-25T16:27:55.666Z"
   },
   {
    "duration": 34,
    "start_time": "2024-11-25T16:27:55.781Z"
   },
   {
    "duration": 383,
    "start_time": "2024-11-25T16:27:55.817Z"
   },
   {
    "duration": 33,
    "start_time": "2024-11-25T16:27:56.202Z"
   },
   {
    "duration": 96,
    "start_time": "2024-11-25T16:27:56.237Z"
   },
   {
    "duration": 216,
    "start_time": "2024-11-25T16:27:56.335Z"
   },
   {
    "duration": 376,
    "start_time": "2024-11-25T16:27:56.552Z"
   },
   {
    "duration": 87,
    "start_time": "2024-11-25T16:27:56.929Z"
   },
   {
    "duration": 18,
    "start_time": "2024-11-25T16:27:57.018Z"
   },
   {
    "duration": 78,
    "start_time": "2024-11-25T16:27:57.037Z"
   },
   {
    "duration": 86,
    "start_time": "2024-11-25T16:27:57.117Z"
   },
   {
    "duration": 12,
    "start_time": "2024-11-25T16:27:57.205Z"
   },
   {
    "duration": 87,
    "start_time": "2024-11-25T16:27:57.219Z"
   },
   {
    "duration": 3,
    "start_time": "2024-11-25T16:27:57.307Z"
   },
   {
    "duration": 153,
    "start_time": "2024-11-25T16:27:57.312Z"
   },
   {
    "duration": 3,
    "start_time": "2024-11-25T16:27:57.466Z"
   },
   {
    "duration": 77755,
    "start_time": "2024-11-25T16:27:57.470Z"
   },
   {
    "duration": 1193,
    "start_time": "2024-11-25T16:29:15.226Z"
   },
   {
    "duration": 0,
    "start_time": "2024-11-25T16:29:16.420Z"
   },
   {
    "duration": 0,
    "start_time": "2024-11-25T16:29:16.421Z"
   },
   {
    "duration": 0,
    "start_time": "2024-11-25T16:29:16.422Z"
   },
   {
    "duration": 0,
    "start_time": "2024-11-25T16:29:16.423Z"
   },
   {
    "duration": 0,
    "start_time": "2024-11-25T16:29:16.424Z"
   },
   {
    "duration": 0,
    "start_time": "2024-11-25T16:29:16.426Z"
   },
   {
    "duration": 0,
    "start_time": "2024-11-25T16:29:16.427Z"
   },
   {
    "duration": 1489,
    "start_time": "2024-11-25T16:31:09.045Z"
   },
   {
    "duration": 1078,
    "start_time": "2024-11-25T16:31:10.536Z"
   },
   {
    "duration": 6,
    "start_time": "2024-11-25T16:31:11.616Z"
   },
   {
    "duration": 48,
    "start_time": "2024-11-25T16:31:11.623Z"
   },
   {
    "duration": 71,
    "start_time": "2024-11-25T16:31:11.673Z"
   },
   {
    "duration": 48,
    "start_time": "2024-11-25T16:31:11.746Z"
   },
   {
    "duration": 4,
    "start_time": "2024-11-25T16:31:11.796Z"
   },
   {
    "duration": 106,
    "start_time": "2024-11-25T16:31:11.801Z"
   },
   {
    "duration": 23,
    "start_time": "2024-11-25T16:31:11.908Z"
   },
   {
    "duration": 391,
    "start_time": "2024-11-25T16:31:11.932Z"
   },
   {
    "duration": 22,
    "start_time": "2024-11-25T16:31:12.325Z"
   },
   {
    "duration": 69,
    "start_time": "2024-11-25T16:31:12.349Z"
   },
   {
    "duration": 221,
    "start_time": "2024-11-25T16:31:12.419Z"
   },
   {
    "duration": 422,
    "start_time": "2024-11-25T16:31:12.644Z"
   },
   {
    "duration": 88,
    "start_time": "2024-11-25T16:31:13.068Z"
   },
   {
    "duration": 38,
    "start_time": "2024-11-25T16:31:13.158Z"
   },
   {
    "duration": 57,
    "start_time": "2024-11-25T16:31:13.198Z"
   },
   {
    "duration": 83,
    "start_time": "2024-11-25T16:31:13.257Z"
   },
   {
    "duration": 11,
    "start_time": "2024-11-25T16:31:13.342Z"
   },
   {
    "duration": 88,
    "start_time": "2024-11-25T16:31:13.355Z"
   },
   {
    "duration": 3,
    "start_time": "2024-11-25T16:31:13.445Z"
   },
   {
    "duration": 170,
    "start_time": "2024-11-25T16:31:13.450Z"
   },
   {
    "duration": 3,
    "start_time": "2024-11-25T16:31:13.622Z"
   },
   {
    "duration": 78038,
    "start_time": "2024-11-25T16:31:13.626Z"
   },
   {
    "duration": 431829,
    "start_time": "2024-11-25T16:32:31.666Z"
   },
   {
    "duration": 22414,
    "start_time": "2024-11-25T16:39:43.500Z"
   },
   {
    "duration": 3,
    "start_time": "2024-11-25T16:40:05.916Z"
   },
   {
    "duration": 83,
    "start_time": "2024-11-25T16:40:05.921Z"
   },
   {
    "duration": 23910,
    "start_time": "2024-11-25T16:40:06.005Z"
   },
   {
    "duration": 76356,
    "start_time": "2024-11-25T16:40:29.917Z"
   },
   {
    "duration": 426774,
    "start_time": "2024-11-25T16:41:46.275Z"
   },
   {
    "duration": 6,
    "start_time": "2024-11-25T16:48:53.051Z"
   },
   {
    "duration": 1527,
    "start_time": "2024-11-25T16:59:18.890Z"
   },
   {
    "duration": 1068,
    "start_time": "2024-11-25T16:59:20.419Z"
   },
   {
    "duration": 13,
    "start_time": "2024-11-25T16:59:21.488Z"
   },
   {
    "duration": 55,
    "start_time": "2024-11-25T16:59:21.503Z"
   },
   {
    "duration": 69,
    "start_time": "2024-11-25T16:59:21.561Z"
   },
   {
    "duration": 27,
    "start_time": "2024-11-25T16:59:21.631Z"
   },
   {
    "duration": 18,
    "start_time": "2024-11-25T16:59:21.660Z"
   },
   {
    "duration": 142,
    "start_time": "2024-11-25T16:59:21.680Z"
   },
   {
    "duration": 523,
    "start_time": "2024-11-25T16:59:21.824Z"
   },
   {
    "duration": 24,
    "start_time": "2024-11-25T16:59:22.348Z"
   },
   {
    "duration": 382,
    "start_time": "2024-11-25T16:59:22.373Z"
   },
   {
    "duration": 21,
    "start_time": "2024-11-25T16:59:22.756Z"
   },
   {
    "duration": 67,
    "start_time": "2024-11-25T16:59:22.778Z"
   },
   {
    "duration": 197,
    "start_time": "2024-11-25T16:59:22.848Z"
   },
   {
    "duration": 367,
    "start_time": "2024-11-25T16:59:23.047Z"
   },
   {
    "duration": 92,
    "start_time": "2024-11-25T16:59:23.415Z"
   },
   {
    "duration": 18,
    "start_time": "2024-11-25T16:59:23.509Z"
   },
   {
    "duration": 80768,
    "start_time": "2024-11-25T16:59:23.529Z"
   },
   {
    "duration": 2402,
    "start_time": "2024-11-25T17:00:44.298Z"
   },
   {
    "duration": 1391,
    "start_time": "2024-11-25T17:00:46.701Z"
   },
   {
    "duration": 74,
    "start_time": "2024-11-25T17:00:48.099Z"
   },
   {
    "duration": 91,
    "start_time": "2024-11-25T17:00:48.175Z"
   },
   {
    "duration": 15,
    "start_time": "2024-11-25T17:00:48.268Z"
   },
   {
    "duration": 86,
    "start_time": "2024-11-25T17:00:48.285Z"
   },
   {
    "duration": 2,
    "start_time": "2024-11-25T17:00:48.373Z"
   },
   {
    "duration": 1728,
    "start_time": "2024-11-25T17:00:48.377Z"
   },
   {
    "duration": 3,
    "start_time": "2024-11-25T17:00:50.107Z"
   },
   {
    "duration": 77556,
    "start_time": "2024-11-25T17:00:50.112Z"
   },
   {
    "duration": 428566,
    "start_time": "2024-11-25T17:02:07.669Z"
   },
   {
    "duration": 76729,
    "start_time": "2024-11-25T17:10:01.907Z"
   },
   {
    "duration": 425328,
    "start_time": "2024-11-25T17:11:18.639Z"
   },
   {
    "duration": 7,
    "start_time": "2024-11-25T17:18:23.968Z"
   },
   {
    "duration": 1547,
    "start_time": "2024-11-26T06:36:33.101Z"
   },
   {
    "duration": 2849,
    "start_time": "2024-11-26T06:36:34.649Z"
   },
   {
    "duration": 5,
    "start_time": "2024-11-26T06:36:37.500Z"
   },
   {
    "duration": 48,
    "start_time": "2024-11-26T06:36:37.512Z"
   },
   {
    "duration": 72,
    "start_time": "2024-11-26T06:36:37.561Z"
   },
   {
    "duration": 29,
    "start_time": "2024-11-26T06:36:37.634Z"
   },
   {
    "duration": 28,
    "start_time": "2024-11-26T06:36:37.664Z"
   },
   {
    "duration": 81,
    "start_time": "2024-11-26T06:36:37.694Z"
   },
   {
    "duration": 496,
    "start_time": "2024-11-26T06:36:37.776Z"
   },
   {
    "duration": 20,
    "start_time": "2024-11-26T06:36:38.275Z"
   },
   {
    "duration": 317,
    "start_time": "2024-11-26T06:36:38.296Z"
   },
   {
    "duration": 30,
    "start_time": "2024-11-26T06:36:38.615Z"
   },
   {
    "duration": 52,
    "start_time": "2024-11-26T06:36:38.647Z"
   },
   {
    "duration": 193,
    "start_time": "2024-11-26T06:36:38.712Z"
   },
   {
    "duration": 320,
    "start_time": "2024-11-26T06:36:38.906Z"
   },
   {
    "duration": 63,
    "start_time": "2024-11-26T06:36:39.228Z"
   },
   {
    "duration": 31,
    "start_time": "2024-11-26T06:36:39.293Z"
   },
   {
    "duration": 60743,
    "start_time": "2024-11-26T06:36:39.325Z"
   },
   {
    "duration": 2030,
    "start_time": "2024-11-26T06:37:40.070Z"
   },
   {
    "duration": 1231,
    "start_time": "2024-11-26T06:37:42.102Z"
   },
   {
    "duration": 53,
    "start_time": "2024-11-26T06:37:43.335Z"
   },
   {
    "duration": 65,
    "start_time": "2024-11-26T06:37:43.390Z"
   },
   {
    "duration": 11,
    "start_time": "2024-11-26T06:37:43.457Z"
   },
   {
    "duration": 63,
    "start_time": "2024-11-26T06:37:43.469Z"
   },
   {
    "duration": 2,
    "start_time": "2024-11-26T06:37:43.534Z"
   },
   {
    "duration": 1170,
    "start_time": "2024-11-26T06:37:43.537Z"
   },
   {
    "duration": 4,
    "start_time": "2024-11-26T06:37:44.708Z"
   },
   {
    "duration": 113,
    "start_time": "2024-11-26T06:37:44.715Z"
   },
   {
    "duration": 0,
    "start_time": "2024-11-26T06:37:44.829Z"
   },
   {
    "duration": 0,
    "start_time": "2024-11-26T06:37:44.830Z"
   },
   {
    "duration": 0,
    "start_time": "2024-11-26T06:37:44.831Z"
   },
   {
    "duration": 0,
    "start_time": "2024-11-26T06:37:44.832Z"
   },
   {
    "duration": 0,
    "start_time": "2024-11-26T06:37:44.833Z"
   },
   {
    "duration": 0,
    "start_time": "2024-11-26T06:37:44.834Z"
   },
   {
    "duration": 0,
    "start_time": "2024-11-26T06:37:44.834Z"
   },
   {
    "duration": 0,
    "start_time": "2024-11-26T06:37:44.835Z"
   },
   {
    "duration": 0,
    "start_time": "2024-11-26T06:37:44.836Z"
   },
   {
    "duration": 1332,
    "start_time": "2024-11-26T06:52:01.814Z"
   },
   {
    "duration": 848,
    "start_time": "2024-11-26T06:52:03.147Z"
   },
   {
    "duration": 5,
    "start_time": "2024-11-26T06:52:03.996Z"
   },
   {
    "duration": 54,
    "start_time": "2024-11-26T06:52:04.003Z"
   },
   {
    "duration": 88,
    "start_time": "2024-11-26T06:52:04.058Z"
   },
   {
    "duration": 30,
    "start_time": "2024-11-26T06:52:04.147Z"
   },
   {
    "duration": 4,
    "start_time": "2024-11-26T06:52:04.178Z"
   },
   {
    "duration": 126,
    "start_time": "2024-11-26T06:52:04.183Z"
   },
   {
    "duration": 432,
    "start_time": "2024-11-26T06:52:04.310Z"
   },
   {
    "duration": 19,
    "start_time": "2024-11-26T06:52:04.745Z"
   },
   {
    "duration": 320,
    "start_time": "2024-11-26T06:52:04.765Z"
   },
   {
    "duration": 16,
    "start_time": "2024-11-26T06:52:05.086Z"
   },
   {
    "duration": 53,
    "start_time": "2024-11-26T06:52:05.104Z"
   },
   {
    "duration": 186,
    "start_time": "2024-11-26T06:52:05.158Z"
   },
   {
    "duration": 325,
    "start_time": "2024-11-26T06:52:05.346Z"
   },
   {
    "duration": 67,
    "start_time": "2024-11-26T06:52:05.673Z"
   },
   {
    "duration": 25,
    "start_time": "2024-11-26T06:52:05.741Z"
   },
   {
    "duration": 61252,
    "start_time": "2024-11-26T06:52:05.767Z"
   },
   {
    "duration": 2175,
    "start_time": "2024-11-26T06:53:07.021Z"
   },
   {
    "duration": 1262,
    "start_time": "2024-11-26T06:53:09.197Z"
   },
   {
    "duration": 57,
    "start_time": "2024-11-26T06:53:10.461Z"
   },
   {
    "duration": 74,
    "start_time": "2024-11-26T06:53:10.519Z"
   },
   {
    "duration": 22,
    "start_time": "2024-11-26T06:53:10.594Z"
   },
   {
    "duration": 57,
    "start_time": "2024-11-26T06:53:10.618Z"
   },
   {
    "duration": 2,
    "start_time": "2024-11-26T06:53:10.677Z"
   },
   {
    "duration": 1240,
    "start_time": "2024-11-26T06:53:10.680Z"
   },
   {
    "duration": 3,
    "start_time": "2024-11-26T06:53:11.921Z"
   },
   {
    "duration": 1302,
    "start_time": "2024-11-26T06:55:58.547Z"
   },
   {
    "duration": 855,
    "start_time": "2024-11-26T06:55:59.851Z"
   },
   {
    "duration": 7,
    "start_time": "2024-11-26T06:56:00.707Z"
   },
   {
    "duration": 74,
    "start_time": "2024-11-26T06:56:00.716Z"
   },
   {
    "duration": 50,
    "start_time": "2024-11-26T06:56:00.791Z"
   },
   {
    "duration": 29,
    "start_time": "2024-11-26T06:56:00.843Z"
   },
   {
    "duration": 7,
    "start_time": "2024-11-26T06:56:00.873Z"
   },
   {
    "duration": 78,
    "start_time": "2024-11-26T06:56:00.881Z"
   },
   {
    "duration": 508,
    "start_time": "2024-11-26T06:56:00.960Z"
   },
   {
    "duration": 21,
    "start_time": "2024-11-26T06:56:01.471Z"
   },
   {
    "duration": 327,
    "start_time": "2024-11-26T06:56:01.494Z"
   },
   {
    "duration": 15,
    "start_time": "2024-11-26T06:56:01.823Z"
   },
   {
    "duration": 47,
    "start_time": "2024-11-26T06:56:01.840Z"
   },
   {
    "duration": 189,
    "start_time": "2024-11-26T06:56:01.888Z"
   },
   {
    "duration": 332,
    "start_time": "2024-11-26T06:56:02.078Z"
   },
   {
    "duration": 63,
    "start_time": "2024-11-26T06:56:02.411Z"
   },
   {
    "duration": 50,
    "start_time": "2024-11-26T06:56:02.475Z"
   },
   {
    "duration": 61531,
    "start_time": "2024-11-26T06:56:02.526Z"
   },
   {
    "duration": 2141,
    "start_time": "2024-11-26T06:57:04.059Z"
   },
   {
    "duration": 1373,
    "start_time": "2024-11-26T06:57:06.202Z"
   },
   {
    "duration": 59,
    "start_time": "2024-11-26T06:57:07.577Z"
   },
   {
    "duration": 57,
    "start_time": "2024-11-26T06:57:07.637Z"
   },
   {
    "duration": 21,
    "start_time": "2024-11-26T06:57:07.696Z"
   },
   {
    "duration": 57,
    "start_time": "2024-11-26T06:57:07.718Z"
   },
   {
    "duration": 2,
    "start_time": "2024-11-26T06:57:07.777Z"
   },
   {
    "duration": 1298,
    "start_time": "2024-11-26T06:57:07.780Z"
   },
   {
    "duration": 2,
    "start_time": "2024-11-26T06:57:09.080Z"
   },
   {
    "duration": 1337,
    "start_time": "2024-11-26T07:33:47.197Z"
   },
   {
    "duration": 868,
    "start_time": "2024-11-26T07:33:48.536Z"
   },
   {
    "duration": 7,
    "start_time": "2024-11-26T07:33:49.405Z"
   },
   {
    "duration": 63,
    "start_time": "2024-11-26T07:33:49.414Z"
   },
   {
    "duration": 44,
    "start_time": "2024-11-26T07:33:49.479Z"
   },
   {
    "duration": 33,
    "start_time": "2024-11-26T07:33:49.524Z"
   },
   {
    "duration": 4,
    "start_time": "2024-11-26T07:33:49.559Z"
   },
   {
    "duration": 84,
    "start_time": "2024-11-26T07:33:49.565Z"
   },
   {
    "duration": 478,
    "start_time": "2024-11-26T07:33:49.650Z"
   },
   {
    "duration": 20,
    "start_time": "2024-11-26T07:33:50.131Z"
   },
   {
    "duration": 319,
    "start_time": "2024-11-26T07:33:50.152Z"
   },
   {
    "duration": 16,
    "start_time": "2024-11-26T07:33:50.472Z"
   },
   {
    "duration": 59,
    "start_time": "2024-11-26T07:33:50.489Z"
   },
   {
    "duration": 186,
    "start_time": "2024-11-26T07:33:50.549Z"
   },
   {
    "duration": 337,
    "start_time": "2024-11-26T07:33:50.736Z"
   },
   {
    "duration": 77,
    "start_time": "2024-11-26T07:33:51.075Z"
   },
   {
    "duration": 19,
    "start_time": "2024-11-26T07:33:51.153Z"
   },
   {
    "duration": 61953,
    "start_time": "2024-11-26T07:33:51.174Z"
   },
   {
    "duration": 2125,
    "start_time": "2024-11-26T07:34:53.129Z"
   },
   {
    "duration": 1318,
    "start_time": "2024-11-26T07:34:55.255Z"
   },
   {
    "duration": 56,
    "start_time": "2024-11-26T07:34:56.574Z"
   },
   {
    "duration": 55,
    "start_time": "2024-11-26T07:34:56.632Z"
   },
   {
    "duration": 27,
    "start_time": "2024-11-26T07:34:56.689Z"
   },
   {
    "duration": 49,
    "start_time": "2024-11-26T07:34:56.718Z"
   },
   {
    "duration": 3,
    "start_time": "2024-11-26T07:34:56.768Z"
   },
   {
    "duration": 1236,
    "start_time": "2024-11-26T07:34:56.772Z"
   },
   {
    "duration": 3,
    "start_time": "2024-11-26T07:34:58.011Z"
   },
   {
    "duration": 1356417,
    "start_time": "2024-11-26T07:34:58.017Z"
   },
   {
    "duration": 1363,
    "start_time": "2024-11-26T08:34:38.087Z"
   },
   {
    "duration": 856,
    "start_time": "2024-11-26T08:34:39.452Z"
   },
   {
    "duration": 5,
    "start_time": "2024-11-26T08:34:40.310Z"
   },
   {
    "duration": 49,
    "start_time": "2024-11-26T08:34:40.316Z"
   },
   {
    "duration": 63,
    "start_time": "2024-11-26T08:34:40.366Z"
   },
   {
    "duration": 30,
    "start_time": "2024-11-26T08:34:40.431Z"
   },
   {
    "duration": 6,
    "start_time": "2024-11-26T08:34:40.462Z"
   },
   {
    "duration": 87,
    "start_time": "2024-11-26T08:34:40.470Z"
   },
   {
    "duration": 457,
    "start_time": "2024-11-26T08:34:40.559Z"
   },
   {
    "duration": 21,
    "start_time": "2024-11-26T08:34:41.019Z"
   },
   {
    "duration": 351,
    "start_time": "2024-11-26T08:34:41.041Z"
   },
   {
    "duration": 19,
    "start_time": "2024-11-26T08:34:41.394Z"
   },
   {
    "duration": 50,
    "start_time": "2024-11-26T08:34:41.414Z"
   },
   {
    "duration": 191,
    "start_time": "2024-11-26T08:34:41.466Z"
   },
   {
    "duration": 333,
    "start_time": "2024-11-26T08:34:41.658Z"
   },
   {
    "duration": 63,
    "start_time": "2024-11-26T08:34:41.992Z"
   },
   {
    "duration": 38,
    "start_time": "2024-11-26T08:34:42.056Z"
   },
   {
    "duration": 61080,
    "start_time": "2024-11-26T08:34:42.096Z"
   },
   {
    "duration": 2149,
    "start_time": "2024-11-26T08:35:43.177Z"
   },
   {
    "duration": 1268,
    "start_time": "2024-11-26T08:35:45.327Z"
   },
   {
    "duration": 63,
    "start_time": "2024-11-26T08:35:46.597Z"
   },
   {
    "duration": 95,
    "start_time": "2024-11-26T08:35:46.662Z"
   },
   {
    "duration": 12,
    "start_time": "2024-11-26T08:35:46.759Z"
   },
   {
    "duration": 76,
    "start_time": "2024-11-26T08:35:46.772Z"
   },
   {
    "duration": 3,
    "start_time": "2024-11-26T08:35:46.850Z"
   },
   {
    "duration": 1262,
    "start_time": "2024-11-26T08:35:46.855Z"
   },
   {
    "duration": 2,
    "start_time": "2024-11-26T08:35:48.118Z"
   },
   {
    "duration": 2369,
    "start_time": "2024-11-26T08:35:48.123Z"
   },
   {
    "duration": 0,
    "start_time": "2024-11-26T08:35:50.494Z"
   },
   {
    "duration": 0,
    "start_time": "2024-11-26T08:35:50.495Z"
   },
   {
    "duration": 0,
    "start_time": "2024-11-26T08:35:50.495Z"
   },
   {
    "duration": 0,
    "start_time": "2024-11-26T08:35:50.497Z"
   },
   {
    "duration": 0,
    "start_time": "2024-11-26T08:35:50.497Z"
   },
   {
    "duration": 0,
    "start_time": "2024-11-26T08:35:50.498Z"
   },
   {
    "duration": 0,
    "start_time": "2024-11-26T08:35:50.499Z"
   },
   {
    "duration": 0,
    "start_time": "2024-11-26T08:35:50.499Z"
   },
   {
    "duration": 0,
    "start_time": "2024-11-26T08:35:50.500Z"
   },
   {
    "duration": 1340,
    "start_time": "2024-11-26T08:38:16.707Z"
   },
   {
    "duration": 874,
    "start_time": "2024-11-26T08:38:18.049Z"
   },
   {
    "duration": 5,
    "start_time": "2024-11-26T08:38:18.924Z"
   },
   {
    "duration": 61,
    "start_time": "2024-11-26T08:38:18.931Z"
   },
   {
    "duration": 48,
    "start_time": "2024-11-26T08:38:18.993Z"
   },
   {
    "duration": 36,
    "start_time": "2024-11-26T08:38:19.043Z"
   },
   {
    "duration": 4,
    "start_time": "2024-11-26T08:38:19.081Z"
   },
   {
    "duration": 82,
    "start_time": "2024-11-26T08:38:19.086Z"
   },
   {
    "duration": 463,
    "start_time": "2024-11-26T08:38:19.170Z"
   },
   {
    "duration": 19,
    "start_time": "2024-11-26T08:38:19.636Z"
   },
   {
    "duration": 334,
    "start_time": "2024-11-26T08:38:19.656Z"
   },
   {
    "duration": 20,
    "start_time": "2024-11-26T08:38:19.992Z"
   },
   {
    "duration": 51,
    "start_time": "2024-11-26T08:38:20.013Z"
   },
   {
    "duration": 175,
    "start_time": "2024-11-26T08:38:20.066Z"
   },
   {
    "duration": 327,
    "start_time": "2024-11-26T08:38:20.243Z"
   },
   {
    "duration": 65,
    "start_time": "2024-11-26T08:38:20.571Z"
   },
   {
    "duration": 17,
    "start_time": "2024-11-26T08:38:20.637Z"
   },
   {
    "duration": 60609,
    "start_time": "2024-11-26T08:38:20.655Z"
   },
   {
    "duration": 2060,
    "start_time": "2024-11-26T08:39:21.266Z"
   },
   {
    "duration": 1288,
    "start_time": "2024-11-26T08:39:23.327Z"
   },
   {
    "duration": 58,
    "start_time": "2024-11-26T08:39:24.617Z"
   },
   {
    "duration": 66,
    "start_time": "2024-11-26T08:39:24.677Z"
   },
   {
    "duration": 12,
    "start_time": "2024-11-26T08:39:24.744Z"
   },
   {
    "duration": 70,
    "start_time": "2024-11-26T08:39:24.758Z"
   },
   {
    "duration": 2,
    "start_time": "2024-11-26T08:39:24.830Z"
   },
   {
    "duration": 1236,
    "start_time": "2024-11-26T08:39:24.834Z"
   },
   {
    "duration": 3,
    "start_time": "2024-11-26T08:39:26.071Z"
   },
   {
    "duration": 188519,
    "start_time": "2024-11-26T08:39:26.077Z"
   },
   {
    "duration": 276679,
    "start_time": "2024-11-26T08:42:34.597Z"
   },
   {
    "duration": 55535,
    "start_time": "2024-11-26T08:47:11.277Z"
   },
   {
    "duration": 3,
    "start_time": "2024-11-26T08:48:06.814Z"
   },
   {
    "duration": 19820,
    "start_time": "2024-11-26T08:48:06.818Z"
   },
   {
    "duration": 6,
    "start_time": "2024-11-26T08:48:26.639Z"
   },
   {
    "duration": 187646,
    "start_time": "2024-11-26T08:48:26.647Z"
   },
   {
    "duration": 212335,
    "start_time": "2024-11-26T08:51:34.295Z"
   },
   {
    "duration": 6298,
    "start_time": "2024-11-26T08:55:06.632Z"
   },
   {
    "duration": 5,
    "start_time": "2024-11-26T08:55:12.932Z"
   },
   {
    "duration": 1591,
    "start_time": "2024-11-27T06:01:11.514Z"
   },
   {
    "duration": 2917,
    "start_time": "2024-11-27T06:01:13.107Z"
   },
   {
    "duration": 5,
    "start_time": "2024-11-27T06:01:16.026Z"
   },
   {
    "duration": 69,
    "start_time": "2024-11-27T06:01:16.032Z"
   },
   {
    "duration": 51,
    "start_time": "2024-11-27T06:01:16.103Z"
   },
   {
    "duration": 27,
    "start_time": "2024-11-27T06:01:16.156Z"
   },
   {
    "duration": 20,
    "start_time": "2024-11-27T06:01:16.184Z"
   },
   {
    "duration": 83,
    "start_time": "2024-11-27T06:01:16.205Z"
   },
   {
    "duration": 485,
    "start_time": "2024-11-27T06:01:16.290Z"
   },
   {
    "duration": 30,
    "start_time": "2024-11-27T06:01:16.777Z"
   },
   {
    "duration": 376,
    "start_time": "2024-11-27T06:01:16.808Z"
   },
   {
    "duration": 22,
    "start_time": "2024-11-27T06:01:17.185Z"
   },
   {
    "duration": 52,
    "start_time": "2024-11-27T06:01:17.209Z"
   },
   {
    "duration": 209,
    "start_time": "2024-11-27T06:01:17.265Z"
   },
   {
    "duration": 342,
    "start_time": "2024-11-27T06:01:17.475Z"
   },
   {
    "duration": 59,
    "start_time": "2024-11-27T06:01:17.819Z"
   },
   {
    "duration": 27,
    "start_time": "2024-11-27T06:01:17.880Z"
   },
   {
    "duration": 63235,
    "start_time": "2024-11-27T06:01:17.908Z"
   },
   {
    "duration": 2160,
    "start_time": "2024-11-27T06:02:21.144Z"
   },
   {
    "duration": 1290,
    "start_time": "2024-11-27T06:02:23.306Z"
   },
   {
    "duration": 59,
    "start_time": "2024-11-27T06:02:24.598Z"
   },
   {
    "duration": 76,
    "start_time": "2024-11-27T06:02:24.658Z"
   },
   {
    "duration": 25,
    "start_time": "2024-11-27T06:02:24.736Z"
   },
   {
    "duration": 74,
    "start_time": "2024-11-27T06:02:24.763Z"
   },
   {
    "duration": 3,
    "start_time": "2024-11-27T06:02:24.839Z"
   },
   {
    "duration": 1572,
    "start_time": "2024-11-27T06:02:24.843Z"
   },
   {
    "duration": 2,
    "start_time": "2024-11-27T06:02:26.417Z"
   },
   {
    "duration": 135,
    "start_time": "2024-11-27T06:02:26.421Z"
   },
   {
    "duration": 0,
    "start_time": "2024-11-27T06:02:26.557Z"
   },
   {
    "duration": 0,
    "start_time": "2024-11-27T06:02:26.559Z"
   },
   {
    "duration": 0,
    "start_time": "2024-11-27T06:02:26.560Z"
   },
   {
    "duration": 0,
    "start_time": "2024-11-27T06:02:26.561Z"
   },
   {
    "duration": 0,
    "start_time": "2024-11-27T06:02:26.563Z"
   },
   {
    "duration": 0,
    "start_time": "2024-11-27T06:02:26.565Z"
   },
   {
    "duration": 0,
    "start_time": "2024-11-27T06:02:26.567Z"
   },
   {
    "duration": 0,
    "start_time": "2024-11-27T06:02:26.568Z"
   },
   {
    "duration": 0,
    "start_time": "2024-11-27T06:02:26.569Z"
   },
   {
    "duration": 1359,
    "start_time": "2024-11-27T06:09:57.629Z"
   },
   {
    "duration": 853,
    "start_time": "2024-11-27T06:09:58.989Z"
   },
   {
    "duration": 5,
    "start_time": "2024-11-27T06:09:59.843Z"
   },
   {
    "duration": 59,
    "start_time": "2024-11-27T06:09:59.850Z"
   },
   {
    "duration": 50,
    "start_time": "2024-11-27T06:09:59.911Z"
   },
   {
    "duration": 57,
    "start_time": "2024-11-27T06:09:59.962Z"
   },
   {
    "duration": 61,
    "start_time": "2024-11-27T06:10:00.021Z"
   },
   {
    "duration": 118,
    "start_time": "2024-11-27T06:10:00.084Z"
   },
   {
    "duration": 596,
    "start_time": "2024-11-27T06:10:00.204Z"
   },
   {
    "duration": 20,
    "start_time": "2024-11-27T06:10:00.806Z"
   },
   {
    "duration": 315,
    "start_time": "2024-11-27T06:10:00.828Z"
   },
   {
    "duration": 15,
    "start_time": "2024-11-27T06:10:01.145Z"
   },
   {
    "duration": 85,
    "start_time": "2024-11-27T06:10:01.162Z"
   },
   {
    "duration": 206,
    "start_time": "2024-11-27T06:10:01.249Z"
   },
   {
    "duration": 349,
    "start_time": "2024-11-27T06:10:01.457Z"
   },
   {
    "duration": 61,
    "start_time": "2024-11-27T06:10:01.808Z"
   },
   {
    "duration": 67,
    "start_time": "2024-11-27T06:10:01.871Z"
   },
   {
    "duration": 62521,
    "start_time": "2024-11-27T06:10:01.940Z"
   },
   {
    "duration": 2120,
    "start_time": "2024-11-27T06:11:04.463Z"
   },
   {
    "duration": 1273,
    "start_time": "2024-11-27T06:11:06.585Z"
   },
   {
    "duration": 63,
    "start_time": "2024-11-27T06:11:07.860Z"
   },
   {
    "duration": 68,
    "start_time": "2024-11-27T06:11:07.924Z"
   },
   {
    "duration": 22,
    "start_time": "2024-11-27T06:11:07.994Z"
   },
   {
    "duration": 58,
    "start_time": "2024-11-27T06:11:08.017Z"
   },
   {
    "duration": 3,
    "start_time": "2024-11-27T06:11:08.076Z"
   },
   {
    "duration": 1350,
    "start_time": "2024-11-27T06:11:08.080Z"
   },
   {
    "duration": 3,
    "start_time": "2024-11-27T06:11:09.431Z"
   },
   {
    "duration": 30140,
    "start_time": "2024-11-27T06:11:09.437Z"
   },
   {
    "duration": 0,
    "start_time": "2024-11-27T06:11:39.578Z"
   },
   {
    "duration": 0,
    "start_time": "2024-11-27T06:11:39.579Z"
   },
   {
    "duration": 0,
    "start_time": "2024-11-27T06:11:39.580Z"
   },
   {
    "duration": 0,
    "start_time": "2024-11-27T06:11:39.582Z"
   },
   {
    "duration": 0,
    "start_time": "2024-11-27T06:11:39.583Z"
   },
   {
    "duration": 0,
    "start_time": "2024-11-27T06:11:39.584Z"
   },
   {
    "duration": 0,
    "start_time": "2024-11-27T06:11:39.585Z"
   },
   {
    "duration": 0,
    "start_time": "2024-11-27T06:11:39.586Z"
   },
   {
    "duration": 0,
    "start_time": "2024-11-27T06:11:39.587Z"
   },
   {
    "duration": 1392,
    "start_time": "2024-11-27T06:18:01.087Z"
   },
   {
    "duration": 878,
    "start_time": "2024-11-27T06:18:02.481Z"
   },
   {
    "duration": 5,
    "start_time": "2024-11-27T06:18:03.361Z"
   },
   {
    "duration": 89,
    "start_time": "2024-11-27T06:18:03.367Z"
   },
   {
    "duration": 49,
    "start_time": "2024-11-27T06:18:03.458Z"
   },
   {
    "duration": 58,
    "start_time": "2024-11-27T06:18:03.508Z"
   },
   {
    "duration": 37,
    "start_time": "2024-11-27T06:18:03.568Z"
   },
   {
    "duration": 83,
    "start_time": "2024-11-27T06:18:03.607Z"
   },
   {
    "duration": 451,
    "start_time": "2024-11-27T06:18:03.692Z"
   },
   {
    "duration": 20,
    "start_time": "2024-11-27T06:18:04.145Z"
   },
   {
    "duration": 328,
    "start_time": "2024-11-27T06:18:04.166Z"
   },
   {
    "duration": 18,
    "start_time": "2024-11-27T06:18:04.495Z"
   },
   {
    "duration": 64,
    "start_time": "2024-11-27T06:18:04.515Z"
   },
   {
    "duration": 188,
    "start_time": "2024-11-27T06:18:04.582Z"
   },
   {
    "duration": 342,
    "start_time": "2024-11-27T06:18:04.771Z"
   },
   {
    "duration": 73,
    "start_time": "2024-11-27T06:18:05.114Z"
   },
   {
    "duration": 75,
    "start_time": "2024-11-27T06:18:05.189Z"
   },
   {
    "duration": 64481,
    "start_time": "2024-11-27T06:18:05.266Z"
   },
   {
    "duration": 2255,
    "start_time": "2024-11-27T06:19:09.748Z"
   },
   {
    "duration": 1442,
    "start_time": "2024-11-27T06:19:12.004Z"
   },
   {
    "duration": 67,
    "start_time": "2024-11-27T06:19:13.448Z"
   },
   {
    "duration": 56,
    "start_time": "2024-11-27T06:19:13.517Z"
   },
   {
    "duration": 82,
    "start_time": "2024-11-27T06:19:13.574Z"
   },
   {
    "duration": 103,
    "start_time": "2024-11-27T06:19:13.658Z"
   },
   {
    "duration": 3,
    "start_time": "2024-11-27T06:19:13.762Z"
   },
   {
    "duration": 1494,
    "start_time": "2024-11-27T06:19:13.767Z"
   },
   {
    "duration": 3,
    "start_time": "2024-11-27T06:19:15.262Z"
   },
   {
    "duration": 1190383,
    "start_time": "2024-11-27T06:19:15.266Z"
   },
   {
    "duration": 1480,
    "start_time": "2024-11-27T06:59:23.169Z"
   },
   {
    "duration": 852,
    "start_time": "2024-11-27T06:59:24.650Z"
   },
   {
    "duration": 6,
    "start_time": "2024-11-27T06:59:25.504Z"
   },
   {
    "duration": 67,
    "start_time": "2024-11-27T06:59:25.511Z"
   },
   {
    "duration": 149,
    "start_time": "2024-11-27T06:59:25.580Z"
   },
   {
    "duration": 95,
    "start_time": "2024-11-27T06:59:25.730Z"
   },
   {
    "duration": 62,
    "start_time": "2024-11-27T06:59:25.826Z"
   },
   {
    "duration": 167,
    "start_time": "2024-11-27T06:59:25.889Z"
   },
   {
    "duration": 502,
    "start_time": "2024-11-27T06:59:26.058Z"
   },
   {
    "duration": 20,
    "start_time": "2024-11-27T06:59:26.561Z"
   },
   {
    "duration": 323,
    "start_time": "2024-11-27T06:59:26.582Z"
   },
   {
    "duration": 16,
    "start_time": "2024-11-27T06:59:26.907Z"
   },
   {
    "duration": 66,
    "start_time": "2024-11-27T06:59:26.924Z"
   },
   {
    "duration": 180,
    "start_time": "2024-11-27T06:59:26.993Z"
   },
   {
    "duration": 340,
    "start_time": "2024-11-27T06:59:27.174Z"
   },
   {
    "duration": 63,
    "start_time": "2024-11-27T06:59:27.515Z"
   },
   {
    "duration": 48,
    "start_time": "2024-11-27T06:59:27.579Z"
   },
   {
    "duration": 63516,
    "start_time": "2024-11-27T06:59:27.629Z"
   },
   {
    "duration": 2199,
    "start_time": "2024-11-27T07:00:31.147Z"
   },
   {
    "duration": 1287,
    "start_time": "2024-11-27T07:00:33.347Z"
   },
   {
    "duration": 73,
    "start_time": "2024-11-27T07:00:34.636Z"
   },
   {
    "duration": 58,
    "start_time": "2024-11-27T07:00:34.710Z"
   },
   {
    "duration": 44,
    "start_time": "2024-11-27T07:00:34.769Z"
   },
   {
    "duration": 79,
    "start_time": "2024-11-27T07:00:34.814Z"
   },
   {
    "duration": 2,
    "start_time": "2024-11-27T07:00:34.895Z"
   },
   {
    "duration": 1423,
    "start_time": "2024-11-27T07:00:34.898Z"
   },
   {
    "duration": 3,
    "start_time": "2024-11-27T07:00:36.323Z"
   },
   {
    "duration": 1343,
    "start_time": "2024-11-27T07:08:45.541Z"
   },
   {
    "duration": 863,
    "start_time": "2024-11-27T07:08:46.886Z"
   },
   {
    "duration": 5,
    "start_time": "2024-11-27T07:08:47.750Z"
   },
   {
    "duration": 57,
    "start_time": "2024-11-27T07:08:47.757Z"
   },
   {
    "duration": 70,
    "start_time": "2024-11-27T07:08:47.816Z"
   },
   {
    "duration": 75,
    "start_time": "2024-11-27T07:08:47.887Z"
   },
   {
    "duration": 72,
    "start_time": "2024-11-27T07:08:47.964Z"
   },
   {
    "duration": 186,
    "start_time": "2024-11-27T07:08:48.037Z"
   },
   {
    "duration": 518,
    "start_time": "2024-11-27T07:08:48.224Z"
   },
   {
    "duration": 21,
    "start_time": "2024-11-27T07:08:48.743Z"
   },
   {
    "duration": 318,
    "start_time": "2024-11-27T07:08:48.766Z"
   },
   {
    "duration": 21,
    "start_time": "2024-11-27T07:08:49.086Z"
   },
   {
    "duration": 48,
    "start_time": "2024-11-27T07:08:49.108Z"
   },
   {
    "duration": 209,
    "start_time": "2024-11-27T07:08:49.160Z"
   },
   {
    "duration": 337,
    "start_time": "2024-11-27T07:08:49.370Z"
   },
   {
    "duration": 61,
    "start_time": "2024-11-27T07:08:49.709Z"
   },
   {
    "duration": 32,
    "start_time": "2024-11-27T07:08:49.771Z"
   },
   {
    "duration": 63159,
    "start_time": "2024-11-27T07:08:49.804Z"
   },
   {
    "duration": 2154,
    "start_time": "2024-11-27T07:09:52.965Z"
   },
   {
    "duration": 1275,
    "start_time": "2024-11-27T07:09:55.121Z"
   },
   {
    "duration": 61,
    "start_time": "2024-11-27T07:09:56.397Z"
   },
   {
    "duration": 78,
    "start_time": "2024-11-27T07:09:56.460Z"
   },
   {
    "duration": 13,
    "start_time": "2024-11-27T07:09:56.540Z"
   },
   {
    "duration": 68,
    "start_time": "2024-11-27T07:09:56.555Z"
   },
   {
    "duration": 3,
    "start_time": "2024-11-27T07:09:56.624Z"
   },
   {
    "duration": 1390,
    "start_time": "2024-11-27T07:09:56.628Z"
   },
   {
    "duration": 3,
    "start_time": "2024-11-27T07:09:58.019Z"
   },
   {
    "duration": 1458,
    "start_time": "2024-11-27T07:30:42.334Z"
   },
   {
    "duration": 863,
    "start_time": "2024-11-27T07:30:43.794Z"
   },
   {
    "duration": 5,
    "start_time": "2024-11-27T07:30:44.658Z"
   },
   {
    "duration": 80,
    "start_time": "2024-11-27T07:30:44.665Z"
   },
   {
    "duration": 90,
    "start_time": "2024-11-27T07:30:44.746Z"
   },
   {
    "duration": 33,
    "start_time": "2024-11-27T07:30:44.837Z"
   },
   {
    "duration": 51,
    "start_time": "2024-11-27T07:30:44.871Z"
   },
   {
    "duration": 98,
    "start_time": "2024-11-27T07:30:44.923Z"
   },
   {
    "duration": 513,
    "start_time": "2024-11-27T07:30:45.023Z"
   },
   {
    "duration": 20,
    "start_time": "2024-11-27T07:30:45.538Z"
   },
   {
    "duration": 338,
    "start_time": "2024-11-27T07:30:45.560Z"
   },
   {
    "duration": 17,
    "start_time": "2024-11-27T07:30:45.899Z"
   },
   {
    "duration": 64,
    "start_time": "2024-11-27T07:30:45.917Z"
   },
   {
    "duration": 194,
    "start_time": "2024-11-27T07:30:45.982Z"
   },
   {
    "duration": 360,
    "start_time": "2024-11-27T07:30:46.177Z"
   },
   {
    "duration": 72,
    "start_time": "2024-11-27T07:30:46.539Z"
   },
   {
    "duration": 23,
    "start_time": "2024-11-27T07:30:46.612Z"
   },
   {
    "duration": 63254,
    "start_time": "2024-11-27T07:30:46.636Z"
   },
   {
    "duration": 2137,
    "start_time": "2024-11-27T07:31:49.892Z"
   },
   {
    "duration": 1368,
    "start_time": "2024-11-27T07:31:52.030Z"
   },
   {
    "duration": 58,
    "start_time": "2024-11-27T07:31:53.399Z"
   },
   {
    "duration": 60,
    "start_time": "2024-11-27T07:31:53.458Z"
   },
   {
    "duration": 18,
    "start_time": "2024-11-27T07:31:53.519Z"
   },
   {
    "duration": 71,
    "start_time": "2024-11-27T07:31:53.538Z"
   },
   {
    "duration": 3,
    "start_time": "2024-11-27T07:31:53.610Z"
   },
   {
    "duration": 1373,
    "start_time": "2024-11-27T07:31:53.615Z"
   },
   {
    "duration": 2,
    "start_time": "2024-11-27T07:31:54.990Z"
   },
   {
    "duration": 1375,
    "start_time": "2024-11-27T07:35:17.774Z"
   },
   {
    "duration": 946,
    "start_time": "2024-11-27T07:35:19.151Z"
   },
   {
    "duration": 11,
    "start_time": "2024-11-27T07:35:20.098Z"
   },
   {
    "duration": 50,
    "start_time": "2024-11-27T07:35:20.110Z"
   },
   {
    "duration": 63,
    "start_time": "2024-11-27T07:35:20.162Z"
   },
   {
    "duration": 41,
    "start_time": "2024-11-27T07:35:20.226Z"
   },
   {
    "duration": 70,
    "start_time": "2024-11-27T07:35:20.268Z"
   },
   {
    "duration": 85,
    "start_time": "2024-11-27T07:35:20.340Z"
   },
   {
    "duration": 444,
    "start_time": "2024-11-27T07:35:20.427Z"
   },
   {
    "duration": 20,
    "start_time": "2024-11-27T07:35:20.872Z"
   },
   {
    "duration": 374,
    "start_time": "2024-11-27T07:35:20.893Z"
   },
   {
    "duration": 20,
    "start_time": "2024-11-27T07:35:21.269Z"
   },
   {
    "duration": 78,
    "start_time": "2024-11-27T07:35:21.291Z"
   },
   {
    "duration": 187,
    "start_time": "2024-11-27T07:35:21.372Z"
   },
   {
    "duration": 392,
    "start_time": "2024-11-27T07:35:21.561Z"
   },
   {
    "duration": 65,
    "start_time": "2024-11-27T07:35:21.955Z"
   },
   {
    "duration": 30,
    "start_time": "2024-11-27T07:35:22.021Z"
   },
   {
    "duration": 62314,
    "start_time": "2024-11-27T07:35:22.053Z"
   },
   {
    "duration": 2187,
    "start_time": "2024-11-27T07:36:24.369Z"
   },
   {
    "duration": 1314,
    "start_time": "2024-11-27T07:36:26.558Z"
   },
   {
    "duration": 62,
    "start_time": "2024-11-27T07:36:27.874Z"
   },
   {
    "duration": 55,
    "start_time": "2024-11-27T07:36:27.937Z"
   },
   {
    "duration": 25,
    "start_time": "2024-11-27T07:36:27.994Z"
   },
   {
    "duration": 58,
    "start_time": "2024-11-27T07:36:28.021Z"
   },
   {
    "duration": 2,
    "start_time": "2024-11-27T07:36:28.081Z"
   },
   {
    "duration": 1424,
    "start_time": "2024-11-27T07:36:28.084Z"
   },
   {
    "duration": 2,
    "start_time": "2024-11-27T07:36:29.510Z"
   },
   {
    "duration": 748411,
    "start_time": "2024-11-27T07:36:29.514Z"
   },
   {
    "duration": 143,
    "start_time": "2024-11-27T07:48:57.927Z"
   },
   {
    "duration": 0,
    "start_time": "2024-11-27T07:48:58.071Z"
   },
   {
    "duration": 0,
    "start_time": "2024-11-27T07:48:58.072Z"
   },
   {
    "duration": 0,
    "start_time": "2024-11-27T07:48:58.073Z"
   },
   {
    "duration": 0,
    "start_time": "2024-11-27T07:48:58.074Z"
   },
   {
    "duration": 0,
    "start_time": "2024-11-27T07:48:58.075Z"
   },
   {
    "duration": 0,
    "start_time": "2024-11-27T07:48:58.076Z"
   },
   {
    "duration": 0,
    "start_time": "2024-11-27T07:48:58.077Z"
   },
   {
    "duration": 0,
    "start_time": "2024-11-27T07:48:58.078Z"
   },
   {
    "duration": 1356,
    "start_time": "2024-11-27T08:14:33.237Z"
   },
   {
    "duration": 903,
    "start_time": "2024-11-27T08:14:34.595Z"
   },
   {
    "duration": 8,
    "start_time": "2024-11-27T08:14:35.499Z"
   },
   {
    "duration": 67,
    "start_time": "2024-11-27T08:14:35.509Z"
   },
   {
    "duration": 58,
    "start_time": "2024-11-27T08:14:35.578Z"
   },
   {
    "duration": 30,
    "start_time": "2024-11-27T08:14:35.637Z"
   },
   {
    "duration": 28,
    "start_time": "2024-11-27T08:14:35.669Z"
   },
   {
    "duration": 93,
    "start_time": "2024-11-27T08:14:35.699Z"
   },
   {
    "duration": 449,
    "start_time": "2024-11-27T08:14:35.793Z"
   },
   {
    "duration": 20,
    "start_time": "2024-11-27T08:14:36.243Z"
   },
   {
    "duration": 342,
    "start_time": "2024-11-27T08:14:36.265Z"
   },
   {
    "duration": 16,
    "start_time": "2024-11-27T08:14:36.608Z"
   },
   {
    "duration": 62,
    "start_time": "2024-11-27T08:14:36.625Z"
   },
   {
    "duration": 192,
    "start_time": "2024-11-27T08:14:36.690Z"
   },
   {
    "duration": 353,
    "start_time": "2024-11-27T08:14:36.883Z"
   },
   {
    "duration": 70,
    "start_time": "2024-11-27T08:14:37.238Z"
   },
   {
    "duration": 63,
    "start_time": "2024-11-27T08:14:37.309Z"
   },
   {
    "duration": 62935,
    "start_time": "2024-11-27T08:14:37.374Z"
   },
   {
    "duration": 2118,
    "start_time": "2024-11-27T08:15:40.310Z"
   },
   {
    "duration": 1330,
    "start_time": "2024-11-27T08:15:42.429Z"
   },
   {
    "duration": 70,
    "start_time": "2024-11-27T08:15:43.760Z"
   },
   {
    "duration": 56,
    "start_time": "2024-11-27T08:15:43.831Z"
   },
   {
    "duration": 26,
    "start_time": "2024-11-27T08:15:43.888Z"
   },
   {
    "duration": 89,
    "start_time": "2024-11-27T08:15:43.915Z"
   },
   {
    "duration": 2,
    "start_time": "2024-11-27T08:15:44.006Z"
   },
   {
    "duration": 1378,
    "start_time": "2024-11-27T08:15:44.010Z"
   },
   {
    "duration": 4,
    "start_time": "2024-11-27T08:15:45.389Z"
   },
   {
    "duration": 1402,
    "start_time": "2024-11-27T08:22:47.193Z"
   },
   {
    "duration": 895,
    "start_time": "2024-11-27T08:22:48.597Z"
   },
   {
    "duration": 13,
    "start_time": "2024-11-27T08:22:49.494Z"
   },
   {
    "duration": 188,
    "start_time": "2024-11-27T08:22:49.510Z"
   },
   {
    "duration": 301,
    "start_time": "2024-11-27T08:22:49.700Z"
   },
   {
    "duration": 109,
    "start_time": "2024-11-27T08:22:50.003Z"
   },
   {
    "duration": 87,
    "start_time": "2024-11-27T08:22:50.114Z"
   },
   {
    "duration": 162,
    "start_time": "2024-11-27T08:22:50.202Z"
   },
   {
    "duration": 486,
    "start_time": "2024-11-27T08:22:50.365Z"
   },
   {
    "duration": 20,
    "start_time": "2024-11-27T08:22:50.854Z"
   },
   {
    "duration": 355,
    "start_time": "2024-11-27T08:22:50.875Z"
   },
   {
    "duration": 17,
    "start_time": "2024-11-27T08:22:51.231Z"
   },
   {
    "duration": 89,
    "start_time": "2024-11-27T08:22:51.249Z"
   },
   {
    "duration": 200,
    "start_time": "2024-11-27T08:22:51.340Z"
   },
   {
    "duration": 404,
    "start_time": "2024-11-27T08:22:51.542Z"
   },
   {
    "duration": 67,
    "start_time": "2024-11-27T08:22:51.947Z"
   },
   {
    "duration": 80,
    "start_time": "2024-11-27T08:22:52.015Z"
   },
   {
    "duration": 64539,
    "start_time": "2024-11-27T08:22:52.096Z"
   },
   {
    "duration": 2091,
    "start_time": "2024-11-27T08:23:56.637Z"
   },
   {
    "duration": 1298,
    "start_time": "2024-11-27T08:23:58.729Z"
   },
   {
    "duration": 57,
    "start_time": "2024-11-27T08:24:00.029Z"
   },
   {
    "duration": 80,
    "start_time": "2024-11-27T08:24:00.087Z"
   },
   {
    "duration": 46,
    "start_time": "2024-11-27T08:24:00.168Z"
   },
   {
    "duration": 89,
    "start_time": "2024-11-27T08:24:00.216Z"
   },
   {
    "duration": 2,
    "start_time": "2024-11-27T08:24:00.306Z"
   },
   {
    "duration": 1434,
    "start_time": "2024-11-27T08:24:00.310Z"
   },
   {
    "duration": 3,
    "start_time": "2024-11-27T08:24:01.745Z"
   },
   {
    "duration": 5647,
    "start_time": "2024-11-27T08:24:01.751Z"
   },
   {
    "duration": 0,
    "start_time": "2024-11-27T08:24:07.399Z"
   },
   {
    "duration": 0,
    "start_time": "2024-11-27T08:24:07.401Z"
   },
   {
    "duration": 0,
    "start_time": "2024-11-27T08:24:07.402Z"
   },
   {
    "duration": 0,
    "start_time": "2024-11-27T08:24:07.403Z"
   },
   {
    "duration": 0,
    "start_time": "2024-11-27T08:24:07.405Z"
   },
   {
    "duration": 0,
    "start_time": "2024-11-27T08:24:07.406Z"
   },
   {
    "duration": 0,
    "start_time": "2024-11-27T08:24:07.408Z"
   },
   {
    "duration": 0,
    "start_time": "2024-11-27T08:24:07.409Z"
   },
   {
    "duration": 0,
    "start_time": "2024-11-27T08:24:07.410Z"
   },
   {
    "duration": 1380,
    "start_time": "2024-11-27T08:26:54.902Z"
   },
   {
    "duration": 888,
    "start_time": "2024-11-27T08:26:56.283Z"
   },
   {
    "duration": 7,
    "start_time": "2024-11-27T08:26:57.174Z"
   },
   {
    "duration": 69,
    "start_time": "2024-11-27T08:26:57.183Z"
   },
   {
    "duration": 54,
    "start_time": "2024-11-27T08:26:57.254Z"
   },
   {
    "duration": 38,
    "start_time": "2024-11-27T08:26:57.309Z"
   },
   {
    "duration": 20,
    "start_time": "2024-11-27T08:26:57.348Z"
   },
   {
    "duration": 103,
    "start_time": "2024-11-27T08:26:57.369Z"
   },
   {
    "duration": 31,
    "start_time": "2024-11-27T08:26:57.473Z"
   },
   {
    "duration": 343,
    "start_time": "2024-11-27T08:26:57.507Z"
   },
   {
    "duration": 16,
    "start_time": "2024-11-27T08:26:57.852Z"
   },
   {
    "duration": 76,
    "start_time": "2024-11-27T08:26:57.870Z"
   },
   {
    "duration": 188,
    "start_time": "2024-11-27T08:26:57.948Z"
   },
   {
    "duration": 357,
    "start_time": "2024-11-27T08:26:58.137Z"
   },
   {
    "duration": 63,
    "start_time": "2024-11-27T08:26:58.496Z"
   },
   {
    "duration": 28,
    "start_time": "2024-11-27T08:26:58.561Z"
   },
   {
    "duration": 65,
    "start_time": "2024-11-27T08:26:58.591Z"
   },
   {
    "duration": 57,
    "start_time": "2024-11-27T08:26:58.657Z"
   },
   {
    "duration": 18,
    "start_time": "2024-11-27T08:26:58.716Z"
   },
   {
    "duration": 60,
    "start_time": "2024-11-27T08:26:58.735Z"
   },
   {
    "duration": 2,
    "start_time": "2024-11-27T08:26:58.797Z"
   },
   {
    "duration": 149,
    "start_time": "2024-11-27T08:26:58.800Z"
   },
   {
    "duration": 3,
    "start_time": "2024-11-27T08:26:58.950Z"
   },
   {
    "duration": 5177,
    "start_time": "2024-11-27T08:26:58.954Z"
   },
   {
    "duration": 0,
    "start_time": "2024-11-27T08:27:04.133Z"
   },
   {
    "duration": 0,
    "start_time": "2024-11-27T08:27:04.134Z"
   },
   {
    "duration": 0,
    "start_time": "2024-11-27T08:27:04.135Z"
   },
   {
    "duration": 0,
    "start_time": "2024-11-27T08:27:04.137Z"
   },
   {
    "duration": 0,
    "start_time": "2024-11-27T08:27:04.137Z"
   },
   {
    "duration": 0,
    "start_time": "2024-11-27T08:27:04.138Z"
   },
   {
    "duration": 0,
    "start_time": "2024-11-27T08:27:04.139Z"
   },
   {
    "duration": 0,
    "start_time": "2024-11-27T08:27:04.140Z"
   },
   {
    "duration": 0,
    "start_time": "2024-11-27T08:27:04.141Z"
   },
   {
    "duration": 1353,
    "start_time": "2024-11-27T08:35:05.334Z"
   },
   {
    "duration": 878,
    "start_time": "2024-11-27T08:35:06.689Z"
   },
   {
    "duration": 5,
    "start_time": "2024-11-27T08:35:07.569Z"
   },
   {
    "duration": 85,
    "start_time": "2024-11-27T08:35:07.575Z"
   },
   {
    "duration": 87,
    "start_time": "2024-11-27T08:35:07.662Z"
   },
   {
    "duration": 30,
    "start_time": "2024-11-27T08:35:07.750Z"
   },
   {
    "duration": 32,
    "start_time": "2024-11-27T08:35:07.781Z"
   },
   {
    "duration": 94,
    "start_time": "2024-11-27T08:35:07.815Z"
   },
   {
    "duration": 50,
    "start_time": "2024-11-27T08:35:07.911Z"
   },
   {
    "duration": 350,
    "start_time": "2024-11-27T08:35:07.964Z"
   },
   {
    "duration": 18,
    "start_time": "2024-11-27T08:35:08.315Z"
   },
   {
    "duration": 51,
    "start_time": "2024-11-27T08:35:08.335Z"
   },
   {
    "duration": 192,
    "start_time": "2024-11-27T08:35:08.388Z"
   },
   {
    "duration": 333,
    "start_time": "2024-11-27T08:35:08.582Z"
   },
   {
    "duration": 60,
    "start_time": "2024-11-27T08:35:08.917Z"
   },
   {
    "duration": 45,
    "start_time": "2024-11-27T08:35:08.979Z"
   },
   {
    "duration": 56,
    "start_time": "2024-11-27T08:35:09.026Z"
   },
   {
    "duration": 65,
    "start_time": "2024-11-27T08:35:09.083Z"
   },
   {
    "duration": 19,
    "start_time": "2024-11-27T08:35:09.149Z"
   },
   {
    "duration": 61,
    "start_time": "2024-11-27T08:35:09.170Z"
   },
   {
    "duration": 2,
    "start_time": "2024-11-27T08:35:09.233Z"
   },
   {
    "duration": 217,
    "start_time": "2024-11-27T08:35:09.236Z"
   },
   {
    "duration": 3,
    "start_time": "2024-11-27T08:35:09.455Z"
   },
   {
    "duration": 1344,
    "start_time": "2024-11-27T08:40:28.843Z"
   },
   {
    "duration": 872,
    "start_time": "2024-11-27T08:40:30.189Z"
   },
   {
    "duration": 5,
    "start_time": "2024-11-27T08:40:31.062Z"
   },
   {
    "duration": 93,
    "start_time": "2024-11-27T08:40:31.069Z"
   },
   {
    "duration": 96,
    "start_time": "2024-11-27T08:40:31.164Z"
   },
   {
    "duration": 47,
    "start_time": "2024-11-27T08:40:31.262Z"
   },
   {
    "duration": 25,
    "start_time": "2024-11-27T08:40:31.311Z"
   },
   {
    "duration": 122,
    "start_time": "2024-11-27T08:40:31.337Z"
   },
   {
    "duration": 40,
    "start_time": "2024-11-27T08:40:31.460Z"
   },
   {
    "duration": 335,
    "start_time": "2024-11-27T08:40:31.504Z"
   },
   {
    "duration": 15,
    "start_time": "2024-11-27T08:40:31.841Z"
   },
   {
    "duration": 96,
    "start_time": "2024-11-27T08:40:31.857Z"
   },
   {
    "duration": 189,
    "start_time": "2024-11-27T08:40:31.954Z"
   },
   {
    "duration": 336,
    "start_time": "2024-11-27T08:40:32.145Z"
   },
   {
    "duration": 66,
    "start_time": "2024-11-27T08:40:32.482Z"
   },
   {
    "duration": 77,
    "start_time": "2024-11-27T08:40:32.550Z"
   },
   {
    "duration": 60,
    "start_time": "2024-11-27T08:40:32.629Z"
   },
   {
    "duration": 63,
    "start_time": "2024-11-27T08:40:32.690Z"
   },
   {
    "duration": 80,
    "start_time": "2024-11-27T08:40:32.755Z"
   },
   {
    "duration": 53,
    "start_time": "2024-11-27T08:40:32.837Z"
   },
   {
    "duration": 3,
    "start_time": "2024-11-27T08:40:32.892Z"
   },
   {
    "duration": 151,
    "start_time": "2024-11-27T08:40:32.897Z"
   },
   {
    "duration": 3,
    "start_time": "2024-11-27T08:40:33.050Z"
   },
   {
    "duration": 222811,
    "start_time": "2024-11-27T08:40:33.054Z"
   },
   {
    "duration": 113,
    "start_time": "2024-11-27T08:44:15.866Z"
   },
   {
    "duration": 0,
    "start_time": "2024-11-27T08:44:15.981Z"
   },
   {
    "duration": 0,
    "start_time": "2024-11-27T08:44:15.982Z"
   },
   {
    "duration": 0,
    "start_time": "2024-11-27T08:44:15.983Z"
   },
   {
    "duration": 0,
    "start_time": "2024-11-27T08:44:15.984Z"
   },
   {
    "duration": 0,
    "start_time": "2024-11-27T08:44:15.985Z"
   },
   {
    "duration": 0,
    "start_time": "2024-11-27T08:44:15.986Z"
   },
   {
    "duration": 0,
    "start_time": "2024-11-27T08:44:15.986Z"
   },
   {
    "duration": 0,
    "start_time": "2024-11-27T08:44:15.987Z"
   },
   {
    "duration": 1345,
    "start_time": "2024-11-27T08:54:04.030Z"
   },
   {
    "duration": 880,
    "start_time": "2024-11-27T08:54:05.377Z"
   },
   {
    "duration": 5,
    "start_time": "2024-11-27T08:54:06.259Z"
   },
   {
    "duration": 124,
    "start_time": "2024-11-27T08:54:06.265Z"
   },
   {
    "duration": 62,
    "start_time": "2024-11-27T08:54:06.390Z"
   },
   {
    "duration": 73,
    "start_time": "2024-11-27T08:54:06.453Z"
   },
   {
    "duration": 95,
    "start_time": "2024-11-27T08:54:06.527Z"
   },
   {
    "duration": 103,
    "start_time": "2024-11-27T08:54:06.623Z"
   },
   {
    "duration": 74,
    "start_time": "2024-11-27T08:54:06.727Z"
   },
   {
    "duration": 346,
    "start_time": "2024-11-27T08:54:06.804Z"
   },
   {
    "duration": 16,
    "start_time": "2024-11-27T08:54:07.152Z"
   },
   {
    "duration": 86,
    "start_time": "2024-11-27T08:54:07.169Z"
   },
   {
    "duration": 190,
    "start_time": "2024-11-27T08:54:07.257Z"
   },
   {
    "duration": 333,
    "start_time": "2024-11-27T08:54:07.448Z"
   },
   {
    "duration": 68,
    "start_time": "2024-11-27T08:54:07.782Z"
   },
   {
    "duration": 72,
    "start_time": "2024-11-27T08:54:07.852Z"
   },
   {
    "duration": 68,
    "start_time": "2024-11-27T08:54:07.925Z"
   },
   {
    "duration": 56,
    "start_time": "2024-11-27T08:54:07.995Z"
   },
   {
    "duration": 49,
    "start_time": "2024-11-27T08:54:08.052Z"
   },
   {
    "duration": 60,
    "start_time": "2024-11-27T08:54:08.102Z"
   },
   {
    "duration": 2,
    "start_time": "2024-11-27T08:54:08.164Z"
   },
   {
    "duration": 174,
    "start_time": "2024-11-27T08:54:08.168Z"
   },
   {
    "duration": 3,
    "start_time": "2024-11-27T08:54:08.344Z"
   },
   {
    "duration": 225182,
    "start_time": "2024-11-27T08:54:08.348Z"
   },
   {
    "duration": 323209,
    "start_time": "2024-11-27T08:57:53.533Z"
   },
   {
    "duration": 195382,
    "start_time": "2024-11-27T09:05:16.118Z"
   },
   {
    "duration": 37714,
    "start_time": "2024-11-27T09:08:31.501Z"
   },
   {
    "duration": 0,
    "start_time": "2024-11-27T09:09:09.217Z"
   },
   {
    "duration": 0,
    "start_time": "2024-11-27T09:09:09.218Z"
   },
   {
    "duration": 1395,
    "start_time": "2024-11-27T10:36:06.765Z"
   },
   {
    "duration": 889,
    "start_time": "2024-11-27T10:36:08.162Z"
   },
   {
    "duration": 5,
    "start_time": "2024-11-27T10:36:09.052Z"
   },
   {
    "duration": 77,
    "start_time": "2024-11-27T10:36:09.059Z"
   },
   {
    "duration": 60,
    "start_time": "2024-11-27T10:36:09.138Z"
   },
   {
    "duration": 38,
    "start_time": "2024-11-27T10:36:09.200Z"
   },
   {
    "duration": 18,
    "start_time": "2024-11-27T10:36:09.240Z"
   },
   {
    "duration": 143,
    "start_time": "2024-11-27T10:36:09.260Z"
   },
   {
    "duration": 21,
    "start_time": "2024-11-27T10:36:09.404Z"
   },
   {
    "duration": 324,
    "start_time": "2024-11-27T10:36:09.428Z"
   },
   {
    "duration": 16,
    "start_time": "2024-11-27T10:36:09.753Z"
   },
   {
    "duration": 75,
    "start_time": "2024-11-27T10:36:09.770Z"
   },
   {
    "duration": 189,
    "start_time": "2024-11-27T10:36:09.847Z"
   },
   {
    "duration": 332,
    "start_time": "2024-11-27T10:36:10.038Z"
   },
   {
    "duration": 66,
    "start_time": "2024-11-27T10:36:10.372Z"
   },
   {
    "duration": 54,
    "start_time": "2024-11-27T10:36:10.440Z"
   },
   {
    "duration": 59,
    "start_time": "2024-11-27T10:36:10.496Z"
   },
   {
    "duration": 57,
    "start_time": "2024-11-27T10:36:10.556Z"
   },
   {
    "duration": 13,
    "start_time": "2024-11-27T10:36:10.615Z"
   },
   {
    "duration": 80,
    "start_time": "2024-11-27T10:36:10.630Z"
   },
   {
    "duration": 5,
    "start_time": "2024-11-27T10:36:10.712Z"
   },
   {
    "duration": 150,
    "start_time": "2024-11-27T10:36:10.718Z"
   },
   {
    "duration": 2,
    "start_time": "2024-11-27T10:36:10.870Z"
   },
   {
    "duration": 140806,
    "start_time": "2024-11-27T10:36:10.873Z"
   },
   {
    "duration": 178164,
    "start_time": "2024-11-27T10:38:31.681Z"
   },
   {
    "duration": 88761,
    "start_time": "2024-11-27T10:41:29.846Z"
   },
   {
    "duration": 2,
    "start_time": "2024-11-27T10:42:58.609Z"
   },
   {
    "duration": 14312,
    "start_time": "2024-11-27T10:42:58.614Z"
   },
   {
    "duration": 81,
    "start_time": "2024-11-27T10:43:12.928Z"
   },
   {
    "duration": 193810,
    "start_time": "2024-11-27T10:43:13.011Z"
   },
   {
    "duration": 37349,
    "start_time": "2024-11-27T10:46:26.823Z"
   },
   {
    "duration": 0,
    "start_time": "2024-11-27T10:47:04.173Z"
   },
   {
    "duration": 0,
    "start_time": "2024-11-27T10:47:04.175Z"
   },
   {
    "duration": 173357,
    "start_time": "2024-11-27T10:53:04.089Z"
   },
   {
    "duration": 38160,
    "start_time": "2024-11-27T10:55:57.447Z"
   },
   {
    "duration": 7667,
    "start_time": "2024-11-27T10:58:25.951Z"
   },
   {
    "duration": 5,
    "start_time": "2024-11-27T10:58:37.636Z"
   },
   {
    "duration": 1386,
    "start_time": "2024-11-27T11:17:45.062Z"
   },
   {
    "duration": 879,
    "start_time": "2024-11-27T11:17:46.450Z"
   },
   {
    "duration": 6,
    "start_time": "2024-11-27T11:17:47.330Z"
   },
   {
    "duration": 68,
    "start_time": "2024-11-27T11:17:47.337Z"
   },
   {
    "duration": 54,
    "start_time": "2024-11-27T11:17:47.407Z"
   },
   {
    "duration": 49,
    "start_time": "2024-11-27T11:17:47.462Z"
   },
   {
    "duration": 44,
    "start_time": "2024-11-27T11:17:47.512Z"
   },
   {
    "duration": 101,
    "start_time": "2024-11-27T11:17:47.558Z"
   },
   {
    "duration": 22,
    "start_time": "2024-11-27T11:17:47.661Z"
   },
   {
    "duration": 326,
    "start_time": "2024-11-27T11:17:47.685Z"
   },
   {
    "duration": 16,
    "start_time": "2024-11-27T11:17:48.012Z"
   },
   {
    "duration": 64,
    "start_time": "2024-11-27T11:17:48.030Z"
   },
   {
    "duration": 197,
    "start_time": "2024-11-27T11:17:48.096Z"
   },
   {
    "duration": 338,
    "start_time": "2024-11-27T11:17:48.295Z"
   },
   {
    "duration": 60,
    "start_time": "2024-11-27T11:17:48.635Z"
   },
   {
    "duration": 24,
    "start_time": "2024-11-27T11:17:48.697Z"
   },
   {
    "duration": 55,
    "start_time": "2024-11-27T11:17:48.722Z"
   },
   {
    "duration": 71,
    "start_time": "2024-11-27T11:17:48.778Z"
   },
   {
    "duration": 28,
    "start_time": "2024-11-27T11:17:48.851Z"
   },
   {
    "duration": 48,
    "start_time": "2024-11-27T11:17:48.880Z"
   },
   {
    "duration": 3,
    "start_time": "2024-11-27T11:17:48.930Z"
   },
   {
    "duration": 139,
    "start_time": "2024-11-27T11:17:48.934Z"
   },
   {
    "duration": 0,
    "start_time": "2024-11-27T11:17:49.074Z"
   },
   {
    "duration": 0,
    "start_time": "2024-11-27T11:17:49.076Z"
   },
   {
    "duration": 0,
    "start_time": "2024-11-27T11:17:49.077Z"
   },
   {
    "duration": 0,
    "start_time": "2024-11-27T11:17:49.078Z"
   },
   {
    "duration": 0,
    "start_time": "2024-11-27T11:17:49.078Z"
   },
   {
    "duration": 0,
    "start_time": "2024-11-27T11:17:49.079Z"
   },
   {
    "duration": 0,
    "start_time": "2024-11-27T11:17:49.080Z"
   },
   {
    "duration": 0,
    "start_time": "2024-11-27T11:17:49.081Z"
   },
   {
    "duration": 0,
    "start_time": "2024-11-27T11:17:49.082Z"
   },
   {
    "duration": 0,
    "start_time": "2024-11-27T11:17:49.083Z"
   },
   {
    "duration": 0,
    "start_time": "2024-11-27T11:17:49.084Z"
   },
   {
    "duration": 1427,
    "start_time": "2024-11-27T11:18:21.830Z"
   },
   {
    "duration": 867,
    "start_time": "2024-11-27T11:18:23.259Z"
   },
   {
    "duration": 5,
    "start_time": "2024-11-27T11:18:24.127Z"
   },
   {
    "duration": 71,
    "start_time": "2024-11-27T11:18:24.133Z"
   },
   {
    "duration": 44,
    "start_time": "2024-11-27T11:18:24.205Z"
   },
   {
    "duration": 44,
    "start_time": "2024-11-27T11:18:24.250Z"
   },
   {
    "duration": 8,
    "start_time": "2024-11-27T11:18:24.295Z"
   },
   {
    "duration": 93,
    "start_time": "2024-11-27T11:18:24.304Z"
   },
   {
    "duration": 37,
    "start_time": "2024-11-27T11:18:24.398Z"
   },
   {
    "duration": 316,
    "start_time": "2024-11-27T11:18:24.437Z"
   },
   {
    "duration": 16,
    "start_time": "2024-11-27T11:18:24.754Z"
   },
   {
    "duration": 65,
    "start_time": "2024-11-27T11:18:24.771Z"
   },
   {
    "duration": 185,
    "start_time": "2024-11-27T11:18:24.837Z"
   },
   {
    "duration": 393,
    "start_time": "2024-11-27T11:18:25.024Z"
   },
   {
    "duration": 79,
    "start_time": "2024-11-27T11:18:25.418Z"
   },
   {
    "duration": 23,
    "start_time": "2024-11-27T11:18:25.498Z"
   },
   {
    "duration": 65,
    "start_time": "2024-11-27T11:18:25.523Z"
   },
   {
    "duration": 55,
    "start_time": "2024-11-27T11:18:25.589Z"
   },
   {
    "duration": 28,
    "start_time": "2024-11-27T11:18:25.646Z"
   },
   {
    "duration": 43,
    "start_time": "2024-11-27T11:18:25.675Z"
   },
   {
    "duration": 2,
    "start_time": "2024-11-27T11:18:25.720Z"
   },
   {
    "duration": 141,
    "start_time": "2024-11-27T11:18:25.724Z"
   },
   {
    "duration": 2,
    "start_time": "2024-11-27T11:18:25.866Z"
   },
   {
    "duration": 181794,
    "start_time": "2024-11-27T11:18:25.870Z"
   },
   {
    "duration": 388,
    "start_time": "2024-11-27T11:21:27.665Z"
   },
   {
    "duration": 0,
    "start_time": "2024-11-27T11:21:28.055Z"
   },
   {
    "duration": 0,
    "start_time": "2024-11-27T11:21:28.056Z"
   },
   {
    "duration": 0,
    "start_time": "2024-11-27T11:21:28.056Z"
   },
   {
    "duration": 0,
    "start_time": "2024-11-27T11:21:28.057Z"
   },
   {
    "duration": 0,
    "start_time": "2024-11-27T11:21:28.058Z"
   },
   {
    "duration": 0,
    "start_time": "2024-11-27T11:21:28.059Z"
   },
   {
    "duration": 0,
    "start_time": "2024-11-27T11:21:28.060Z"
   },
   {
    "duration": 0,
    "start_time": "2024-11-27T11:21:28.060Z"
   },
   {
    "duration": 1365,
    "start_time": "2024-11-27T11:23:03.059Z"
   },
   {
    "duration": 887,
    "start_time": "2024-11-27T11:23:04.438Z"
   },
   {
    "duration": 5,
    "start_time": "2024-11-27T11:23:05.326Z"
   },
   {
    "duration": 69,
    "start_time": "2024-11-27T11:23:05.333Z"
   },
   {
    "duration": 56,
    "start_time": "2024-11-27T11:23:05.403Z"
   },
   {
    "duration": 82,
    "start_time": "2024-11-27T11:23:05.461Z"
   },
   {
    "duration": 39,
    "start_time": "2024-11-27T11:23:05.544Z"
   },
   {
    "duration": 140,
    "start_time": "2024-11-27T11:23:05.584Z"
   },
   {
    "duration": 19,
    "start_time": "2024-11-27T11:23:05.725Z"
   },
   {
    "duration": 329,
    "start_time": "2024-11-27T11:23:05.747Z"
   },
   {
    "duration": 15,
    "start_time": "2024-11-27T11:23:06.078Z"
   },
   {
    "duration": 67,
    "start_time": "2024-11-27T11:23:06.094Z"
   },
   {
    "duration": 176,
    "start_time": "2024-11-27T11:23:06.162Z"
   },
   {
    "duration": 343,
    "start_time": "2024-11-27T11:23:06.340Z"
   },
   {
    "duration": 63,
    "start_time": "2024-11-27T11:23:06.684Z"
   },
   {
    "duration": 21,
    "start_time": "2024-11-27T11:23:06.749Z"
   },
   {
    "duration": 88,
    "start_time": "2024-11-27T11:23:06.771Z"
   },
   {
    "duration": 59,
    "start_time": "2024-11-27T11:23:06.861Z"
   },
   {
    "duration": 12,
    "start_time": "2024-11-27T11:23:06.922Z"
   },
   {
    "duration": 43,
    "start_time": "2024-11-27T11:23:06.936Z"
   },
   {
    "duration": 3,
    "start_time": "2024-11-27T11:23:06.981Z"
   },
   {
    "duration": 161,
    "start_time": "2024-11-27T11:23:06.985Z"
   },
   {
    "duration": 3,
    "start_time": "2024-11-27T11:23:07.148Z"
   },
   {
    "duration": 183108,
    "start_time": "2024-11-27T11:23:07.153Z"
   },
   {
    "duration": 255601,
    "start_time": "2024-11-27T11:26:10.263Z"
   },
   {
    "duration": 73447,
    "start_time": "2024-11-27T11:30:25.866Z"
   },
   {
    "duration": 3,
    "start_time": "2024-11-27T11:31:39.315Z"
   },
   {
    "duration": 18609,
    "start_time": "2024-11-27T11:31:39.321Z"
   },
   {
    "duration": 77,
    "start_time": "2024-11-27T11:31:57.933Z"
   },
   {
    "duration": 248,
    "start_time": "2024-11-27T11:31:58.011Z"
   },
   {
    "duration": 2013,
    "start_time": "2024-11-27T11:31:58.260Z"
   },
   {
    "duration": 4154,
    "start_time": "2024-11-27T11:32:00.275Z"
   },
   {
    "duration": 6,
    "start_time": "2024-11-27T11:32:04.431Z"
   },
   {
    "duration": 1531,
    "start_time": "2024-11-27T17:01:46.410Z"
   },
   {
    "duration": 843,
    "start_time": "2024-11-27T17:01:47.942Z"
   },
   {
    "duration": 5,
    "start_time": "2024-11-27T17:01:48.787Z"
   },
   {
    "duration": 61,
    "start_time": "2024-11-27T17:01:48.794Z"
   },
   {
    "duration": 57,
    "start_time": "2024-11-27T17:01:48.856Z"
   },
   {
    "duration": 26,
    "start_time": "2024-11-27T17:01:48.915Z"
   },
   {
    "duration": 14,
    "start_time": "2024-11-27T17:01:48.943Z"
   },
   {
    "duration": 79,
    "start_time": "2024-11-27T17:01:48.958Z"
   },
   {
    "duration": 546,
    "start_time": "2024-11-27T17:01:49.040Z"
   },
   {
    "duration": 28,
    "start_time": "2024-11-27T17:01:49.589Z"
   },
   {
    "duration": 356,
    "start_time": "2024-11-27T17:01:49.618Z"
   },
   {
    "duration": 18,
    "start_time": "2024-11-27T17:01:49.975Z"
   },
   {
    "duration": 52,
    "start_time": "2024-11-27T17:01:50.006Z"
   },
   {
    "duration": 193,
    "start_time": "2024-11-27T17:01:50.059Z"
   },
   {
    "duration": 335,
    "start_time": "2024-11-27T17:01:50.254Z"
   },
   {
    "duration": 62,
    "start_time": "2024-11-27T17:01:50.590Z"
   },
   {
    "duration": 38,
    "start_time": "2024-11-27T17:01:50.654Z"
   },
   {
    "duration": 64743,
    "start_time": "2024-11-27T17:01:50.694Z"
   },
   {
    "duration": 2115,
    "start_time": "2024-11-27T17:02:55.439Z"
   },
   {
    "duration": 1325,
    "start_time": "2024-11-27T17:02:57.555Z"
   },
   {
    "duration": 65,
    "start_time": "2024-11-27T17:02:58.882Z"
   },
   {
    "duration": 71,
    "start_time": "2024-11-27T17:02:58.949Z"
   },
   {
    "duration": 48,
    "start_time": "2024-11-27T17:02:59.021Z"
   },
   {
    "duration": 49,
    "start_time": "2024-11-27T17:02:59.071Z"
   },
   {
    "duration": 15,
    "start_time": "2024-11-27T17:02:59.122Z"
   },
   {
    "duration": 1360,
    "start_time": "2024-11-27T17:02:59.139Z"
   },
   {
    "duration": 6,
    "start_time": "2024-11-27T17:03:00.501Z"
   },
   {
    "duration": 187428,
    "start_time": "2024-11-27T17:03:00.511Z"
   },
   {
    "duration": 263812,
    "start_time": "2024-11-27T17:06:07.941Z"
   },
   {
    "duration": 79853,
    "start_time": "2024-11-27T17:10:31.755Z"
   },
   {
    "duration": 3,
    "start_time": "2024-11-27T17:11:51.610Z"
   },
   {
    "duration": 17295,
    "start_time": "2024-11-27T17:11:51.614Z"
   },
   {
    "duration": 7,
    "start_time": "2024-11-27T17:12:08.911Z"
   },
   {
    "duration": 53319,
    "start_time": "2024-11-27T17:12:08.919Z"
   },
   {
    "duration": 38286,
    "start_time": "2024-11-27T17:13:02.240Z"
   },
   {
    "duration": 16995,
    "start_time": "2024-11-27T17:13:40.528Z"
   },
   {
    "duration": 88,
    "start_time": "2024-11-27T17:13:57.525Z"
   },
   {
    "duration": 1595,
    "start_time": "2024-12-06T11:16:51.281Z"
   },
   {
    "duration": 3059,
    "start_time": "2024-12-06T11:16:52.878Z"
   },
   {
    "duration": 5,
    "start_time": "2024-12-06T11:16:55.939Z"
   },
   {
    "duration": 55,
    "start_time": "2024-12-06T11:16:55.945Z"
   },
   {
    "duration": 65,
    "start_time": "2024-12-06T11:16:56.002Z"
   },
   {
    "duration": 27,
    "start_time": "2024-12-06T11:16:56.068Z"
   },
   {
    "duration": 18,
    "start_time": "2024-12-06T11:16:56.097Z"
   },
   {
    "duration": 105,
    "start_time": "2024-12-06T11:16:56.117Z"
   },
   {
    "duration": 527,
    "start_time": "2024-12-06T11:16:56.224Z"
   },
   {
    "duration": 23,
    "start_time": "2024-12-06T11:16:56.753Z"
   },
   {
    "duration": 355,
    "start_time": "2024-12-06T11:16:56.778Z"
   },
   {
    "duration": 20,
    "start_time": "2024-12-06T11:16:57.135Z"
   },
   {
    "duration": 58,
    "start_time": "2024-12-06T11:16:57.157Z"
   },
   {
    "duration": 200,
    "start_time": "2024-12-06T11:16:57.232Z"
   },
   {
    "duration": 377,
    "start_time": "2024-12-06T11:16:57.434Z"
   },
   {
    "duration": 107,
    "start_time": "2024-12-06T11:16:57.814Z"
   },
   {
    "duration": 22,
    "start_time": "2024-12-06T11:16:57.923Z"
   },
   {
    "duration": 79099,
    "start_time": "2024-12-06T11:16:57.946Z"
   },
   {
    "duration": 2469,
    "start_time": "2024-12-06T11:18:17.047Z"
   },
   {
    "duration": 1392,
    "start_time": "2024-12-06T11:18:19.518Z"
   },
   {
    "duration": 67,
    "start_time": "2024-12-06T11:18:20.912Z"
   },
   {
    "duration": 82,
    "start_time": "2024-12-06T11:18:20.981Z"
   },
   {
    "duration": 13,
    "start_time": "2024-12-06T11:18:21.064Z"
   },
   {
    "duration": 71,
    "start_time": "2024-12-06T11:18:21.078Z"
   },
   {
    "duration": 2,
    "start_time": "2024-12-06T11:18:21.151Z"
   },
   {
    "duration": 1580,
    "start_time": "2024-12-06T11:18:21.155Z"
   },
   {
    "duration": 3,
    "start_time": "2024-12-06T11:18:22.737Z"
   },
   {
    "duration": 165694,
    "start_time": "2024-12-06T11:18:22.741Z"
   },
   {
    "duration": 0,
    "start_time": "2024-12-06T11:21:08.437Z"
   },
   {
    "duration": 0,
    "start_time": "2024-12-06T11:21:08.439Z"
   },
   {
    "duration": 0,
    "start_time": "2024-12-06T11:21:08.440Z"
   },
   {
    "duration": 0,
    "start_time": "2024-12-06T11:21:08.442Z"
   },
   {
    "duration": 0,
    "start_time": "2024-12-06T11:21:08.444Z"
   },
   {
    "duration": 0,
    "start_time": "2024-12-06T11:21:08.445Z"
   },
   {
    "duration": 0,
    "start_time": "2024-12-06T11:21:08.446Z"
   },
   {
    "duration": 0,
    "start_time": "2024-12-06T11:21:08.448Z"
   },
   {
    "duration": 0,
    "start_time": "2024-12-06T11:21:08.449Z"
   },
   {
    "duration": 2,
    "start_time": "2024-12-06T11:21:30.014Z"
   },
   {
    "duration": 7523,
    "start_time": "2024-12-06T11:21:35.331Z"
   },
   {
    "duration": 8,
    "start_time": "2024-12-06T11:22:09.654Z"
   },
   {
    "duration": 989,
    "start_time": "2024-12-06T11:22:09.664Z"
   },
   {
    "duration": 5,
    "start_time": "2024-12-06T11:22:10.655Z"
   },
   {
    "duration": 56,
    "start_time": "2024-12-06T11:22:10.662Z"
   },
   {
    "duration": 36,
    "start_time": "2024-12-06T11:22:10.720Z"
   },
   {
    "duration": 20,
    "start_time": "2024-12-06T11:22:10.757Z"
   },
   {
    "duration": 4,
    "start_time": "2024-12-06T11:22:10.779Z"
   },
   {
    "duration": 121,
    "start_time": "2024-12-06T11:22:10.785Z"
   },
   {
    "duration": 489,
    "start_time": "2024-12-06T11:22:10.908Z"
   },
   {
    "duration": 23,
    "start_time": "2024-12-06T11:22:11.398Z"
   },
   {
    "duration": 347,
    "start_time": "2024-12-06T11:22:11.422Z"
   },
   {
    "duration": 22,
    "start_time": "2024-12-06T11:22:11.771Z"
   },
   {
    "duration": 74,
    "start_time": "2024-12-06T11:22:11.795Z"
   },
   {
    "duration": 181,
    "start_time": "2024-12-06T11:22:11.872Z"
   },
   {
    "duration": 355,
    "start_time": "2024-12-06T11:22:12.055Z"
   },
   {
    "duration": 92,
    "start_time": "2024-12-06T11:22:12.412Z"
   },
   {
    "duration": 29,
    "start_time": "2024-12-06T11:22:12.506Z"
   },
   {
    "duration": 77606,
    "start_time": "2024-12-06T11:22:12.537Z"
   },
   {
    "duration": 2381,
    "start_time": "2024-12-06T11:23:30.145Z"
   },
   {
    "duration": 1378,
    "start_time": "2024-12-06T11:23:32.531Z"
   },
   {
    "duration": 61,
    "start_time": "2024-12-06T11:23:33.911Z"
   },
   {
    "duration": 81,
    "start_time": "2024-12-06T11:23:33.974Z"
   },
   {
    "duration": 14,
    "start_time": "2024-12-06T11:23:34.056Z"
   },
   {
    "duration": 65,
    "start_time": "2024-12-06T11:23:34.072Z"
   },
   {
    "duration": 2,
    "start_time": "2024-12-06T11:23:34.139Z"
   },
   {
    "duration": 158,
    "start_time": "2024-12-06T11:23:34.142Z"
   },
   {
    "duration": 3,
    "start_time": "2024-12-06T11:23:34.302Z"
   },
   {
    "duration": 52,
    "start_time": "2024-12-06T11:23:34.307Z"
   },
   {
    "duration": 44712,
    "start_time": "2024-12-06T11:23:59.327Z"
   },
   {
    "duration": 1489,
    "start_time": "2024-12-06T11:24:52.158Z"
   },
   {
    "duration": 1049,
    "start_time": "2024-12-06T11:24:53.649Z"
   },
   {
    "duration": 7,
    "start_time": "2024-12-06T11:24:54.700Z"
   },
   {
    "duration": 69,
    "start_time": "2024-12-06T11:24:54.709Z"
   },
   {
    "duration": 62,
    "start_time": "2024-12-06T11:24:54.781Z"
   },
   {
    "duration": 58,
    "start_time": "2024-12-06T11:24:54.844Z"
   },
   {
    "duration": 9,
    "start_time": "2024-12-06T11:24:54.904Z"
   },
   {
    "duration": 108,
    "start_time": "2024-12-06T11:24:54.915Z"
   },
   {
    "duration": 513,
    "start_time": "2024-12-06T11:24:55.033Z"
   },
   {
    "duration": 24,
    "start_time": "2024-12-06T11:24:55.547Z"
   },
   {
    "duration": 370,
    "start_time": "2024-12-06T11:24:55.573Z"
   },
   {
    "duration": 21,
    "start_time": "2024-12-06T11:24:55.945Z"
   },
   {
    "duration": 76,
    "start_time": "2024-12-06T11:24:55.968Z"
   },
   {
    "duration": 201,
    "start_time": "2024-12-06T11:24:56.047Z"
   },
   {
    "duration": 368,
    "start_time": "2024-12-06T11:24:56.250Z"
   },
   {
    "duration": 95,
    "start_time": "2024-12-06T11:24:56.619Z"
   },
   {
    "duration": 27,
    "start_time": "2024-12-06T11:24:56.715Z"
   },
   {
    "duration": 78290,
    "start_time": "2024-12-06T11:24:56.744Z"
   },
   {
    "duration": 2365,
    "start_time": "2024-12-06T11:26:15.036Z"
   },
   {
    "duration": 1400,
    "start_time": "2024-12-06T11:26:17.403Z"
   },
   {
    "duration": 65,
    "start_time": "2024-12-06T11:26:18.805Z"
   },
   {
    "duration": 84,
    "start_time": "2024-12-06T11:26:18.871Z"
   },
   {
    "duration": 12,
    "start_time": "2024-12-06T11:26:18.956Z"
   },
   {
    "duration": 66,
    "start_time": "2024-12-06T11:26:18.970Z"
   },
   {
    "duration": 3,
    "start_time": "2024-12-06T11:26:19.037Z"
   },
   {
    "duration": 1571,
    "start_time": "2024-12-06T11:26:19.042Z"
   },
   {
    "duration": 3,
    "start_time": "2024-12-06T11:26:20.614Z"
   },
   {
    "duration": 7,
    "start_time": "2024-12-06T11:26:20.618Z"
   },
   {
    "duration": 173830,
    "start_time": "2024-12-06T11:26:37.477Z"
   },
   {
    "duration": 253511,
    "start_time": "2024-12-06T11:30:12.646Z"
   },
   {
    "duration": 41602,
    "start_time": "2024-12-06T11:39:10.539Z"
   },
   {
    "duration": 3,
    "start_time": "2024-12-06T11:40:32.286Z"
   },
   {
    "duration": 8681,
    "start_time": "2024-12-06T11:40:36.968Z"
   },
   {
    "duration": 7,
    "start_time": "2024-12-06T11:42:48.982Z"
   },
   {
    "duration": 49363,
    "start_time": "2024-12-06T11:42:51.390Z"
   },
   {
    "duration": 38993,
    "start_time": "2024-12-06T11:43:40.755Z"
   },
   {
    "duration": 12219,
    "start_time": "2024-12-06T11:44:19.750Z"
   },
   {
    "duration": 9,
    "start_time": "2024-12-06T11:44:31.971Z"
   },
   {
    "duration": 1620,
    "start_time": "2024-12-06T15:31:15.916Z"
   },
   {
    "duration": 1259,
    "start_time": "2024-12-06T15:31:17.538Z"
   },
   {
    "duration": 5,
    "start_time": "2024-12-06T15:31:18.798Z"
   },
   {
    "duration": 55,
    "start_time": "2024-12-06T15:31:18.805Z"
   },
   {
    "duration": 43,
    "start_time": "2024-12-06T15:31:18.862Z"
   },
   {
    "duration": 39,
    "start_time": "2024-12-06T15:31:18.907Z"
   },
   {
    "duration": 5,
    "start_time": "2024-12-06T15:31:18.948Z"
   },
   {
    "duration": 99,
    "start_time": "2024-12-06T15:31:18.954Z"
   },
   {
    "duration": 545,
    "start_time": "2024-12-06T15:31:19.055Z"
   },
   {
    "duration": 26,
    "start_time": "2024-12-06T15:31:19.601Z"
   },
   {
    "duration": 325,
    "start_time": "2024-12-06T15:31:19.628Z"
   },
   {
    "duration": 21,
    "start_time": "2024-12-06T15:31:19.954Z"
   },
   {
    "duration": 65,
    "start_time": "2024-12-06T15:31:19.976Z"
   },
   {
    "duration": 190,
    "start_time": "2024-12-06T15:31:20.044Z"
   },
   {
    "duration": 381,
    "start_time": "2024-12-06T15:31:20.236Z"
   },
   {
    "duration": 84,
    "start_time": "2024-12-06T15:31:20.619Z"
   },
   {
    "duration": 23,
    "start_time": "2024-12-06T15:31:20.705Z"
   },
   {
    "duration": 70234,
    "start_time": "2024-12-06T15:31:20.730Z"
   },
   {
    "duration": 2245,
    "start_time": "2024-12-06T15:32:30.966Z"
   },
   {
    "duration": 1290,
    "start_time": "2024-12-06T15:32:33.213Z"
   },
   {
    "duration": 62,
    "start_time": "2024-12-06T15:32:34.505Z"
   },
   {
    "duration": 105,
    "start_time": "2024-12-06T15:32:34.568Z"
   },
   {
    "duration": 26,
    "start_time": "2024-12-06T15:32:34.675Z"
   },
   {
    "duration": 46,
    "start_time": "2024-12-06T15:32:34.702Z"
   },
   {
    "duration": 3,
    "start_time": "2024-12-06T15:32:34.749Z"
   },
   {
    "duration": 1398,
    "start_time": "2024-12-06T15:32:34.753Z"
   },
   {
    "duration": 3,
    "start_time": "2024-12-06T15:32:36.152Z"
   },
   {
    "duration": 8,
    "start_time": "2024-12-06T15:32:36.156Z"
   },
   {
    "duration": 161934,
    "start_time": "2024-12-06T15:32:36.166Z"
   },
   {
    "duration": 240149,
    "start_time": "2024-12-06T15:35:18.102Z"
   },
   {
    "duration": 39279,
    "start_time": "2024-12-06T15:39:18.253Z"
   },
   {
    "duration": 2,
    "start_time": "2024-12-06T15:39:57.534Z"
   },
   {
    "duration": 10895,
    "start_time": "2024-12-06T15:39:57.538Z"
   },
   {
    "duration": 5,
    "start_time": "2024-12-06T15:44:16.370Z"
   },
   {
    "duration": 45513,
    "start_time": "2024-12-06T15:44:42.807Z"
   },
   {
    "duration": 34383,
    "start_time": "2024-12-06T15:45:43.234Z"
   },
   {
    "duration": 7311,
    "start_time": "2024-12-06T15:46:18.728Z"
   },
   {
    "duration": 7,
    "start_time": "2024-12-06T15:46:27.713Z"
   },
   {
    "duration": 4,
    "start_time": "2024-12-06T15:48:22.799Z"
   },
   {
    "duration": 11243,
    "start_time": "2024-12-06T15:48:55.506Z"
   },
   {
    "duration": 105,
    "start_time": "2024-12-06T15:49:28.142Z"
   },
   {
    "duration": 4,
    "start_time": "2024-12-06T15:49:34.130Z"
   },
   {
    "duration": 11284,
    "start_time": "2024-12-06T15:49:37.850Z"
   },
   {
    "duration": 1775,
    "start_time": "2024-12-06T20:24:29.427Z"
   },
   {
    "duration": 3327,
    "start_time": "2024-12-06T20:24:31.204Z"
   },
   {
    "duration": 7,
    "start_time": "2024-12-06T20:24:34.533Z"
   },
   {
    "duration": 141,
    "start_time": "2024-12-06T20:24:34.542Z"
   },
   {
    "duration": 55,
    "start_time": "2024-12-06T20:24:34.690Z"
   },
   {
    "duration": 62,
    "start_time": "2024-12-06T20:24:34.747Z"
   },
   {
    "duration": 4,
    "start_time": "2024-12-06T20:24:34.812Z"
   },
   {
    "duration": 140,
    "start_time": "2024-12-06T20:24:34.817Z"
   },
   {
    "duration": 623,
    "start_time": "2024-12-06T20:24:34.958Z"
   },
   {
    "duration": 33,
    "start_time": "2024-12-06T20:24:35.583Z"
   },
   {
    "duration": 459,
    "start_time": "2024-12-06T20:24:35.618Z"
   },
   {
    "duration": 32,
    "start_time": "2024-12-06T20:24:36.080Z"
   },
   {
    "duration": 147,
    "start_time": "2024-12-06T20:24:36.114Z"
   },
   {
    "duration": 244,
    "start_time": "2024-12-06T20:24:36.264Z"
   },
   {
    "duration": 475,
    "start_time": "2024-12-06T20:24:36.509Z"
   },
   {
    "duration": 112,
    "start_time": "2024-12-06T20:24:36.989Z"
   },
   {
    "duration": 18,
    "start_time": "2024-12-06T20:24:37.103Z"
   },
   {
    "duration": 81786,
    "start_time": "2024-12-06T20:24:37.123Z"
   },
   {
    "duration": 2618,
    "start_time": "2024-12-06T20:25:58.911Z"
   },
   {
    "duration": 1568,
    "start_time": "2024-12-06T20:26:01.531Z"
   },
   {
    "duration": 61,
    "start_time": "2024-12-06T20:26:03.101Z"
   },
   {
    "duration": 96,
    "start_time": "2024-12-06T20:26:03.163Z"
   },
   {
    "duration": 29,
    "start_time": "2024-12-06T20:26:03.261Z"
   },
   {
    "duration": 49,
    "start_time": "2024-12-06T20:26:03.291Z"
   },
   {
    "duration": 3,
    "start_time": "2024-12-06T20:26:03.342Z"
   },
   {
    "duration": 1515,
    "start_time": "2024-12-06T20:26:03.346Z"
   },
   {
    "duration": 12,
    "start_time": "2024-12-06T20:26:04.863Z"
   },
   {
    "duration": 191835,
    "start_time": "2024-12-06T20:26:04.879Z"
   },
   {
    "duration": 284834,
    "start_time": "2024-12-06T20:29:16.716Z"
   }
  ],
  "kernelspec": {
   "display_name": "Python 3 (ipykernel)",
   "language": "python",
   "name": "python3"
  },
  "language_info": {
   "codemirror_mode": {
    "name": "ipython",
    "version": 3
   },
   "file_extension": ".py",
   "mimetype": "text/x-python",
   "name": "python",
   "nbconvert_exporter": "python",
   "pygments_lexer": "ipython3",
   "version": "3.12.7"
  },
  "toc": {
   "base_numbering": 1,
   "nav_menu": {},
   "number_sections": true,
   "sideBar": true,
   "skip_h1_title": true,
   "title_cell": "Table of Contents",
   "title_sidebar": "Contents",
   "toc_cell": false,
   "toc_position": {
    "height": "calc(100% - 180px)",
    "left": "10px",
    "top": "150px",
    "width": "165px"
   },
   "toc_section_display": true,
   "toc_window_display": true
  }
 },
 "nbformat": 4,
 "nbformat_minor": 4
}
