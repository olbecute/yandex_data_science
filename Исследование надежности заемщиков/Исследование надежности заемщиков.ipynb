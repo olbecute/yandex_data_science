{
 "cells": [
  {
   "cell_type": "markdown",
   "id": "3ed1e8c3-1484-46ee-9499-9b1d696b0277",
   "metadata": {},
   "source": [
    "# Исследование надежности заемщиков"
   ]
  },
  {
   "cell_type": "markdown",
   "id": "4cfb298b-405e-4ffa-a87f-115280aa3cf7",
   "metadata": {},
   "source": [
    "На основе данных от кредитного отдела банка о платежеспособности клиентов, провести статистический анализ и выявить влияют ли на возврат кредита, такие факторы как: наличие детей, семейное положение, доход, цели кредита. Необходимо собрать портрет надежного заемщика.\n",
    "\n",
    "**Цель проекта:**\n",
    "\n",
    "Проведение статистического анализа данных о заемщиках для определения влияния таких факторов, как наличие детей, семейное положение, уровень дохода и цели кредита, на возврат кредита в срок. "
   ]
  },
  {
   "cell_type": "markdown",
   "id": "5049daf8-2609-484f-8d07-892e150b219b",
   "metadata": {},
   "source": [
    "* children — количество детей в семье\n",
    "* days_employed — общий трудовой стаж в днях\n",
    "* dob_years — возраст клиента в годах\n",
    "* education — уровень образования клиента\n",
    "* education_id — идентификатор уровня образования\n",
    "* family_status — семейное положение\n",
    "* family_status_id — идентификатор семейного положения\n",
    "* gender — пол клиента\n",
    "* income_type — тип занятости\n",
    "* debt — имел ли задолженность по возврату кредитов\n",
    "* total_income — ежемесячный доход\n",
    "* purpose — цель получения кредита"
   ]
  },
  {
   "cell_type": "code",
   "execution_count": 4,
   "id": "120665e0-c200-4e2c-ad53-d68dd93df592",
   "metadata": {},
   "outputs": [],
   "source": [
    "# импортируйте библиотеку pandas\n",
    "\n",
    "import pandas as pd"
   ]
  },
  {
   "cell_type": "code",
   "execution_count": 5,
   "id": "a71723a2-48f5-4ee4-9b19-ee0c7e523eb7",
   "metadata": {},
   "outputs": [],
   "source": [
    "# Функция общей информации датафрейма\n",
    "\n",
    "def info(df):\n",
    "    display(df.head(5))\n",
    "    print()\n",
    "    print('-' * 150)\n",
    "    print()\n",
    "    print('Общая информация:')\n",
    "    display(df.info())\n",
    "    print()\n",
    "    print('-' * 150)\n",
    "    print()\n",
    "    display(df.describe())\n",
    "    print()\n",
    "    print('-' * 150)\n",
    "    print()\n",
    "    print('Количество пропусков для каждого столбца:')\n",
    "    display(df.isnull().sum())"
   ]
  },
  {
   "cell_type": "code",
   "execution_count": 6,
   "id": "219c1560-4017-4f16-b784-ff79f7a63eb2",
   "metadata": {},
   "outputs": [],
   "source": [
    "# Создаем функцию для сортировки доходов по категориям\n",
    "\n",
    "def categorize_income(income):\n",
    "    if 0 <= income <= 30000:\n",
    "        return 'E'\n",
    "    elif 30001 <= income <= 50000:\n",
    "        return 'D'\n",
    "    elif 50001 <= income <= 200000:\n",
    "        return 'C'\n",
    "    elif 200001 <= income <= 1000000:\n",
    "        return 'B'\n",
    "    elif income >= 1000001:\n",
    "        return 'A'"
   ]
  },
  {
   "cell_type": "code",
   "execution_count": 7,
   "id": "7f82b010-5f34-4822-9792-e14e32531e53",
   "metadata": {},
   "outputs": [],
   "source": [
    "# создайте функцию для группировки целей для оформления кредита\n",
    "\n",
    "def categorize_purpose(category):\n",
    "    if 'автомобил' in category:\n",
    "        return 'операции с автомобилем'\n",
    "    elif ('недвижимост' in category) or ('жиль' in category):\n",
    "        return 'операции с недвижимостью'\n",
    "    elif 'свадьб' in category:\n",
    "        return 'проведение свадьбы'\n",
    "    elif 'образован' in category:\n",
    "        return 'получение образования'"
   ]
  },
  {
   "cell_type": "markdown",
   "id": "12e1bfe7-7467-49bc-9f10-3494f9835478",
   "metadata": {},
   "source": [
    "## Открываем файл с данными и изучаем общую информацию"
   ]
  },
  {
   "cell_type": "code",
   "execution_count": 9,
   "id": "d0b03b04-13cf-4704-a827-55c2d0a561d9",
   "metadata": {},
   "outputs": [],
   "source": [
    "try:\n",
    "    data = pd.read_csv('data.csv')\n",
    "except:\n",
    "    data = pd.read_csv('https://code.s3.yandex.net/datasets/data.csv')"
   ]
  },
  {
   "cell_type": "code",
   "execution_count": 11,
   "id": "00c1d237-6508-4fc0-ac76-53ae60fdad62",
   "metadata": {},
   "outputs": [
    {
     "data": {
      "text/html": [
       "<div>\n",
       "<style scoped>\n",
       "    .dataframe tbody tr th:only-of-type {\n",
       "        vertical-align: middle;\n",
       "    }\n",
       "\n",
       "    .dataframe tbody tr th {\n",
       "        vertical-align: top;\n",
       "    }\n",
       "\n",
       "    .dataframe thead th {\n",
       "        text-align: right;\n",
       "    }\n",
       "</style>\n",
       "<table border=\"1\" class=\"dataframe\">\n",
       "  <thead>\n",
       "    <tr style=\"text-align: right;\">\n",
       "      <th></th>\n",
       "      <th>children</th>\n",
       "      <th>days_employed</th>\n",
       "      <th>dob_years</th>\n",
       "      <th>education</th>\n",
       "      <th>education_id</th>\n",
       "      <th>family_status</th>\n",
       "      <th>family_status_id</th>\n",
       "      <th>gender</th>\n",
       "      <th>income_type</th>\n",
       "      <th>debt</th>\n",
       "      <th>total_income</th>\n",
       "      <th>purpose</th>\n",
       "    </tr>\n",
       "  </thead>\n",
       "  <tbody>\n",
       "    <tr>\n",
       "      <th>0</th>\n",
       "      <td>1</td>\n",
       "      <td>-8437.673028</td>\n",
       "      <td>42</td>\n",
       "      <td>высшее</td>\n",
       "      <td>0</td>\n",
       "      <td>женат / замужем</td>\n",
       "      <td>0</td>\n",
       "      <td>F</td>\n",
       "      <td>сотрудник</td>\n",
       "      <td>0</td>\n",
       "      <td>253875.639453</td>\n",
       "      <td>покупка жилья</td>\n",
       "    </tr>\n",
       "    <tr>\n",
       "      <th>1</th>\n",
       "      <td>1</td>\n",
       "      <td>-4024.803754</td>\n",
       "      <td>36</td>\n",
       "      <td>среднее</td>\n",
       "      <td>1</td>\n",
       "      <td>женат / замужем</td>\n",
       "      <td>0</td>\n",
       "      <td>F</td>\n",
       "      <td>сотрудник</td>\n",
       "      <td>0</td>\n",
       "      <td>112080.014102</td>\n",
       "      <td>приобретение автомобиля</td>\n",
       "    </tr>\n",
       "    <tr>\n",
       "      <th>2</th>\n",
       "      <td>0</td>\n",
       "      <td>-5623.422610</td>\n",
       "      <td>33</td>\n",
       "      <td>Среднее</td>\n",
       "      <td>1</td>\n",
       "      <td>женат / замужем</td>\n",
       "      <td>0</td>\n",
       "      <td>M</td>\n",
       "      <td>сотрудник</td>\n",
       "      <td>0</td>\n",
       "      <td>145885.952297</td>\n",
       "      <td>покупка жилья</td>\n",
       "    </tr>\n",
       "    <tr>\n",
       "      <th>3</th>\n",
       "      <td>3</td>\n",
       "      <td>-4124.747207</td>\n",
       "      <td>32</td>\n",
       "      <td>среднее</td>\n",
       "      <td>1</td>\n",
       "      <td>женат / замужем</td>\n",
       "      <td>0</td>\n",
       "      <td>M</td>\n",
       "      <td>сотрудник</td>\n",
       "      <td>0</td>\n",
       "      <td>267628.550329</td>\n",
       "      <td>дополнительное образование</td>\n",
       "    </tr>\n",
       "    <tr>\n",
       "      <th>4</th>\n",
       "      <td>0</td>\n",
       "      <td>340266.072047</td>\n",
       "      <td>53</td>\n",
       "      <td>среднее</td>\n",
       "      <td>1</td>\n",
       "      <td>гражданский брак</td>\n",
       "      <td>1</td>\n",
       "      <td>F</td>\n",
       "      <td>пенсионер</td>\n",
       "      <td>0</td>\n",
       "      <td>158616.077870</td>\n",
       "      <td>сыграть свадьбу</td>\n",
       "    </tr>\n",
       "  </tbody>\n",
       "</table>\n",
       "</div>"
      ],
      "text/plain": [
       "   children  days_employed  dob_years education  education_id  \\\n",
       "0         1   -8437.673028         42    высшее             0   \n",
       "1         1   -4024.803754         36   среднее             1   \n",
       "2         0   -5623.422610         33   Среднее             1   \n",
       "3         3   -4124.747207         32   среднее             1   \n",
       "4         0  340266.072047         53   среднее             1   \n",
       "\n",
       "      family_status  family_status_id gender income_type  debt   total_income  \\\n",
       "0   женат / замужем                 0      F   сотрудник     0  253875.639453   \n",
       "1   женат / замужем                 0      F   сотрудник     0  112080.014102   \n",
       "2   женат / замужем                 0      M   сотрудник     0  145885.952297   \n",
       "3   женат / замужем                 0      M   сотрудник     0  267628.550329   \n",
       "4  гражданский брак                 1      F   пенсионер     0  158616.077870   \n",
       "\n",
       "                      purpose  \n",
       "0               покупка жилья  \n",
       "1     приобретение автомобиля  \n",
       "2               покупка жилья  \n",
       "3  дополнительное образование  \n",
       "4             сыграть свадьбу  "
      ]
     },
     "metadata": {},
     "output_type": "display_data"
    },
    {
     "name": "stdout",
     "output_type": "stream",
     "text": [
      "\n",
      "------------------------------------------------------------------------------------------------------------------------------------------------------\n",
      "\n",
      "Общая информация:\n",
      "<class 'pandas.core.frame.DataFrame'>\n",
      "RangeIndex: 21525 entries, 0 to 21524\n",
      "Data columns (total 12 columns):\n",
      " #   Column            Non-Null Count  Dtype  \n",
      "---  ------            --------------  -----  \n",
      " 0   children          21525 non-null  int64  \n",
      " 1   days_employed     19351 non-null  float64\n",
      " 2   dob_years         21525 non-null  int64  \n",
      " 3   education         21525 non-null  object \n",
      " 4   education_id      21525 non-null  int64  \n",
      " 5   family_status     21525 non-null  object \n",
      " 6   family_status_id  21525 non-null  int64  \n",
      " 7   gender            21525 non-null  object \n",
      " 8   income_type       21525 non-null  object \n",
      " 9   debt              21525 non-null  int64  \n",
      " 10  total_income      19351 non-null  float64\n",
      " 11  purpose           21525 non-null  object \n",
      "dtypes: float64(2), int64(5), object(5)\n",
      "memory usage: 2.0+ MB\n"
     ]
    },
    {
     "data": {
      "text/plain": [
       "None"
      ]
     },
     "metadata": {},
     "output_type": "display_data"
    },
    {
     "name": "stdout",
     "output_type": "stream",
     "text": [
      "\n",
      "------------------------------------------------------------------------------------------------------------------------------------------------------\n",
      "\n"
     ]
    },
    {
     "data": {
      "text/html": [
       "<div>\n",
       "<style scoped>\n",
       "    .dataframe tbody tr th:only-of-type {\n",
       "        vertical-align: middle;\n",
       "    }\n",
       "\n",
       "    .dataframe tbody tr th {\n",
       "        vertical-align: top;\n",
       "    }\n",
       "\n",
       "    .dataframe thead th {\n",
       "        text-align: right;\n",
       "    }\n",
       "</style>\n",
       "<table border=\"1\" class=\"dataframe\">\n",
       "  <thead>\n",
       "    <tr style=\"text-align: right;\">\n",
       "      <th></th>\n",
       "      <th>children</th>\n",
       "      <th>days_employed</th>\n",
       "      <th>dob_years</th>\n",
       "      <th>education_id</th>\n",
       "      <th>family_status_id</th>\n",
       "      <th>debt</th>\n",
       "      <th>total_income</th>\n",
       "    </tr>\n",
       "  </thead>\n",
       "  <tbody>\n",
       "    <tr>\n",
       "      <th>count</th>\n",
       "      <td>21525.000000</td>\n",
       "      <td>19351.000000</td>\n",
       "      <td>21525.000000</td>\n",
       "      <td>21525.000000</td>\n",
       "      <td>21525.000000</td>\n",
       "      <td>21525.000000</td>\n",
       "      <td>1.935100e+04</td>\n",
       "    </tr>\n",
       "    <tr>\n",
       "      <th>mean</th>\n",
       "      <td>0.538908</td>\n",
       "      <td>63046.497661</td>\n",
       "      <td>43.293380</td>\n",
       "      <td>0.817236</td>\n",
       "      <td>0.972544</td>\n",
       "      <td>0.080883</td>\n",
       "      <td>1.674223e+05</td>\n",
       "    </tr>\n",
       "    <tr>\n",
       "      <th>std</th>\n",
       "      <td>1.381587</td>\n",
       "      <td>140827.311974</td>\n",
       "      <td>12.574584</td>\n",
       "      <td>0.548138</td>\n",
       "      <td>1.420324</td>\n",
       "      <td>0.272661</td>\n",
       "      <td>1.029716e+05</td>\n",
       "    </tr>\n",
       "    <tr>\n",
       "      <th>min</th>\n",
       "      <td>-1.000000</td>\n",
       "      <td>-18388.949901</td>\n",
       "      <td>0.000000</td>\n",
       "      <td>0.000000</td>\n",
       "      <td>0.000000</td>\n",
       "      <td>0.000000</td>\n",
       "      <td>2.066726e+04</td>\n",
       "    </tr>\n",
       "    <tr>\n",
       "      <th>25%</th>\n",
       "      <td>0.000000</td>\n",
       "      <td>-2747.423625</td>\n",
       "      <td>33.000000</td>\n",
       "      <td>1.000000</td>\n",
       "      <td>0.000000</td>\n",
       "      <td>0.000000</td>\n",
       "      <td>1.030532e+05</td>\n",
       "    </tr>\n",
       "    <tr>\n",
       "      <th>50%</th>\n",
       "      <td>0.000000</td>\n",
       "      <td>-1203.369529</td>\n",
       "      <td>42.000000</td>\n",
       "      <td>1.000000</td>\n",
       "      <td>0.000000</td>\n",
       "      <td>0.000000</td>\n",
       "      <td>1.450179e+05</td>\n",
       "    </tr>\n",
       "    <tr>\n",
       "      <th>75%</th>\n",
       "      <td>1.000000</td>\n",
       "      <td>-291.095954</td>\n",
       "      <td>53.000000</td>\n",
       "      <td>1.000000</td>\n",
       "      <td>1.000000</td>\n",
       "      <td>0.000000</td>\n",
       "      <td>2.034351e+05</td>\n",
       "    </tr>\n",
       "    <tr>\n",
       "      <th>max</th>\n",
       "      <td>20.000000</td>\n",
       "      <td>401755.400475</td>\n",
       "      <td>75.000000</td>\n",
       "      <td>4.000000</td>\n",
       "      <td>4.000000</td>\n",
       "      <td>1.000000</td>\n",
       "      <td>2.265604e+06</td>\n",
       "    </tr>\n",
       "  </tbody>\n",
       "</table>\n",
       "</div>"
      ],
      "text/plain": [
       "           children  days_employed     dob_years  education_id  \\\n",
       "count  21525.000000   19351.000000  21525.000000  21525.000000   \n",
       "mean       0.538908   63046.497661     43.293380      0.817236   \n",
       "std        1.381587  140827.311974     12.574584      0.548138   \n",
       "min       -1.000000  -18388.949901      0.000000      0.000000   \n",
       "25%        0.000000   -2747.423625     33.000000      1.000000   \n",
       "50%        0.000000   -1203.369529     42.000000      1.000000   \n",
       "75%        1.000000    -291.095954     53.000000      1.000000   \n",
       "max       20.000000  401755.400475     75.000000      4.000000   \n",
       "\n",
       "       family_status_id          debt  total_income  \n",
       "count      21525.000000  21525.000000  1.935100e+04  \n",
       "mean           0.972544      0.080883  1.674223e+05  \n",
       "std            1.420324      0.272661  1.029716e+05  \n",
       "min            0.000000      0.000000  2.066726e+04  \n",
       "25%            0.000000      0.000000  1.030532e+05  \n",
       "50%            0.000000      0.000000  1.450179e+05  \n",
       "75%            1.000000      0.000000  2.034351e+05  \n",
       "max            4.000000      1.000000  2.265604e+06  "
      ]
     },
     "metadata": {},
     "output_type": "display_data"
    },
    {
     "name": "stdout",
     "output_type": "stream",
     "text": [
      "\n",
      "------------------------------------------------------------------------------------------------------------------------------------------------------\n",
      "\n",
      "Количество пропусков для каждого столбца:\n"
     ]
    },
    {
     "data": {
      "text/plain": [
       "children               0\n",
       "days_employed       2174\n",
       "dob_years              0\n",
       "education              0\n",
       "education_id           0\n",
       "family_status          0\n",
       "family_status_id       0\n",
       "gender                 0\n",
       "income_type            0\n",
       "debt                   0\n",
       "total_income        2174\n",
       "purpose                0\n",
       "dtype: int64"
      ]
     },
     "metadata": {},
     "output_type": "display_data"
    }
   ],
   "source": [
    "info(data)"
   ]
  },
  {
   "cell_type": "markdown",
   "id": "d06aec0a-e5b5-4c8b-b475-383380a55093",
   "metadata": {},
   "source": [
    "**Вывод:**\n",
    "\n",
    "* У столбца с доходами есть пропуски - заменим их медианами;\n",
    "\n",
    "* Столбец с трудовым стажем имеет вещественный тип данных с отрицательбными значениями - округлим до целочисленного и возьмем модуль;\n",
    "\n",
    "* Стоит обработать выбросы с большим количеством дней стажа;\n",
    "\n",
    "* 20 детей сильно выбивается из среднего значения - проверить верность данных; а также исправить количество -1 ребенок;\n",
    "\n",
    "Предполагаю, что в колонке с количеством детей отрицательное значение можно исправить на положительное, и возможно 20 детей это тоже опечатка, которую можно исправить на 2. В колонке с трудовым стажем достаточно много непонятного: во-первых, разобраться с отрицательными значениями, но вопрос с рекордсменами трудящимися более 100 лет остается, попробую сопоставить с возрастом, а возможно это всего несколько ошибок дают смещение - разберусь с отрицательными, и буду смотреть по медиане, если она адекватная найду рекордсменов и подправлю их."
   ]
  },
  {
   "cell_type": "markdown",
   "id": "323ea77e-fb3e-4a7e-9e7d-e6b4ce08db0f",
   "metadata": {},
   "source": [
    "## Предобработка данных"
   ]
  },
  {
   "cell_type": "markdown",
   "id": "185998c0-ef9a-458d-8a9f-25bcd52c9c56",
   "metadata": {},
   "source": [
    "### Удаление пропусков"
   ]
  },
  {
   "cell_type": "markdown",
   "id": "a9d9b50b-39d8-440e-ad08-46a9541a9c87",
   "metadata": {},
   "source": [
    "Заполним пропуски в столбце в доходами медианами"
   ]
  },
  {
   "cell_type": "code",
   "execution_count": 16,
   "id": "76ac2b77-911e-4c50-8075-5f7141e79af7",
   "metadata": {},
   "outputs": [],
   "source": [
    "for d in data['income_type'].unique():\n",
    "    data.loc[(data['income_type'] == d) & (data['total_income'].isna()), 'total_income'] = \\\n",
    "    data.loc[(data['income_type'] == d), 'total_income'].median()"
   ]
  },
  {
   "cell_type": "code",
   "execution_count": 17,
   "id": "9fcce038-141a-4073-9d21-8ba67e5aaf48",
   "metadata": {},
   "outputs": [
    {
     "data": {
      "text/plain": [
       "children               0\n",
       "days_employed       2174\n",
       "dob_years              0\n",
       "education              0\n",
       "education_id           0\n",
       "family_status          0\n",
       "family_status_id       0\n",
       "gender                 0\n",
       "income_type            0\n",
       "debt                   0\n",
       "total_income           0\n",
       "purpose                0\n",
       "dtype: int64"
      ]
     },
     "execution_count": 17,
     "metadata": {},
     "output_type": "execute_result"
    }
   ],
   "source": [
    "# Проверим\n",
    "\n",
    "data.isnull().sum()"
   ]
  },
  {
   "cell_type": "markdown",
   "id": "cdb94b8b-4e12-4824-a52f-39a868ca97ba",
   "metadata": {},
   "source": [
    "### Обработка аномальных значений"
   ]
  },
  {
   "cell_type": "markdown",
   "id": "b7280a50-c0f9-4c53-9d38-2a1115c921b2",
   "metadata": {},
   "source": [
    "Возьмем значения в столбце \"трудовой стаж\" по модулю, чтобы убрать отрицательные значения"
   ]
  },
  {
   "cell_type": "code",
   "execution_count": 20,
   "id": "6b929102-c8a9-4cd0-8c58-61b6ec6aa9a6",
   "metadata": {},
   "outputs": [],
   "source": [
    "data['days_employed'] = data['days_employed'].abs()"
   ]
  },
  {
   "cell_type": "markdown",
   "id": "1d105953-38df-4652-aacb-6fdebdb6849b",
   "metadata": {},
   "source": [
    "Для каждого типа занятости выведите медианное значение трудового стажа days_employed в днях"
   ]
  },
  {
   "cell_type": "code",
   "execution_count": 22,
   "id": "adb9ecf8-b30e-4de0-9c00-3b66f2979618",
   "metadata": {},
   "outputs": [
    {
     "data": {
      "text/plain": [
       "income_type\n",
       "безработный        366413.652744\n",
       "в декрете            3296.759962\n",
       "госслужащий          2689.368353\n",
       "компаньон            1547.382223\n",
       "пенсионер          365213.306266\n",
       "предприниматель       520.848083\n",
       "сотрудник            1574.202821\n",
       "студент               578.751554\n",
       "Name: days_employed, dtype: float64"
      ]
     },
     "execution_count": 22,
     "metadata": {},
     "output_type": "execute_result"
    }
   ],
   "source": [
    "data.groupby('income_type')['days_employed'].median()"
   ]
  },
  {
   "cell_type": "markdown",
   "id": "0596e0c9-1f62-4c05-a30e-2e0f13ce26c4",
   "metadata": {},
   "source": [
    "У двух типов (безработные и пенсионеры) получатся аномально большие значения. Размышляя логически, мы можем посчитать максимальное количество дней, которое человек работал. Допустим, человек устроился в 18 лет и проработал до 80, тогда 22630 дней. Округлим до 23000 дней."
   ]
  },
  {
   "cell_type": "code",
   "execution_count": 24,
   "id": "9b497758-7500-4a35-b598-90728d55c493",
   "metadata": {},
   "outputs": [
    {
     "name": "stdout",
     "output_type": "stream",
     "text": [
      "4        340266.072047\n",
      "18       400281.136913\n",
      "24       338551.952911\n",
      "25       363548.489348\n",
      "30       335581.668515\n",
      "             ...      \n",
      "21505    338904.866406\n",
      "21508    386497.714078\n",
      "21509    362161.054124\n",
      "21518    373995.710838\n",
      "21521    343937.404131\n",
      "Name: days_employed, Length: 3458, dtype: float64\n"
     ]
    }
   ],
   "source": [
    "print((data.loc[data['days_employed'] > 15000, 'days_employed']))"
   ]
  },
  {
   "cell_type": "code",
   "execution_count": 25,
   "id": "7525e25c-1561-405c-8386-db503fba22b1",
   "metadata": {},
   "outputs": [
    {
     "name": "stdout",
     "output_type": "stream",
     "text": [
      "Количество строк: 3445\n"
     ]
    }
   ],
   "source": [
    "count = data.loc[data['days_employed'] > 23500].shape[0]\n",
    "print(f'Количество строк: {count}')"
   ]
  },
  {
   "cell_type": "code",
   "execution_count": 26,
   "id": "9b955587-d5d0-4724-a307-8e4e0d2e58c9",
   "metadata": {},
   "outputs": [],
   "source": [
    "# Удалим эти строки\n",
    "\n",
    "data = data[data['days_employed'] <= 23500]"
   ]
  },
  {
   "cell_type": "markdown",
   "id": "62ed5121-4ec5-439a-9018-7578bfecce96",
   "metadata": {},
   "source": [
    "Рассмотрим столбец с количеством детей: отрицательные значения и значение 20 аномальны для нас. Поэтому -1 возьмем по модулю, а 20 удалим"
   ]
  },
  {
   "cell_type": "code",
   "execution_count": 28,
   "id": "ce13aa22-b7bf-407f-a74e-ef7b032b1b96",
   "metadata": {},
   "outputs": [
    {
     "data": {
      "text/plain": [
       "array([ 1,  0,  3,  2, -1,  4, 20,  5], dtype=int64)"
      ]
     },
     "execution_count": 28,
     "metadata": {},
     "output_type": "execute_result"
    }
   ],
   "source": [
    "data['children'].unique()"
   ]
  },
  {
   "cell_type": "code",
   "execution_count": 29,
   "id": "b25d1a66-48e4-4d68-9b9e-d35cc859f19b",
   "metadata": {},
   "outputs": [],
   "source": [
    "data = data[data['children'] != 20]"
   ]
  },
  {
   "cell_type": "code",
   "execution_count": 30,
   "id": "e5526559-798f-4b92-b4d9-743e83519e06",
   "metadata": {},
   "outputs": [],
   "source": [
    "data['children'] = data['children'].abs()"
   ]
  },
  {
   "cell_type": "code",
   "execution_count": 31,
   "id": "acec8567-858a-454d-9a72-01e59866288d",
   "metadata": {},
   "outputs": [
    {
     "data": {
      "text/plain": [
       "array([1, 0, 3, 2, 4, 5], dtype=int64)"
      ]
     },
     "execution_count": 31,
     "metadata": {},
     "output_type": "execute_result"
    }
   ],
   "source": [
    "# Проверим\n",
    "\n",
    "data['children'].unique()"
   ]
  },
  {
   "cell_type": "markdown",
   "id": "ef7d7a44-a927-4e3c-a00e-9faf9be26cd4",
   "metadata": {},
   "source": [
    "### Удаление пропусков"
   ]
  },
  {
   "cell_type": "markdown",
   "id": "f0210826-f289-4831-9221-858a08449627",
   "metadata": {},
   "source": [
    "Заполним пропуски в столбце days_employed медианными значениями по каждому типу занятости income_type."
   ]
  },
  {
   "cell_type": "code",
   "execution_count": 34,
   "id": "97214d80-6de2-40ff-8489-fe5c2cc2d867",
   "metadata": {},
   "outputs": [],
   "source": [
    "for k in data['income_type'].unique():\n",
    "    data.loc[(data['income_type'] == k) & (data['days_employed'].isna()), 'days_employed'] = \\\n",
    "    data.loc[(data['income_type'] == k), 'days_employed'].median()"
   ]
  },
  {
   "cell_type": "code",
   "execution_count": 35,
   "id": "63c65960-df48-4bd1-aa8c-c1f77dacbcb3",
   "metadata": {},
   "outputs": [
    {
     "data": {
      "text/plain": [
       "children            0\n",
       "days_employed       0\n",
       "dob_years           0\n",
       "education           0\n",
       "education_id        0\n",
       "family_status       0\n",
       "family_status_id    0\n",
       "gender              0\n",
       "income_type         0\n",
       "debt                0\n",
       "total_income        0\n",
       "purpose             0\n",
       "dtype: int64"
      ]
     },
     "execution_count": 35,
     "metadata": {},
     "output_type": "execute_result"
    }
   ],
   "source": [
    "# Проверим\n",
    "\n",
    "data.isnull().sum()"
   ]
  },
  {
   "cell_type": "markdown",
   "id": "627c610b-f040-4162-a42d-3379367a7158",
   "metadata": {},
   "source": [
    "### Изменение типов данных\n",
    "\n",
    "Заменим вещественный тип данных в столбце total_income на целочисленный, чтобы удобней было анализировать ежемесечный доход."
   ]
  },
  {
   "cell_type": "code",
   "execution_count": 37,
   "id": "1650c9dd-1c1f-4cd6-a03b-e1b91f4c4fa8",
   "metadata": {},
   "outputs": [],
   "source": [
    "data['total_income'] = data['total_income'].astype('int')"
   ]
  },
  {
   "cell_type": "markdown",
   "id": "9084df07-4e8a-4409-9f9b-f1d218b0615a",
   "metadata": {},
   "source": [
    "### Обработка дубликатов\n",
    "\n",
    "Для начала приведем все к нижнему регистру"
   ]
  },
  {
   "cell_type": "code",
   "execution_count": 39,
   "id": "4be5b89f-a0d2-4225-96b9-775c0304f52e",
   "metadata": {},
   "outputs": [],
   "source": [
    "data['education'] = data['education'].str.lower()"
   ]
  },
  {
   "cell_type": "code",
   "execution_count": 40,
   "id": "86070093-89b2-4437-a3b5-652f65487ae1",
   "metadata": {},
   "outputs": [
    {
     "data": {
      "text/plain": [
       "0"
      ]
     },
     "execution_count": 40,
     "metadata": {},
     "output_type": "execute_result"
    }
   ],
   "source": [
    "data.duplicated().sum()"
   ]
  },
  {
   "cell_type": "markdown",
   "id": "c2f40714-9725-4efc-a33b-7b43d0e22c23",
   "metadata": {},
   "source": [
    "### Категориальные данные\n",
    "\n",
    "На основе следующих диапазонов по доходу создадим следующие категории:\n",
    "\n",
    "* 0–30000 — 'E';\n",
    "* 30001–50000 — 'D';\n",
    "* 50001–200000 — 'C';\n",
    "* 200001–1000000 — 'B';\n",
    "* 1000001 и выше — 'A'.\n",
    "\n",
    "Также выделим основные направления для оформления кредита:\n",
    "\n",
    "* 'операции с автомобилем',\n",
    "* 'операции с недвижимостью',\n",
    "* 'проведение свадьбы',\n",
    "* 'получение образования'."
   ]
  },
  {
   "cell_type": "code",
   "execution_count": 42,
   "id": "a2748bcf-140c-40fa-a560-866205347e4f",
   "metadata": {},
   "outputs": [],
   "source": [
    "data['total_income_category'] = data['total_income'].apply(categorize_income)"
   ]
  },
  {
   "cell_type": "code",
   "execution_count": 43,
   "id": "78a4f370-7ecb-40da-9e37-2db7548ade25",
   "metadata": {},
   "outputs": [
    {
     "data": {
      "text/plain": [
       "array(['покупка жилья', 'приобретение автомобиля',\n",
       "       'дополнительное образование', 'операции с жильем', 'образование',\n",
       "       'на проведение свадьбы', 'покупка жилья для семьи',\n",
       "       'покупка недвижимости', 'покупка коммерческой недвижимости',\n",
       "       'покупка жилой недвижимости',\n",
       "       'строительство собственной недвижимости', 'недвижимость',\n",
       "       'строительство недвижимости', 'на покупку своего автомобиля',\n",
       "       'на покупку подержанного автомобиля', 'сыграть свадьбу', 'жилье',\n",
       "       'операции со своей недвижимостью', 'автомобили',\n",
       "       'заняться образованием', 'получение образования',\n",
       "       'сделка с подержанным автомобилем', 'автомобиль', 'свадьба',\n",
       "       'получение дополнительного образования', 'покупка своего жилья',\n",
       "       'операции с недвижимостью', 'получение высшего образования',\n",
       "       'операции с коммерческой недвижимостью', 'свой автомобиль',\n",
       "       'сделка с автомобилем', 'профильное образование',\n",
       "       'высшее образование', 'на покупку автомобиля',\n",
       "       'покупка жилья для сдачи', 'строительство жилой недвижимости',\n",
       "       'ремонт жилью', 'заняться высшим образованием'], dtype=object)"
      ]
     },
     "execution_count": 43,
     "metadata": {},
     "output_type": "execute_result"
    }
   ],
   "source": [
    "data['purpose'].unique()"
   ]
  },
  {
   "cell_type": "code",
   "execution_count": 44,
   "id": "76943b13-e00c-45c4-9c58-8bf9cf6cd1a4",
   "metadata": {},
   "outputs": [],
   "source": [
    "data['purpose_category'] = data['purpose'].apply(categorize_purpose)"
   ]
  },
  {
   "cell_type": "markdown",
   "id": "16b15e8e-91e3-44d7-975a-8f04733371f1",
   "metadata": {},
   "source": [
    "## Исследовательский анализ данных"
   ]
  },
  {
   "cell_type": "markdown",
   "id": "40d0c09c-de81-445b-a1ec-bebdbe39d4e0",
   "metadata": {},
   "source": [
    "### Есть ли зависимость между количеством детей и возвратом кредита в срок?"
   ]
  },
  {
   "cell_type": "markdown",
   "id": "989bfad8-fcbc-4362-aeea-eb39d10c0554",
   "metadata": {},
   "source": [
    "Для анализа данного вопроса создадим сводную талицу с засимостью количества детей и наличием просрочек по кредиту, а также найдем процент должников"
   ]
  },
  {
   "cell_type": "code",
   "execution_count": 80,
   "id": "46dcebb7-f184-4944-a0a8-628cd5e63162",
   "metadata": {},
   "outputs": [
    {
     "data": {
      "text/html": [
       "<div>\n",
       "<style scoped>\n",
       "    .dataframe tbody tr th:only-of-type {\n",
       "        vertical-align: middle;\n",
       "    }\n",
       "\n",
       "    .dataframe tbody tr th {\n",
       "        vertical-align: top;\n",
       "    }\n",
       "\n",
       "    .dataframe thead th {\n",
       "        text-align: right;\n",
       "    }\n",
       "</style>\n",
       "<table border=\"1\" class=\"dataframe\">\n",
       "  <thead>\n",
       "    <tr style=\"text-align: right;\">\n",
       "      <th></th>\n",
       "      <th>count</th>\n",
       "      <th>sum</th>\n",
       "      <th>mean</th>\n",
       "    </tr>\n",
       "    <tr>\n",
       "      <th>children</th>\n",
       "      <th></th>\n",
       "      <th></th>\n",
       "      <th></th>\n",
       "    </tr>\n",
       "  </thead>\n",
       "  <tbody>\n",
       "    <tr>\n",
       "      <th>0</th>\n",
       "      <td>9556</td>\n",
       "      <td>785</td>\n",
       "      <td>0.082147</td>\n",
       "    </tr>\n",
       "    <tr>\n",
       "      <th>1</th>\n",
       "      <td>4127</td>\n",
       "      <td>397</td>\n",
       "      <td>0.096196</td>\n",
       "    </tr>\n",
       "    <tr>\n",
       "      <th>2</th>\n",
       "      <td>1834</td>\n",
       "      <td>175</td>\n",
       "      <td>0.095420</td>\n",
       "    </tr>\n",
       "    <tr>\n",
       "      <th>3</th>\n",
       "      <td>288</td>\n",
       "      <td>21</td>\n",
       "      <td>0.072917</td>\n",
       "    </tr>\n",
       "    <tr>\n",
       "      <th>4</th>\n",
       "      <td>33</td>\n",
       "      <td>3</td>\n",
       "      <td>0.090909</td>\n",
       "    </tr>\n",
       "  </tbody>\n",
       "</table>\n",
       "</div>"
      ],
      "text/plain": [
       "          count  sum      mean\n",
       "children                      \n",
       "0          9556  785  0.082147\n",
       "1          4127  397  0.096196\n",
       "2          1834  175  0.095420\n",
       "3           288   21  0.072917\n",
       "4            33    3  0.090909"
      ]
     },
     "metadata": {},
     "output_type": "display_data"
    }
   ],
   "source": [
    "children_debt = pd.pivot_table(data, index=['children'], values='debt', aggfunc=['count','sum','mean'])\n",
    "children_debt.columns = ['count', 'sum', 'mean']\n",
    "display(children_debt.iloc[0:5])"
   ]
  },
  {
   "cell_type": "markdown",
   "id": "e0bd8b7b-9487-4e81-9e9f-f729ffd12464",
   "metadata": {},
   "source": [
    "**Вывод:**\n",
    "\n",
    "Процент невозврата кредита: \n",
    "\n",
    "* Для заемщиков без детей процент невозврата кредита составляет примерно 8.2% (0.082147).\n",
    "\n",
    "* Для заемщиков с одним ребенком процент невозврата увеличивается до 9.6% (0.096196).\n",
    "\n",
    "* Для заемщиков с двумя детьми процент невозврата остается на уровне 9.5% (0.095420).\n",
    "\n",
    "* Для заемщиков с тремя детьми процент невозврата снижается до 7.3% (0.072917).\n",
    "\n",
    "* Для заемщиков с четырьмя детьми процент невозврата составляет 9.1% (0.090909).\n",
    "\n",
    "Существует определенная зависимость между количеством детей и возвратом кредита в срок. В частности, заемщики с детьми, как правило, имеют более высокий процент невозврата кредита, чем те, у кого детей нет. Однако, наличие трех детей может быть связано с меньшим риском невозврата по сравнению с заемщиками, имеющими одного или двух детей."
   ]
  },
  {
   "cell_type": "markdown",
   "id": "fe8ef324-57f8-4abe-b22f-f9331b08b93e",
   "metadata": {},
   "source": [
    "### Есть ли зависимость между семейным положением и возвратом кредита в срок?"
   ]
  },
  {
   "cell_type": "code",
   "execution_count": 90,
   "id": "eccfecff-88dd-4552-b7c7-d4fd03046a57",
   "metadata": {},
   "outputs": [
    {
     "data": {
      "text/html": [
       "<div>\n",
       "<style scoped>\n",
       "    .dataframe tbody tr th:only-of-type {\n",
       "        vertical-align: middle;\n",
       "    }\n",
       "\n",
       "    .dataframe tbody tr th {\n",
       "        vertical-align: top;\n",
       "    }\n",
       "\n",
       "    .dataframe thead th {\n",
       "        text-align: right;\n",
       "    }\n",
       "</style>\n",
       "<table border=\"1\" class=\"dataframe\">\n",
       "  <thead>\n",
       "    <tr style=\"text-align: right;\">\n",
       "      <th></th>\n",
       "      <th>0</th>\n",
       "      <th>1</th>\n",
       "      <th>%_debt</th>\n",
       "    </tr>\n",
       "    <tr>\n",
       "      <th>family_status</th>\n",
       "      <th></th>\n",
       "      <th></th>\n",
       "      <th></th>\n",
       "    </tr>\n",
       "  </thead>\n",
       "  <tbody>\n",
       "    <tr>\n",
       "      <th>женат / замужем</th>\n",
       "      <td>8483</td>\n",
       "      <td>745</td>\n",
       "      <td>8.07</td>\n",
       "    </tr>\n",
       "    <tr>\n",
       "      <th>гражданский брак</th>\n",
       "      <td>2841</td>\n",
       "      <td>307</td>\n",
       "      <td>9.75</td>\n",
       "    </tr>\n",
       "    <tr>\n",
       "      <th>в разводе</th>\n",
       "      <td>820</td>\n",
       "      <td>64</td>\n",
       "      <td>7.24</td>\n",
       "    </tr>\n",
       "    <tr>\n",
       "      <th>Не женат / не замужем</th>\n",
       "      <td>1965</td>\n",
       "      <td>241</td>\n",
       "      <td>10.92</td>\n",
       "    </tr>\n",
       "    <tr>\n",
       "      <th>вдовец / вдова</th>\n",
       "      <td>356</td>\n",
       "      <td>24</td>\n",
       "      <td>6.32</td>\n",
       "    </tr>\n",
       "  </tbody>\n",
       "</table>\n",
       "</div>"
      ],
      "text/plain": [
       "                          0    1  %_debt\n",
       "family_status                           \n",
       "женат / замужем        8483  745    8.07\n",
       "гражданский брак       2841  307    9.75\n",
       "в разводе               820   64    7.24\n",
       "Не женат / не замужем  1965  241   10.92\n",
       "вдовец / вдова          356   24    6.32"
      ]
     },
     "metadata": {},
     "output_type": "display_data"
    }
   ],
   "source": [
    "family_df = data[['family_status','family_status_id']]\n",
    "family_df = family_df.drop_duplicates().reset_index(drop=True)\n",
    "fam_status_debt = data.pivot_table(index=['family_status_id'], columns=['debt'], aggfunc='count')['days_employed']\n",
    "fam_status_debt['%_debt'] = round((fam_status_debt[1] / (fam_status_debt[0] + fam_status_debt[1])) * 100, 2)\n",
    "data_fam = family_df.merge(fam_status_debt, on='family_status_id', how='left').drop('family_status_id', axis = 1)\n",
    "data_fam = data_fam.set_index('family_status')\n",
    "display(data_fam)"
   ]
  },
  {
   "cell_type": "markdown",
   "id": "49ab986d-cbbd-4a94-a7ad-1718995bf4e3",
   "metadata": {},
   "source": [
    "**Вывод:**\n",
    "\n",
    "Процент невозврата кредита:\n",
    "\n",
    "* Для заемщиков, состоящих в браке, процент невозврата кредита составляет примерно 8.1% (0.080733).\n",
    "\n",
    "* Для заемщиков в гражданском браке этот процент немного выше — 9.8% (0.097522).\n",
    "\n",
    "* Для тех, кто в разводе, процент невозврата составляет 7.2% (0.072398).\n",
    "\n",
    "* Для заемщиков, не состоящих в браке, процент невозврата значительно выше — 10.9% (0.109248).\n",
    "\n",
    "* Для вдовцов/вдов процент невозврата составляет 6.3% (0.063158), что является самым низким показателем среди всех категорий.\n",
    "\n",
    "Существует определенная зависимость между семейным положением и возвратом кредита в срок. Заемщики, состоящие в браке или вдовцы/вдовы, как правило, имеют более низкий процент невозврата кредита, в то время как заемщики, не состоящие в браке, имеют более высокий риск невозврата."
   ]
  },
  {
   "cell_type": "markdown",
   "id": "a512846e-c0a6-48c6-ac7a-c86616edf997",
   "metadata": {},
   "source": [
    "### Есть ли зависимость между уровнем дохода и возвратом кредита в срок?"
   ]
  },
  {
   "cell_type": "code",
   "execution_count": 100,
   "id": "74b51905-399c-4479-b995-f45f90b09497",
   "metadata": {},
   "outputs": [
    {
     "data": {
      "text/html": [
       "<div>\n",
       "<style scoped>\n",
       "    .dataframe tbody tr th:only-of-type {\n",
       "        vertical-align: middle;\n",
       "    }\n",
       "\n",
       "    .dataframe tbody tr th {\n",
       "        vertical-align: top;\n",
       "    }\n",
       "\n",
       "    .dataframe thead th {\n",
       "        text-align: right;\n",
       "    }\n",
       "</style>\n",
       "<table border=\"1\" class=\"dataframe\">\n",
       "  <thead>\n",
       "    <tr style=\"text-align: right;\">\n",
       "      <th>debt</th>\n",
       "      <th>0</th>\n",
       "      <th>1</th>\n",
       "      <th>%_debt</th>\n",
       "    </tr>\n",
       "    <tr>\n",
       "      <th>total_income_category</th>\n",
       "      <th></th>\n",
       "      <th></th>\n",
       "      <th></th>\n",
       "    </tr>\n",
       "  </thead>\n",
       "  <tbody>\n",
       "    <tr>\n",
       "      <th>A</th>\n",
       "      <td>23.0</td>\n",
       "      <td>2.0</td>\n",
       "      <td>8.00</td>\n",
       "    </tr>\n",
       "    <tr>\n",
       "      <th>B</th>\n",
       "      <td>4145.0</td>\n",
       "      <td>323.0</td>\n",
       "      <td>7.23</td>\n",
       "    </tr>\n",
       "    <tr>\n",
       "      <th>C</th>\n",
       "      <td>10119.0</td>\n",
       "      <td>1042.0</td>\n",
       "      <td>9.34</td>\n",
       "    </tr>\n",
       "    <tr>\n",
       "      <th>D</th>\n",
       "      <td>171.0</td>\n",
       "      <td>14.0</td>\n",
       "      <td>7.57</td>\n",
       "    </tr>\n",
       "    <tr>\n",
       "      <th>E</th>\n",
       "      <td>7.0</td>\n",
       "      <td>NaN</td>\n",
       "      <td>NaN</td>\n",
       "    </tr>\n",
       "  </tbody>\n",
       "</table>\n",
       "</div>"
      ],
      "text/plain": [
       "debt                         0       1  %_debt\n",
       "total_income_category                         \n",
       "A                         23.0     2.0    8.00\n",
       "B                       4145.0   323.0    7.23\n",
       "C                      10119.0  1042.0    9.34\n",
       "D                        171.0    14.0    7.57\n",
       "E                          7.0     NaN     NaN"
      ]
     },
     "metadata": {},
     "output_type": "display_data"
    }
   ],
   "source": [
    "income_status_debt = data.pivot_table(index=['total_income_category'], columns=['debt'], aggfunc='count')['days_employed']\n",
    "income_status_debt['%_debt'] = round((income_status_debt[1] / (income_status_debt[0] + income_status_debt[1]) * 100), 2)\n",
    "\n",
    "display(income_status_debt.iloc[0:])"
   ]
  },
  {
   "cell_type": "markdown",
   "id": "deebf376-ae7b-496c-bc20-b9248c49a10d",
   "metadata": {},
   "source": [
    "**Вывод:**\n",
    "\n",
    "Процент невозврата кредита:\n",
    "\n",
    "* Для категории 'A' (доход 1000001 и выше) процент невозврата кредита составляет 8.0% (2 из 25).\n",
    "\n",
    "* Для категории 'B' (доход 200001–1000000) процент невозврата составляет 7.23% (323 из 4,145).\n",
    "\n",
    "* Для категории 'C' (доход 50001–200000) процент невозврата составляет 9.34% (1,042 из 10,119), что является самым высоким показателем среди всех категорий.\n",
    "\n",
    "* Для категории 'D' (доход 30001–50000) процент невозврата составляет 7.57% (14 из 171).\n",
    "\n",
    "* Для категории 'E' (доход 0–30000) данные о невозврате отсутствуют, так как количество заемщиков слишком мало.\n",
    "\n",
    "Существует определенная зависимость между уровнем дохода и возвратом кредита в срок. Заемщики с более высоким уровнем дохода, как правило, имеют более низкий процент невозврата кредита, в то время как заемщики с доходом в категории 'C' имеют более высокий риск невозврата."
   ]
  },
  {
   "cell_type": "markdown",
   "id": "393ae181-c34b-49a6-a8d9-bfccd27083c2",
   "metadata": {},
   "source": [
    "### Как разные цели кредита влияют на его возврат в срок?"
   ]
  },
  {
   "cell_type": "code",
   "execution_count": 107,
   "id": "d57f6b8e-956d-4742-93c9-e78c68c20515",
   "metadata": {},
   "outputs": [
    {
     "data": {
      "text/html": [
       "<div>\n",
       "<style scoped>\n",
       "    .dataframe tbody tr th:only-of-type {\n",
       "        vertical-align: middle;\n",
       "    }\n",
       "\n",
       "    .dataframe tbody tr th {\n",
       "        vertical-align: top;\n",
       "    }\n",
       "\n",
       "    .dataframe thead th {\n",
       "        text-align: right;\n",
       "    }\n",
       "</style>\n",
       "<table border=\"1\" class=\"dataframe\">\n",
       "  <thead>\n",
       "    <tr style=\"text-align: right;\">\n",
       "      <th>debt</th>\n",
       "      <th>0</th>\n",
       "      <th>1</th>\n",
       "      <th>%_debt</th>\n",
       "    </tr>\n",
       "    <tr>\n",
       "      <th>purpose_category</th>\n",
       "      <th></th>\n",
       "      <th></th>\n",
       "      <th></th>\n",
       "    </tr>\n",
       "  </thead>\n",
       "  <tbody>\n",
       "    <tr>\n",
       "      <th>операции с автомобилем</th>\n",
       "      <td>2846</td>\n",
       "      <td>322</td>\n",
       "      <td>10.16</td>\n",
       "    </tr>\n",
       "    <tr>\n",
       "      <th>операции с недвижимостью</th>\n",
       "      <td>7396</td>\n",
       "      <td>635</td>\n",
       "      <td>7.91</td>\n",
       "    </tr>\n",
       "    <tr>\n",
       "      <th>получение образования</th>\n",
       "      <td>2642</td>\n",
       "      <td>288</td>\n",
       "      <td>9.83</td>\n",
       "    </tr>\n",
       "    <tr>\n",
       "      <th>проведение свадьбы</th>\n",
       "      <td>1581</td>\n",
       "      <td>136</td>\n",
       "      <td>7.92</td>\n",
       "    </tr>\n",
       "  </tbody>\n",
       "</table>\n",
       "</div>"
      ],
      "text/plain": [
       "debt                         0    1  %_debt\n",
       "purpose_category                           \n",
       "операции с автомобилем    2846  322   10.16\n",
       "операции с недвижимостью  7396  635    7.91\n",
       "получение образования     2642  288    9.83\n",
       "проведение свадьбы        1581  136    7.92"
      ]
     },
     "metadata": {},
     "output_type": "display_data"
    }
   ],
   "source": [
    "aim_debt = data.pivot_table(index=['purpose_category'], columns=['debt'], aggfunc='count')['days_employed']\n",
    "aim_debt['%_debt'] = round((aim_debt[1] / (aim_debt[0] + aim_debt[1])) * 100, 2)\n",
    "display(aim_debt)"
   ]
  },
  {
   "cell_type": "markdown",
   "id": "7c329a39-d19f-4c34-a3c1-b9b6975a8438",
   "metadata": {},
   "source": [
    "**Вывод:**\n",
    "\n",
    "Процент невозврата кредита:\n",
    "\n",
    "* Для заемщиков, взявших кредит на \"операции с автомобилем\", процент невозврата составляет 10.16% (322 из 2846), что является самым высоким показателем среди всех категорий.\n",
    "\n",
    "* Для категории \"получение образования\" процент невозврата составляет 9.83% (288 из 2642), что также указывает на значительный риск невозврата.\n",
    "\n",
    "* Для категории \"операции с недвижимостью\" процент невозврата составляет 7.91% (635 из 7396), что является более низким показателем по сравнению с предыдущими категориями.\n",
    "\n",
    "* Для категории \"проведение свадьбы\" процент невозврата составляет 7.92% (136 из 1581), что близко к показателю для операций с недвижимостью.\n",
    "\n",
    "Существует определенная зависимость между целями кредита и возвратом кредита в срок. Заемщики, которые берут кредиты на \"операции с автомобилем\" и \"получение образования\", имеют более высокий риск невозврата, в то время как заемщики, использующие кредиты для \"операций с недвижимостью\" и \"проведения свадьбы\", имеют более низкий процент невозврата."
   ]
  },
  {
   "cell_type": "markdown",
   "id": "1e4b6904-570b-409f-b5cc-2feab0007b3c",
   "metadata": {},
   "source": [
    "### Приведите возможные причины появления пропусков в исходных данных"
   ]
  },
  {
   "cell_type": "markdown",
   "id": "b9d2cbd1-46f9-4275-9b5b-cc0b53cde95c",
   "metadata": {},
   "source": [
    "**Причины появления пропусков могут быть следующие:**\n",
    "\n",
    "1. *Неполные данные при сборе информации:* Заемщики могли не предоставить информацию о своем трудовом стаже (days_employed) или ежемесячном доходе (total_income) при заполнении анкеты. Это может быть связано с нежеланием делиться финансовой информацией или отсутствием точных данных.\n",
    "\n",
    "2. *Ошибки в обработке данных:* Пропуски могут возникнуть в результате ошибок при вводе данных, например, если информация была неправильно скопирована или обработана в процессе загрузки в базу данных.\n",
    "\n",
    "3. *Разные форматы данных:* Если данные собирались из различных источников, могут возникнуть несоответствия в форматах, что может привести к пропускам. Например, некоторые заемщики могли указать свой доход в разных валютах или в разных единицах измерения.\n",
    "\n",
    "4. *Отсутствие информации у заемщиков:* Некоторые заемщики могут не иметь официального трудового стажа или фиксированного дохода, что делает невозможным указание этих данных. Это особенно актуально для фрилансеров или людей, работающих неофициально.\n"
   ]
  },
  {
   "cell_type": "markdown",
   "id": "c9873714-35c0-4862-9ba4-a650eaba22bb",
   "metadata": {},
   "source": [
    "### Объясните, почему заполнить пропуски медианным значением — лучшее решение для количественных переменных"
   ]
  },
  {
   "cell_type": "markdown",
   "id": "a2d6a326-a2a6-42fc-84ae-f3ae93ba5d8c",
   "metadata": {},
   "source": [
    "**Причины выбора заполнения пропусков медиальными значениями:**\n",
    "\n",
    "1. *Устойчивость к выбросам:* Медиана менее чувствительна к выбросам по сравнению со средним значением. Если в данных есть экстремальные значения, они могут значительно сместить среднее, что приведет к искажению заполненных значений. Медиана, как значение, которое делит данные пополам, остается более стабильной и репрезентативной.\n",
    "\n",
    "2. *Сохранение распределения:* Заполнение пропусков медианным значением помогает сохранить распределение данных. Это особенно важно, если данные имеют асимметричное распределение. Использование медианы позволяет избежать искажения, которое может произойти при использовании среднего значения.\n",
    "\n",
    "3. *Сохранение информации:* Заполнение пропусков медианным значением позволяет сохранить количество наблюдений в наборе данных, что может быть критически важным для анализа. Удаление строк с пропусками может привести к потере значительной части данных, что негативно скажется на результатах анализа.\n",
    "\n",
    "4. *Подходит для различных типов данных:* Медиана может быть использована для заполнения пропусков в различных типах количественных переменных, включая как непрерывные, так и дискретные данные."
   ]
  },
  {
   "cell_type": "markdown",
   "id": "a521aa14-2818-4595-bcf6-5e57f67ded2a",
   "metadata": {},
   "source": [
    "## Общий вывод"
   ]
  },
  {
   "cell_type": "markdown",
   "id": "3234d2a2-4c81-4162-b760-38069d76e293",
   "metadata": {},
   "source": [
    "Проект направлен на анализ данных о платежеспособности клиентов банка с целью выявления факторов, влияющих на возврат кредита. Основные аспекты проекта включают:\n",
    "\n",
    "**Цели проекта:** Основная цель заключается в проведении статистического анализа данных о заемщиках для определения влияния таких факторов, как наличие детей, семейное положение, уровень дохода и цели кредита, на возврат кредита в срок. Проект также нацелен на создание портрета надежного заемщика.\n",
    "\n",
    "**Методы анализа:** В процессе анализа были выявлены и обработаны пропуски в данных, такие как замена пропусков в столбце с доходами медианными значениями. Также были предприняты шаги по округлению отрицательных значений трудового стажа и проверке на наличие выбросов. Обработка данных включала исправление аномальных значений, таких как количество детей и трудовой стаж.\n",
    "\n",
    "**Результаты:** Исследование показало наличие зависимостей между различными факторами и возвратом кредита. Заемщики с детьми имеют более высокий риск невозврата, однако наличие трех детей может снижать этот риск. Семейное положение также влияет на возврат: состоящие в браке заемщики имеют меньший риск невозврата. Уровень дохода и цели кредита также оказались значимыми факторами, влияющими на платежеспособность.\n",
    "\n",
    "Полученные результаты могут быть использованы для улучшения кредитной политики банка, а также для разработки более точных моделей оценки рисков. Понимание факторов, влияющих на возврат кредита, позволит банку более эффективно управлять кредитными рисками."
   ]
  },
  {
   "cell_type": "code",
   "execution_count": null,
   "id": "89cd0bd4-4af4-4056-b227-0641d3c23cd4",
   "metadata": {},
   "outputs": [],
   "source": []
  }
 ],
 "metadata": {
  "kernelspec": {
   "display_name": "Python 3 (ipykernel)",
   "language": "python",
   "name": "python3"
  },
  "language_info": {
   "codemirror_mode": {
    "name": "ipython",
    "version": 3
   },
   "file_extension": ".py",
   "mimetype": "text/x-python",
   "name": "python",
   "nbconvert_exporter": "python",
   "pygments_lexer": "ipython3",
   "version": "3.12.7"
  }
 },
 "nbformat": 4,
 "nbformat_minor": 5
}
